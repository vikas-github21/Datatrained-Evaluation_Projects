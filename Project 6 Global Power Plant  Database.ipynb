{
 "cells": [
  {
   "cell_type": "markdown",
   "metadata": {},
   "source": [
    "# Problem Statement:\n",
    "The dataset is a power plant database where the Goal is to predict two prediction one with primary fuel & second capacity_mw where primary_fuel is multiclass variable & capacity_mw is continous.\n",
    "\n",
    "1.Classification Problem with Primary_fuel.\n",
    "2.Regression problem with capacity_mw."
   ]
  },
  {
   "cell_type": "markdown",
   "metadata": {},
   "source": [
    "# Importing Libraries"
   ]
  },
  {
   "cell_type": "code",
   "execution_count": 326,
   "metadata": {},
   "outputs": [],
   "source": [
    "import numpy as np\n",
    "import pandas as pd\n",
    "import matplotlib.pyplot as plt\n",
    "import seaborn as sns\n",
    "from sklearn.model_selection import train_test_split\n",
    "from sklearn.preprocessing import LabelEncoder\n",
    "from sklearn.svm import SVC\n",
    "from sklearn.tree import DecisionTreeClassifier\n",
    "from sklearn.ensemble import RandomForestClassifier\n",
    "from sklearn.neighbors import KNeighborsClassifier\n",
    "from sklearn.metrics import accuracy_score,confusion_matrix,classification_report,roc_curve,roc_auc_score\n",
    "import warnings\n",
    "warnings.filterwarnings('ignore')"
   ]
  },
  {
   "cell_type": "markdown",
   "metadata": {},
   "source": [
    "- Importing Neccessary libraries for model preparation -Numpy, Pandas, Matplotlib & Seaborn for plots\n",
    "- 4 ML algo used from  sklearn library at once - SVC,Random Forest Classifier, Decision tree classifier, KNN\n",
    "- As the metrics is common for all classification problems so imported common metrics all at once.\n",
    "- (Confusion Metrics, Accuracy Score, Classification Report) from Sklearn metrics module"
   ]
  },
  {
   "cell_type": "code",
   "execution_count": 328,
   "metadata": {},
   "outputs": [],
   "source": [
    "power_plant = pd.read_csv('power_plant.csv')"
   ]
  },
  {
   "cell_type": "code",
   "execution_count": 329,
   "metadata": {},
   "outputs": [
    {
     "data": {
      "text/html": [
       "<div>\n",
       "<style scoped>\n",
       "    .dataframe tbody tr th:only-of-type {\n",
       "        vertical-align: middle;\n",
       "    }\n",
       "\n",
       "    .dataframe tbody tr th {\n",
       "        vertical-align: top;\n",
       "    }\n",
       "\n",
       "    .dataframe thead th {\n",
       "        text-align: right;\n",
       "    }\n",
       "</style>\n",
       "<table border=\"1\" class=\"dataframe\">\n",
       "  <thead>\n",
       "    <tr style=\"text-align: right;\">\n",
       "      <th></th>\n",
       "      <th>country</th>\n",
       "      <th>country_long</th>\n",
       "      <th>name</th>\n",
       "      <th>gppd_idnr</th>\n",
       "      <th>capacity_mw</th>\n",
       "      <th>latitude</th>\n",
       "      <th>longitude</th>\n",
       "      <th>primary_fuel</th>\n",
       "      <th>other_fuel1</th>\n",
       "      <th>other_fuel2</th>\n",
       "      <th>...</th>\n",
       "      <th>geolocation_source</th>\n",
       "      <th>wepp_id</th>\n",
       "      <th>year_of_capacity_data</th>\n",
       "      <th>generation_gwh_2013</th>\n",
       "      <th>generation_gwh_2014</th>\n",
       "      <th>generation_gwh_2015</th>\n",
       "      <th>generation_gwh_2016</th>\n",
       "      <th>generation_gwh_2017</th>\n",
       "      <th>generation_data_source</th>\n",
       "      <th>estimated_generation_gwh</th>\n",
       "    </tr>\n",
       "  </thead>\n",
       "  <tbody>\n",
       "    <tr>\n",
       "      <th>0</th>\n",
       "      <td>IND</td>\n",
       "      <td>India</td>\n",
       "      <td>ACME Solar Tower</td>\n",
       "      <td>WRI1020239</td>\n",
       "      <td>2.5</td>\n",
       "      <td>28.1839</td>\n",
       "      <td>73.2407</td>\n",
       "      <td>Solar</td>\n",
       "      <td>NaN</td>\n",
       "      <td>NaN</td>\n",
       "      <td>...</td>\n",
       "      <td>National Renewable Energy Laboratory</td>\n",
       "      <td>NaN</td>\n",
       "      <td>NaN</td>\n",
       "      <td>NaN</td>\n",
       "      <td>NaN</td>\n",
       "      <td>NaN</td>\n",
       "      <td>NaN</td>\n",
       "      <td>NaN</td>\n",
       "      <td>NaN</td>\n",
       "      <td>NaN</td>\n",
       "    </tr>\n",
       "    <tr>\n",
       "      <th>1</th>\n",
       "      <td>IND</td>\n",
       "      <td>India</td>\n",
       "      <td>ADITYA CEMENT WORKS</td>\n",
       "      <td>WRI1019881</td>\n",
       "      <td>98.0</td>\n",
       "      <td>24.7663</td>\n",
       "      <td>74.6090</td>\n",
       "      <td>Coal</td>\n",
       "      <td>NaN</td>\n",
       "      <td>NaN</td>\n",
       "      <td>...</td>\n",
       "      <td>WRI</td>\n",
       "      <td>NaN</td>\n",
       "      <td>NaN</td>\n",
       "      <td>NaN</td>\n",
       "      <td>NaN</td>\n",
       "      <td>NaN</td>\n",
       "      <td>NaN</td>\n",
       "      <td>NaN</td>\n",
       "      <td>NaN</td>\n",
       "      <td>NaN</td>\n",
       "    </tr>\n",
       "    <tr>\n",
       "      <th>2</th>\n",
       "      <td>IND</td>\n",
       "      <td>India</td>\n",
       "      <td>AES Saurashtra Windfarms</td>\n",
       "      <td>WRI1026669</td>\n",
       "      <td>39.2</td>\n",
       "      <td>21.9038</td>\n",
       "      <td>69.3732</td>\n",
       "      <td>Wind</td>\n",
       "      <td>NaN</td>\n",
       "      <td>NaN</td>\n",
       "      <td>...</td>\n",
       "      <td>WRI</td>\n",
       "      <td>NaN</td>\n",
       "      <td>NaN</td>\n",
       "      <td>NaN</td>\n",
       "      <td>NaN</td>\n",
       "      <td>NaN</td>\n",
       "      <td>NaN</td>\n",
       "      <td>NaN</td>\n",
       "      <td>NaN</td>\n",
       "      <td>NaN</td>\n",
       "    </tr>\n",
       "    <tr>\n",
       "      <th>3</th>\n",
       "      <td>IND</td>\n",
       "      <td>India</td>\n",
       "      <td>AGARTALA GT</td>\n",
       "      <td>IND0000001</td>\n",
       "      <td>135.0</td>\n",
       "      <td>23.8712</td>\n",
       "      <td>91.3602</td>\n",
       "      <td>Gas</td>\n",
       "      <td>NaN</td>\n",
       "      <td>NaN</td>\n",
       "      <td>...</td>\n",
       "      <td>WRI</td>\n",
       "      <td>NaN</td>\n",
       "      <td>2018.0</td>\n",
       "      <td>631.777928</td>\n",
       "      <td>617.789264</td>\n",
       "      <td>843.747</td>\n",
       "      <td>886.004428</td>\n",
       "      <td>663.774500</td>\n",
       "      <td>Central Electricity Authority</td>\n",
       "      <td>NaN</td>\n",
       "    </tr>\n",
       "    <tr>\n",
       "      <th>4</th>\n",
       "      <td>IND</td>\n",
       "      <td>India</td>\n",
       "      <td>AKALTARA TPP</td>\n",
       "      <td>IND0000002</td>\n",
       "      <td>1800.0</td>\n",
       "      <td>21.9603</td>\n",
       "      <td>82.4091</td>\n",
       "      <td>Coal</td>\n",
       "      <td>Oil</td>\n",
       "      <td>NaN</td>\n",
       "      <td>...</td>\n",
       "      <td>WRI</td>\n",
       "      <td>NaN</td>\n",
       "      <td>2018.0</td>\n",
       "      <td>1668.290000</td>\n",
       "      <td>3035.550000</td>\n",
       "      <td>5916.370</td>\n",
       "      <td>6243.000000</td>\n",
       "      <td>5385.579736</td>\n",
       "      <td>Central Electricity Authority</td>\n",
       "      <td>NaN</td>\n",
       "    </tr>\n",
       "  </tbody>\n",
       "</table>\n",
       "<p>5 rows × 25 columns</p>\n",
       "</div>"
      ],
      "text/plain": [
       "  country country_long                      name   gppd_idnr  capacity_mw  \\\n",
       "0     IND        India          ACME Solar Tower  WRI1020239          2.5   \n",
       "1     IND        India       ADITYA CEMENT WORKS  WRI1019881         98.0   \n",
       "2     IND        India  AES Saurashtra Windfarms  WRI1026669         39.2   \n",
       "3     IND        India               AGARTALA GT  IND0000001        135.0   \n",
       "4     IND        India              AKALTARA TPP  IND0000002       1800.0   \n",
       "\n",
       "   latitude  longitude primary_fuel other_fuel1 other_fuel2  ...  \\\n",
       "0   28.1839    73.2407        Solar         NaN         NaN  ...   \n",
       "1   24.7663    74.6090         Coal         NaN         NaN  ...   \n",
       "2   21.9038    69.3732         Wind         NaN         NaN  ...   \n",
       "3   23.8712    91.3602          Gas         NaN         NaN  ...   \n",
       "4   21.9603    82.4091         Coal         Oil         NaN  ...   \n",
       "\n",
       "                     geolocation_source  wepp_id year_of_capacity_data  \\\n",
       "0  National Renewable Energy Laboratory      NaN                   NaN   \n",
       "1                                   WRI      NaN                   NaN   \n",
       "2                                   WRI      NaN                   NaN   \n",
       "3                                   WRI      NaN                2018.0   \n",
       "4                                   WRI      NaN                2018.0   \n",
       "\n",
       "  generation_gwh_2013 generation_gwh_2014 generation_gwh_2015  \\\n",
       "0                 NaN                 NaN                 NaN   \n",
       "1                 NaN                 NaN                 NaN   \n",
       "2                 NaN                 NaN                 NaN   \n",
       "3          631.777928          617.789264             843.747   \n",
       "4         1668.290000         3035.550000            5916.370   \n",
       "\n",
       "   generation_gwh_2016  generation_gwh_2017         generation_data_source  \\\n",
       "0                  NaN                  NaN                            NaN   \n",
       "1                  NaN                  NaN                            NaN   \n",
       "2                  NaN                  NaN                            NaN   \n",
       "3           886.004428           663.774500  Central Electricity Authority   \n",
       "4          6243.000000          5385.579736  Central Electricity Authority   \n",
       "\n",
       "   estimated_generation_gwh  \n",
       "0                       NaN  \n",
       "1                       NaN  \n",
       "2                       NaN  \n",
       "3                       NaN  \n",
       "4                       NaN  \n",
       "\n",
       "[5 rows x 25 columns]"
      ]
     },
     "execution_count": 329,
     "metadata": {},
     "output_type": "execute_result"
    }
   ],
   "source": [
    "df = pd.DataFrame(power_plant)\n",
    "df.head()"
   ]
  },
  {
   "cell_type": "code",
   "execution_count": 330,
   "metadata": {},
   "outputs": [
    {
     "data": {
      "text/plain": [
       "(908, 25)"
      ]
     },
     "execution_count": 330,
     "metadata": {},
     "output_type": "execute_result"
    }
   ],
   "source": [
    "df.shape"
   ]
  },
  {
   "cell_type": "markdown",
   "metadata": {},
   "source": [
    "- dataset has 908 rows & 25 Cols"
   ]
  },
  {
   "cell_type": "code",
   "execution_count": 331,
   "metadata": {},
   "outputs": [
    {
     "data": {
      "text/plain": [
       "country                       0\n",
       "country_long                  0\n",
       "name                          0\n",
       "gppd_idnr                     0\n",
       "capacity_mw                   0\n",
       "latitude                     46\n",
       "longitude                    46\n",
       "primary_fuel                  0\n",
       "other_fuel1                 709\n",
       "other_fuel2                 907\n",
       "other_fuel3                 908\n",
       "commissioning_year          380\n",
       "owner                       566\n",
       "source                        0\n",
       "url                           0\n",
       "geolocation_source           19\n",
       "wepp_id                     908\n",
       "year_of_capacity_data       388\n",
       "generation_gwh_2013         524\n",
       "generation_gwh_2014         507\n",
       "generation_gwh_2015         483\n",
       "generation_gwh_2016         471\n",
       "generation_gwh_2017         465\n",
       "generation_data_source      458\n",
       "estimated_generation_gwh    908\n",
       "dtype: int64"
      ]
     },
     "execution_count": 331,
     "metadata": {},
     "output_type": "execute_result"
    }
   ],
   "source": [
    "df.isnull().sum()"
   ]
  },
  {
   "cell_type": "markdown",
   "metadata": {},
   "source": [
    "- most of the variables having missing values.\n",
    "- most of the variables will be dropped as there is not much data avaliable on these variables."
   ]
  },
  {
   "cell_type": "code",
   "execution_count": 332,
   "metadata": {},
   "outputs": [
    {
     "name": "stdout",
     "output_type": "stream",
     "text": [
      "<class 'pandas.core.frame.DataFrame'>\n",
      "RangeIndex: 908 entries, 0 to 907\n",
      "Data columns (total 25 columns):\n",
      " #   Column                    Non-Null Count  Dtype  \n",
      "---  ------                    --------------  -----  \n",
      " 0   country                   908 non-null    object \n",
      " 1   country_long              908 non-null    object \n",
      " 2   name                      908 non-null    object \n",
      " 3   gppd_idnr                 908 non-null    object \n",
      " 4   capacity_mw               908 non-null    float64\n",
      " 5   latitude                  862 non-null    float64\n",
      " 6   longitude                 862 non-null    float64\n",
      " 7   primary_fuel              908 non-null    object \n",
      " 8   other_fuel1               199 non-null    object \n",
      " 9   other_fuel2               1 non-null      object \n",
      " 10  other_fuel3               0 non-null      float64\n",
      " 11  commissioning_year        528 non-null    float64\n",
      " 12  owner                     342 non-null    object \n",
      " 13  source                    908 non-null    object \n",
      " 14  url                       908 non-null    object \n",
      " 15  geolocation_source        889 non-null    object \n",
      " 16  wepp_id                   0 non-null      float64\n",
      " 17  year_of_capacity_data     520 non-null    float64\n",
      " 18  generation_gwh_2013       384 non-null    float64\n",
      " 19  generation_gwh_2014       401 non-null    float64\n",
      " 20  generation_gwh_2015       425 non-null    float64\n",
      " 21  generation_gwh_2016       437 non-null    float64\n",
      " 22  generation_gwh_2017       443 non-null    float64\n",
      " 23  generation_data_source    450 non-null    object \n",
      " 24  estimated_generation_gwh  0 non-null      float64\n",
      "dtypes: float64(13), object(12)\n",
      "memory usage: 177.5+ KB\n"
     ]
    }
   ],
   "source": [
    "df.info()"
   ]
  },
  {
   "cell_type": "markdown",
   "metadata": {},
   "source": [
    "- There are 13 float variables & no int variables.\n",
    "- There are 12 Object variables."
   ]
  },
  {
   "cell_type": "code",
   "execution_count": 333,
   "metadata": {},
   "outputs": [
    {
     "data": {
      "text/plain": [
       "Index(['country', 'country_long', 'name', 'gppd_idnr', 'capacity_mw',\n",
       "       'latitude', 'longitude', 'primary_fuel', 'other_fuel1', 'other_fuel2',\n",
       "       'other_fuel3', 'commissioning_year', 'owner', 'source', 'url',\n",
       "       'geolocation_source', 'wepp_id', 'year_of_capacity_data',\n",
       "       'generation_gwh_2013', 'generation_gwh_2014', 'generation_gwh_2015',\n",
       "       'generation_gwh_2016', 'generation_gwh_2017', 'generation_data_source',\n",
       "       'estimated_generation_gwh'],\n",
       "      dtype='object')"
      ]
     },
     "execution_count": 333,
     "metadata": {},
     "output_type": "execute_result"
    }
   ],
   "source": [
    "df.columns"
   ]
  },
  {
   "cell_type": "markdown",
   "metadata": {},
   "source": [
    "- variable name is not having any space and other special character."
   ]
  },
  {
   "cell_type": "code",
   "execution_count": 334,
   "metadata": {},
   "outputs": [],
   "source": [
    "df.drop(['country','country_long','other_fuel1','other_fuel2','other_fuel3','url','owner','wepp_id','estimated_generation_gwh','year_of_capacity_data','generation_data_source'],axis=1,inplace=True)"
   ]
  },
  {
   "cell_type": "markdown",
   "metadata": {},
   "source": [
    "- above variables are dropped as there is hughe missing values present and no data available for analysis."
   ]
  },
  {
   "cell_type": "code",
   "execution_count": 335,
   "metadata": {},
   "outputs": [
    {
     "data": {
      "text/plain": [
       "(908, 14)"
      ]
     },
     "execution_count": 335,
     "metadata": {},
     "output_type": "execute_result"
    }
   ],
   "source": [
    "df.shape"
   ]
  },
  {
   "cell_type": "markdown",
   "metadata": {},
   "source": [
    "- now there are 14 cols & 908 rows"
   ]
  },
  {
   "cell_type": "code",
   "execution_count": 336,
   "metadata": {},
   "outputs": [
    {
     "data": {
      "text/html": [
       "<div>\n",
       "<style scoped>\n",
       "    .dataframe tbody tr th:only-of-type {\n",
       "        vertical-align: middle;\n",
       "    }\n",
       "\n",
       "    .dataframe tbody tr th {\n",
       "        vertical-align: top;\n",
       "    }\n",
       "\n",
       "    .dataframe thead th {\n",
       "        text-align: right;\n",
       "    }\n",
       "</style>\n",
       "<table border=\"1\" class=\"dataframe\">\n",
       "  <thead>\n",
       "    <tr style=\"text-align: right;\">\n",
       "      <th></th>\n",
       "      <th>name</th>\n",
       "      <th>gppd_idnr</th>\n",
       "      <th>capacity_mw</th>\n",
       "      <th>latitude</th>\n",
       "      <th>longitude</th>\n",
       "      <th>primary_fuel</th>\n",
       "      <th>commissioning_year</th>\n",
       "      <th>source</th>\n",
       "      <th>geolocation_source</th>\n",
       "      <th>generation_gwh_2013</th>\n",
       "      <th>generation_gwh_2014</th>\n",
       "      <th>generation_gwh_2015</th>\n",
       "      <th>generation_gwh_2016</th>\n",
       "      <th>generation_gwh_2017</th>\n",
       "    </tr>\n",
       "  </thead>\n",
       "  <tbody>\n",
       "    <tr>\n",
       "      <th>0</th>\n",
       "      <td>ACME Solar Tower</td>\n",
       "      <td>WRI1020239</td>\n",
       "      <td>2.5</td>\n",
       "      <td>28.1839</td>\n",
       "      <td>73.2407</td>\n",
       "      <td>Solar</td>\n",
       "      <td>2011.0</td>\n",
       "      <td>National Renewable Energy Laboratory</td>\n",
       "      <td>National Renewable Energy Laboratory</td>\n",
       "      <td>NaN</td>\n",
       "      <td>NaN</td>\n",
       "      <td>NaN</td>\n",
       "      <td>NaN</td>\n",
       "      <td>NaN</td>\n",
       "    </tr>\n",
       "    <tr>\n",
       "      <th>1</th>\n",
       "      <td>ADITYA CEMENT WORKS</td>\n",
       "      <td>WRI1019881</td>\n",
       "      <td>98.0</td>\n",
       "      <td>24.7663</td>\n",
       "      <td>74.6090</td>\n",
       "      <td>Coal</td>\n",
       "      <td>NaN</td>\n",
       "      <td>Ultratech Cement ltd</td>\n",
       "      <td>WRI</td>\n",
       "      <td>NaN</td>\n",
       "      <td>NaN</td>\n",
       "      <td>NaN</td>\n",
       "      <td>NaN</td>\n",
       "      <td>NaN</td>\n",
       "    </tr>\n",
       "    <tr>\n",
       "      <th>2</th>\n",
       "      <td>AES Saurashtra Windfarms</td>\n",
       "      <td>WRI1026669</td>\n",
       "      <td>39.2</td>\n",
       "      <td>21.9038</td>\n",
       "      <td>69.3732</td>\n",
       "      <td>Wind</td>\n",
       "      <td>NaN</td>\n",
       "      <td>CDM</td>\n",
       "      <td>WRI</td>\n",
       "      <td>NaN</td>\n",
       "      <td>NaN</td>\n",
       "      <td>NaN</td>\n",
       "      <td>NaN</td>\n",
       "      <td>NaN</td>\n",
       "    </tr>\n",
       "    <tr>\n",
       "      <th>3</th>\n",
       "      <td>AGARTALA GT</td>\n",
       "      <td>IND0000001</td>\n",
       "      <td>135.0</td>\n",
       "      <td>23.8712</td>\n",
       "      <td>91.3602</td>\n",
       "      <td>Gas</td>\n",
       "      <td>2004.0</td>\n",
       "      <td>Central Electricity Authority</td>\n",
       "      <td>WRI</td>\n",
       "      <td>631.777928</td>\n",
       "      <td>617.789264</td>\n",
       "      <td>843.747</td>\n",
       "      <td>886.004428</td>\n",
       "      <td>663.774500</td>\n",
       "    </tr>\n",
       "    <tr>\n",
       "      <th>4</th>\n",
       "      <td>AKALTARA TPP</td>\n",
       "      <td>IND0000002</td>\n",
       "      <td>1800.0</td>\n",
       "      <td>21.9603</td>\n",
       "      <td>82.4091</td>\n",
       "      <td>Coal</td>\n",
       "      <td>2015.0</td>\n",
       "      <td>Central Electricity Authority</td>\n",
       "      <td>WRI</td>\n",
       "      <td>1668.290000</td>\n",
       "      <td>3035.550000</td>\n",
       "      <td>5916.370</td>\n",
       "      <td>6243.000000</td>\n",
       "      <td>5385.579736</td>\n",
       "    </tr>\n",
       "  </tbody>\n",
       "</table>\n",
       "</div>"
      ],
      "text/plain": [
       "                       name   gppd_idnr  capacity_mw  latitude  longitude  \\\n",
       "0          ACME Solar Tower  WRI1020239          2.5   28.1839    73.2407   \n",
       "1       ADITYA CEMENT WORKS  WRI1019881         98.0   24.7663    74.6090   \n",
       "2  AES Saurashtra Windfarms  WRI1026669         39.2   21.9038    69.3732   \n",
       "3               AGARTALA GT  IND0000001        135.0   23.8712    91.3602   \n",
       "4              AKALTARA TPP  IND0000002       1800.0   21.9603    82.4091   \n",
       "\n",
       "  primary_fuel  commissioning_year                                source  \\\n",
       "0        Solar              2011.0  National Renewable Energy Laboratory   \n",
       "1         Coal                 NaN                  Ultratech Cement ltd   \n",
       "2         Wind                 NaN                                   CDM   \n",
       "3          Gas              2004.0         Central Electricity Authority   \n",
       "4         Coal              2015.0         Central Electricity Authority   \n",
       "\n",
       "                     geolocation_source  generation_gwh_2013  \\\n",
       "0  National Renewable Energy Laboratory                  NaN   \n",
       "1                                   WRI                  NaN   \n",
       "2                                   WRI                  NaN   \n",
       "3                                   WRI           631.777928   \n",
       "4                                   WRI          1668.290000   \n",
       "\n",
       "   generation_gwh_2014  generation_gwh_2015  generation_gwh_2016  \\\n",
       "0                  NaN                  NaN                  NaN   \n",
       "1                  NaN                  NaN                  NaN   \n",
       "2                  NaN                  NaN                  NaN   \n",
       "3           617.789264              843.747           886.004428   \n",
       "4          3035.550000             5916.370          6243.000000   \n",
       "\n",
       "   generation_gwh_2017  \n",
       "0                  NaN  \n",
       "1                  NaN  \n",
       "2                  NaN  \n",
       "3           663.774500  \n",
       "4          5385.579736  "
      ]
     },
     "execution_count": 336,
     "metadata": {},
     "output_type": "execute_result"
    }
   ],
   "source": [
    "df.head()"
   ]
  },
  {
   "cell_type": "code",
   "execution_count": 337,
   "metadata": {},
   "outputs": [
    {
     "name": "stdout",
     "output_type": "stream",
     "text": [
      "<class 'pandas.core.frame.DataFrame'>\n",
      "RangeIndex: 908 entries, 0 to 907\n",
      "Data columns (total 14 columns):\n",
      " #   Column               Non-Null Count  Dtype  \n",
      "---  ------               --------------  -----  \n",
      " 0   name                 908 non-null    object \n",
      " 1   gppd_idnr            908 non-null    object \n",
      " 2   capacity_mw          908 non-null    float64\n",
      " 3   latitude             862 non-null    float64\n",
      " 4   longitude            862 non-null    float64\n",
      " 5   primary_fuel         908 non-null    object \n",
      " 6   commissioning_year   528 non-null    float64\n",
      " 7   source               908 non-null    object \n",
      " 8   geolocation_source   889 non-null    object \n",
      " 9   generation_gwh_2013  384 non-null    float64\n",
      " 10  generation_gwh_2014  401 non-null    float64\n",
      " 11  generation_gwh_2015  425 non-null    float64\n",
      " 12  generation_gwh_2016  437 non-null    float64\n",
      " 13  generation_gwh_2017  443 non-null    float64\n",
      "dtypes: float64(9), object(5)\n",
      "memory usage: 99.4+ KB\n"
     ]
    }
   ],
   "source": [
    "df.info()"
   ]
  },
  {
   "cell_type": "markdown",
   "metadata": {},
   "source": [
    "- Now the dataframe has 9 float variables & 5 objects variables."
   ]
  },
  {
   "cell_type": "code",
   "execution_count": 338,
   "metadata": {},
   "outputs": [],
   "source": [
    "numerics = ['float64', 'int64']\n",
    "numeric_ds = df.select_dtypes(include=numerics)\n",
    "objects_ds = df.select_dtypes(exclude=numerics)"
   ]
  },
  {
   "cell_type": "markdown",
   "metadata": {},
   "source": [
    "- dataset is separated with object & numeric col for better EDA"
   ]
  },
  {
   "cell_type": "code",
   "execution_count": 340,
   "metadata": {},
   "outputs": [
    {
     "data": {
      "text/html": [
       "<div>\n",
       "<style scoped>\n",
       "    .dataframe tbody tr th:only-of-type {\n",
       "        vertical-align: middle;\n",
       "    }\n",
       "\n",
       "    .dataframe tbody tr th {\n",
       "        vertical-align: top;\n",
       "    }\n",
       "\n",
       "    .dataframe thead th {\n",
       "        text-align: right;\n",
       "    }\n",
       "</style>\n",
       "<table border=\"1\" class=\"dataframe\">\n",
       "  <thead>\n",
       "    <tr style=\"text-align: right;\">\n",
       "      <th></th>\n",
       "      <th>name</th>\n",
       "      <th>gppd_idnr</th>\n",
       "      <th>primary_fuel</th>\n",
       "      <th>source</th>\n",
       "      <th>geolocation_source</th>\n",
       "    </tr>\n",
       "  </thead>\n",
       "  <tbody>\n",
       "    <tr>\n",
       "      <th>0</th>\n",
       "      <td>ACME Solar Tower</td>\n",
       "      <td>WRI1020239</td>\n",
       "      <td>Solar</td>\n",
       "      <td>National Renewable Energy Laboratory</td>\n",
       "      <td>National Renewable Energy Laboratory</td>\n",
       "    </tr>\n",
       "    <tr>\n",
       "      <th>1</th>\n",
       "      <td>ADITYA CEMENT WORKS</td>\n",
       "      <td>WRI1019881</td>\n",
       "      <td>Coal</td>\n",
       "      <td>Ultratech Cement ltd</td>\n",
       "      <td>WRI</td>\n",
       "    </tr>\n",
       "    <tr>\n",
       "      <th>2</th>\n",
       "      <td>AES Saurashtra Windfarms</td>\n",
       "      <td>WRI1026669</td>\n",
       "      <td>Wind</td>\n",
       "      <td>CDM</td>\n",
       "      <td>WRI</td>\n",
       "    </tr>\n",
       "    <tr>\n",
       "      <th>3</th>\n",
       "      <td>AGARTALA GT</td>\n",
       "      <td>IND0000001</td>\n",
       "      <td>Gas</td>\n",
       "      <td>Central Electricity Authority</td>\n",
       "      <td>WRI</td>\n",
       "    </tr>\n",
       "    <tr>\n",
       "      <th>4</th>\n",
       "      <td>AKALTARA TPP</td>\n",
       "      <td>IND0000002</td>\n",
       "      <td>Coal</td>\n",
       "      <td>Central Electricity Authority</td>\n",
       "      <td>WRI</td>\n",
       "    </tr>\n",
       "  </tbody>\n",
       "</table>\n",
       "</div>"
      ],
      "text/plain": [
       "                       name   gppd_idnr primary_fuel  \\\n",
       "0          ACME Solar Tower  WRI1020239        Solar   \n",
       "1       ADITYA CEMENT WORKS  WRI1019881         Coal   \n",
       "2  AES Saurashtra Windfarms  WRI1026669         Wind   \n",
       "3               AGARTALA GT  IND0000001          Gas   \n",
       "4              AKALTARA TPP  IND0000002         Coal   \n",
       "\n",
       "                                 source                    geolocation_source  \n",
       "0  National Renewable Energy Laboratory  National Renewable Energy Laboratory  \n",
       "1                  Ultratech Cement ltd                                   WRI  \n",
       "2                                   CDM                                   WRI  \n",
       "3         Central Electricity Authority                                   WRI  \n",
       "4         Central Electricity Authority                                   WRI  "
      ]
     },
     "execution_count": 340,
     "metadata": {},
     "output_type": "execute_result"
    }
   ],
   "source": [
    "objects_ds.head()"
   ]
  },
  {
   "cell_type": "code",
   "execution_count": 341,
   "metadata": {},
   "outputs": [
    {
     "data": {
      "text/html": [
       "<div>\n",
       "<style scoped>\n",
       "    .dataframe tbody tr th:only-of-type {\n",
       "        vertical-align: middle;\n",
       "    }\n",
       "\n",
       "    .dataframe tbody tr th {\n",
       "        vertical-align: top;\n",
       "    }\n",
       "\n",
       "    .dataframe thead th {\n",
       "        text-align: right;\n",
       "    }\n",
       "</style>\n",
       "<table border=\"1\" class=\"dataframe\">\n",
       "  <thead>\n",
       "    <tr style=\"text-align: right;\">\n",
       "      <th></th>\n",
       "      <th>name</th>\n",
       "      <th>gppd_idnr</th>\n",
       "      <th>primary_fuel</th>\n",
       "      <th>source</th>\n",
       "      <th>geolocation_source</th>\n",
       "    </tr>\n",
       "  </thead>\n",
       "  <tbody>\n",
       "    <tr>\n",
       "      <th>count</th>\n",
       "      <td>908</td>\n",
       "      <td>908</td>\n",
       "      <td>908</td>\n",
       "      <td>908</td>\n",
       "      <td>889</td>\n",
       "    </tr>\n",
       "    <tr>\n",
       "      <th>unique</th>\n",
       "      <td>908</td>\n",
       "      <td>908</td>\n",
       "      <td>8</td>\n",
       "      <td>191</td>\n",
       "      <td>3</td>\n",
       "    </tr>\n",
       "    <tr>\n",
       "      <th>top</th>\n",
       "      <td>DULHASTI</td>\n",
       "      <td>IND0000518</td>\n",
       "      <td>Coal</td>\n",
       "      <td>Central Electricity Authority</td>\n",
       "      <td>WRI</td>\n",
       "    </tr>\n",
       "    <tr>\n",
       "      <th>freq</th>\n",
       "      <td>1</td>\n",
       "      <td>1</td>\n",
       "      <td>259</td>\n",
       "      <td>520</td>\n",
       "      <td>766</td>\n",
       "    </tr>\n",
       "  </tbody>\n",
       "</table>\n",
       "</div>"
      ],
      "text/plain": [
       "            name   gppd_idnr primary_fuel                         source  \\\n",
       "count        908         908          908                            908   \n",
       "unique       908         908            8                            191   \n",
       "top     DULHASTI  IND0000518         Coal  Central Electricity Authority   \n",
       "freq           1           1          259                            520   \n",
       "\n",
       "       geolocation_source  \n",
       "count                 889  \n",
       "unique                  3  \n",
       "top                   WRI  \n",
       "freq                  766  "
      ]
     },
     "execution_count": 341,
     "metadata": {},
     "output_type": "execute_result"
    }
   ],
   "source": [
    "objects_ds.describe()"
   ]
  },
  {
   "cell_type": "markdown",
   "metadata": {},
   "source": [
    "- geolocation source has missing value as the no of count is 889 which is not equal to 908.\n",
    "- source col has 191 unique class with Central Electric Authority is the highest.\n",
    "- primary fuel has 8 unique class with coal has the highest freq count of 259.\n",
    "- similar obs can be drawn for others cols."
   ]
  },
  {
   "cell_type": "code",
   "execution_count": 342,
   "metadata": {},
   "outputs": [
    {
     "data": {
      "text/html": [
       "<div>\n",
       "<style scoped>\n",
       "    .dataframe tbody tr th:only-of-type {\n",
       "        vertical-align: middle;\n",
       "    }\n",
       "\n",
       "    .dataframe tbody tr th {\n",
       "        vertical-align: top;\n",
       "    }\n",
       "\n",
       "    .dataframe thead th {\n",
       "        text-align: right;\n",
       "    }\n",
       "</style>\n",
       "<table border=\"1\" class=\"dataframe\">\n",
       "  <thead>\n",
       "    <tr style=\"text-align: right;\">\n",
       "      <th></th>\n",
       "      <th>capacity_mw</th>\n",
       "      <th>latitude</th>\n",
       "      <th>longitude</th>\n",
       "      <th>commissioning_year</th>\n",
       "      <th>generation_gwh_2013</th>\n",
       "      <th>generation_gwh_2014</th>\n",
       "      <th>generation_gwh_2015</th>\n",
       "      <th>generation_gwh_2016</th>\n",
       "      <th>generation_gwh_2017</th>\n",
       "    </tr>\n",
       "  </thead>\n",
       "  <tbody>\n",
       "    <tr>\n",
       "      <th>count</th>\n",
       "      <td>908.000000</td>\n",
       "      <td>862.000000</td>\n",
       "      <td>862.000000</td>\n",
       "      <td>528.000000</td>\n",
       "      <td>384.000000</td>\n",
       "      <td>401.000000</td>\n",
       "      <td>425.000000</td>\n",
       "      <td>437.000000</td>\n",
       "      <td>443.000000</td>\n",
       "    </tr>\n",
       "    <tr>\n",
       "      <th>mean</th>\n",
       "      <td>321.046378</td>\n",
       "      <td>21.196189</td>\n",
       "      <td>77.447848</td>\n",
       "      <td>1996.876894</td>\n",
       "      <td>2304.059202</td>\n",
       "      <td>2420.393316</td>\n",
       "      <td>2414.072373</td>\n",
       "      <td>2453.936292</td>\n",
       "      <td>2531.754458</td>\n",
       "    </tr>\n",
       "    <tr>\n",
       "      <th>std</th>\n",
       "      <td>580.221767</td>\n",
       "      <td>6.248627</td>\n",
       "      <td>4.907260</td>\n",
       "      <td>17.047817</td>\n",
       "      <td>3794.767492</td>\n",
       "      <td>4013.558173</td>\n",
       "      <td>4183.203199</td>\n",
       "      <td>4152.038216</td>\n",
       "      <td>4187.236364</td>\n",
       "    </tr>\n",
       "    <tr>\n",
       "      <th>min</th>\n",
       "      <td>0.000000</td>\n",
       "      <td>8.168900</td>\n",
       "      <td>68.644700</td>\n",
       "      <td>1927.000000</td>\n",
       "      <td>0.000000</td>\n",
       "      <td>0.000000</td>\n",
       "      <td>0.000000</td>\n",
       "      <td>0.000000</td>\n",
       "      <td>0.000000</td>\n",
       "    </tr>\n",
       "    <tr>\n",
       "      <th>25%</th>\n",
       "      <td>16.837500</td>\n",
       "      <td>16.771575</td>\n",
       "      <td>74.258975</td>\n",
       "      <td>1988.000000</td>\n",
       "      <td>244.458088</td>\n",
       "      <td>223.650436</td>\n",
       "      <td>174.174750</td>\n",
       "      <td>187.193669</td>\n",
       "      <td>177.643170</td>\n",
       "    </tr>\n",
       "    <tr>\n",
       "      <th>50%</th>\n",
       "      <td>60.000000</td>\n",
       "      <td>21.778300</td>\n",
       "      <td>76.719250</td>\n",
       "      <td>2000.000000</td>\n",
       "      <td>797.063475</td>\n",
       "      <td>805.760000</td>\n",
       "      <td>701.027250</td>\n",
       "      <td>716.728350</td>\n",
       "      <td>807.601700</td>\n",
       "    </tr>\n",
       "    <tr>\n",
       "      <th>75%</th>\n",
       "      <td>388.125000</td>\n",
       "      <td>25.516375</td>\n",
       "      <td>79.441475</td>\n",
       "      <td>2011.250000</td>\n",
       "      <td>2795.021500</td>\n",
       "      <td>3034.575000</td>\n",
       "      <td>3080.000000</td>\n",
       "      <td>3263.483000</td>\n",
       "      <td>3258.785000</td>\n",
       "    </tr>\n",
       "    <tr>\n",
       "      <th>max</th>\n",
       "      <td>4760.000000</td>\n",
       "      <td>34.649000</td>\n",
       "      <td>95.408000</td>\n",
       "      <td>2018.000000</td>\n",
       "      <td>27586.200000</td>\n",
       "      <td>28127.000000</td>\n",
       "      <td>30539.000000</td>\n",
       "      <td>30015.000000</td>\n",
       "      <td>35116.000000</td>\n",
       "    </tr>\n",
       "  </tbody>\n",
       "</table>\n",
       "</div>"
      ],
      "text/plain": [
       "       capacity_mw    latitude   longitude  commissioning_year  \\\n",
       "count   908.000000  862.000000  862.000000          528.000000   \n",
       "mean    321.046378   21.196189   77.447848         1996.876894   \n",
       "std     580.221767    6.248627    4.907260           17.047817   \n",
       "min       0.000000    8.168900   68.644700         1927.000000   \n",
       "25%      16.837500   16.771575   74.258975         1988.000000   \n",
       "50%      60.000000   21.778300   76.719250         2000.000000   \n",
       "75%     388.125000   25.516375   79.441475         2011.250000   \n",
       "max    4760.000000   34.649000   95.408000         2018.000000   \n",
       "\n",
       "       generation_gwh_2013  generation_gwh_2014  generation_gwh_2015  \\\n",
       "count           384.000000           401.000000           425.000000   \n",
       "mean           2304.059202          2420.393316          2414.072373   \n",
       "std            3794.767492          4013.558173          4183.203199   \n",
       "min               0.000000             0.000000             0.000000   \n",
       "25%             244.458088           223.650436           174.174750   \n",
       "50%             797.063475           805.760000           701.027250   \n",
       "75%            2795.021500          3034.575000          3080.000000   \n",
       "max           27586.200000         28127.000000         30539.000000   \n",
       "\n",
       "       generation_gwh_2016  generation_gwh_2017  \n",
       "count           437.000000           443.000000  \n",
       "mean           2453.936292          2531.754458  \n",
       "std            4152.038216          4187.236364  \n",
       "min               0.000000             0.000000  \n",
       "25%             187.193669           177.643170  \n",
       "50%             716.728350           807.601700  \n",
       "75%            3263.483000          3258.785000  \n",
       "max           30015.000000         35116.000000  "
      ]
     },
     "execution_count": 342,
     "metadata": {},
     "output_type": "execute_result"
    }
   ],
   "source": [
    "numeric_ds.describe()"
   ]
  },
  {
   "cell_type": "markdown",
   "metadata": {},
   "source": [
    "- capacity_mw mean is greater then 50% percentile also std is very high.\n",
    "- capacity_mw there is hughe diff in max & 75th percentile.\n",
    "- from generation_gwh_2013 to generation_gwh_2017 there is hughe diff in max & 75th percentile also std is high & mean is > then 50th percentile.\n"
   ]
  },
  {
   "cell_type": "code",
   "execution_count": 343,
   "metadata": {},
   "outputs": [
    {
     "data": {
      "text/plain": [
       "geolocation_source\n",
       "Industry About                          119\n",
       "National Renewable Energy Laboratory      4\n",
       "WRI                                     766\n",
       "dtype: int64"
      ]
     },
     "execution_count": 343,
     "metadata": {},
     "output_type": "execute_result"
    }
   ],
   "source": [
    "df.groupby('geolocation_source').size()"
   ]
  },
  {
   "cell_type": "markdown",
   "metadata": {},
   "source": [
    "- this col has 3 unique class where WRI class is the highest."
   ]
  },
  {
   "cell_type": "code",
   "execution_count": 344,
   "metadata": {},
   "outputs": [
    {
     "data": {
      "image/png": "[encoded data removed]",
      "text/plain": [
       "<Figure size 432x288 with 1 Axes>"
      ]
     },
     "metadata": {},
     "output_type": "display_data"
    }
   ],
   "source": [
    "sns.countplot(df['geolocation_source']);"
   ]
  },
  {
   "cell_type": "markdown",
   "metadata": {},
   "source": [
    "- this col has 3 unique class where WRI class is the highest."
   ]
  },
  {
   "cell_type": "code",
   "execution_count": 345,
   "metadata": {},
   "outputs": [
    {
     "data": {
      "text/plain": [
       "primary_fuel\n",
       "Biomass     50\n",
       "Coal       259\n",
       "Gas         69\n",
       "Hydro      250\n",
       "Nuclear      9\n",
       "Oil         21\n",
       "Solar      127\n",
       "Wind       123\n",
       "dtype: int64"
      ]
     },
     "execution_count": 345,
     "metadata": {},
     "output_type": "execute_result"
    }
   ],
   "source": [
    "df.groupby('primary_fuel').size()"
   ]
  },
  {
   "cell_type": "markdown",
   "metadata": {},
   "source": [
    "- Primary fuel has 8 kind of fuel type.\n",
    "- where nuclear is the least one & Coal is the highest fuel type."
   ]
  },
  {
   "cell_type": "code",
   "execution_count": 346,
   "metadata": {},
   "outputs": [
    {
     "data": {
      "image/png": "[encoded data removed]",
      "text/plain": [
       "<Figure size 432x288 with 1 Axes>"
      ]
     },
     "metadata": {},
     "output_type": "display_data"
    }
   ],
   "source": [
    "sns.countplot(df['primary_fuel']);"
   ]
  },
  {
   "cell_type": "markdown",
   "metadata": {},
   "source": [
    "- Primary fuel has 8 kind of fuel type.\n",
    "- where nuclear is the least one & Coal is the highest fuel type."
   ]
  },
  {
   "cell_type": "code",
   "execution_count": 347,
   "metadata": {},
   "outputs": [
    {
     "data": {
      "image/png": "[encoded data removed]",
      "text/plain": [
       "<Figure size 432x288 with 1 Axes>"
      ]
     },
     "metadata": {},
     "output_type": "display_data"
    }
   ],
   "source": [
    "ax = sns.barplot(x='primary_fuel', y= 'capacity_mw' , data=df) "
   ]
  },
  {
   "cell_type": "markdown",
   "metadata": {},
   "source": [
    "- Nuclear fuel has the highest capacity_mw as compared with other fuel type.\n",
    "- And solar fuel type has the least capacity_mw"
   ]
  },
  {
   "cell_type": "markdown",
   "metadata": {},
   "source": [
    "# Labelencoder "
   ]
  },
  {
   "cell_type": "code",
   "execution_count": 350,
   "metadata": {},
   "outputs": [],
   "source": [
    "# categorical variable encoding\n",
    "cat_vars_list = objects_ds.columns.tolist()\n",
    "## Label Encoder\n",
    "from sklearn.preprocessing import LabelEncoder\n",
    "\n",
    "le = LabelEncoder()\n",
    "for i in cat_vars_list :\n",
    "    df[i] = le.fit_transform(df[i])"
   ]
  },
  {
   "cell_type": "markdown",
   "metadata": {},
   "source": [
    "- all the object col is label encoded and merged with the dataframe for further treatment."
   ]
  },
  {
   "cell_type": "code",
   "execution_count": 351,
   "metadata": {},
   "outputs": [
    {
     "data": {
      "text/html": [
       "<div>\n",
       "<style scoped>\n",
       "    .dataframe tbody tr th:only-of-type {\n",
       "        vertical-align: middle;\n",
       "    }\n",
       "\n",
       "    .dataframe tbody tr th {\n",
       "        vertical-align: top;\n",
       "    }\n",
       "\n",
       "    .dataframe thead th {\n",
       "        text-align: right;\n",
       "    }\n",
       "</style>\n",
       "<table border=\"1\" class=\"dataframe\">\n",
       "  <thead>\n",
       "    <tr style=\"text-align: right;\">\n",
       "      <th></th>\n",
       "      <th>name</th>\n",
       "      <th>gppd_idnr</th>\n",
       "      <th>capacity_mw</th>\n",
       "      <th>latitude</th>\n",
       "      <th>longitude</th>\n",
       "      <th>primary_fuel</th>\n",
       "      <th>commissioning_year</th>\n",
       "      <th>source</th>\n",
       "      <th>geolocation_source</th>\n",
       "      <th>generation_gwh_2013</th>\n",
       "      <th>generation_gwh_2014</th>\n",
       "      <th>generation_gwh_2015</th>\n",
       "      <th>generation_gwh_2016</th>\n",
       "      <th>generation_gwh_2017</th>\n",
       "    </tr>\n",
       "  </thead>\n",
       "  <tbody>\n",
       "    <tr>\n",
       "      <th>0</th>\n",
       "      <td>0</td>\n",
       "      <td>658</td>\n",
       "      <td>2.5</td>\n",
       "      <td>28.1839</td>\n",
       "      <td>73.2407</td>\n",
       "      <td>6</td>\n",
       "      <td>2011.0</td>\n",
       "      <td>109</td>\n",
       "      <td>1</td>\n",
       "      <td>NaN</td>\n",
       "      <td>NaN</td>\n",
       "      <td>NaN</td>\n",
       "      <td>NaN</td>\n",
       "      <td>NaN</td>\n",
       "    </tr>\n",
       "    <tr>\n",
       "      <th>1</th>\n",
       "      <td>1</td>\n",
       "      <td>520</td>\n",
       "      <td>98.0</td>\n",
       "      <td>24.7663</td>\n",
       "      <td>74.6090</td>\n",
       "      <td>1</td>\n",
       "      <td>NaN</td>\n",
       "      <td>174</td>\n",
       "      <td>2</td>\n",
       "      <td>NaN</td>\n",
       "      <td>NaN</td>\n",
       "      <td>NaN</td>\n",
       "      <td>NaN</td>\n",
       "      <td>NaN</td>\n",
       "    </tr>\n",
       "    <tr>\n",
       "      <th>2</th>\n",
       "      <td>2</td>\n",
       "      <td>854</td>\n",
       "      <td>39.2</td>\n",
       "      <td>21.9038</td>\n",
       "      <td>69.3732</td>\n",
       "      <td>7</td>\n",
       "      <td>NaN</td>\n",
       "      <td>21</td>\n",
       "      <td>2</td>\n",
       "      <td>NaN</td>\n",
       "      <td>NaN</td>\n",
       "      <td>NaN</td>\n",
       "      <td>NaN</td>\n",
       "      <td>NaN</td>\n",
       "    </tr>\n",
       "    <tr>\n",
       "      <th>3</th>\n",
       "      <td>3</td>\n",
       "      <td>0</td>\n",
       "      <td>135.0</td>\n",
       "      <td>23.8712</td>\n",
       "      <td>91.3602</td>\n",
       "      <td>2</td>\n",
       "      <td>2004.0</td>\n",
       "      <td>22</td>\n",
       "      <td>2</td>\n",
       "      <td>631.777928</td>\n",
       "      <td>617.789264</td>\n",
       "      <td>843.747</td>\n",
       "      <td>886.004428</td>\n",
       "      <td>663.774500</td>\n",
       "    </tr>\n",
       "    <tr>\n",
       "      <th>4</th>\n",
       "      <td>4</td>\n",
       "      <td>1</td>\n",
       "      <td>1800.0</td>\n",
       "      <td>21.9603</td>\n",
       "      <td>82.4091</td>\n",
       "      <td>1</td>\n",
       "      <td>2015.0</td>\n",
       "      <td>22</td>\n",
       "      <td>2</td>\n",
       "      <td>1668.290000</td>\n",
       "      <td>3035.550000</td>\n",
       "      <td>5916.370</td>\n",
       "      <td>6243.000000</td>\n",
       "      <td>5385.579736</td>\n",
       "    </tr>\n",
       "  </tbody>\n",
       "</table>\n",
       "</div>"
      ],
      "text/plain": [
       "   name  gppd_idnr  capacity_mw  latitude  longitude  primary_fuel  \\\n",
       "0     0        658          2.5   28.1839    73.2407             6   \n",
       "1     1        520         98.0   24.7663    74.6090             1   \n",
       "2     2        854         39.2   21.9038    69.3732             7   \n",
       "3     3          0        135.0   23.8712    91.3602             2   \n",
       "4     4          1       1800.0   21.9603    82.4091             1   \n",
       "\n",
       "   commissioning_year  source  geolocation_source  generation_gwh_2013  \\\n",
       "0              2011.0     109                   1                  NaN   \n",
       "1                 NaN     174                   2                  NaN   \n",
       "2                 NaN      21                   2                  NaN   \n",
       "3              2004.0      22                   2           631.777928   \n",
       "4              2015.0      22                   2          1668.290000   \n",
       "\n",
       "   generation_gwh_2014  generation_gwh_2015  generation_gwh_2016  \\\n",
       "0                  NaN                  NaN                  NaN   \n",
       "1                  NaN                  NaN                  NaN   \n",
       "2                  NaN                  NaN                  NaN   \n",
       "3           617.789264              843.747           886.004428   \n",
       "4          3035.550000             5916.370          6243.000000   \n",
       "\n",
       "   generation_gwh_2017  \n",
       "0                  NaN  \n",
       "1                  NaN  \n",
       "2                  NaN  \n",
       "3           663.774500  \n",
       "4          5385.579736  "
      ]
     },
     "execution_count": 351,
     "metadata": {},
     "output_type": "execute_result"
    }
   ],
   "source": [
    "df.head()"
   ]
  },
  {
   "cell_type": "markdown",
   "metadata": {},
   "source": [
    "- all the objects col is label encoded and there is missing values present will be treated below."
   ]
  },
  {
   "cell_type": "markdown",
   "metadata": {},
   "source": [
    "# Removing Missing Value "
   ]
  },
  {
   "cell_type": "code",
   "execution_count": 352,
   "metadata": {},
   "outputs": [
    {
     "data": {
      "text/plain": [
       "name                     0\n",
       "gppd_idnr                0\n",
       "capacity_mw              0\n",
       "latitude                46\n",
       "longitude               46\n",
       "primary_fuel             0\n",
       "commissioning_year     380\n",
       "source                   0\n",
       "geolocation_source       0\n",
       "generation_gwh_2013    524\n",
       "generation_gwh_2014    507\n",
       "generation_gwh_2015    483\n",
       "generation_gwh_2016    471\n",
       "generation_gwh_2017    465\n",
       "dtype: int64"
      ]
     },
     "execution_count": 352,
     "metadata": {},
     "output_type": "execute_result"
    }
   ],
   "source": [
    "df.isnull().sum()"
   ]
  },
  {
   "cell_type": "markdown",
   "metadata": {},
   "source": [
    "- the dataset is not clean and has hughe missing values."
   ]
  },
  {
   "cell_type": "code",
   "execution_count": 353,
   "metadata": {},
   "outputs": [],
   "source": [
    "df[\"latitude\"] = df[\"latitude\"].fillna(df[\"latitude\"].median())\n",
    "df[\"longitude\"] = df[\"longitude\"].fillna(df[\"longitude\"].median())\n",
    "df[\"commissioning_year\"] = df[\"commissioning_year\"].fillna(df[\"commissioning_year\"].median())\n",
    "df[\"generation_gwh_2013\"] = df[\"generation_gwh_2013\"].fillna(df[\"generation_gwh_2013\"].median())\n",
    "df[\"generation_gwh_2014\"] = df[\"generation_gwh_2014\"].fillna(df[\"generation_gwh_2014\"].median())\n",
    "df[\"generation_gwh_2015\"] = df[\"generation_gwh_2015\"].fillna(df[\"generation_gwh_2015\"].median())\n",
    "df[\"generation_gwh_2016\"] = df[\"generation_gwh_2016\"].fillna(df[\"generation_gwh_2016\"].median())\n",
    "df[\"generation_gwh_2017\"] = df[\"generation_gwh_2017\"].fillna(df[\"generation_gwh_2017\"].median())"
   ]
  },
  {
   "cell_type": "markdown",
   "metadata": {},
   "source": [
    "- as the data is not normaly distributed in above variables so missing value is replaced by median."
   ]
  },
  {
   "cell_type": "code",
   "execution_count": 354,
   "metadata": {},
   "outputs": [
    {
     "data": {
      "text/plain": [
       "name                   0\n",
       "gppd_idnr              0\n",
       "capacity_mw            0\n",
       "latitude               0\n",
       "longitude              0\n",
       "primary_fuel           0\n",
       "commissioning_year     0\n",
       "source                 0\n",
       "geolocation_source     0\n",
       "generation_gwh_2013    0\n",
       "generation_gwh_2014    0\n",
       "generation_gwh_2015    0\n",
       "generation_gwh_2016    0\n",
       "generation_gwh_2017    0\n",
       "dtype: int64"
      ]
     },
     "execution_count": 354,
     "metadata": {},
     "output_type": "execute_result"
    }
   ],
   "source": [
    "df.isnull().sum()"
   ]
  },
  {
   "cell_type": "markdown",
   "metadata": {},
   "source": [
    "- No missing value seen after treatment"
   ]
  },
  {
   "cell_type": "markdown",
   "metadata": {},
   "source": [
    "# Skewness Detection"
   ]
  },
  {
   "cell_type": "markdown",
   "metadata": {},
   "source": [
    "#### 1. HistoGram Plot"
   ]
  },
  {
   "cell_type": "code",
   "execution_count": 355,
   "metadata": {},
   "outputs": [
    {
     "data": {
      "text/plain": [
       "array([[<AxesSubplot:title={'center':'name'}>,\n",
       "        <AxesSubplot:title={'center':'gppd_idnr'}>,\n",
       "        <AxesSubplot:title={'center':'capacity_mw'}>,\n",
       "        <AxesSubplot:title={'center':'latitude'}>],\n",
       "       [<AxesSubplot:title={'center':'longitude'}>,\n",
       "        <AxesSubplot:title={'center':'primary_fuel'}>,\n",
       "        <AxesSubplot:title={'center':'commissioning_year'}>,\n",
       "        <AxesSubplot:title={'center':'source'}>],\n",
       "       [<AxesSubplot:title={'center':'geolocation_source'}>,\n",
       "        <AxesSubplot:title={'center':'generation_gwh_2013'}>,\n",
       "        <AxesSubplot:title={'center':'generation_gwh_2014'}>,\n",
       "        <AxesSubplot:title={'center':'generation_gwh_2015'}>],\n",
       "       [<AxesSubplot:title={'center':'generation_gwh_2016'}>,\n",
       "        <AxesSubplot:title={'center':'generation_gwh_2017'}>,\n",
       "        <AxesSubplot:>, <AxesSubplot:>]], dtype=object)"
      ]
     },
     "execution_count": 355,
     "metadata": {},
     "output_type": "execute_result"
    },
    {
     "data": {
      "image/png": "[encoded data removed]",
      "text/plain": [
       "<Figure size 1296x864 with 16 Axes>"
      ]
     },
     "metadata": {},
     "output_type": "display_data"
    }
   ],
   "source": [
    "df.hist(grid=False, figsize=(18,12), bins=30)"
   ]
  },
  {
   "cell_type": "markdown",
   "metadata": {},
   "source": [
    "- capacity_mw has right skewed data and value is high.\n",
    "- From generation_gwh_2013 till generation_gwh_2017 the data is right skewed and shows positive skewness.\n",
    "- Sqrt method is applied on these variables below multiple times till the skewness range fall in normal range."
   ]
  },
  {
   "cell_type": "markdown",
   "metadata": {},
   "source": [
    "#### 2. Disstplot"
   ]
  },
  {
   "cell_type": "code",
   "execution_count": 356,
   "metadata": {},
   "outputs": [
    {
     "data": {
      "image/png": "[encoded data removed]",
      "text/plain": [
       "<Figure size 432x288 with 1 Axes>"
      ]
     },
     "metadata": {},
     "output_type": "display_data"
    },
    {
     "data": {
      "image/png": "[encoded data removed]",
      "text/plain": [
       "<Figure size 432x288 with 1 Axes>"
      ]
     },
     "metadata": {},
     "output_type": "display_data"
    },
    {
     "data": {
      "image/png": "[encoded data removed]",
      "text/plain": [
       "<Figure size 432x288 with 1 Axes>"
      ]
     },
     "metadata": {},
     "output_type": "display_data"
    },
    {
     "data": {
      "image/png": "[encoded data removed]",
      "text/plain": [
       "<Figure size 432x288 with 1 Axes>"
      ]
     },
     "metadata": {},
     "output_type": "display_data"
    },
    {
     "data": {
      "image/png": "[encoded data removed]",
      "text/plain": [
       "<Figure size 432x288 with 1 Axes>"
      ]
     },
     "metadata": {},
     "output_type": "display_data"
    },
    {
     "data": {
      "image/png": "[encoded data removed]",
      "text/plain": [
       "<Figure size 432x288 with 1 Axes>"
      ]
     },
     "metadata": {},
     "output_type": "display_data"
    },
    {
     "data": {
      "image/png": "[encoded data removed]",
      "text/plain": [
       "<Figure size 432x288 with 1 Axes>"
      ]
     },
     "metadata": {},
     "output_type": "display_data"
    },
    {
     "data": {
      "image/png": "[encoded data removed]",
      "text/plain": [
       "<Figure size 432x288 with 1 Axes>"
      ]
     },
     "metadata": {},
     "output_type": "display_data"
    },
    {
     "data": {
      "image/png": "[encoded data removed]",
      "text/plain": [
       "<Figure size 432x288 with 1 Axes>"
      ]
     },
     "metadata": {},
     "output_type": "display_data"
    }
   ],
   "source": [
    "for i in numeric_ds:\n",
    "    plt.figure()\n",
    "    sns.distplot(numeric_ds[i])"
   ]
  },
  {
   "cell_type": "markdown",
   "metadata": {},
   "source": [
    "- capacity_mw has right skewed data and value is high.\n",
    "- From generation_gwh_2013 till generation_gwh_2017 the data is right skewed and shows positive skewness.\n",
    "- Sqrt method is applied on these variables below multiple times till the skewness range fall in normal range."
   ]
  },
  {
   "cell_type": "code",
   "execution_count": 357,
   "metadata": {},
   "outputs": [
    {
     "data": {
      "text/plain": [
       "<AxesSubplot:>"
      ]
     },
     "execution_count": 357,
     "metadata": {},
     "output_type": "execute_result"
    },
    {
     "data": {
      "image/png": "[encoded data removed]",
      "text/plain": [
       "<Figure size 1800x864 with 1 Axes>"
      ]
     },
     "metadata": {},
     "output_type": "display_data"
    }
   ],
   "source": [
    "fig, ax =plt.subplots(figsize=(25,12))\n",
    "sns.boxplot(data=df, width = 0.5,ax=ax, fliersize=3)"
   ]
  },
  {
   "cell_type": "markdown",
   "metadata": {},
   "source": [
    "- capacity_mw has hugheourliers which also act as target col in regression problem later.\n",
    "- from generation_gwh_2013 till generation_gwh_2017 there is hughe outliers present in these variables."
   ]
  },
  {
   "cell_type": "markdown",
   "metadata": {},
   "source": [
    "## Correlation"
   ]
  },
  {
   "cell_type": "code",
   "execution_count": 358,
   "metadata": {},
   "outputs": [
    {
     "data": {
      "text/html": [
       "<div>\n",
       "<style scoped>\n",
       "    .dataframe tbody tr th:only-of-type {\n",
       "        vertical-align: middle;\n",
       "    }\n",
       "\n",
       "    .dataframe tbody tr th {\n",
       "        vertical-align: top;\n",
       "    }\n",
       "\n",
       "    .dataframe thead th {\n",
       "        text-align: right;\n",
       "    }\n",
       "</style>\n",
       "<table border=\"1\" class=\"dataframe\">\n",
       "  <thead>\n",
       "    <tr style=\"text-align: right;\">\n",
       "      <th></th>\n",
       "      <th>name</th>\n",
       "      <th>gppd_idnr</th>\n",
       "      <th>capacity_mw</th>\n",
       "      <th>latitude</th>\n",
       "      <th>longitude</th>\n",
       "      <th>primary_fuel</th>\n",
       "      <th>commissioning_year</th>\n",
       "      <th>source</th>\n",
       "      <th>geolocation_source</th>\n",
       "      <th>generation_gwh_2013</th>\n",
       "      <th>generation_gwh_2014</th>\n",
       "      <th>generation_gwh_2015</th>\n",
       "      <th>generation_gwh_2016</th>\n",
       "      <th>generation_gwh_2017</th>\n",
       "    </tr>\n",
       "  </thead>\n",
       "  <tbody>\n",
       "    <tr>\n",
       "      <th>name</th>\n",
       "      <td>1.000000</td>\n",
       "      <td>0.336792</td>\n",
       "      <td>0.059870</td>\n",
       "      <td>-0.133026</td>\n",
       "      <td>0.017599</td>\n",
       "      <td>0.038752</td>\n",
       "      <td>-0.042559</td>\n",
       "      <td>-0.013801</td>\n",
       "      <td>0.045242</td>\n",
       "      <td>0.079328</td>\n",
       "      <td>0.082761</td>\n",
       "      <td>0.071895</td>\n",
       "      <td>0.065368</td>\n",
       "      <td>0.069395</td>\n",
       "    </tr>\n",
       "    <tr>\n",
       "      <th>gppd_idnr</th>\n",
       "      <td>0.336792</td>\n",
       "      <td>1.000000</td>\n",
       "      <td>-0.334308</td>\n",
       "      <td>-0.105275</td>\n",
       "      <td>-0.381087</td>\n",
       "      <td>0.607373</td>\n",
       "      <td>0.140865</td>\n",
       "      <td>0.416575</td>\n",
       "      <td>-0.410407</td>\n",
       "      <td>-0.155146</td>\n",
       "      <td>-0.160279</td>\n",
       "      <td>-0.176156</td>\n",
       "      <td>-0.187756</td>\n",
       "      <td>-0.183912</td>\n",
       "    </tr>\n",
       "    <tr>\n",
       "      <th>capacity_mw</th>\n",
       "      <td>0.059870</td>\n",
       "      <td>-0.334308</td>\n",
       "      <td>1.000000</td>\n",
       "      <td>0.047608</td>\n",
       "      <td>0.200473</td>\n",
       "      <td>-0.377783</td>\n",
       "      <td>0.215667</td>\n",
       "      <td>-0.241701</td>\n",
       "      <td>0.183286</td>\n",
       "      <td>0.756523</td>\n",
       "      <td>0.804581</td>\n",
       "      <td>0.830400</td>\n",
       "      <td>0.863989</td>\n",
       "      <td>0.877058</td>\n",
       "    </tr>\n",
       "    <tr>\n",
       "      <th>latitude</th>\n",
       "      <td>-0.133026</td>\n",
       "      <td>-0.105275</td>\n",
       "      <td>0.047608</td>\n",
       "      <td>1.000000</td>\n",
       "      <td>0.030775</td>\n",
       "      <td>-0.010793</td>\n",
       "      <td>0.084220</td>\n",
       "      <td>0.054346</td>\n",
       "      <td>-0.173347</td>\n",
       "      <td>0.053106</td>\n",
       "      <td>0.057527</td>\n",
       "      <td>0.052797</td>\n",
       "      <td>0.046684</td>\n",
       "      <td>0.056430</td>\n",
       "    </tr>\n",
       "    <tr>\n",
       "      <th>longitude</th>\n",
       "      <td>0.017599</td>\n",
       "      <td>-0.381087</td>\n",
       "      <td>0.200473</td>\n",
       "      <td>0.030775</td>\n",
       "      <td>1.000000</td>\n",
       "      <td>-0.352749</td>\n",
       "      <td>0.035731</td>\n",
       "      <td>-0.236349</td>\n",
       "      <td>0.236711</td>\n",
       "      <td>0.102637</td>\n",
       "      <td>0.107967</td>\n",
       "      <td>0.125723</td>\n",
       "      <td>0.148405</td>\n",
       "      <td>0.156255</td>\n",
       "    </tr>\n",
       "    <tr>\n",
       "      <th>primary_fuel</th>\n",
       "      <td>0.038752</td>\n",
       "      <td>0.607373</td>\n",
       "      <td>-0.377783</td>\n",
       "      <td>-0.010793</td>\n",
       "      <td>-0.352749</td>\n",
       "      <td>1.000000</td>\n",
       "      <td>-0.065716</td>\n",
       "      <td>0.053609</td>\n",
       "      <td>-0.419911</td>\n",
       "      <td>-0.228761</td>\n",
       "      <td>-0.240407</td>\n",
       "      <td>-0.249826</td>\n",
       "      <td>-0.260900</td>\n",
       "      <td>-0.263818</td>\n",
       "    </tr>\n",
       "    <tr>\n",
       "      <th>commissioning_year</th>\n",
       "      <td>-0.042559</td>\n",
       "      <td>0.140865</td>\n",
       "      <td>0.215667</td>\n",
       "      <td>0.084220</td>\n",
       "      <td>0.035731</td>\n",
       "      <td>-0.065716</td>\n",
       "      <td>1.000000</td>\n",
       "      <td>0.085523</td>\n",
       "      <td>-0.048154</td>\n",
       "      <td>0.052258</td>\n",
       "      <td>0.086131</td>\n",
       "      <td>0.118738</td>\n",
       "      <td>0.151269</td>\n",
       "      <td>0.164514</td>\n",
       "    </tr>\n",
       "    <tr>\n",
       "      <th>source</th>\n",
       "      <td>-0.013801</td>\n",
       "      <td>0.416575</td>\n",
       "      <td>-0.241701</td>\n",
       "      <td>0.054346</td>\n",
       "      <td>-0.236349</td>\n",
       "      <td>0.053609</td>\n",
       "      <td>0.085523</td>\n",
       "      <td>1.000000</td>\n",
       "      <td>-0.492075</td>\n",
       "      <td>-0.121131</td>\n",
       "      <td>-0.125425</td>\n",
       "      <td>-0.131500</td>\n",
       "      <td>-0.136135</td>\n",
       "      <td>-0.135138</td>\n",
       "    </tr>\n",
       "    <tr>\n",
       "      <th>geolocation_source</th>\n",
       "      <td>0.045242</td>\n",
       "      <td>-0.410407</td>\n",
       "      <td>0.183286</td>\n",
       "      <td>-0.173347</td>\n",
       "      <td>0.236711</td>\n",
       "      <td>-0.419911</td>\n",
       "      <td>-0.048154</td>\n",
       "      <td>-0.492075</td>\n",
       "      <td>1.000000</td>\n",
       "      <td>0.086918</td>\n",
       "      <td>0.090000</td>\n",
       "      <td>0.094359</td>\n",
       "      <td>0.097685</td>\n",
       "      <td>0.096969</td>\n",
       "    </tr>\n",
       "    <tr>\n",
       "      <th>generation_gwh_2013</th>\n",
       "      <td>0.079328</td>\n",
       "      <td>-0.155146</td>\n",
       "      <td>0.756523</td>\n",
       "      <td>0.053106</td>\n",
       "      <td>0.102637</td>\n",
       "      <td>-0.228761</td>\n",
       "      <td>0.052258</td>\n",
       "      <td>-0.121131</td>\n",
       "      <td>0.086918</td>\n",
       "      <td>1.000000</td>\n",
       "      <td>0.970385</td>\n",
       "      <td>0.907385</td>\n",
       "      <td>0.878836</td>\n",
       "      <td>0.839297</td>\n",
       "    </tr>\n",
       "    <tr>\n",
       "      <th>generation_gwh_2014</th>\n",
       "      <td>0.082761</td>\n",
       "      <td>-0.160279</td>\n",
       "      <td>0.804581</td>\n",
       "      <td>0.057527</td>\n",
       "      <td>0.107967</td>\n",
       "      <td>-0.240407</td>\n",
       "      <td>0.086131</td>\n",
       "      <td>-0.125425</td>\n",
       "      <td>0.090000</td>\n",
       "      <td>0.970385</td>\n",
       "      <td>1.000000</td>\n",
       "      <td>0.963664</td>\n",
       "      <td>0.935000</td>\n",
       "      <td>0.903986</td>\n",
       "    </tr>\n",
       "    <tr>\n",
       "      <th>generation_gwh_2015</th>\n",
       "      <td>0.071895</td>\n",
       "      <td>-0.176156</td>\n",
       "      <td>0.830400</td>\n",
       "      <td>0.052797</td>\n",
       "      <td>0.125723</td>\n",
       "      <td>-0.249826</td>\n",
       "      <td>0.118738</td>\n",
       "      <td>-0.131500</td>\n",
       "      <td>0.094359</td>\n",
       "      <td>0.907385</td>\n",
       "      <td>0.963664</td>\n",
       "      <td>1.000000</td>\n",
       "      <td>0.973256</td>\n",
       "      <td>0.940284</td>\n",
       "    </tr>\n",
       "    <tr>\n",
       "      <th>generation_gwh_2016</th>\n",
       "      <td>0.065368</td>\n",
       "      <td>-0.187756</td>\n",
       "      <td>0.863989</td>\n",
       "      <td>0.046684</td>\n",
       "      <td>0.148405</td>\n",
       "      <td>-0.260900</td>\n",
       "      <td>0.151269</td>\n",
       "      <td>-0.136135</td>\n",
       "      <td>0.097685</td>\n",
       "      <td>0.878836</td>\n",
       "      <td>0.935000</td>\n",
       "      <td>0.973256</td>\n",
       "      <td>1.000000</td>\n",
       "      <td>0.973960</td>\n",
       "    </tr>\n",
       "    <tr>\n",
       "      <th>generation_gwh_2017</th>\n",
       "      <td>0.069395</td>\n",
       "      <td>-0.183912</td>\n",
       "      <td>0.877058</td>\n",
       "      <td>0.056430</td>\n",
       "      <td>0.156255</td>\n",
       "      <td>-0.263818</td>\n",
       "      <td>0.164514</td>\n",
       "      <td>-0.135138</td>\n",
       "      <td>0.096969</td>\n",
       "      <td>0.839297</td>\n",
       "      <td>0.903986</td>\n",
       "      <td>0.940284</td>\n",
       "      <td>0.973960</td>\n",
       "      <td>1.000000</td>\n",
       "    </tr>\n",
       "  </tbody>\n",
       "</table>\n",
       "</div>"
      ],
      "text/plain": [
       "                         name  gppd_idnr  capacity_mw  latitude  longitude  \\\n",
       "name                 1.000000   0.336792     0.059870 -0.133026   0.017599   \n",
       "gppd_idnr            0.336792   1.000000    -0.334308 -0.105275  -0.381087   \n",
       "capacity_mw          0.059870  -0.334308     1.000000  0.047608   0.200473   \n",
       "latitude            -0.133026  -0.105275     0.047608  1.000000   0.030775   \n",
       "longitude            0.017599  -0.381087     0.200473  0.030775   1.000000   \n",
       "primary_fuel         0.038752   0.607373    -0.377783 -0.010793  -0.352749   \n",
       "commissioning_year  -0.042559   0.140865     0.215667  0.084220   0.035731   \n",
       "source              -0.013801   0.416575    -0.241701  0.054346  -0.236349   \n",
       "geolocation_source   0.045242  -0.410407     0.183286 -0.173347   0.236711   \n",
       "generation_gwh_2013  0.079328  -0.155146     0.756523  0.053106   0.102637   \n",
       "generation_gwh_2014  0.082761  -0.160279     0.804581  0.057527   0.107967   \n",
       "generation_gwh_2015  0.071895  -0.176156     0.830400  0.052797   0.125723   \n",
       "generation_gwh_2016  0.065368  -0.187756     0.863989  0.046684   0.148405   \n",
       "generation_gwh_2017  0.069395  -0.183912     0.877058  0.056430   0.156255   \n",
       "\n",
       "                     primary_fuel  commissioning_year    source  \\\n",
       "name                     0.038752           -0.042559 -0.013801   \n",
       "gppd_idnr                0.607373            0.140865  0.416575   \n",
       "capacity_mw             -0.377783            0.215667 -0.241701   \n",
       "latitude                -0.010793            0.084220  0.054346   \n",
       "longitude               -0.352749            0.035731 -0.236349   \n",
       "primary_fuel             1.000000           -0.065716  0.053609   \n",
       "commissioning_year      -0.065716            1.000000  0.085523   \n",
       "source                   0.053609            0.085523  1.000000   \n",
       "geolocation_source      -0.419911           -0.048154 -0.492075   \n",
       "generation_gwh_2013     -0.228761            0.052258 -0.121131   \n",
       "generation_gwh_2014     -0.240407            0.086131 -0.125425   \n",
       "generation_gwh_2015     -0.249826            0.118738 -0.131500   \n",
       "generation_gwh_2016     -0.260900            0.151269 -0.136135   \n",
       "generation_gwh_2017     -0.263818            0.164514 -0.135138   \n",
       "\n",
       "                     geolocation_source  generation_gwh_2013  \\\n",
       "name                           0.045242             0.079328   \n",
       "gppd_idnr                     -0.410407            -0.155146   \n",
       "capacity_mw                    0.183286             0.756523   \n",
       "latitude                      -0.173347             0.053106   \n",
       "longitude                      0.236711             0.102637   \n",
       "primary_fuel                  -0.419911            -0.228761   \n",
       "commissioning_year            -0.048154             0.052258   \n",
       "source                        -0.492075            -0.121131   \n",
       "geolocation_source             1.000000             0.086918   \n",
       "generation_gwh_2013            0.086918             1.000000   \n",
       "generation_gwh_2014            0.090000             0.970385   \n",
       "generation_gwh_2015            0.094359             0.907385   \n",
       "generation_gwh_2016            0.097685             0.878836   \n",
       "generation_gwh_2017            0.096969             0.839297   \n",
       "\n",
       "                     generation_gwh_2014  generation_gwh_2015  \\\n",
       "name                            0.082761             0.071895   \n",
       "gppd_idnr                      -0.160279            -0.176156   \n",
       "capacity_mw                     0.804581             0.830400   \n",
       "latitude                        0.057527             0.052797   \n",
       "longitude                       0.107967             0.125723   \n",
       "primary_fuel                   -0.240407            -0.249826   \n",
       "commissioning_year              0.086131             0.118738   \n",
       "source                         -0.125425            -0.131500   \n",
       "geolocation_source              0.090000             0.094359   \n",
       "generation_gwh_2013             0.970385             0.907385   \n",
       "generation_gwh_2014             1.000000             0.963664   \n",
       "generation_gwh_2015             0.963664             1.000000   \n",
       "generation_gwh_2016             0.935000             0.973256   \n",
       "generation_gwh_2017             0.903986             0.940284   \n",
       "\n",
       "                     generation_gwh_2016  generation_gwh_2017  \n",
       "name                            0.065368             0.069395  \n",
       "gppd_idnr                      -0.187756            -0.183912  \n",
       "capacity_mw                     0.863989             0.877058  \n",
       "latitude                        0.046684             0.056430  \n",
       "longitude                       0.148405             0.156255  \n",
       "primary_fuel                   -0.260900            -0.263818  \n",
       "commissioning_year              0.151269             0.164514  \n",
       "source                         -0.136135            -0.135138  \n",
       "geolocation_source              0.097685             0.096969  \n",
       "generation_gwh_2013             0.878836             0.839297  \n",
       "generation_gwh_2014             0.935000             0.903986  \n",
       "generation_gwh_2015             0.973256             0.940284  \n",
       "generation_gwh_2016             1.000000             0.973960  \n",
       "generation_gwh_2017             0.973960             1.000000  "
      ]
     },
     "execution_count": 358,
     "metadata": {},
     "output_type": "execute_result"
    }
   ],
   "source": [
    "dfcor=df.corr()\n",
    "dfcor"
   ]
  },
  {
   "cell_type": "markdown",
   "metadata": {},
   "source": [
    "- From generation_gwh_2013 till generation_gwh_2017 shows high +ve corr with each others.\n",
    "- Target col primary fuel has only +ve corr with gppd_idnr and almost -ve corr with others.\n",
    "- capacity_mw shows high +ve corr with generation_gwh_2013 till generation_gwh_2017.\n",
    "- as there is huge corr i will use PCA to handle corr & multicollinearity issue with these variables."
   ]
  },
  {
   "cell_type": "markdown",
   "metadata": {},
   "source": [
    "## Heatmap"
   ]
  },
  {
   "cell_type": "code",
   "execution_count": 359,
   "metadata": {},
   "outputs": [
    {
     "data": {
      "text/plain": [
       "<AxesSubplot:>"
      ]
     },
     "execution_count": 359,
     "metadata": {},
     "output_type": "execute_result"
    },
    {
     "data": {
      "image/png": "[encoded data removed]",
      "text/plain": [
       "<Figure size 864x576 with 2 Axes>"
      ]
     },
     "metadata": {},
     "output_type": "display_data"
    }
   ],
   "source": [
    "plt.figure(figsize=(12,8))\n",
    "sns.heatmap(dfcor,cmap='YlOrRd_r', annot=True)"
   ]
  },
  {
   "cell_type": "markdown",
   "metadata": {},
   "source": [
    "- From generation_gwh_2013 till generation_gwh_2017 shows high +ve corr with each others.\n",
    "- Target col primary fuel has only +ve corr with gppd_idnr and almost -ve corr with others.\n",
    "- capacity_mw shows high +ve corr with generation_gwh_2013 till generation_gwh_2017.\n",
    "- as there is huge corr i will use PCA to handle corr & multicollinearity issue with these variables."
   ]
  },
  {
   "cell_type": "markdown",
   "metadata": {},
   "source": [
    "# VIF:Multicollinearity"
   ]
  },
  {
   "cell_type": "code",
   "execution_count": 360,
   "metadata": {},
   "outputs": [],
   "source": [
    "from statsmodels.stats.outliers_influence import variance_inflation_factor"
   ]
  },
  {
   "cell_type": "code",
   "execution_count": 361,
   "metadata": {},
   "outputs": [],
   "source": [
    "def vif_calc():\n",
    "    vif=pd.DataFrame()\n",
    "    vif[\"VIF Factor\"]=[variance_inflation_factor(df.values,i) for i in range(df.shape[1])]\n",
    "    vif[\"features\"]=df.columns\n",
    "    print(vif)"
   ]
  },
  {
   "cell_type": "code",
   "execution_count": 362,
   "metadata": {},
   "outputs": [
    {
     "name": "stdout",
     "output_type": "stream",
     "text": [
      "    VIF Factor             features\n",
      "0     5.264109                 name\n",
      "1    11.413924            gppd_idnr\n",
      "2     7.134826          capacity_mw\n",
      "3    14.367400             latitude\n",
      "4   333.684293            longitude\n",
      "5     7.004779         primary_fuel\n",
      "6   413.270280   commissioning_year\n",
      "7     3.723723               source\n",
      "8    12.761033   geolocation_source\n",
      "9    29.030045  generation_gwh_2013\n",
      "10   70.700471  generation_gwh_2014\n",
      "11   47.583929  generation_gwh_2015\n",
      "12   57.657141  generation_gwh_2016\n",
      "13   30.338385  generation_gwh_2017\n"
     ]
    }
   ],
   "source": [
    "vif_calc()"
   ]
  },
  {
   "cell_type": "markdown",
   "metadata": {},
   "source": [
    "- From generation_gwh_2013 till generation_gwh_2017 shows high +ve corr & multicollinearity with each others.\n",
    "- Target col primary fuel has only +ve corr with gppd_idnr and almost -ve corr with others.\n",
    "- capacity_mw shows high +ve corr & multicollinearity with generation_gwh_2013 till generation_gwh_2017.\n",
    "- as there is huge corr i will use PCA to handle corr & multicollinearity issue with these variables."
   ]
  },
  {
   "cell_type": "markdown",
   "metadata": {},
   "source": [
    "# Z-Score Removing Outliers"
   ]
  },
  {
   "cell_type": "code",
   "execution_count": 363,
   "metadata": {},
   "outputs": [
    {
     "name": "stdout",
     "output_type": "stream",
     "text": [
      "(array([ 15,  15,  15,  15,  72,  81, 144, 144, 144, 144, 144, 144, 159,\n",
      "       159, 180, 184, 192, 210, 210, 210, 210, 210, 210, 222, 240, 245,\n",
      "       300, 309, 309, 309, 309, 309, 309, 322, 324, 334, 341, 343, 346,\n",
      "       361, 364, 365, 365, 365, 365, 365, 365, 372, 376, 389, 417, 428,\n",
      "       445, 455, 479, 483, 485, 494, 494, 494, 494, 494, 494, 495, 495,\n",
      "       495, 495, 495, 495, 500, 520, 530, 533, 533, 539, 542, 547, 575,\n",
      "       584, 593, 602, 622, 624, 639, 649, 649, 649, 649, 649, 649, 658,\n",
      "       658, 658, 658, 658, 658, 662, 670, 690, 696, 696, 696, 696, 696,\n",
      "       707, 710, 722, 722, 722, 722, 722, 725, 725, 725, 725, 725, 727,\n",
      "       727, 727, 727, 727, 727, 729, 787, 787, 787, 787, 787, 787, 789,\n",
      "       808, 809, 809, 809, 809, 809, 809, 819, 833, 848, 849, 849, 871,\n",
      "       872, 880, 881, 881, 881, 881, 881, 881, 896, 901], dtype=int64), array([ 2, 11, 12, 13,  7,  7,  2,  9, 10, 11, 12, 13,  9, 10,  4,  4,  7,\n",
      "        2,  9, 10, 11, 12, 13,  6,  4,  4,  7,  2,  9, 10, 11, 12, 13,  7,\n",
      "        4,  4,  4,  6,  7,  4,  2,  2,  9, 10, 11, 12, 13,  6,  2,  4,  4,\n",
      "        4,  6,  6,  6,  2,  6,  2,  9, 10, 11, 12, 13,  2,  9, 10, 11, 12,\n",
      "       13,  4,  4,  4,  9, 10,  6,  6,  4,  6,  6,  6,  6,  6, 10,  4,  2,\n",
      "        9, 10, 11, 12, 13,  2,  9, 10, 11, 12, 13,  7,  7,  7,  2, 10, 11,\n",
      "       12, 13,  6,  6,  9, 10, 11, 12, 13,  9, 10, 11, 12, 13,  2,  9, 10,\n",
      "       11, 12, 13,  6,  2,  9, 10, 11, 12, 13,  2,  6,  2,  9, 10, 11, 12,\n",
      "       13,  4,  7,  4,  4,  6,  7,  7,  7,  2,  9, 10, 11, 12, 13,  7,  7],\n",
      "      dtype=int64))\n"
     ]
    }
   ],
   "source": [
    "#detecting outliers\n",
    "from scipy.stats import zscore\n",
    "dfzscore=np.abs(zscore(df))\n",
    "print(np.where(dfzscore>3))"
   ]
  },
  {
   "cell_type": "code",
   "execution_count": 364,
   "metadata": {},
   "outputs": [
    {
     "name": "stdout",
     "output_type": "stream",
     "text": [
      "dfnew.shape= (833, 14)\n"
     ]
    }
   ],
   "source": [
    "dfnew=df[(dfzscore<3).all(axis=1)]\n",
    "print('dfnew.shape=',dfnew.shape)\n",
    "\n",
    "df=dfnew"
   ]
  },
  {
   "cell_type": "markdown",
   "metadata": {},
   "source": [
    "- All the outliers whose value greater then 3 std is removed from dataset\n",
    "- the number of rows is rfeduced to 833 rows from 908 rows as can be seen above."
   ]
  },
  {
   "cell_type": "code",
   "execution_count": 365,
   "metadata": {},
   "outputs": [],
   "source": [
    "Data_loss=((908-833)/908)*100"
   ]
  },
  {
   "cell_type": "markdown",
   "metadata": {},
   "source": [
    "-%age data loss computation"
   ]
  },
  {
   "cell_type": "code",
   "execution_count": 366,
   "metadata": {},
   "outputs": [
    {
     "data": {
      "text/plain": [
       "8.259911894273127"
      ]
     },
     "execution_count": 366,
     "metadata": {},
     "output_type": "execute_result"
    }
   ],
   "source": [
    "Data_loss"
   ]
  },
  {
   "cell_type": "markdown",
   "metadata": {},
   "source": [
    "- The %age data loss is 8.2%, but the there are mor outliers in dataset.\n",
    "- I am not removing more outliers as these outliers is averaged by tree based algorithm."
   ]
  },
  {
   "cell_type": "code",
   "execution_count": 367,
   "metadata": {},
   "outputs": [],
   "source": [
    "x=df.drop(\"primary_fuel\",axis=1) # Independent var\n",
    "y=df[\"primary_fuel\"] # target col"
   ]
  },
  {
   "cell_type": "markdown",
   "metadata": {},
   "source": [
    "x- independent variables without target col & Y-depedndent variable primary_fuel."
   ]
  },
  {
   "cell_type": "code",
   "execution_count": 368,
   "metadata": {},
   "outputs": [
    {
     "data": {
      "text/plain": [
       "(833, 13)"
      ]
     },
     "execution_count": 368,
     "metadata": {},
     "output_type": "execute_result"
    }
   ],
   "source": [
    "x.shape"
   ]
  },
  {
   "cell_type": "markdown",
   "metadata": {},
   "source": [
    "- x shows 833 rows & 13 cols without target col"
   ]
  },
  {
   "cell_type": "code",
   "execution_count": 369,
   "metadata": {},
   "outputs": [
    {
     "data": {
      "text/plain": [
       "(833,)"
      ]
     },
     "execution_count": 369,
     "metadata": {},
     "output_type": "execute_result"
    }
   ],
   "source": [
    "y.shape"
   ]
  },
  {
   "cell_type": "markdown",
   "metadata": {},
   "source": [
    "- y also has 833 rows."
   ]
  },
  {
   "cell_type": "markdown",
   "metadata": {},
   "source": [
    "# Removing Skewness"
   ]
  },
  {
   "cell_type": "code",
   "execution_count": 370,
   "metadata": {},
   "outputs": [
    {
     "data": {
      "text/plain": [
       "name                   0.023554\n",
       "gppd_idnr             -0.056924\n",
       "capacity_mw            1.961847\n",
       "latitude              -0.126512\n",
       "longitude              0.883761\n",
       "primary_fuel           0.409668\n",
       "commissioning_year    -1.199857\n",
       "source                 1.782665\n",
       "geolocation_source    -1.854449\n",
       "generation_gwh_2013    3.058127\n",
       "generation_gwh_2014    2.910898\n",
       "generation_gwh_2015    2.699657\n",
       "generation_gwh_2016    2.645103\n",
       "generation_gwh_2017    2.540739\n",
       "dtype: float64"
      ]
     },
     "execution_count": 370,
     "metadata": {},
     "output_type": "execute_result"
    }
   ],
   "source": [
    "df.skew()"
   ]
  },
  {
   "cell_type": "markdown",
   "metadata": {},
   "source": [
    "- capacity_mw has right skewed data and value is high.\n",
    "- From generation_gwh_2013 till generation_gwh_2017 the data is right skewed and shows positive skewness.\n",
    "- Sqrt method is applied on these variables below multiple times till the skewness range fall in normal range."
   ]
  },
  {
   "cell_type": "code",
   "execution_count": 371,
   "metadata": {},
   "outputs": [
    {
     "data": {
      "text/plain": [
       "name                   0.023554\n",
       "gppd_idnr             -0.056924\n",
       "capacity_mw            1.961847\n",
       "latitude              -0.126512\n",
       "longitude              0.883761\n",
       "primary_fuel           0.409668\n",
       "commissioning_year    -1.199857\n",
       "source                 1.782665\n",
       "geolocation_source    -1.854449\n",
       "generation_gwh_2013    1.569897\n",
       "generation_gwh_2014    2.910898\n",
       "generation_gwh_2015    2.699657\n",
       "generation_gwh_2016    2.645103\n",
       "generation_gwh_2017    2.540739\n",
       "dtype: float64"
      ]
     },
     "execution_count": 371,
     "metadata": {},
     "output_type": "execute_result"
    },
    {
     "data": {
      "image/png": "[encoded data removed]",
      "text/plain": [
       "<Figure size 432x288 with 1 Axes>"
      ]
     },
     "metadata": {},
     "output_type": "display_data"
    }
   ],
   "source": [
    "import numpy as np\n",
    "sns.distplot(df['generation_gwh_2013'])\n",
    "df['generation_gwh_2013']=np.sqrt(df['generation_gwh_2013'])\n",
    "sns.distplot(df['generation_gwh_2013'])\n",
    "df.skew()"
   ]
  },
  {
   "cell_type": "code",
   "execution_count": 372,
   "metadata": {},
   "outputs": [
    {
     "data": {
      "text/plain": [
       "name                   0.023554\n",
       "gppd_idnr             -0.056924\n",
       "capacity_mw            1.961847\n",
       "latitude              -0.126512\n",
       "longitude              0.883761\n",
       "primary_fuel           0.409668\n",
       "commissioning_year    -1.199857\n",
       "source                 1.782665\n",
       "geolocation_source    -1.854449\n",
       "generation_gwh_2013   -0.565663\n",
       "generation_gwh_2014    2.910898\n",
       "generation_gwh_2015    2.699657\n",
       "generation_gwh_2016    2.645103\n",
       "generation_gwh_2017    2.540739\n",
       "dtype: float64"
      ]
     },
     "execution_count": 372,
     "metadata": {},
     "output_type": "execute_result"
    },
    {
     "data": {
      "image/png": "[encoded data removed]",
      "text/plain": [
       "<Figure size 432x288 with 1 Axes>"
      ]
     },
     "metadata": {},
     "output_type": "display_data"
    }
   ],
   "source": [
    "import numpy as np\n",
    "sns.distplot(df['generation_gwh_2013'])\n",
    "df['generation_gwh_2013']=np.sqrt(df['generation_gwh_2013'])\n",
    "sns.distplot(df['generation_gwh_2013'])\n",
    "df.skew()"
   ]
  },
  {
   "cell_type": "code",
   "execution_count": 373,
   "metadata": {},
   "outputs": [
    {
     "data": {
      "text/plain": [
       "name                   0.023554\n",
       "gppd_idnr             -0.056924\n",
       "capacity_mw            1.961847\n",
       "latitude              -0.126512\n",
       "longitude              0.883761\n",
       "primary_fuel           0.409668\n",
       "commissioning_year    -1.199857\n",
       "source                 1.782665\n",
       "geolocation_source    -1.854449\n",
       "generation_gwh_2013   -0.565663\n",
       "generation_gwh_2014    1.459260\n",
       "generation_gwh_2015    2.699657\n",
       "generation_gwh_2016    2.645103\n",
       "generation_gwh_2017    2.540739\n",
       "dtype: float64"
      ]
     },
     "execution_count": 373,
     "metadata": {},
     "output_type": "execute_result"
    },
    {
     "data": {
      "image/png": "[encoded data removed]",
      "text/plain": [
       "<Figure size 432x288 with 1 Axes>"
      ]
     },
     "metadata": {},
     "output_type": "display_data"
    }
   ],
   "source": [
    "import numpy as np\n",
    "sns.distplot(df['generation_gwh_2014'])\n",
    "df['generation_gwh_2014']=np.sqrt(df['generation_gwh_2014'])\n",
    "sns.distplot(df['generation_gwh_2014'])\n",
    "df.skew()"
   ]
  },
  {
   "cell_type": "code",
   "execution_count": 374,
   "metadata": {},
   "outputs": [
    {
     "data": {
      "text/plain": [
       "name                   0.023554\n",
       "gppd_idnr             -0.056924\n",
       "capacity_mw            1.961847\n",
       "latitude              -0.126512\n",
       "longitude              0.883761\n",
       "primary_fuel           0.409668\n",
       "commissioning_year    -1.199857\n",
       "source                 1.782665\n",
       "geolocation_source    -1.854449\n",
       "generation_gwh_2013   -0.565663\n",
       "generation_gwh_2014   -0.655854\n",
       "generation_gwh_2015    2.699657\n",
       "generation_gwh_2016    2.645103\n",
       "generation_gwh_2017    2.540739\n",
       "dtype: float64"
      ]
     },
     "execution_count": 374,
     "metadata": {},
     "output_type": "execute_result"
    },
    {
     "data": {
      "image/png": "[encoded data removed]",
      "text/plain": [
       "<Figure size 432x288 with 1 Axes>"
      ]
     },
     "metadata": {},
     "output_type": "display_data"
    }
   ],
   "source": [
    "import numpy as np\n",
    "sns.distplot(df['generation_gwh_2014'])\n",
    "df['generation_gwh_2014']=np.sqrt(df['generation_gwh_2014'])\n",
    "sns.distplot(df['generation_gwh_2014'])\n",
    "df.skew()"
   ]
  },
  {
   "cell_type": "code",
   "execution_count": 375,
   "metadata": {},
   "outputs": [
    {
     "data": {
      "text/plain": [
       "name                   0.023554\n",
       "gppd_idnr             -0.056924\n",
       "capacity_mw            1.961847\n",
       "latitude              -0.126512\n",
       "longitude              0.883761\n",
       "primary_fuel           0.409668\n",
       "commissioning_year    -1.199857\n",
       "source                 1.782665\n",
       "geolocation_source    -1.854449\n",
       "generation_gwh_2013   -0.565663\n",
       "generation_gwh_2014   -0.655854\n",
       "generation_gwh_2015    1.440761\n",
       "generation_gwh_2016    2.645103\n",
       "generation_gwh_2017    2.540739\n",
       "dtype: float64"
      ]
     },
     "execution_count": 375,
     "metadata": {},
     "output_type": "execute_result"
    },
    {
     "data": {
      "image/png": "[encoded data removed]",
      "text/plain": [
       "<Figure size 432x288 with 1 Axes>"
      ]
     },
     "metadata": {},
     "output_type": "display_data"
    }
   ],
   "source": [
    "import numpy as np\n",
    "sns.distplot(df['generation_gwh_2015'])\n",
    "df['generation_gwh_2015']=np.sqrt(df['generation_gwh_2015'])\n",
    "sns.distplot(df['generation_gwh_2015'])\n",
    "df.skew()"
   ]
  },
  {
   "cell_type": "code",
   "execution_count": 376,
   "metadata": {},
   "outputs": [
    {
     "data": {
      "text/plain": [
       "name                   0.023554\n",
       "gppd_idnr             -0.056924\n",
       "capacity_mw            1.961847\n",
       "latitude              -0.126512\n",
       "longitude              0.883761\n",
       "primary_fuel           0.409668\n",
       "commissioning_year    -1.199857\n",
       "source                 1.782665\n",
       "geolocation_source    -1.854449\n",
       "generation_gwh_2013   -0.565663\n",
       "generation_gwh_2014   -0.655854\n",
       "generation_gwh_2015   -0.392194\n",
       "generation_gwh_2016    2.645103\n",
       "generation_gwh_2017    2.540739\n",
       "dtype: float64"
      ]
     },
     "execution_count": 376,
     "metadata": {},
     "output_type": "execute_result"
    },
    {
     "data": {
      "image/png": "[encoded data removed]",
      "text/plain": [
       "<Figure size 432x288 with 1 Axes>"
      ]
     },
     "metadata": {},
     "output_type": "display_data"
    }
   ],
   "source": [
    "import numpy as np\n",
    "sns.distplot(df['generation_gwh_2015'])\n",
    "df['generation_gwh_2015']=np.sqrt(df['generation_gwh_2015'])\n",
    "sns.distplot(df['generation_gwh_2015'])\n",
    "df.skew()"
   ]
  },
  {
   "cell_type": "code",
   "execution_count": 377,
   "metadata": {},
   "outputs": [
    {
     "data": {
      "text/plain": [
       "name                   0.023554\n",
       "gppd_idnr             -0.056924\n",
       "capacity_mw            1.961847\n",
       "latitude              -0.126512\n",
       "longitude              0.883761\n",
       "primary_fuel           0.409668\n",
       "commissioning_year    -1.199857\n",
       "source                 1.782665\n",
       "geolocation_source    -1.854449\n",
       "generation_gwh_2013   -0.565663\n",
       "generation_gwh_2014   -0.655854\n",
       "generation_gwh_2015   -0.392194\n",
       "generation_gwh_2016    1.412701\n",
       "generation_gwh_2017    2.540739\n",
       "dtype: float64"
      ]
     },
     "execution_count": 377,
     "metadata": {},
     "output_type": "execute_result"
    },
    {
     "data": {
      "image/png": "[encoded data removed]",
      "text/plain": [
       "<Figure size 432x288 with 1 Axes>"
      ]
     },
     "metadata": {},
     "output_type": "display_data"
    }
   ],
   "source": [
    "import numpy as np\n",
    "sns.distplot(df['generation_gwh_2016'])\n",
    "df['generation_gwh_2016']=np.sqrt(df['generation_gwh_2016'])\n",
    "sns.distplot(df['generation_gwh_2016'])\n",
    "df.skew()"
   ]
  },
  {
   "cell_type": "code",
   "execution_count": 378,
   "metadata": {},
   "outputs": [
    {
     "data": {
      "text/plain": [
       "name                   0.023554\n",
       "gppd_idnr             -0.056924\n",
       "capacity_mw            1.961847\n",
       "latitude              -0.126512\n",
       "longitude              0.883761\n",
       "primary_fuel           0.409668\n",
       "commissioning_year    -1.199857\n",
       "source                 1.782665\n",
       "geolocation_source    -1.854449\n",
       "generation_gwh_2013   -0.565663\n",
       "generation_gwh_2014   -0.655854\n",
       "generation_gwh_2015   -0.392194\n",
       "generation_gwh_2016   -0.389252\n",
       "generation_gwh_2017    2.540739\n",
       "dtype: float64"
      ]
     },
     "execution_count": 378,
     "metadata": {},
     "output_type": "execute_result"
    },
    {
     "data": {
      "image/png": "[encoded data removed]",
      "text/plain": [
       "<Figure size 432x288 with 1 Axes>"
      ]
     },
     "metadata": {},
     "output_type": "display_data"
    }
   ],
   "source": [
    "import numpy as np\n",
    "sns.distplot(df['generation_gwh_2016'])\n",
    "df['generation_gwh_2016']=np.sqrt(df['generation_gwh_2016'])\n",
    "sns.distplot(df['generation_gwh_2016'])\n",
    "df.skew()"
   ]
  },
  {
   "cell_type": "code",
   "execution_count": 379,
   "metadata": {},
   "outputs": [
    {
     "data": {
      "text/plain": [
       "name                   0.023554\n",
       "gppd_idnr             -0.056924\n",
       "capacity_mw            1.961847\n",
       "latitude              -0.126512\n",
       "longitude              0.883761\n",
       "primary_fuel           0.409668\n",
       "commissioning_year    -1.199857\n",
       "source                 1.782665\n",
       "geolocation_source    -1.854449\n",
       "generation_gwh_2013   -0.565663\n",
       "generation_gwh_2014   -0.655854\n",
       "generation_gwh_2015   -0.392194\n",
       "generation_gwh_2016   -0.389252\n",
       "generation_gwh_2017    1.277419\n",
       "dtype: float64"
      ]
     },
     "execution_count": 379,
     "metadata": {},
     "output_type": "execute_result"
    },
    {
     "data": {
      "image/png": "[encoded data removed]",
      "text/plain": [
       "<Figure size 432x288 with 1 Axes>"
      ]
     },
     "metadata": {},
     "output_type": "display_data"
    }
   ],
   "source": [
    "import numpy as np\n",
    "sns.distplot(df['generation_gwh_2017'])\n",
    "df['generation_gwh_2017']=np.sqrt(df['generation_gwh_2017'])\n",
    "sns.distplot(df['generation_gwh_2017'])\n",
    "df.skew()"
   ]
  },
  {
   "cell_type": "code",
   "execution_count": 380,
   "metadata": {},
   "outputs": [
    {
     "data": {
      "text/plain": [
       "name                   0.023554\n",
       "gppd_idnr             -0.056924\n",
       "capacity_mw            1.961847\n",
       "latitude              -0.126512\n",
       "longitude              0.883761\n",
       "primary_fuel           0.409668\n",
       "commissioning_year    -1.199857\n",
       "source                 1.782665\n",
       "geolocation_source    -1.854449\n",
       "generation_gwh_2013   -0.565663\n",
       "generation_gwh_2014   -0.655854\n",
       "generation_gwh_2015   -0.392194\n",
       "generation_gwh_2016   -0.389252\n",
       "generation_gwh_2017   -0.525993\n",
       "dtype: float64"
      ]
     },
     "execution_count": 380,
     "metadata": {},
     "output_type": "execute_result"
    },
    {
     "data": {
      "image/png": "[encoded data removed]",
      "text/plain": [
       "<Figure size 432x288 with 1 Axes>"
      ]
     },
     "metadata": {},
     "output_type": "display_data"
    }
   ],
   "source": [
    "import numpy as np\n",
    "sns.distplot(df['generation_gwh_2017'])\n",
    "df['generation_gwh_2017']=np.sqrt(df['generation_gwh_2017'])\n",
    "sns.distplot(df['generation_gwh_2017'])\n",
    "df.skew()"
   ]
  },
  {
   "cell_type": "code",
   "execution_count": 381,
   "metadata": {},
   "outputs": [
    {
     "data": {
      "text/plain": [
       "name                   0.023554\n",
       "gppd_idnr             -0.056924\n",
       "capacity_mw            1.132682\n",
       "latitude              -0.126512\n",
       "longitude              0.883761\n",
       "primary_fuel           0.409668\n",
       "commissioning_year    -1.199857\n",
       "source                 1.782665\n",
       "geolocation_source    -1.854449\n",
       "generation_gwh_2013   -0.565663\n",
       "generation_gwh_2014   -0.655854\n",
       "generation_gwh_2015   -0.392194\n",
       "generation_gwh_2016   -0.389252\n",
       "generation_gwh_2017   -0.525993\n",
       "dtype: float64"
      ]
     },
     "execution_count": 381,
     "metadata": {},
     "output_type": "execute_result"
    },
    {
     "data": {
      "image/png": "[encoded data removed]",
      "text/plain": [
       "<Figure size 432x288 with 1 Axes>"
      ]
     },
     "metadata": {},
     "output_type": "display_data"
    }
   ],
   "source": [
    "import numpy as np\n",
    "sns.distplot(df['capacity_mw'])\n",
    "df['capacity_mw']=np.sqrt(df['capacity_mw'])\n",
    "sns.distplot(df['capacity_mw'])\n",
    "df.skew()"
   ]
  },
  {
   "cell_type": "code",
   "execution_count": 382,
   "metadata": {},
   "outputs": [
    {
     "data": {
      "text/plain": [
       "name                   0.023554\n",
       "gppd_idnr             -0.056924\n",
       "capacity_mw            0.607195\n",
       "latitude              -0.126512\n",
       "longitude              0.883761\n",
       "primary_fuel           0.409668\n",
       "commissioning_year    -1.199857\n",
       "source                 1.782665\n",
       "geolocation_source    -1.854449\n",
       "generation_gwh_2013   -0.565663\n",
       "generation_gwh_2014   -0.655854\n",
       "generation_gwh_2015   -0.392194\n",
       "generation_gwh_2016   -0.389252\n",
       "generation_gwh_2017   -0.525993\n",
       "dtype: float64"
      ]
     },
     "execution_count": 382,
     "metadata": {},
     "output_type": "execute_result"
    },
    {
     "data": {
      "image/png": "[encoded data removed]",
      "text/plain": [
       "<Figure size 432x288 with 1 Axes>"
      ]
     },
     "metadata": {},
     "output_type": "display_data"
    }
   ],
   "source": [
    "import numpy as np\n",
    "sns.distplot(df['capacity_mw'])\n",
    "df['capacity_mw']=np.sqrt(df['capacity_mw'])\n",
    "sns.distplot(df['capacity_mw'])\n",
    "df.skew()"
   ]
  },
  {
   "cell_type": "markdown",
   "metadata": {},
   "source": [
    "- Multiple time sqrt method is applied on above variables to remove right & poistive skewness on above variables.\n",
    "- And finaly values are falling within -0.5 to 0.5 of normal range.\n",
    "- Categorical Variable is not treated for skewness."
   ]
  },
  {
   "cell_type": "markdown",
   "metadata": {},
   "source": [
    "# Scaling"
   ]
  },
  {
   "cell_type": "code",
   "execution_count": 383,
   "metadata": {},
   "outputs": [],
   "source": [
    "from sklearn.preprocessing import StandardScaler"
   ]
  },
  {
   "cell_type": "code",
   "execution_count": 384,
   "metadata": {},
   "outputs": [
    {
     "data": {
      "text/plain": [
       "array([[-1.69541583,  0.74074017, -0.63883134, ..., -0.31046903,\n",
       "        -0.31741184, -0.30736888],\n",
       "       [-1.69162619,  0.22179861, -0.41091893, ..., -0.31046903,\n",
       "        -0.31741184, -0.30736888],\n",
       "       [-1.68783655,  1.47778761, -0.55124615, ..., -0.31046903,\n",
       "        -0.31741184, -0.30736888],\n",
       "       ...,\n",
       "       [ 1.73420846,  1.62068456, -0.58394144, ..., -0.31046903,\n",
       "        -0.31741184, -0.30736888],\n",
       "       [ 1.7379981 ,  0.29700753, -0.45387624, ..., -0.31046903,\n",
       "        -0.31741184, -0.30736888],\n",
       "       [ 1.74178774,  1.56427787, -0.6054201 , ..., -0.31046903,\n",
       "        -0.31741184, -0.30736888]])"
      ]
     },
     "execution_count": 384,
     "metadata": {},
     "output_type": "execute_result"
    }
   ],
   "source": [
    "scaling = StandardScaler()\n",
    "x=scaling.fit_transform(x)\n",
    "x"
   ]
  },
  {
   "cell_type": "markdown",
   "metadata": {},
   "source": [
    "- Making the data in same range with standard scaler.\n",
    "- Also data should be scaled before PCA."
   ]
  },
  {
   "cell_type": "markdown",
   "metadata": {},
   "source": [
    "# PCA:Dimension reduction "
   ]
  },
  {
   "cell_type": "code",
   "execution_count": 385,
   "metadata": {},
   "outputs": [],
   "source": [
    "from sklearn.decomposition import PCA # Importing PCA from decomposition module.\n",
    "pca = PCA(n_components=10) # setting 10 pca components\n",
    "x = pca.fit_transform(x) # applying pca on x-independent variables."
   ]
  },
  {
   "cell_type": "code",
   "execution_count": 386,
   "metadata": {},
   "outputs": [
    {
     "data": {
      "image/png": "[encoded data removed]",
      "text/plain": [
       "<Figure size 432x288 with 1 Axes>"
      ]
     },
     "metadata": {},
     "output_type": "display_data"
    }
   ],
   "source": [
    "import matplotlib.pyplot as plt\n",
    "import seaborn as sna\n",
    "pca = PCA()\n",
    "principalComponents = pca.fit_transform(x)\n",
    "plt.figure()\n",
    "plt.plot(np.cumsum(pca.explained_variance_ratio_))\n",
    "plt.xlabel('Number of Components')\n",
    "plt.ylabel('Variance (%)')\n",
    "plt.title('Explained Variance')\n",
    "plt.show()\n"
   ]
  },
  {
   "cell_type": "markdown",
   "metadata": {},
   "source": [
    "- As we can see 8 PCA component clearly explains the presence of variance with these PCA."
   ]
  },
  {
   "cell_type": "code",
   "execution_count": 387,
   "metadata": {},
   "outputs": [],
   "source": [
    "pca = PCA(n_components=8)\n",
    "new_data = pca.fit_transform(x)\n",
    "principal_x = pd.DataFrame(new_data,columns = ['PC-1','PC-2','PC-3','PC-4','PC-5','PC-6','PC-7','PC-8'])"
   ]
  },
  {
   "cell_type": "markdown",
   "metadata": {},
   "source": [
    "- So we are using 8 pca and applying new 8 pca to x independent variables again.\n",
    "- Creating pca dataframe of 8 pca components."
   ]
  },
  {
   "cell_type": "code",
   "execution_count": 388,
   "metadata": {},
   "outputs": [
    {
     "data": {
      "text/html": [
       "<div>\n",
       "<style scoped>\n",
       "    .dataframe tbody tr th:only-of-type {\n",
       "        vertical-align: middle;\n",
       "    }\n",
       "\n",
       "    .dataframe tbody tr th {\n",
       "        vertical-align: top;\n",
       "    }\n",
       "\n",
       "    .dataframe thead th {\n",
       "        text-align: right;\n",
       "    }\n",
       "</style>\n",
       "<table border=\"1\" class=\"dataframe\">\n",
       "  <thead>\n",
       "    <tr style=\"text-align: right;\">\n",
       "      <th></th>\n",
       "      <th>PC-1</th>\n",
       "      <th>PC-2</th>\n",
       "      <th>PC-3</th>\n",
       "      <th>PC-4</th>\n",
       "      <th>PC-5</th>\n",
       "      <th>PC-6</th>\n",
       "      <th>PC-7</th>\n",
       "      <th>PC-8</th>\n",
       "    </tr>\n",
       "  </thead>\n",
       "  <tbody>\n",
       "    <tr>\n",
       "      <th>0</th>\n",
       "      <td>-1.272892</td>\n",
       "      <td>1.911640</td>\n",
       "      <td>-2.150807</td>\n",
       "      <td>-0.403058</td>\n",
       "      <td>-0.546741</td>\n",
       "      <td>-0.473704</td>\n",
       "      <td>0.653303</td>\n",
       "      <td>0.022680</td>\n",
       "    </tr>\n",
       "    <tr>\n",
       "      <th>1</th>\n",
       "      <td>-1.201783</td>\n",
       "      <td>1.362832</td>\n",
       "      <td>-1.810912</td>\n",
       "      <td>0.222554</td>\n",
       "      <td>-1.167140</td>\n",
       "      <td>0.373029</td>\n",
       "      <td>1.592297</td>\n",
       "      <td>-1.744408</td>\n",
       "    </tr>\n",
       "    <tr>\n",
       "      <th>2</th>\n",
       "      <td>-1.188297</td>\n",
       "      <td>0.577578</td>\n",
       "      <td>-0.491075</td>\n",
       "      <td>0.625670</td>\n",
       "      <td>-0.813340</td>\n",
       "      <td>-2.104556</td>\n",
       "      <td>0.411826</td>\n",
       "      <td>0.698804</td>\n",
       "    </tr>\n",
       "    <tr>\n",
       "      <th>3</th>\n",
       "      <td>0.111236</td>\n",
       "      <td>-2.759373</td>\n",
       "      <td>-2.071134</td>\n",
       "      <td>-1.163237</td>\n",
       "      <td>-0.116305</td>\n",
       "      <td>2.070873</td>\n",
       "      <td>0.671226</td>\n",
       "      <td>0.872303</td>\n",
       "    </tr>\n",
       "    <tr>\n",
       "      <th>4</th>\n",
       "      <td>6.076922</td>\n",
       "      <td>-0.728012</td>\n",
       "      <td>-1.874538</td>\n",
       "      <td>-1.449964</td>\n",
       "      <td>-1.385104</td>\n",
       "      <td>-0.002545</td>\n",
       "      <td>-1.272187</td>\n",
       "      <td>-0.649052</td>\n",
       "    </tr>\n",
       "    <tr>\n",
       "      <th>...</th>\n",
       "      <td>...</td>\n",
       "      <td>...</td>\n",
       "      <td>...</td>\n",
       "      <td>...</td>\n",
       "      <td>...</td>\n",
       "      <td>...</td>\n",
       "      <td>...</td>\n",
       "      <td>...</td>\n",
       "    </tr>\n",
       "    <tr>\n",
       "      <th>828</th>\n",
       "      <td>0.506203</td>\n",
       "      <td>-0.528606</td>\n",
       "      <td>1.472416</td>\n",
       "      <td>-2.168399</td>\n",
       "      <td>0.290350</td>\n",
       "      <td>-0.527224</td>\n",
       "      <td>-1.320279</td>\n",
       "      <td>-0.862768</td>\n",
       "    </tr>\n",
       "    <tr>\n",
       "      <th>829</th>\n",
       "      <td>-1.395207</td>\n",
       "      <td>2.123814</td>\n",
       "      <td>1.645642</td>\n",
       "      <td>-0.578123</td>\n",
       "      <td>-0.181378</td>\n",
       "      <td>1.588710</td>\n",
       "      <td>-1.064440</td>\n",
       "      <td>0.820998</td>\n",
       "    </tr>\n",
       "    <tr>\n",
       "      <th>830</th>\n",
       "      <td>-1.024835</td>\n",
       "      <td>0.418243</td>\n",
       "      <td>2.413626</td>\n",
       "      <td>-0.466506</td>\n",
       "      <td>0.398281</td>\n",
       "      <td>-0.412430</td>\n",
       "      <td>0.044479</td>\n",
       "      <td>0.368164</td>\n",
       "    </tr>\n",
       "    <tr>\n",
       "      <th>831</th>\n",
       "      <td>-0.870520</td>\n",
       "      <td>0.559262</td>\n",
       "      <td>1.005612</td>\n",
       "      <td>-0.162260</td>\n",
       "      <td>1.231371</td>\n",
       "      <td>-0.440738</td>\n",
       "      <td>0.154033</td>\n",
       "      <td>-0.874782</td>\n",
       "    </tr>\n",
       "    <tr>\n",
       "      <th>832</th>\n",
       "      <td>-0.994825</td>\n",
       "      <td>0.121037</td>\n",
       "      <td>2.869094</td>\n",
       "      <td>-0.623674</td>\n",
       "      <td>-0.219563</td>\n",
       "      <td>0.059390</td>\n",
       "      <td>0.020551</td>\n",
       "      <td>0.538597</td>\n",
       "    </tr>\n",
       "  </tbody>\n",
       "</table>\n",
       "<p>833 rows × 8 columns</p>\n",
       "</div>"
      ],
      "text/plain": [
       "         PC-1      PC-2      PC-3      PC-4      PC-5      PC-6      PC-7  \\\n",
       "0   -1.272892  1.911640 -2.150807 -0.403058 -0.546741 -0.473704  0.653303   \n",
       "1   -1.201783  1.362832 -1.810912  0.222554 -1.167140  0.373029  1.592297   \n",
       "2   -1.188297  0.577578 -0.491075  0.625670 -0.813340 -2.104556  0.411826   \n",
       "3    0.111236 -2.759373 -2.071134 -1.163237 -0.116305  2.070873  0.671226   \n",
       "4    6.076922 -0.728012 -1.874538 -1.449964 -1.385104 -0.002545 -1.272187   \n",
       "..        ...       ...       ...       ...       ...       ...       ...   \n",
       "828  0.506203 -0.528606  1.472416 -2.168399  0.290350 -0.527224 -1.320279   \n",
       "829 -1.395207  2.123814  1.645642 -0.578123 -0.181378  1.588710 -1.064440   \n",
       "830 -1.024835  0.418243  2.413626 -0.466506  0.398281 -0.412430  0.044479   \n",
       "831 -0.870520  0.559262  1.005612 -0.162260  1.231371 -0.440738  0.154033   \n",
       "832 -0.994825  0.121037  2.869094 -0.623674 -0.219563  0.059390  0.020551   \n",
       "\n",
       "         PC-8  \n",
       "0    0.022680  \n",
       "1   -1.744408  \n",
       "2    0.698804  \n",
       "3    0.872303  \n",
       "4   -0.649052  \n",
       "..        ...  \n",
       "828 -0.862768  \n",
       "829  0.820998  \n",
       "830  0.368164  \n",
       "831 -0.874782  \n",
       "832  0.538597  \n",
       "\n",
       "[833 rows x 8 columns]"
      ]
     },
     "execution_count": 388,
     "metadata": {},
     "output_type": "execute_result"
    }
   ],
   "source": [
    "principal_x"
   ]
  },
  {
   "cell_type": "markdown",
   "metadata": {},
   "source": [
    "- principal_x is the PCA treated independent variables.\n",
    "- the purpose of using PCA in this dataset is  because there is hughe outliers & many variables shows corr & multicollinearity."
   ]
  },
  {
   "cell_type": "code",
   "execution_count": 389,
   "metadata": {},
   "outputs": [],
   "source": [
    "x = principal_x"
   ]
  },
  {
   "cell_type": "markdown",
   "metadata": {},
   "source": [
    "- x is remapped to principal_x"
   ]
  },
  {
   "cell_type": "code",
   "execution_count": 390,
   "metadata": {},
   "outputs": [
    {
     "data": {
      "text/html": [
       "<div>\n",
       "<style scoped>\n",
       "    .dataframe tbody tr th:only-of-type {\n",
       "        vertical-align: middle;\n",
       "    }\n",
       "\n",
       "    .dataframe tbody tr th {\n",
       "        vertical-align: top;\n",
       "    }\n",
       "\n",
       "    .dataframe thead th {\n",
       "        text-align: right;\n",
       "    }\n",
       "</style>\n",
       "<table border=\"1\" class=\"dataframe\">\n",
       "  <thead>\n",
       "    <tr style=\"text-align: right;\">\n",
       "      <th></th>\n",
       "      <th>PC-1</th>\n",
       "      <th>PC-2</th>\n",
       "      <th>PC-3</th>\n",
       "      <th>PC-4</th>\n",
       "      <th>PC-5</th>\n",
       "      <th>PC-6</th>\n",
       "      <th>PC-7</th>\n",
       "      <th>PC-8</th>\n",
       "    </tr>\n",
       "  </thead>\n",
       "  <tbody>\n",
       "    <tr>\n",
       "      <th>0</th>\n",
       "      <td>-1.272892</td>\n",
       "      <td>1.911640</td>\n",
       "      <td>-2.150807</td>\n",
       "      <td>-0.403058</td>\n",
       "      <td>-0.546741</td>\n",
       "      <td>-0.473704</td>\n",
       "      <td>0.653303</td>\n",
       "      <td>0.022680</td>\n",
       "    </tr>\n",
       "    <tr>\n",
       "      <th>1</th>\n",
       "      <td>-1.201783</td>\n",
       "      <td>1.362832</td>\n",
       "      <td>-1.810912</td>\n",
       "      <td>0.222554</td>\n",
       "      <td>-1.167140</td>\n",
       "      <td>0.373029</td>\n",
       "      <td>1.592297</td>\n",
       "      <td>-1.744408</td>\n",
       "    </tr>\n",
       "    <tr>\n",
       "      <th>2</th>\n",
       "      <td>-1.188297</td>\n",
       "      <td>0.577578</td>\n",
       "      <td>-0.491075</td>\n",
       "      <td>0.625670</td>\n",
       "      <td>-0.813340</td>\n",
       "      <td>-2.104556</td>\n",
       "      <td>0.411826</td>\n",
       "      <td>0.698804</td>\n",
       "    </tr>\n",
       "    <tr>\n",
       "      <th>3</th>\n",
       "      <td>0.111236</td>\n",
       "      <td>-2.759373</td>\n",
       "      <td>-2.071134</td>\n",
       "      <td>-1.163237</td>\n",
       "      <td>-0.116305</td>\n",
       "      <td>2.070873</td>\n",
       "      <td>0.671226</td>\n",
       "      <td>0.872303</td>\n",
       "    </tr>\n",
       "    <tr>\n",
       "      <th>4</th>\n",
       "      <td>6.076922</td>\n",
       "      <td>-0.728012</td>\n",
       "      <td>-1.874538</td>\n",
       "      <td>-1.449964</td>\n",
       "      <td>-1.385104</td>\n",
       "      <td>-0.002545</td>\n",
       "      <td>-1.272187</td>\n",
       "      <td>-0.649052</td>\n",
       "    </tr>\n",
       "  </tbody>\n",
       "</table>\n",
       "</div>"
      ],
      "text/plain": [
       "       PC-1      PC-2      PC-3      PC-4      PC-5      PC-6      PC-7  \\\n",
       "0 -1.272892  1.911640 -2.150807 -0.403058 -0.546741 -0.473704  0.653303   \n",
       "1 -1.201783  1.362832 -1.810912  0.222554 -1.167140  0.373029  1.592297   \n",
       "2 -1.188297  0.577578 -0.491075  0.625670 -0.813340 -2.104556  0.411826   \n",
       "3  0.111236 -2.759373 -2.071134 -1.163237 -0.116305  2.070873  0.671226   \n",
       "4  6.076922 -0.728012 -1.874538 -1.449964 -1.385104 -0.002545 -1.272187   \n",
       "\n",
       "       PC-8  \n",
       "0  0.022680  \n",
       "1 -1.744408  \n",
       "2  0.698804  \n",
       "3  0.872303  \n",
       "4 -0.649052  "
      ]
     },
     "execution_count": 390,
     "metadata": {},
     "output_type": "execute_result"
    }
   ],
   "source": [
    "x.head()"
   ]
  },
  {
   "cell_type": "markdown",
   "metadata": {},
   "source": [
    "- Now x is the treated pca indpendent variables."
   ]
  },
  {
   "cell_type": "code",
   "execution_count": 391,
   "metadata": {},
   "outputs": [
    {
     "data": {
      "text/plain": [
       "(833, 8)"
      ]
     },
     "execution_count": 391,
     "metadata": {},
     "output_type": "execute_result"
    }
   ],
   "source": [
    "x.shape"
   ]
  },
  {
   "cell_type": "code",
   "execution_count": null,
   "metadata": {},
   "outputs": [],
   "source": [
    "- xhas 833 rows and new 8 PCA col"
   ]
  },
  {
   "cell_type": "code",
   "execution_count": 392,
   "metadata": {},
   "outputs": [
    {
     "data": {
      "text/plain": [
       "(833,)"
      ]
     },
     "execution_count": 392,
     "metadata": {},
     "output_type": "execute_result"
    }
   ],
   "source": [
    "y.shape"
   ]
  },
  {
   "cell_type": "markdown",
   "metadata": {},
   "source": [
    "- y is the target col primary fuel having 833 rows."
   ]
  },
  {
   "cell_type": "code",
   "execution_count": 393,
   "metadata": {},
   "outputs": [
    {
     "name": "stdout",
     "output_type": "stream",
     "text": [
      "65.86826347305389 at random_state 0\n",
      "70.05988023952095 at random_state 1\n",
      "68.8622754491018 at random_state 2\n",
      "68.8622754491018 at random_state 3\n",
      "72.45508982035929 at random_state 4\n",
      "71.25748502994011 at random_state 5\n",
      "76.64670658682635 at random_state 6\n",
      "74.25149700598801 at random_state 7\n",
      "71.25748502994011 at random_state 8\n",
      "72.45508982035929 at random_state 9\n",
      "76.64670658682635 at random_state 10\n",
      "77.84431137724552 at random_state 11\n",
      "73.05389221556887 at random_state 12\n",
      "73.05389221556887 at random_state 13\n",
      "68.8622754491018 at random_state 14\n",
      "71.25748502994011 at random_state 15\n",
      "73.65269461077844 at random_state 16\n",
      "73.65269461077844 at random_state 17\n",
      "66.46706586826348 at random_state 18\n",
      "65.86826347305389 at random_state 19\n",
      "70.65868263473054 at random_state 20\n",
      "68.8622754491018 at random_state 21\n",
      "75.44910179640718 at random_state 22\n",
      "64.67065868263472 at random_state 23\n",
      "70.05988023952095 at random_state 24\n",
      "71.8562874251497 at random_state 25\n",
      "78.44311377245509 at random_state 26\n",
      "68.26347305389223 at random_state 27\n",
      "63.47305389221557 at random_state 28\n",
      "69.46107784431138 at random_state 29\n",
      "63.47305389221557 at random_state 30\n",
      "68.26347305389223 at random_state 31\n",
      "66.46706586826348 at random_state 32\n",
      "73.05389221556887 at random_state 33\n",
      "69.46107784431138 at random_state 34\n",
      "73.65269461077844 at random_state 35\n",
      "68.26347305389223 at random_state 36\n",
      "71.8562874251497 at random_state 37\n",
      "74.25149700598801 at random_state 38\n",
      "76.04790419161677 at random_state 39\n",
      "73.05389221556887 at random_state 40\n",
      "68.8622754491018 at random_state 41\n",
      "68.8622754491018 at random_state 42\n",
      "65.86826347305389 at random_state 43\n",
      "68.8622754491018 at random_state 44\n",
      "62.874251497005986 at random_state 45\n",
      "67.06586826347305 at random_state 46\n",
      "62.874251497005986 at random_state 47\n",
      "73.05389221556887 at random_state 48\n",
      "67.06586826347305 at random_state 49\n",
      "71.25748502994011 at random_state 50\n",
      "64.67065868263472 at random_state 51\n",
      "68.26347305389223 at random_state 52\n",
      "73.05389221556887 at random_state 53\n",
      "67.06586826347305 at random_state 54\n",
      "68.8622754491018 at random_state 55\n",
      "69.46107784431138 at random_state 56\n",
      "71.25748502994011 at random_state 57\n",
      "68.8622754491018 at random_state 58\n",
      "64.67065868263472 at random_state 59\n",
      "73.65269461077844 at random_state 60\n",
      "74.25149700598801 at random_state 61\n",
      "75.44910179640718 at random_state 62\n",
      "60.47904191616767 at random_state 63\n",
      "65.26946107784431 at random_state 64\n",
      "74.25149700598801 at random_state 65\n",
      "68.8622754491018 at random_state 66\n",
      "64.07185628742515 at random_state 67\n",
      "73.65269461077844 at random_state 68\n",
      "70.65868263473054 at random_state 69\n",
      "68.8622754491018 at random_state 70\n",
      "74.8502994011976 at random_state 71\n",
      "65.26946107784431 at random_state 72\n",
      "74.25149700598801 at random_state 73\n",
      "70.65868263473054 at random_state 74\n",
      "71.8562874251497 at random_state 75\n",
      "73.65269461077844 at random_state 76\n",
      "73.05389221556887 at random_state 77\n",
      "71.25748502994011 at random_state 78\n",
      "70.05988023952095 at random_state 79\n",
      "66.46706586826348 at random_state 80\n",
      "74.25149700598801 at random_state 81\n",
      "73.05389221556887 at random_state 82\n",
      "67.06586826347305 at random_state 83\n",
      "70.05988023952095 at random_state 84\n",
      "65.26946107784431 at random_state 85\n",
      "71.25748502994011 at random_state 86\n",
      "71.25748502994011 at random_state 87\n",
      "67.06586826347305 at random_state 88\n",
      "67.66467065868264 at random_state 89\n",
      "73.05389221556887 at random_state 90\n",
      "77.84431137724552 at random_state 91\n",
      "72.45508982035929 at random_state 92\n",
      "69.46107784431138 at random_state 93\n",
      "71.8562874251497 at random_state 94\n",
      "71.25748502994011 at random_state 95\n",
      "70.05988023952095 at random_state 96\n",
      "71.25748502994011 at random_state 97\n",
      "73.05389221556887 at random_state 98\n",
      "68.8622754491018 at random_state 99\n",
      "68.26347305389223 at random_state 100\n",
      "67.06586826347305 at random_state 101\n",
      "70.05988023952095 at random_state 102\n",
      "70.65868263473054 at random_state 103\n",
      "73.65269461077844 at random_state 104\n",
      "66.46706586826348 at random_state 105\n",
      "65.26946107784431 at random_state 106\n",
      "67.66467065868264 at random_state 107\n",
      "71.25748502994011 at random_state 108\n",
      "69.46107784431138 at random_state 109\n",
      "67.66467065868264 at random_state 110\n",
      "68.8622754491018 at random_state 111\n",
      "65.26946107784431 at random_state 112\n",
      "67.66467065868264 at random_state 113\n",
      "67.66467065868264 at random_state 114\n",
      "65.26946107784431 at random_state 115\n",
      "71.8562874251497 at random_state 116\n",
      "73.05389221556887 at random_state 117\n",
      "67.66467065868264 at random_state 118\n",
      "64.07185628742515 at random_state 119\n",
      "67.06586826347305 at random_state 120\n",
      "68.26347305389223 at random_state 121\n",
      "67.66467065868264 at random_state 122\n",
      "68.8622754491018 at random_state 123\n",
      "69.46107784431138 at random_state 124\n",
      "77.24550898203593 at random_state 125\n",
      "64.07185628742515 at random_state 126\n",
      "65.26946107784431 at random_state 127\n",
      "76.04790419161677 at random_state 128\n",
      "72.45508982035929 at random_state 129\n",
      "68.26347305389223 at random_state 130\n",
      "64.67065868263472 at random_state 131\n",
      "61.67664670658682 at random_state 132\n",
      "76.04790419161677 at random_state 133\n",
      "76.04790419161677 at random_state 134\n",
      "77.24550898203593 at random_state 135\n",
      "71.8562874251497 at random_state 136\n",
      "73.05389221556887 at random_state 137\n",
      "73.65269461077844 at random_state 138\n",
      "76.64670658682635 at random_state 139\n",
      "68.26347305389223 at random_state 140\n",
      "68.26347305389223 at random_state 141\n",
      "79.64071856287424 at random_state 142\n",
      "70.05988023952095 at random_state 143\n",
      "73.65269461077844 at random_state 144\n",
      "73.05389221556887 at random_state 145\n",
      "71.8562874251497 at random_state 146\n",
      "71.25748502994011 at random_state 147\n",
      "73.05389221556887 at random_state 148\n",
      "70.65868263473054 at random_state 149\n",
      "65.26946107784431 at random_state 150\n",
      "68.8622754491018 at random_state 151\n",
      "71.25748502994011 at random_state 152\n",
      "73.65269461077844 at random_state 153\n",
      "64.07185628742515 at random_state 154\n",
      "70.05988023952095 at random_state 155\n",
      "68.8622754491018 at random_state 156\n",
      "71.8562874251497 at random_state 157\n",
      "71.8562874251497 at random_state 158\n",
      "70.65868263473054 at random_state 159\n",
      "65.86826347305389 at random_state 160\n",
      "68.26347305389223 at random_state 161\n",
      "75.44910179640718 at random_state 162\n",
      "71.25748502994011 at random_state 163\n",
      "73.65269461077844 at random_state 164\n",
      "73.65269461077844 at random_state 165\n",
      "68.8622754491018 at random_state 166\n",
      "74.8502994011976 at random_state 167\n",
      "64.67065868263472 at random_state 168\n",
      "70.05988023952095 at random_state 169\n",
      "66.46706586826348 at random_state 170\n",
      "71.25748502994011 at random_state 171\n",
      "71.25748502994011 at random_state 172\n",
      "67.66467065868264 at random_state 173\n",
      "69.46107784431138 at random_state 174\n",
      "68.26347305389223 at random_state 175\n",
      "64.67065868263472 at random_state 176\n",
      "67.66467065868264 at random_state 177\n",
      "76.64670658682635 at random_state 178\n",
      "72.45508982035929 at random_state 179\n",
      "67.66467065868264 at random_state 180\n",
      "70.05988023952095 at random_state 181\n",
      "73.65269461077844 at random_state 182\n",
      "72.45508982035929 at random_state 183\n",
      "73.05389221556887 at random_state 184\n",
      "74.8502994011976 at random_state 185\n",
      "68.26347305389223 at random_state 186\n",
      "68.26347305389223 at random_state 187\n",
      "69.46107784431138 at random_state 188\n",
      "70.65868263473054 at random_state 189\n",
      "61.67664670658682 at random_state 190\n",
      "73.05389221556887 at random_state 191\n",
      "71.25748502994011 at random_state 192\n",
      "65.26946107784431 at random_state 193\n",
      "74.25149700598801 at random_state 194\n",
      "64.07185628742515 at random_state 195\n",
      "62.874251497005986 at random_state 196\n",
      "73.65269461077844 at random_state 197\n",
      "65.26946107784431 at random_state 198\n",
      "68.26347305389223 at random_state 199\n"
     ]
    }
   ],
   "source": [
    "for i in range(200):\n",
    "    x_train, x_test, y_train, y_test = train_test_split(x,y, test_size=0.20, random_state=i)\n",
    "    from sklearn.tree import DecisionTreeClassifier\n",
    "    lm = DecisionTreeClassifier()\n",
    "    lm.fit(x_train,y_train)\n",
    "    pred=lm.predict(x_test)\n",
    "    accu=accuracy_score(y_test,pred)\n",
    "    print(accu*100, \"at random_state\", i) "
   ]
  },
  {
   "cell_type": "markdown",
   "metadata": {},
   "source": [
    "- Obs DTC is set for 200 random state out of which best random state will be selected."
   ]
  },
  {
   "cell_type": "code",
   "execution_count": 394,
   "metadata": {},
   "outputs": [
    {
     "name": "stdout",
     "output_type": "stream",
     "text": [
      "Best accuracy is  0.748  on Random_state  14\n"
     ]
    }
   ],
   "source": [
    "from sklearn.tree import DecisionTreeClassifier\n",
    "maxAccu=0\n",
    "maxRS=0\n",
    "for i in range(1,200):\n",
    "    x_train, x_test, y_train, y_test = train_test_split(x,y,test_size=0.30, random_state = i)\n",
    "    mod = DecisionTreeClassifier()\n",
    "    mod.fit(x_train, y_train)\n",
    "    pred = mod.predict(x_test)\n",
    "    acc=accuracy_score(y_test, pred)\n",
    "    if acc>maxAccu:\n",
    "        maxAccu=acc\n",
    "        maxRS=i\n",
    "print(\"Best accuracy is \", maxAccu,\" on Random_state \",maxRS)"
   ]
  },
  {
   "cell_type": "markdown",
   "metadata": {},
   "source": [
    "-Obs : Above code is used to select best random sate out of 200 random state which is 14 with accuracy of 74.80%"
   ]
  },
  {
   "cell_type": "code",
   "execution_count": 395,
   "metadata": {},
   "outputs": [],
   "source": [
    "x_train, x_test, y_train, y_test = train_test_split(x,y,test_size=0.30, random_state = 14)"
   ]
  },
  {
   "cell_type": "markdown",
   "metadata": {},
   "source": [
    "- 70% data used to train the model\n",
    "- 30% data used to test & predict the model on test data.\n",
    "- Best random state used is 14"
   ]
  },
  {
   "cell_type": "markdown",
   "metadata": {},
   "source": [
    "# Decisiontree Classifier"
   ]
  },
  {
   "cell_type": "code",
   "execution_count": 396,
   "metadata": {},
   "outputs": [
    {
     "name": "stdout",
     "output_type": "stream",
     "text": [
      "              precision    recall  f1-score   support\n",
      "\n",
      "           0       0.71      0.45      0.56        11\n",
      "           1       0.73      0.76      0.74        70\n",
      "           2       0.21      0.29      0.24        17\n",
      "           3       0.81      0.71      0.76        66\n",
      "           4       0.00      0.00      0.00         2\n",
      "           5       0.40      0.22      0.29         9\n",
      "           6       1.00      1.00      1.00        38\n",
      "           7       0.90      0.97      0.94        37\n",
      "\n",
      "    accuracy                           0.74       250\n",
      "   macro avg       0.59      0.55      0.56       250\n",
      "weighted avg       0.76      0.74      0.75       250\n",
      "\n"
     ]
    }
   ],
   "source": [
    "DTC = DecisionTreeClassifier()\n",
    "DTC.fit(x_train, y_train)\n",
    "pred = DTC.predict(x_test)\n",
    "acc = classification_report(y_test, pred)\n",
    "print(acc)"
   ]
  },
  {
   "cell_type": "markdown",
   "metadata": {},
   "source": [
    "- DTC acc = 74%"
   ]
  },
  {
   "cell_type": "markdown",
   "metadata": {},
   "source": [
    "# Randomforest Classifier"
   ]
  },
  {
   "cell_type": "code",
   "execution_count": 397,
   "metadata": {},
   "outputs": [
    {
     "name": "stdout",
     "output_type": "stream",
     "text": [
      "              precision    recall  f1-score   support\n",
      "\n",
      "           0       0.73      0.73      0.73        11\n",
      "           1       0.79      0.86      0.82        70\n",
      "           2       0.62      0.29      0.40        17\n",
      "           3       0.77      0.88      0.82        66\n",
      "           4       0.00      0.00      0.00         2\n",
      "           5       0.50      0.11      0.18         9\n",
      "           6       1.00      1.00      1.00        38\n",
      "           7       0.93      1.00      0.96        37\n",
      "\n",
      "    accuracy                           0.83       250\n",
      "   macro avg       0.67      0.61      0.61       250\n",
      "weighted avg       0.81      0.83      0.81       250\n",
      "\n"
     ]
    }
   ],
   "source": [
    "RFC = RandomForestClassifier()\n",
    "RFC.fit(x_train, y_train)\n",
    "pred = RFC.predict(x_test)\n",
    "acc = classification_report(y_test, pred)\n",
    "print(acc)"
   ]
  },
  {
   "cell_type": "markdown",
   "metadata": {},
   "source": [
    "- RFC acc = 83%"
   ]
  },
  {
   "cell_type": "markdown",
   "metadata": {},
   "source": [
    "# Support Vector Classifier"
   ]
  },
  {
   "cell_type": "code",
   "execution_count": 398,
   "metadata": {},
   "outputs": [
    {
     "name": "stdout",
     "output_type": "stream",
     "text": [
      "              precision    recall  f1-score   support\n",
      "\n",
      "           0       0.62      0.73      0.67        11\n",
      "           1       0.77      0.84      0.80        70\n",
      "           2       0.00      0.00      0.00        17\n",
      "           3       0.72      0.89      0.80        66\n",
      "           4       0.00      0.00      0.00         2\n",
      "           5       0.00      0.00      0.00         9\n",
      "           6       1.00      0.95      0.97        38\n",
      "           7       0.93      1.00      0.96        37\n",
      "\n",
      "    accuracy                           0.80       250\n",
      "   macro avg       0.50      0.55      0.53       250\n",
      "weighted avg       0.72      0.80      0.75       250\n",
      "\n"
     ]
    }
   ],
   "source": [
    "SV = SVC()\n",
    "SV.fit(x_train, y_train)\n",
    "pred = SV.predict(x_test)\n",
    "acc = classification_report(y_test, pred)\n",
    "print(acc)"
   ]
  },
  {
   "cell_type": "markdown",
   "metadata": {},
   "source": [
    "- SVC acc = 80%"
   ]
  },
  {
   "cell_type": "markdown",
   "metadata": {},
   "source": [
    "# KNN Classifier"
   ]
  },
  {
   "cell_type": "code",
   "execution_count": 399,
   "metadata": {},
   "outputs": [
    {
     "name": "stdout",
     "output_type": "stream",
     "text": [
      "              precision    recall  f1-score   support\n",
      "\n",
      "           0       0.62      0.73      0.67        11\n",
      "           1       0.77      0.84      0.80        70\n",
      "           2       0.00      0.00      0.00        17\n",
      "           3       0.72      0.89      0.80        66\n",
      "           4       0.00      0.00      0.00         2\n",
      "           5       0.00      0.00      0.00         9\n",
      "           6       1.00      0.95      0.97        38\n",
      "           7       0.93      1.00      0.96        37\n",
      "\n",
      "    accuracy                           0.80       250\n",
      "   macro avg       0.50      0.55      0.53       250\n",
      "weighted avg       0.72      0.80      0.75       250\n",
      "\n"
     ]
    }
   ],
   "source": [
    "knn=KNeighborsClassifier(n_neighbors=5)\n",
    "knn.fit(x_train,y_train)\n",
    "predknn=knn.predict(x_test)\n",
    "acc = classification_report(y_test, pred)\n",
    "print(acc)"
   ]
  },
  {
   "cell_type": "markdown",
   "metadata": {},
   "source": [
    "- Knn acc = 80%"
   ]
  },
  {
   "cell_type": "markdown",
   "metadata": {},
   "source": [
    "# K-Fold Cross validation"
   ]
  },
  {
   "cell_type": "code",
   "execution_count": 400,
   "metadata": {},
   "outputs": [],
   "source": [
    "from sklearn.model_selection import cross_val_score  # Importing cross val score\n",
    "from sklearn.model_selection import KFold  # Imporing Kfold CV"
   ]
  },
  {
   "cell_type": "code",
   "execution_count": 401,
   "metadata": {},
   "outputs": [],
   "source": [
    "cross_validation=KFold(5, shuffle =True) \n",
    "# Creating CV Object with shuffle = true to avoid -ve CV Values as o/p"
   ]
  },
  {
   "cell_type": "code",
   "execution_count": 402,
   "metadata": {},
   "outputs": [
    {
     "name": "stdout",
     "output_type": "stream",
     "text": [
      "0.7046172714811341\n"
     ]
    }
   ],
   "source": [
    "print(cross_val_score(DTC,x,y,cv=cross_validation).mean()) # Decision Tree Classifier CV o/p"
   ]
  },
  {
   "cell_type": "code",
   "execution_count": 403,
   "metadata": {},
   "outputs": [
    {
     "name": "stdout",
     "output_type": "stream",
     "text": [
      "0.8126830675997404\n"
     ]
    }
   ],
   "source": [
    "print(cross_val_score(RFC,x,y,cv=cross_validation).mean()) # Random Forest Classifier CV o/p"
   ]
  },
  {
   "cell_type": "code",
   "execution_count": 404,
   "metadata": {},
   "outputs": [
    {
     "name": "stdout",
     "output_type": "stream",
     "text": [
      "0.7646706586826347\n"
     ]
    }
   ],
   "source": [
    "print(cross_val_score(SV,x,y,cv=cross_validation).mean()) # Support vector Regressor  CV o/p"
   ]
  },
  {
   "cell_type": "code",
   "execution_count": 405,
   "metadata": {},
   "outputs": [
    {
     "name": "stdout",
     "output_type": "stream",
     "text": [
      "0.7610850587980665\n"
     ]
    }
   ],
   "source": [
    "print(cross_val_score(knn,x,y,cv=cross_validation).mean()) # knn classifier  CV o/p"
   ]
  },
  {
   "cell_type": "markdown",
   "metadata": {},
   "source": [
    "# Best Model "
   ]
  },
  {
   "cell_type": "markdown",
   "metadata": {},
   "source": [
    "- The best model is RFC as the RFC acc - RFC CV score diff is least which 83-81.2 =1.8"
   ]
  },
  {
   "cell_type": "markdown",
   "metadata": {},
   "source": [
    "# GridSearch CV & Hyperparameter Tuning."
   ]
  },
  {
   "cell_type": "code",
   "execution_count": 411,
   "metadata": {},
   "outputs": [],
   "source": [
    "from sklearn.model_selection import GridSearchCV # Importing Gridsearch CV from sklearn"
   ]
  },
  {
   "cell_type": "code",
   "execution_count": 416,
   "metadata": {},
   "outputs": [],
   "source": [
    "import numpy as np\n",
    "parameter = {'max_depth' : np.arange(2,8),\n",
    "            'criterion':['gini','entropy'],\n",
    "            'n_estimators' : [100],\n",
    "            'max_features' : ['auto','sqrt','log2']}"
   ]
  },
  {
   "cell_type": "markdown",
   "metadata": {},
   "source": [
    "- RFC Hyperparameter is set with multiple values to select the best one through GridsearchCV"
   ]
  },
  {
   "cell_type": "code",
   "execution_count": 417,
   "metadata": {},
   "outputs": [],
   "source": [
    "GCV=GridSearchCV(RandomForestClassifier(),parameter,cv=cross_validation)"
   ]
  },
  {
   "cell_type": "markdown",
   "metadata": {},
   "source": [
    "-Obs : Applying Gridsearch to best model random forest classifier "
   ]
  },
  {
   "cell_type": "code",
   "execution_count": 418,
   "metadata": {},
   "outputs": [
    {
     "data": {
      "text/plain": [
       "GridSearchCV(cv=KFold(n_splits=5, random_state=None, shuffle=True),\n",
       "             estimator=RandomForestClassifier(),\n",
       "             param_grid={'criterion': ['gini', 'entropy'],\n",
       "                         'max_depth': array([2, 3, 4, 5, 6, 7]),\n",
       "                         'max_features': ['auto', 'sqrt', 'log2'],\n",
       "                         'n_estimators': [100]})"
      ]
     },
     "execution_count": 418,
     "metadata": {},
     "output_type": "execute_result"
    }
   ],
   "source": [
    "GCV.fit(x_train,y_train)\n",
    "# Grid search CV applied to the Training Dataset "
   ]
  },
  {
   "cell_type": "markdown",
   "metadata": {},
   "source": [
    "- Grid search CV applied to the Training Dataset "
   ]
  },
  {
   "cell_type": "code",
   "execution_count": 419,
   "metadata": {},
   "outputs": [
    {
     "data": {
      "text/plain": [
       "{'criterion': 'gini',\n",
       " 'max_depth': 7,\n",
       " 'max_features': 'auto',\n",
       " 'n_estimators': 100}"
      ]
     },
     "execution_count": 419,
     "metadata": {},
     "output_type": "execute_result"
    }
   ],
   "source": [
    "GCV.best_params_"
   ]
  },
  {
   "cell_type": "markdown",
   "metadata": {},
   "source": [
    "- Best Parameter is selected from grid search CV which is \n",
    "- (criterion = 'gini', max_depth = 7,max_features='auto',n_estimators= 100)"
   ]
  },
  {
   "cell_type": "markdown",
   "metadata": {},
   "source": [
    "# Best Model is RFC "
   ]
  },
  {
   "cell_type": "code",
   "execution_count": 420,
   "metadata": {},
   "outputs": [
    {
     "name": "stdout",
     "output_type": "stream",
     "text": [
      "80.4\n"
     ]
    }
   ],
   "source": [
    "Final_mod = RandomForestClassifier(criterion = 'gini', max_depth = 7,max_features='auto',n_estimators= 100)\n",
    "Final_mod.fit(x_train, y_train)\n",
    "pred = Final_mod.predict(x_test)\n",
    "acc=accuracy_score(y_test,pred)\n",
    "print(acc*100)"
   ]
  },
  {
   "cell_type": "code",
   "execution_count": null,
   "metadata": {},
   "outputs": [],
   "source": [
    "-Obs :  Final Accuracy of the best model = 80.4"
   ]
  },
  {
   "cell_type": "markdown",
   "metadata": {},
   "source": [
    "# Importing Roc Curve & Ruc Curve Score"
   ]
  },
  {
   "cell_type": "code",
   "execution_count": 421,
   "metadata": {},
   "outputs": [],
   "source": [
    "from sklearn.metrics import roc_curve\n",
    "from sklearn.metrics import roc_auc_score"
   ]
  },
  {
   "cell_type": "markdown",
   "metadata": {},
   "source": [
    "# AUC-ROC Curve"
   ]
  },
  {
   "cell_type": "code",
   "execution_count": 422,
   "metadata": {},
   "outputs": [
    {
     "data": {
      "image/png": "[encoded data removed]",
      "text/plain": [
       "<Figure size 432x288 with 1 Axes>"
      ]
     },
     "metadata": {},
     "output_type": "display_data"
    }
   ],
   "source": [
    "y_pred_prob= Final_mod.predict_proba(x_test)[:,1]\n",
    "fpr,tpr,thresholds=roc_curve(y_test,y_pred_prob,pos_label= 1)\n",
    "plt.plot([0,1],[0,1],'k--')\n",
    "plt.plot(fpr,tpr,label='RandomForestClassifier')\n",
    "plt.xlabel('False positive rate')\n",
    "plt.ylabel('True positive rate')\n",
    "plt.title('RandomForestClassifier')\n",
    "plt.show()"
   ]
  },
  {
   "cell_type": "markdown",
   "metadata": {},
   "source": [
    "ObS : ROC Curve : Classifiers that give curves closer to top left corner indicates that model will give better performance & if the\n",
    "curve comming closer to 45 degree diagonal of the ROC space the less accurate the model will be, so in above case the curve is \n",
    "closer to top left corner hence I believe the model will give better performance."
   ]
  },
  {
   "cell_type": "markdown",
   "metadata": {},
   "source": [
    "# II.Regression:\n",
    "The dataset is a power plant database where the Goal is to predict two prediction one with primary fuel & second capacity_mw where primary_fuel is multiclass variable & capacity_mw is continous.\n",
    "\n",
    "1.Classification Problem with Primary_fuel.\n",
    "2.Regression problem with capacity_mw."
   ]
  },
  {
   "cell_type": "code",
   "execution_count": 423,
   "metadata": {},
   "outputs": [],
   "source": [
    "import numpy as np\n",
    "import pandas as pd\n",
    "import matplotlib.pyplot as plt\n",
    "import seaborn as sns\n",
    "from sklearn.decomposition import PCA\n",
    "from sklearn.linear_model import LinearRegression\n",
    "from sklearn.tree import DecisionTreeRegressor\n",
    "from sklearn.ensemble import RandomForestRegressor\n",
    "from sklearn.svm import SVR\n",
    "import xgboost \n",
    "from xgboost import XGBRegressor\n",
    "from sklearn.metrics import r2_score\n",
    "from sklearn.metrics import mean_squared_error,mean_absolute_error\n",
    "from sklearn.model_selection import train_test_split\n",
    "from sklearn.preprocessing import LabelEncoder\n",
    "from sklearn.preprocessing import StandardScaler\n",
    "import warnings\n",
    "warnings.filterwarnings('ignore')"
   ]
  },
  {
   "cell_type": "markdown",
   "metadata": {},
   "source": [
    "Obs :\n",
    "\n",
    "-Imporing Necessaries libraries: Numpy, pandas, matplotlib & seaborn.\n",
    "\n",
    "-Importing 5 Machine learning Algorrithm : Linear Regression, Decision Tree Regressor,Randomforest regressor, SVM reg, XGB reg.\n",
    "\n",
    "-Importing Common Regression Metrics Mean Absolute error, Mean Squared error.\n",
    "\n",
    "-Importing r2 score.\n",
    "\n",
    "-Importing Label encoder libraries as well as standard scaler libraries."
   ]
  },
  {
   "cell_type": "code",
   "execution_count": 424,
   "metadata": {},
   "outputs": [
    {
     "data": {
      "text/html": [
       "<div>\n",
       "<style scoped>\n",
       "    .dataframe tbody tr th:only-of-type {\n",
       "        vertical-align: middle;\n",
       "    }\n",
       "\n",
       "    .dataframe tbody tr th {\n",
       "        vertical-align: top;\n",
       "    }\n",
       "\n",
       "    .dataframe thead th {\n",
       "        text-align: right;\n",
       "    }\n",
       "</style>\n",
       "<table border=\"1\" class=\"dataframe\">\n",
       "  <thead>\n",
       "    <tr style=\"text-align: right;\">\n",
       "      <th></th>\n",
       "      <th>name</th>\n",
       "      <th>gppd_idnr</th>\n",
       "      <th>capacity_mw</th>\n",
       "      <th>latitude</th>\n",
       "      <th>longitude</th>\n",
       "      <th>primary_fuel</th>\n",
       "      <th>commissioning_year</th>\n",
       "      <th>source</th>\n",
       "      <th>geolocation_source</th>\n",
       "      <th>generation_gwh_2013</th>\n",
       "      <th>generation_gwh_2014</th>\n",
       "      <th>generation_gwh_2015</th>\n",
       "      <th>generation_gwh_2016</th>\n",
       "      <th>generation_gwh_2017</th>\n",
       "    </tr>\n",
       "  </thead>\n",
       "  <tbody>\n",
       "    <tr>\n",
       "      <th>0</th>\n",
       "      <td>0</td>\n",
       "      <td>658</td>\n",
       "      <td>1.257433</td>\n",
       "      <td>28.1839</td>\n",
       "      <td>73.2407</td>\n",
       "      <td>6</td>\n",
       "      <td>2011.0</td>\n",
       "      <td>109</td>\n",
       "      <td>1</td>\n",
       "      <td>5.313409</td>\n",
       "      <td>5.327843</td>\n",
       "      <td>5.145573</td>\n",
       "      <td>5.174146</td>\n",
       "      <td>5.330885</td>\n",
       "    </tr>\n",
       "    <tr>\n",
       "      <th>1</th>\n",
       "      <td>1</td>\n",
       "      <td>520</td>\n",
       "      <td>3.146346</td>\n",
       "      <td>24.7663</td>\n",
       "      <td>74.6090</td>\n",
       "      <td>1</td>\n",
       "      <td>2000.0</td>\n",
       "      <td>174</td>\n",
       "      <td>2</td>\n",
       "      <td>5.313409</td>\n",
       "      <td>5.327843</td>\n",
       "      <td>5.145573</td>\n",
       "      <td>5.174146</td>\n",
       "      <td>5.330885</td>\n",
       "    </tr>\n",
       "    <tr>\n",
       "      <th>2</th>\n",
       "      <td>2</td>\n",
       "      <td>854</td>\n",
       "      <td>2.502197</td>\n",
       "      <td>21.9038</td>\n",
       "      <td>69.3732</td>\n",
       "      <td>7</td>\n",
       "      <td>2000.0</td>\n",
       "      <td>21</td>\n",
       "      <td>2</td>\n",
       "      <td>5.313409</td>\n",
       "      <td>5.327843</td>\n",
       "      <td>5.145573</td>\n",
       "      <td>5.174146</td>\n",
       "      <td>5.330885</td>\n",
       "    </tr>\n",
       "    <tr>\n",
       "      <th>3</th>\n",
       "      <td>3</td>\n",
       "      <td>0</td>\n",
       "      <td>3.408658</td>\n",
       "      <td>23.8712</td>\n",
       "      <td>91.3602</td>\n",
       "      <td>2</td>\n",
       "      <td>2004.0</td>\n",
       "      <td>22</td>\n",
       "      <td>2</td>\n",
       "      <td>5.013501</td>\n",
       "      <td>4.985516</td>\n",
       "      <td>5.389557</td>\n",
       "      <td>5.455807</td>\n",
       "      <td>5.075807</td>\n",
       "    </tr>\n",
       "    <tr>\n",
       "      <th>4</th>\n",
       "      <td>4</td>\n",
       "      <td>1</td>\n",
       "      <td>6.513556</td>\n",
       "      <td>21.9603</td>\n",
       "      <td>82.4091</td>\n",
       "      <td>1</td>\n",
       "      <td>2015.0</td>\n",
       "      <td>22</td>\n",
       "      <td>2</td>\n",
       "      <td>6.390986</td>\n",
       "      <td>7.422656</td>\n",
       "      <td>8.770288</td>\n",
       "      <td>8.888906</td>\n",
       "      <td>8.566593</td>\n",
       "    </tr>\n",
       "  </tbody>\n",
       "</table>\n",
       "</div>"
      ],
      "text/plain": [
       "   name  gppd_idnr  capacity_mw  latitude  longitude  primary_fuel  \\\n",
       "0     0        658     1.257433   28.1839    73.2407             6   \n",
       "1     1        520     3.146346   24.7663    74.6090             1   \n",
       "2     2        854     2.502197   21.9038    69.3732             7   \n",
       "3     3          0     3.408658   23.8712    91.3602             2   \n",
       "4     4          1     6.513556   21.9603    82.4091             1   \n",
       "\n",
       "   commissioning_year  source  geolocation_source  generation_gwh_2013  \\\n",
       "0              2011.0     109                   1             5.313409   \n",
       "1              2000.0     174                   2             5.313409   \n",
       "2              2000.0      21                   2             5.313409   \n",
       "3              2004.0      22                   2             5.013501   \n",
       "4              2015.0      22                   2             6.390986   \n",
       "\n",
       "   generation_gwh_2014  generation_gwh_2015  generation_gwh_2016  \\\n",
       "0             5.327843             5.145573             5.174146   \n",
       "1             5.327843             5.145573             5.174146   \n",
       "2             5.327843             5.145573             5.174146   \n",
       "3             4.985516             5.389557             5.455807   \n",
       "4             7.422656             8.770288             8.888906   \n",
       "\n",
       "   generation_gwh_2017  \n",
       "0             5.330885  \n",
       "1             5.330885  \n",
       "2             5.330885  \n",
       "3             5.075807  \n",
       "4             8.566593  "
      ]
     },
     "execution_count": 424,
     "metadata": {},
     "output_type": "execute_result"
    }
   ],
   "source": [
    "df.head()"
   ]
  },
  {
   "cell_type": "markdown",
   "metadata": {},
   "source": [
    "- The dataframe is the labelencoded where object variable is labelencoded."
   ]
  },
  {
   "cell_type": "code",
   "execution_count": 425,
   "metadata": {},
   "outputs": [],
   "source": [
    "x=df.drop(\"capacity_mw\",axis=1)\n",
    "y=df[\"capacity_mw\"]"
   ]
  },
  {
   "cell_type": "markdown",
   "metadata": {},
   "source": [
    "- x is the independent variables where the target var-capacity_mw is dropped.\n",
    "- y is the dependent var-capacity_mw"
   ]
  },
  {
   "cell_type": "code",
   "execution_count": 426,
   "metadata": {},
   "outputs": [
    {
     "data": {
      "text/plain": [
       "(833, 13)"
      ]
     },
     "execution_count": 426,
     "metadata": {},
     "output_type": "execute_result"
    }
   ],
   "source": [
    "x.shape"
   ]
  },
  {
   "cell_type": "markdown",
   "metadata": {},
   "source": [
    "-x has 833 rows & 13 cols. without target var"
   ]
  },
  {
   "cell_type": "code",
   "execution_count": 427,
   "metadata": {},
   "outputs": [
    {
     "data": {
      "text/plain": [
       "(833,)"
      ]
     },
     "execution_count": 427,
     "metadata": {},
     "output_type": "execute_result"
    }
   ],
   "source": [
    "y.shape"
   ]
  },
  {
   "cell_type": "markdown",
   "metadata": {},
   "source": [
    "- y also has same rows of 833."
   ]
  },
  {
   "cell_type": "code",
   "execution_count": 428,
   "metadata": {},
   "outputs": [
    {
     "data": {
      "text/html": [
       "<div>\n",
       "<style scoped>\n",
       "    .dataframe tbody tr th:only-of-type {\n",
       "        vertical-align: middle;\n",
       "    }\n",
       "\n",
       "    .dataframe tbody tr th {\n",
       "        vertical-align: top;\n",
       "    }\n",
       "\n",
       "    .dataframe thead th {\n",
       "        text-align: right;\n",
       "    }\n",
       "</style>\n",
       "<table border=\"1\" class=\"dataframe\">\n",
       "  <thead>\n",
       "    <tr style=\"text-align: right;\">\n",
       "      <th></th>\n",
       "      <th>name</th>\n",
       "      <th>gppd_idnr</th>\n",
       "      <th>latitude</th>\n",
       "      <th>longitude</th>\n",
       "      <th>primary_fuel</th>\n",
       "      <th>commissioning_year</th>\n",
       "      <th>source</th>\n",
       "      <th>geolocation_source</th>\n",
       "      <th>generation_gwh_2013</th>\n",
       "      <th>generation_gwh_2014</th>\n",
       "      <th>generation_gwh_2015</th>\n",
       "      <th>generation_gwh_2016</th>\n",
       "      <th>generation_gwh_2017</th>\n",
       "    </tr>\n",
       "  </thead>\n",
       "  <tbody>\n",
       "    <tr>\n",
       "      <th>0</th>\n",
       "      <td>0</td>\n",
       "      <td>658</td>\n",
       "      <td>28.1839</td>\n",
       "      <td>73.2407</td>\n",
       "      <td>6</td>\n",
       "      <td>2011.0</td>\n",
       "      <td>109</td>\n",
       "      <td>1</td>\n",
       "      <td>5.313409</td>\n",
       "      <td>5.327843</td>\n",
       "      <td>5.145573</td>\n",
       "      <td>5.174146</td>\n",
       "      <td>5.330885</td>\n",
       "    </tr>\n",
       "    <tr>\n",
       "      <th>1</th>\n",
       "      <td>1</td>\n",
       "      <td>520</td>\n",
       "      <td>24.7663</td>\n",
       "      <td>74.6090</td>\n",
       "      <td>1</td>\n",
       "      <td>2000.0</td>\n",
       "      <td>174</td>\n",
       "      <td>2</td>\n",
       "      <td>5.313409</td>\n",
       "      <td>5.327843</td>\n",
       "      <td>5.145573</td>\n",
       "      <td>5.174146</td>\n",
       "      <td>5.330885</td>\n",
       "    </tr>\n",
       "    <tr>\n",
       "      <th>2</th>\n",
       "      <td>2</td>\n",
       "      <td>854</td>\n",
       "      <td>21.9038</td>\n",
       "      <td>69.3732</td>\n",
       "      <td>7</td>\n",
       "      <td>2000.0</td>\n",
       "      <td>21</td>\n",
       "      <td>2</td>\n",
       "      <td>5.313409</td>\n",
       "      <td>5.327843</td>\n",
       "      <td>5.145573</td>\n",
       "      <td>5.174146</td>\n",
       "      <td>5.330885</td>\n",
       "    </tr>\n",
       "    <tr>\n",
       "      <th>3</th>\n",
       "      <td>3</td>\n",
       "      <td>0</td>\n",
       "      <td>23.8712</td>\n",
       "      <td>91.3602</td>\n",
       "      <td>2</td>\n",
       "      <td>2004.0</td>\n",
       "      <td>22</td>\n",
       "      <td>2</td>\n",
       "      <td>5.013501</td>\n",
       "      <td>4.985516</td>\n",
       "      <td>5.389557</td>\n",
       "      <td>5.455807</td>\n",
       "      <td>5.075807</td>\n",
       "    </tr>\n",
       "    <tr>\n",
       "      <th>4</th>\n",
       "      <td>4</td>\n",
       "      <td>1</td>\n",
       "      <td>21.9603</td>\n",
       "      <td>82.4091</td>\n",
       "      <td>1</td>\n",
       "      <td>2015.0</td>\n",
       "      <td>22</td>\n",
       "      <td>2</td>\n",
       "      <td>6.390986</td>\n",
       "      <td>7.422656</td>\n",
       "      <td>8.770288</td>\n",
       "      <td>8.888906</td>\n",
       "      <td>8.566593</td>\n",
       "    </tr>\n",
       "  </tbody>\n",
       "</table>\n",
       "</div>"
      ],
      "text/plain": [
       "   name  gppd_idnr  latitude  longitude  primary_fuel  commissioning_year  \\\n",
       "0     0        658   28.1839    73.2407             6              2011.0   \n",
       "1     1        520   24.7663    74.6090             1              2000.0   \n",
       "2     2        854   21.9038    69.3732             7              2000.0   \n",
       "3     3          0   23.8712    91.3602             2              2004.0   \n",
       "4     4          1   21.9603    82.4091             1              2015.0   \n",
       "\n",
       "   source  geolocation_source  generation_gwh_2013  generation_gwh_2014  \\\n",
       "0     109                   1             5.313409             5.327843   \n",
       "1     174                   2             5.313409             5.327843   \n",
       "2      21                   2             5.313409             5.327843   \n",
       "3      22                   2             5.013501             4.985516   \n",
       "4      22                   2             6.390986             7.422656   \n",
       "\n",
       "   generation_gwh_2015  generation_gwh_2016  generation_gwh_2017  \n",
       "0             5.145573             5.174146             5.330885  \n",
       "1             5.145573             5.174146             5.330885  \n",
       "2             5.145573             5.174146             5.330885  \n",
       "3             5.389557             5.455807             5.075807  \n",
       "4             8.770288             8.888906             8.566593  "
      ]
     },
     "execution_count": 428,
     "metadata": {},
     "output_type": "execute_result"
    }
   ],
   "source": [
    "x.head()"
   ]
  },
  {
   "cell_type": "markdown",
   "metadata": {},
   "source": [
    "- x datadframe without target var"
   ]
  },
  {
   "cell_type": "code",
   "execution_count": 429,
   "metadata": {},
   "outputs": [
    {
     "data": {
      "text/plain": [
       "0    1.257433\n",
       "1    3.146346\n",
       "2    2.502197\n",
       "3    3.408658\n",
       "4    6.513556\n",
       "Name: capacity_mw, dtype: float64"
      ]
     },
     "execution_count": 429,
     "metadata": {},
     "output_type": "execute_result"
    }
   ],
   "source": [
    "y.head()"
   ]
  },
  {
   "cell_type": "markdown",
   "metadata": {},
   "source": [
    "- y- top 5 values"
   ]
  },
  {
   "cell_type": "code",
   "execution_count": 430,
   "metadata": {},
   "outputs": [
    {
     "data": {
      "text/plain": [
       "name                   0.023554\n",
       "gppd_idnr             -0.056924\n",
       "latitude              -0.126512\n",
       "longitude              0.883761\n",
       "primary_fuel           0.409668\n",
       "commissioning_year    -1.199857\n",
       "source                 1.782665\n",
       "geolocation_source    -1.854449\n",
       "generation_gwh_2013   -0.565663\n",
       "generation_gwh_2014   -0.655854\n",
       "generation_gwh_2015   -0.392194\n",
       "generation_gwh_2016   -0.389252\n",
       "generation_gwh_2017   -0.525993\n",
       "dtype: float64"
      ]
     },
     "execution_count": 430,
     "metadata": {},
     "output_type": "execute_result"
    }
   ],
   "source": [
    "x.skew()"
   ]
  },
  {
   "cell_type": "markdown",
   "metadata": {},
   "source": [
    "- As the skewness is already treated in EDA above so no skewness is seen."
   ]
  },
  {
   "cell_type": "code",
   "execution_count": 431,
   "metadata": {},
   "outputs": [
    {
     "data": {
      "text/plain": [
       "array([[-1.69541583,  0.74074017,  1.14669608, ..., -0.01265974,\n",
       "        -0.01631627,  0.01505264],\n",
       "       [-1.69162619,  0.22179861,  0.59012054, ..., -0.01265974,\n",
       "        -0.01631627,  0.01505264],\n",
       "       [-1.68783655,  1.47778761,  0.12394619, ..., -0.01265974,\n",
       "        -0.01631627,  0.01505264],\n",
       "       ...,\n",
       "       [ 1.73420846,  1.62068456, -0.9554612 , ..., -0.01265974,\n",
       "        -0.01631627,  0.01505264],\n",
       "       [ 1.7379981 ,  0.29700753,  0.52232373, ..., -0.01265974,\n",
       "        -0.01631627,  0.01505264],\n",
       "       [ 1.74178774,  1.56427787, -1.82533847, ..., -0.01265974,\n",
       "        -0.01631627,  0.01505264]])"
      ]
     },
     "execution_count": 431,
     "metadata": {},
     "output_type": "execute_result"
    }
   ],
   "source": [
    "scale=StandardScaler() # Standard scaler instance\n",
    "x=scale.fit_transform(x) # applied to independent variables\n",
    "x"
   ]
  },
  {
   "cell_type": "markdown",
   "metadata": {},
   "source": [
    "- x is scaled for making the data in same range also for PCA data should be scaled."
   ]
  },
  {
   "cell_type": "code",
   "execution_count": 432,
   "metadata": {},
   "outputs": [],
   "source": [
    "from sklearn.decomposition import PCA# Importing PCA from decomposition module.\n",
    "pca = PCA(n_components=10)# setting 10 pca components\n",
    "x = pca.fit_transform(x)# applying pca on x-independent variables."
   ]
  },
  {
   "cell_type": "code",
   "execution_count": 433,
   "metadata": {},
   "outputs": [
    {
     "data": {
      "image/png": "[encoded data removed]",
      "text/plain": [
       "<Figure size 432x288 with 1 Axes>"
      ]
     },
     "metadata": {},
     "output_type": "display_data"
    }
   ],
   "source": [
    "import matplotlib.pyplot as plt\n",
    "import seaborn as sna\n",
    "pca = PCA()\n",
    "principalComponents = pca.fit_transform(x)\n",
    "plt.figure()\n",
    "plt.plot(np.cumsum(pca.explained_variance_ratio_))\n",
    "plt.xlabel('Number of Components')\n",
    "plt.ylabel('Variance (%)')\n",
    "plt.title('Explained Variance')\n",
    "plt.show()"
   ]
  },
  {
   "cell_type": "markdown",
   "metadata": {},
   "source": [
    "- As we can see 8 PCA component clearly explains the presence of variance with these PCA."
   ]
  },
  {
   "cell_type": "code",
   "execution_count": 434,
   "metadata": {},
   "outputs": [],
   "source": [
    "pca = PCA(n_components=8)\n",
    "new_data = pca.fit_transform(x)\n",
    "principal_x = pd.DataFrame(new_data,columns = ['PC-1','PC-2','PC-3','PC-4','PC-5','PC-6','PC-7','PC-8'])"
   ]
  },
  {
   "cell_type": "markdown",
   "metadata": {},
   "source": [
    "- So we are using 8 pca and applying new 8 pca to x independent variables again.\n",
    "- Creating pca dataframe of 8 pca components."
   ]
  },
  {
   "cell_type": "code",
   "execution_count": 435,
   "metadata": {},
   "outputs": [
    {
     "data": {
      "text/html": [
       "<div>\n",
       "<style scoped>\n",
       "    .dataframe tbody tr th:only-of-type {\n",
       "        vertical-align: middle;\n",
       "    }\n",
       "\n",
       "    .dataframe tbody tr th {\n",
       "        vertical-align: top;\n",
       "    }\n",
       "\n",
       "    .dataframe thead th {\n",
       "        text-align: right;\n",
       "    }\n",
       "</style>\n",
       "<table border=\"1\" class=\"dataframe\">\n",
       "  <thead>\n",
       "    <tr style=\"text-align: right;\">\n",
       "      <th></th>\n",
       "      <th>PC-1</th>\n",
       "      <th>PC-2</th>\n",
       "      <th>PC-3</th>\n",
       "      <th>PC-4</th>\n",
       "      <th>PC-5</th>\n",
       "      <th>PC-6</th>\n",
       "      <th>PC-7</th>\n",
       "      <th>PC-8</th>\n",
       "    </tr>\n",
       "  </thead>\n",
       "  <tbody>\n",
       "    <tr>\n",
       "      <th>0</th>\n",
       "      <td>0.103753</td>\n",
       "      <td>2.221910</td>\n",
       "      <td>-2.260551</td>\n",
       "      <td>-0.119584</td>\n",
       "      <td>-0.507378</td>\n",
       "      <td>-0.805900</td>\n",
       "      <td>-0.077702</td>\n",
       "      <td>-0.414210</td>\n",
       "    </tr>\n",
       "    <tr>\n",
       "      <th>1</th>\n",
       "      <td>-0.052882</td>\n",
       "      <td>0.755305</td>\n",
       "      <td>-2.283571</td>\n",
       "      <td>-0.124799</td>\n",
       "      <td>1.938029</td>\n",
       "      <td>-0.693604</td>\n",
       "      <td>-1.263124</td>\n",
       "      <td>-0.422717</td>\n",
       "    </tr>\n",
       "    <tr>\n",
       "      <th>2</th>\n",
       "      <td>0.312157</td>\n",
       "      <td>1.664911</td>\n",
       "      <td>-0.126587</td>\n",
       "      <td>1.269398</td>\n",
       "      <td>-1.691060</td>\n",
       "      <td>-1.578565</td>\n",
       "      <td>-0.535241</td>\n",
       "      <td>-0.271950</td>\n",
       "    </tr>\n",
       "    <tr>\n",
       "      <th>3</th>\n",
       "      <td>-0.225431</td>\n",
       "      <td>-3.001994</td>\n",
       "      <td>-1.697367</td>\n",
       "      <td>-0.637931</td>\n",
       "      <td>-0.014380</td>\n",
       "      <td>-0.129072</td>\n",
       "      <td>2.359707</td>\n",
       "      <td>-0.326754</td>\n",
       "    </tr>\n",
       "    <tr>\n",
       "      <th>4</th>\n",
       "      <td>-3.883039</td>\n",
       "      <td>-2.055824</td>\n",
       "      <td>-1.618768</td>\n",
       "      <td>-0.549105</td>\n",
       "      <td>-0.396638</td>\n",
       "      <td>-1.338203</td>\n",
       "      <td>0.601277</td>\n",
       "      <td>0.581089</td>\n",
       "    </tr>\n",
       "    <tr>\n",
       "      <th>...</th>\n",
       "      <td>...</td>\n",
       "      <td>...</td>\n",
       "      <td>...</td>\n",
       "      <td>...</td>\n",
       "      <td>...</td>\n",
       "      <td>...</td>\n",
       "      <td>...</td>\n",
       "      <td>...</td>\n",
       "    </tr>\n",
       "    <tr>\n",
       "      <th>828</th>\n",
       "      <td>1.203698</td>\n",
       "      <td>-0.676684</td>\n",
       "      <td>1.271423</td>\n",
       "      <td>-2.018977</td>\n",
       "      <td>0.056587</td>\n",
       "      <td>0.296322</td>\n",
       "      <td>-0.712831</td>\n",
       "      <td>-0.419926</td>\n",
       "    </tr>\n",
       "    <tr>\n",
       "      <th>829</th>\n",
       "      <td>0.242574</td>\n",
       "      <td>2.680512</td>\n",
       "      <td>1.273862</td>\n",
       "      <td>-1.034983</td>\n",
       "      <td>0.948508</td>\n",
       "      <td>0.324189</td>\n",
       "      <td>1.544030</td>\n",
       "      <td>0.377023</td>\n",
       "    </tr>\n",
       "    <tr>\n",
       "      <th>830</th>\n",
       "      <td>0.236828</td>\n",
       "      <td>1.482721</td>\n",
       "      <td>2.511234</td>\n",
       "      <td>-0.470843</td>\n",
       "      <td>-0.823770</td>\n",
       "      <td>0.089748</td>\n",
       "      <td>0.196166</td>\n",
       "      <td>0.021393</td>\n",
       "    </tr>\n",
       "    <tr>\n",
       "      <th>831</th>\n",
       "      <td>-0.130376</td>\n",
       "      <td>0.205550</td>\n",
       "      <td>0.645939</td>\n",
       "      <td>-0.679777</td>\n",
       "      <td>0.415685</td>\n",
       "      <td>1.283992</td>\n",
       "      <td>-1.539325</td>\n",
       "      <td>0.146049</td>\n",
       "    </tr>\n",
       "    <tr>\n",
       "      <th>832</th>\n",
       "      <td>0.269792</td>\n",
       "      <td>1.240595</td>\n",
       "      <td>2.974782</td>\n",
       "      <td>-0.663069</td>\n",
       "      <td>-0.405306</td>\n",
       "      <td>-0.389903</td>\n",
       "      <td>0.679019</td>\n",
       "      <td>0.039075</td>\n",
       "    </tr>\n",
       "  </tbody>\n",
       "</table>\n",
       "<p>833 rows × 8 columns</p>\n",
       "</div>"
      ],
      "text/plain": [
       "         PC-1      PC-2      PC-3      PC-4      PC-5      PC-6      PC-7  \\\n",
       "0    0.103753  2.221910 -2.260551 -0.119584 -0.507378 -0.805900 -0.077702   \n",
       "1   -0.052882  0.755305 -2.283571 -0.124799  1.938029 -0.693604 -1.263124   \n",
       "2    0.312157  1.664911 -0.126587  1.269398 -1.691060 -1.578565 -0.535241   \n",
       "3   -0.225431 -3.001994 -1.697367 -0.637931 -0.014380 -0.129072  2.359707   \n",
       "4   -3.883039 -2.055824 -1.618768 -0.549105 -0.396638 -1.338203  0.601277   \n",
       "..        ...       ...       ...       ...       ...       ...       ...   \n",
       "828  1.203698 -0.676684  1.271423 -2.018977  0.056587  0.296322 -0.712831   \n",
       "829  0.242574  2.680512  1.273862 -1.034983  0.948508  0.324189  1.544030   \n",
       "830  0.236828  1.482721  2.511234 -0.470843 -0.823770  0.089748  0.196166   \n",
       "831 -0.130376  0.205550  0.645939 -0.679777  0.415685  1.283992 -1.539325   \n",
       "832  0.269792  1.240595  2.974782 -0.663069 -0.405306 -0.389903  0.679019   \n",
       "\n",
       "         PC-8  \n",
       "0   -0.414210  \n",
       "1   -0.422717  \n",
       "2   -0.271950  \n",
       "3   -0.326754  \n",
       "4    0.581089  \n",
       "..        ...  \n",
       "828 -0.419926  \n",
       "829  0.377023  \n",
       "830  0.021393  \n",
       "831  0.146049  \n",
       "832  0.039075  \n",
       "\n",
       "[833 rows x 8 columns]"
      ]
     },
     "execution_count": 435,
     "metadata": {},
     "output_type": "execute_result"
    }
   ],
   "source": [
    "principal_x"
   ]
  },
  {
   "cell_type": "markdown",
   "metadata": {},
   "source": [
    "- principal_x is the PCA treated independent variables.\n",
    "- the purpose of using PCA in this dataset is  because there is hughe outliers & many variables shows corr & multicollinearity."
   ]
  },
  {
   "cell_type": "code",
   "execution_count": 436,
   "metadata": {},
   "outputs": [],
   "source": [
    "x = principal_x"
   ]
  },
  {
   "cell_type": "markdown",
   "metadata": {},
   "source": [
    "- x is remapped to principal_x"
   ]
  },
  {
   "cell_type": "code",
   "execution_count": 437,
   "metadata": {},
   "outputs": [
    {
     "data": {
      "text/plain": [
       "(833, 8)"
      ]
     },
     "execution_count": 437,
     "metadata": {},
     "output_type": "execute_result"
    }
   ],
   "source": [
    "x.shape"
   ]
  },
  {
   "cell_type": "markdown",
   "metadata": {},
   "source": [
    "- Now x is the treated pca indpendent variables."
   ]
  },
  {
   "cell_type": "code",
   "execution_count": 438,
   "metadata": {},
   "outputs": [
    {
     "data": {
      "text/plain": [
       "(833,)"
      ]
     },
     "execution_count": 438,
     "metadata": {},
     "output_type": "execute_result"
    }
   ],
   "source": [
    "y.shape"
   ]
  },
  {
   "cell_type": "markdown",
   "metadata": {},
   "source": [
    "- y also has 833 rows"
   ]
  },
  {
   "cell_type": "code",
   "execution_count": 439,
   "metadata": {},
   "outputs": [
    {
     "name": "stdout",
     "output_type": "stream",
     "text": [
      "0.6587293909888675 at random_state 0\n",
      "0.703986360105471 at random_state 1\n",
      "0.6223133251954701 at random_state 2\n",
      "0.7156017050687788 at random_state 3\n",
      "0.6577754008757578 at random_state 4\n",
      "0.6449116512352118 at random_state 5\n",
      "0.6340989905871818 at random_state 6\n",
      "0.6419726849432535 at random_state 7\n",
      "0.6396189816300727 at random_state 8\n",
      "0.6859455766753323 at random_state 9\n",
      "0.6119605287258835 at random_state 10\n",
      "0.6981772314930973 at random_state 11\n",
      "0.6661696383211005 at random_state 12\n",
      "0.6968593618972491 at random_state 13\n",
      "0.6425462535706801 at random_state 14\n",
      "0.6824886990498176 at random_state 15\n",
      "0.6588049604869484 at random_state 16\n",
      "0.6334336499736899 at random_state 17\n",
      "0.6643480975720656 at random_state 18\n",
      "0.6862131933055812 at random_state 19\n",
      "0.5972518315862744 at random_state 20\n",
      "0.7188970045015401 at random_state 21\n",
      "0.6737710357255943 at random_state 22\n",
      "0.5574770287310378 at random_state 23\n",
      "0.61834239058736 at random_state 24\n",
      "0.6250421448526327 at random_state 25\n",
      "0.6837974996436222 at random_state 26\n",
      "0.6273011149268983 at random_state 27\n",
      "0.5835786023807805 at random_state 28\n",
      "0.6276335243653753 at random_state 29\n",
      "0.6580698425268483 at random_state 30\n",
      "0.663866713923214 at random_state 31\n",
      "0.677182135494786 at random_state 32\n",
      "0.5951981000262104 at random_state 33\n",
      "0.6789303090867004 at random_state 34\n",
      "0.6229818487169494 at random_state 35\n",
      "0.5886768827771368 at random_state 36\n",
      "0.6281203103440728 at random_state 37\n",
      "0.6652699601753044 at random_state 38\n",
      "0.6194604346340399 at random_state 39\n",
      "0.6981226614385538 at random_state 40\n",
      "0.6130359426081702 at random_state 41\n",
      "0.6051650301734107 at random_state 42\n",
      "0.6223268182910667 at random_state 43\n",
      "0.6431464117399143 at random_state 44\n",
      "0.693740397739025 at random_state 45\n",
      "0.5999969618841984 at random_state 46\n",
      "0.5911922322955194 at random_state 47\n",
      "0.6200133578298691 at random_state 48\n",
      "0.5930419720257303 at random_state 49\n",
      "0.6837379336604458 at random_state 50\n",
      "0.618570809611435 at random_state 51\n",
      "0.6919063243567071 at random_state 52\n",
      "0.6911905672327163 at random_state 53\n",
      "0.6538431510658353 at random_state 54\n",
      "0.5764434196144723 at random_state 55\n",
      "0.6009775370213758 at random_state 56\n",
      "0.6519227044526742 at random_state 57\n",
      "0.6745162498526861 at random_state 58\n",
      "0.7076567739522105 at random_state 59\n",
      "0.7138629861984889 at random_state 60\n",
      "0.6400303937215901 at random_state 61\n",
      "0.668780746687946 at random_state 62\n",
      "0.6874759606046712 at random_state 63\n",
      "0.6439821000435905 at random_state 64\n",
      "0.632317102709123 at random_state 65\n",
      "0.6241852837539545 at random_state 66\n",
      "0.6625667245762036 at random_state 67\n",
      "0.6908141046460025 at random_state 68\n",
      "0.6402908075409668 at random_state 69\n",
      "0.5832347784243908 at random_state 70\n",
      "0.6758026631581157 at random_state 71\n",
      "0.6211379202903238 at random_state 72\n",
      "0.6365983390432876 at random_state 73\n",
      "0.5960050226480709 at random_state 74\n",
      "0.6704967492375346 at random_state 75\n",
      "0.7011580182276803 at random_state 76\n",
      "0.7226773804558989 at random_state 77\n",
      "0.6811445743152277 at random_state 78\n",
      "0.6234655213853613 at random_state 79\n",
      "0.5739213391690021 at random_state 80\n",
      "0.6822240812524193 at random_state 81\n",
      "0.6417879922976925 at random_state 82\n",
      "0.6875309981899791 at random_state 83\n",
      "0.6911061954237262 at random_state 84\n",
      "0.6634384170306317 at random_state 85\n",
      "0.664380941447326 at random_state 86\n",
      "0.6526574787830354 at random_state 87\n",
      "0.642605485611511 at random_state 88\n",
      "0.6436801752044671 at random_state 89\n",
      "0.6516946035368996 at random_state 90\n",
      "0.6131525381760047 at random_state 91\n",
      "0.5742976015999173 at random_state 92\n",
      "0.6190631306893101 at random_state 93\n",
      "0.6185463672631667 at random_state 94\n",
      "0.6540636854063818 at random_state 95\n",
      "0.6155982731452109 at random_state 96\n",
      "0.6283625854664241 at random_state 97\n",
      "0.6263300731275924 at random_state 98\n",
      "0.5927896978704112 at random_state 99\n",
      "0.6508194530147051 at random_state 100\n",
      "0.6750477809850854 at random_state 101\n",
      "0.5988180388427262 at random_state 102\n",
      "0.6309951979758146 at random_state 103\n",
      "0.6248348156816673 at random_state 104\n",
      "0.6761851557088588 at random_state 105\n",
      "0.6610391942556098 at random_state 106\n",
      "0.5942415616793951 at random_state 107\n",
      "0.6619426940808376 at random_state 108\n",
      "0.654011697930985 at random_state 109\n",
      "0.6006260996960203 at random_state 110\n",
      "0.6289744569179474 at random_state 111\n",
      "0.6611572077282315 at random_state 112\n",
      "0.6618657404771146 at random_state 113\n",
      "0.6496775196594766 at random_state 114\n",
      "0.741364783382816 at random_state 115\n",
      "0.6285322740463684 at random_state 116\n",
      "0.6870081460888867 at random_state 117\n",
      "0.6466625454105175 at random_state 118\n",
      "0.6456791738105966 at random_state 119\n",
      "0.6931875618628766 at random_state 120\n",
      "0.6904191974574755 at random_state 121\n",
      "0.668237408694374 at random_state 122\n",
      "0.7627873497369505 at random_state 123\n",
      "0.7049465545219805 at random_state 124\n",
      "0.656604471639129 at random_state 125\n",
      "0.7089302422057242 at random_state 126\n",
      "0.6237751322129355 at random_state 127\n",
      "0.6233684436882391 at random_state 128\n",
      "0.6058760906718073 at random_state 129\n",
      "0.6868720889306891 at random_state 130\n",
      "0.6447039900630931 at random_state 131\n",
      "0.6153655230085819 at random_state 132\n",
      "0.6395314631182855 at random_state 133\n",
      "0.6473176432322172 at random_state 134\n",
      "0.6711005544196256 at random_state 135\n",
      "0.724238986944498 at random_state 136\n",
      "0.6659880075510932 at random_state 137\n",
      "0.6560811549376208 at random_state 138\n",
      "0.6571355476569503 at random_state 139\n",
      "0.6150983069902141 at random_state 140\n",
      "0.6800508238398284 at random_state 141\n",
      "0.682490177931511 at random_state 142\n",
      "0.6316815010797596 at random_state 143\n",
      "0.6027982636478567 at random_state 144\n",
      "0.61574559007318 at random_state 145\n",
      "0.6790883440635993 at random_state 146\n",
      "0.6097577406422618 at random_state 147\n",
      "0.671492561959035 at random_state 148\n",
      "0.5934965047497285 at random_state 149\n",
      "0.6289599929094914 at random_state 150\n",
      "0.6491421695679959 at random_state 151\n",
      "0.615574151508167 at random_state 152\n",
      "0.6503992151076491 at random_state 153\n",
      "0.6242919829735981 at random_state 154\n",
      "0.6674849036059239 at random_state 155\n",
      "0.6870923897255213 at random_state 156\n",
      "0.6540136406054452 at random_state 157\n",
      "0.6947876024583743 at random_state 158\n",
      "0.6111058504530688 at random_state 159\n",
      "0.6211597000424275 at random_state 160\n",
      "0.6003387323306795 at random_state 161\n",
      "0.724763321988249 at random_state 162\n",
      "0.6442449530142359 at random_state 163\n",
      "0.6771050550077377 at random_state 164\n",
      "0.6207987176293436 at random_state 165\n",
      "0.6142091000793727 at random_state 166\n",
      "0.7110981191782623 at random_state 167\n",
      "0.5937794927203535 at random_state 168\n",
      "0.6326272693753799 at random_state 169\n",
      "0.6215469425584388 at random_state 170\n",
      "0.6028118523394137 at random_state 171\n",
      "0.6417130101400766 at random_state 172\n",
      "0.646013975302946 at random_state 173\n",
      "0.6680394645622371 at random_state 174\n",
      "0.6245286568197612 at random_state 175\n",
      "0.6538276465024898 at random_state 176\n",
      "0.6162643721031177 at random_state 177\n",
      "0.6482974887786661 at random_state 178\n",
      "0.6709865028481838 at random_state 179\n",
      "0.6682472613496652 at random_state 180\n",
      "0.6341881537382286 at random_state 181\n",
      "0.5793457173370689 at random_state 182\n",
      "0.6912498090481619 at random_state 183\n",
      "0.628000668531907 at random_state 184\n",
      "0.6036449029767149 at random_state 185\n",
      "0.6131928259060084 at random_state 186\n",
      "0.599639409650283 at random_state 187\n",
      "0.6738724964402054 at random_state 188\n",
      "0.7019625743346993 at random_state 189\n",
      "0.6376942292558672 at random_state 190\n",
      "0.6115040881800267 at random_state 191\n",
      "0.69304193842357 at random_state 192\n",
      "0.6361130248101761 at random_state 193\n",
      "0.6446718372860689 at random_state 194\n",
      "0.7010358180634916 at random_state 195\n",
      "0.6872612497340521 at random_state 196\n",
      "0.5695913457581958 at random_state 197\n",
      "0.6855776461308501 at random_state 198\n",
      "0.622091040542294 at random_state 199\n"
     ]
    }
   ],
   "source": [
    "for i in range(200):\n",
    "    x_train, x_test, y_train, y_test = train_test_split(x,y, test_size=0.33, random_state=i)\n",
    "    \n",
    "    DTR = DecisionTreeRegressor()\n",
    "    DTR.fit(x_train, y_train)\n",
    "    pred=DTR.predict(x_test)\n",
    "    MAE= mean_absolute_error(y_test,pred)\n",
    "    print(MAE, \"at random_state\", i)"
   ]
  },
  {
   "cell_type": "markdown",
   "metadata": {},
   "source": [
    "- Decisiontree regressor is configured for 200 random state which shows acc for each state."
   ]
  },
  {
   "cell_type": "code",
   "execution_count": 440,
   "metadata": {},
   "outputs": [
    {
     "name": "stdout",
     "output_type": "stream",
     "text": [
      "Least MAE  0.7414994500033472  on Random_state  19\n"
     ]
    }
   ],
   "source": [
    "leastMAE=0\n",
    "maxRS=0\n",
    "for i in range(1,200):\n",
    "    x_train, x_test, y_train, y_test = train_test_split(x,y,test_size=0.30, random_state = i)\n",
    "    DTR = DecisionTreeRegressor()\n",
    "    DTR.fit(x_train, y_train)\n",
    "    pred = DTR.predict(x_test)\n",
    "    MAE= mean_absolute_error(y_test,pred)\n",
    "    if MAE>leastMAE:\n",
    "        leastMAE=MAE\n",
    "        maxRS=i\n",
    "print(\"Least MAE \", leastMAE,\" on Random_state \",maxRS)"
   ]
  },
  {
   "cell_type": "markdown",
   "metadata": {},
   "source": [
    "- Best Random state selected is 19 with MAE = 0.74"
   ]
  },
  {
   "cell_type": "code",
   "execution_count": 441,
   "metadata": {},
   "outputs": [],
   "source": [
    "x_train, x_test, y_train, y_test = train_test_split(x,y,test_size=0.30, random_state = 19)"
   ]
  },
  {
   "cell_type": "markdown",
   "metadata": {},
   "source": [
    "- independent(x) & Target Variable(y) is divided into Train & Test Set.\n",
    "- 70% data is set for training & 30% data is reserved for testing.\n",
    "- best Random state is applied which is 19 computed above."
   ]
  },
  {
   "cell_type": "markdown",
   "metadata": {},
   "source": [
    "# Linear Regression"
   ]
  },
  {
   "cell_type": "code",
   "execution_count": 442,
   "metadata": {},
   "outputs": [
    {
     "name": "stdout",
     "output_type": "stream",
     "text": [
      "Mean Absolute error:  0.8511565054674372\n",
      "Mean Squared error:  1.2648102544937483\n",
      "Root Mean Squared Error: 1.1246378325904514\n",
      "0.4535033443391505\n"
     ]
    },
    {
     "data": {
      "text/plain": [
       "0.6001295543604284"
      ]
     },
     "execution_count": 442,
     "metadata": {},
     "output_type": "execute_result"
    }
   ],
   "source": [
    "lm = LinearRegression() # linear regression instance\n",
    "lm.fit(x_train,y_train) # applying linear regression on training set to learn the linear relationship.\n",
    "pred=lm.predict(x_test) # Applying linear Reg on test data\n",
    "print('Mean Absolute error: ',mean_absolute_error(y_test,pred)) # Calculating MAE error between actual actual y value & prdicted y value\n",
    "print('Mean Squared error: ',mean_squared_error(y_test,pred))\n",
    "print('Root Mean Squared Error:',np.sqrt(mean_squared_error(y_test,pred)))\n",
    "print(r2_score(y_test,pred))\n",
    "lm.score(x_train,y_train) # how well the model learned"
   ]
  },
  {
   "cell_type": "markdown",
   "metadata": {},
   "source": [
    "- Score of Linear Reg is 0.60 & MAE = 0.85, R2 Score is 0.45"
   ]
  },
  {
   "cell_type": "markdown",
   "metadata": {},
   "source": [
    "# Decision Tree Regression"
   ]
  },
  {
   "cell_type": "code",
   "execution_count": 443,
   "metadata": {},
   "outputs": [
    {
     "name": "stdout",
     "output_type": "stream",
     "text": [
      "Mean Absolute error:  0.6973831122439252\n",
      "Mean Squared error:  1.0543343476355147\n",
      "Root Mean Squared Error: 1.0268078435790773\n",
      "0.5444453483168528\n"
     ]
    },
    {
     "data": {
      "text/plain": [
       "1.0"
      ]
     },
     "execution_count": 443,
     "metadata": {},
     "output_type": "execute_result"
    }
   ],
   "source": [
    "DTR = DecisionTreeRegressor()\n",
    "DTR.fit(x_train, y_train)\n",
    "pred = DTR.predict(x_test)\n",
    "print('Mean Absolute error: ',mean_absolute_error(y_test,pred)) # Calculating MAE error between actual actual y value & prdicted y value\n",
    "print('Mean Squared error: ',mean_squared_error(y_test,pred))\n",
    "print('Root Mean Squared Error:',np.sqrt(mean_squared_error(y_test,pred)))\n",
    "print(r2_score(y_test,pred))\n",
    "DTR.score(x_train,y_train) # how well the model learned"
   ]
  },
  {
   "cell_type": "markdown",
   "metadata": {},
   "source": [
    "- DTR learned the model with 100%.\n",
    "- DTR MAE = 0.69\n",
    "- R2 Score 0.54"
   ]
  },
  {
   "cell_type": "markdown",
   "metadata": {},
   "source": [
    "# Random Forest Regression"
   ]
  },
  {
   "cell_type": "code",
   "execution_count": 444,
   "metadata": {},
   "outputs": [
    {
     "name": "stdout",
     "output_type": "stream",
     "text": [
      "Mean Absolute error:  0.5348982712820793\n",
      "Mean Squared error:  0.5459387588950162\n",
      "Root Mean Squared Error: 0.738876687204987\n",
      "0.7641118856589442\n"
     ]
    },
    {
     "data": {
      "text/plain": [
       "0.9691543575337618"
      ]
     },
     "execution_count": 444,
     "metadata": {},
     "output_type": "execute_result"
    }
   ],
   "source": [
    "RFR = RandomForestRegressor()  # Random Forest regressor instance\n",
    "RFR.fit(x_train, y_train) # applying Random Forest regressor on training set to learn relationship.\n",
    "pred = RFR.predict(x_test) # Applying linear Reg on test data\n",
    "print('Mean Absolute error: ',mean_absolute_error(y_test,pred)) # Calculating MAE error between actual actual y value & prdicted y value\n",
    "print('Mean Squared error: ',mean_squared_error(y_test,pred))\n",
    "print('Root Mean Squared Error:',np.sqrt(mean_squared_error(y_test,pred)))\n",
    "print(r2_score(y_test,pred))\n",
    "RFR.score(x_train,y_train) # how well the model learned"
   ]
  },
  {
   "cell_type": "markdown",
   "metadata": {},
   "source": [
    "- RFR MAE = 0.53\n",
    "- RFR also learned the model well with 96%\n",
    "- r2 score = 0.76"
   ]
  },
  {
   "cell_type": "markdown",
   "metadata": {},
   "source": [
    "# Support Vector Regression"
   ]
  },
  {
   "cell_type": "code",
   "execution_count": 445,
   "metadata": {},
   "outputs": [
    {
     "name": "stdout",
     "output_type": "stream",
     "text": [
      "Mean Absolute error:  0.606867349683888\n",
      "Mean Squared error:  0.7175978713268609\n",
      "Root Mean Squared Error: 0.8471114869524914\n",
      "0.6899417636786621\n"
     ]
    },
    {
     "data": {
      "text/plain": [
       "0.810874521592983"
      ]
     },
     "execution_count": 445,
     "metadata": {},
     "output_type": "execute_result"
    }
   ],
   "source": [
    "SV = SVR() # Support Vector Reg Instance\n",
    "SV.fit(x_train, y_train) # applying Support Vector Reg on training set to learn  relationship.\n",
    "pred = SV.predict(x_test) # Applying Support Vector Reg on test data\n",
    "print('Mean Absolute error: ',mean_absolute_error(y_test,pred)) # Calculating MAE error between actual actual y value & prdicted y value\n",
    "print('Mean Squared error: ',mean_squared_error(y_test,pred))\n",
    "print('Root Mean Squared Error:',np.sqrt(mean_squared_error(y_test,pred)))\n",
    "print(r2_score(y_test,pred))\n",
    "SV.score(x_train,y_train)# how well the model learned"
   ]
  },
  {
   "cell_type": "markdown",
   "metadata": {},
   "source": [
    "- SVC MAE = 0.60\n",
    "- SVC Learned the model with 81%\n",
    "- r2 score of SVC  = 0.68"
   ]
  },
  {
   "cell_type": "markdown",
   "metadata": {},
   "source": [
    "# XGBoost Regression"
   ]
  },
  {
   "cell_type": "code",
   "execution_count": 446,
   "metadata": {},
   "outputs": [
    {
     "name": "stdout",
     "output_type": "stream",
     "text": [
      "Mean Absolute error:  0.5580108977671712\n",
      "Mean Squared error:  0.6118280013198956\n",
      "Root Mean Squared Error: 0.7821943500945884\n",
      "0.735642595106239\n"
     ]
    },
    {
     "data": {
      "text/plain": [
       "0.9997557336296715"
      ]
     },
     "execution_count": 446,
     "metadata": {},
     "output_type": "execute_result"
    }
   ],
   "source": [
    "XGBR = XGBRegressor() # XGBR Instance\n",
    "XGBR.fit(x_train,y_train) # applying XGBR on training set to learn  relationship.\n",
    "pred = XGBR.predict(x_test) # Applying XGBR on test data\n",
    "print('Mean Absolute error: ', mean_absolute_error(y_test,pred))# Calculating MAE error between actual actual y value & prdicted y value\n",
    "print('Mean Squared error: ',mean_squared_error(y_test,pred))\n",
    "print('Root Mean Squared Error:',np.sqrt(mean_squared_error(y_test,pred)))\n",
    "print(r2_score(y_test,pred))\n",
    "XGBR.score(x_train,y_train) # how well the model learned    "
   ]
  },
  {
   "cell_type": "markdown",
   "metadata": {},
   "source": [
    "- XGBR MAE = 0.55\n",
    "- XGBR learned the model with 73%\n",
    "- r2 score of XGBR = 0.73"
   ]
  },
  {
   "cell_type": "markdown",
   "metadata": {},
   "source": [
    "# K-fold Cross Validation"
   ]
  },
  {
   "cell_type": "code",
   "execution_count": 447,
   "metadata": {},
   "outputs": [],
   "source": [
    "from sklearn.model_selection import cross_val_score  # Obs : Importing cross val score\n",
    "from sklearn.model_selection import KFold  # Obs : Imporing Kfold CV"
   ]
  },
  {
   "cell_type": "code",
   "execution_count": 448,
   "metadata": {},
   "outputs": [],
   "source": [
    "cross_validation=KFold(5, shuffle =True)\n",
    "# Obs : Creating CV Object with shuffle = true to avoid -ve CV Values as o/p"
   ]
  },
  {
   "cell_type": "code",
   "execution_count": 449,
   "metadata": {},
   "outputs": [
    {
     "name": "stdout",
     "output_type": "stream",
     "text": [
      "0.5459152989716793\n"
     ]
    }
   ],
   "source": [
    "print(cross_val_score(lm,x,y,cv=cross_validation).mean()) # Obs : Linear Regression CV o/p"
   ]
  },
  {
   "cell_type": "code",
   "execution_count": 450,
   "metadata": {},
   "outputs": [
    {
     "name": "stdout",
     "output_type": "stream",
     "text": [
      "0.6280375444123503\n"
     ]
    }
   ],
   "source": [
    "print(cross_val_score(DTR,x,y,cv=cross_validation).mean()) # Obs :  DTR Regression CV o/p"
   ]
  },
  {
   "cell_type": "code",
   "execution_count": 451,
   "metadata": {},
   "outputs": [
    {
     "name": "stdout",
     "output_type": "stream",
     "text": [
      "0.7878751068989751\n"
     ]
    }
   ],
   "source": [
    "print(cross_val_score(RFR,x,y,cv=cross_validation).mean()) # Obs : Random Forest Regressor CV o/p"
   ]
  },
  {
   "cell_type": "code",
   "execution_count": 452,
   "metadata": {},
   "outputs": [
    {
     "name": "stdout",
     "output_type": "stream",
     "text": [
      "0.7394424214871991\n"
     ]
    }
   ],
   "source": [
    "print(cross_val_score(SV,x,y,cv=cross_validation).mean()) # Obs : Support Vector CV o/p"
   ]
  },
  {
   "cell_type": "code",
   "execution_count": 453,
   "metadata": {},
   "outputs": [
    {
     "name": "stdout",
     "output_type": "stream",
     "text": [
      "0.7644372454905495\n"
     ]
    }
   ],
   "source": [
    "print(cross_val_score(XGBR,x,y,cv=cross_validation).mean()) # Obs :  XGBoost Regressor CV o/p"
   ]
  },
  {
   "cell_type": "markdown",
   "metadata": {},
   "source": [
    "# Best Model"
   ]
  },
  {
   "cell_type": "markdown",
   "metadata": {},
   "source": [
    "- DTR has the least diff from DTR MAE-DTR CV = 0.69 - 0.62 = 0.07, hence i have selected DTR as the best Model."
   ]
  },
  {
   "cell_type": "markdown",
   "metadata": {},
   "source": [
    "# Hyperparameter & GridsearchCV"
   ]
  },
  {
   "cell_type": "code",
   "execution_count": 455,
   "metadata": {},
   "outputs": [],
   "source": [
    "from sklearn.model_selection import GridSearchCV # Obs : importing GridSearchCV"
   ]
  },
  {
   "cell_type": "markdown",
   "metadata": {},
   "source": [
    "# Setting DTR Hyperparameter"
   ]
  },
  {
   "cell_type": "code",
   "execution_count": 457,
   "metadata": {},
   "outputs": [],
   "source": [
    "import numpy as np\n",
    "parameter = {'max_depth': np.arange(2,8),\n",
    "             'criterion':['squared_error','friedman_mse','absolute_error'],\n",
    "             'max_features': ['log2','sqrt','auto'],\n",
    "             'min_samples_leaf': [1,2],\n",
    "             'splitter': ['best','random']}"
   ]
  },
  {
   "cell_type": "markdown",
   "metadata": {},
   "source": [
    "- DTR is set with Hyperparameter as above"
   ]
  },
  {
   "cell_type": "code",
   "execution_count": 458,
   "metadata": {},
   "outputs": [],
   "source": [
    "GCV=GridSearchCV(DecisionTreeRegressor(),parameter,cv=cross_validation)"
   ]
  },
  {
   "cell_type": "markdown",
   "metadata": {},
   "source": [
    "- GridsearchCV instance is created with DTR."
   ]
  },
  {
   "cell_type": "code",
   "execution_count": 459,
   "metadata": {},
   "outputs": [
    {
     "data": {
      "text/plain": [
       "GridSearchCV(cv=KFold(n_splits=5, random_state=None, shuffle=True),\n",
       "             estimator=DecisionTreeRegressor(),\n",
       "             param_grid={'criterion': ['squared_error', 'friedman_mse',\n",
       "                                       'absolute_error'],\n",
       "                         'max_depth': array([2, 3, 4, 5, 6, 7]),\n",
       "                         'max_features': ['log2', 'sqrt', 'auto'],\n",
       "                         'min_samples_leaf': [1, 2],\n",
       "                         'splitter': ['best', 'random']})"
      ]
     },
     "execution_count": 459,
     "metadata": {},
     "output_type": "execute_result"
    }
   ],
   "source": [
    "GCV.fit(x_train,y_train) "
   ]
  },
  {
   "cell_type": "markdown",
   "metadata": {},
   "source": [
    "- GVC is applied to training set "
   ]
  },
  {
   "cell_type": "code",
   "execution_count": 460,
   "metadata": {},
   "outputs": [
    {
     "data": {
      "text/plain": [
       "{'criterion': 'friedman_mse',\n",
       " 'max_depth': 4,\n",
       " 'max_features': 'auto',\n",
       " 'min_samples_leaf': 2,\n",
       " 'splitter': 'best'}"
      ]
     },
     "execution_count": 460,
     "metadata": {},
     "output_type": "execute_result"
    }
   ],
   "source": [
    "GCV.best_params_"
   ]
  },
  {
   "cell_type": "markdown",
   "metadata": {},
   "source": [
    "- The best param is selected (criterion = 'friedman_mse',max_depth=4, max_features = 'auto', min_samples_leaf = 2,splitter= 'best')"
   ]
  },
  {
   "cell_type": "code",
   "execution_count": 464,
   "metadata": {},
   "outputs": [
    {
     "name": "stdout",
     "output_type": "stream",
     "text": [
      "Mean Absolute error:  0.6122292625885986\n",
      "Mean Squared error:  0.7250521512806629\n",
      "Root Mean Squared Error: 0.851499942032096\n",
      "0.6867209334785283\n"
     ]
    },
    {
     "data": {
      "text/plain": [
       "1.0"
      ]
     },
     "execution_count": 464,
     "metadata": {},
     "output_type": "execute_result"
    }
   ],
   "source": [
    "Final_mod = DecisionTreeRegressor(criterion = 'friedman_mse',max_depth=4, max_features = 'auto', min_samples_leaf = 2,splitter= 'best')\n",
    "Final_mod.fit(x_train, y_train)\n",
    "pred = Final_mod.predict(x_test)\n",
    "print('Mean Absolute error: ',mean_absolute_error(y_test,pred)) # Calculating MAE error between actual actual y value & prdicted y value\n",
    "print('Mean Squared error: ',mean_squared_error(y_test,pred))\n",
    "print('Root Mean Squared Error:',np.sqrt(mean_squared_error(y_test,pred)))\n",
    "print(r2_score(y_test,pred))\n",
    "DTR.score(x_train,y_train) # how well the model learned"
   ]
  },
  {
   "cell_type": "markdown",
   "metadata": {},
   "source": [
    "- Final best model DTR MAE  = 0.61\n",
    "- r2 score = 0.68 higher the r2 score the best fit line can be drawn on the data.\n",
    "- DTR learned the model 100%"
   ]
  },
  {
   "cell_type": "markdown",
   "metadata": {},
   "source": [
    "# Exporting Model with Joblib Library"
   ]
  },
  {
   "cell_type": "code",
   "execution_count": 462,
   "metadata": {},
   "outputs": [
    {
     "data": {
      "text/plain": [
       "['FinalModel.pkl']"
      ]
     },
     "execution_count": 462,
     "metadata": {},
     "output_type": "execute_result"
    }
   ],
   "source": [
    "import joblib\n",
    "joblib.dump(Final_mod,\"FinalModel.pkl\")"
   ]
  },
  {
   "cell_type": "markdown",
   "metadata": {},
   "source": [
    "- Obs Model is exported with .pkl file"
   ]
  },
  {
   "cell_type": "code",
   "execution_count": null,
   "metadata": {},
   "outputs": [],
   "source": []
  }
 ],
 "metadata": {
  "kernelspec": {
   "display_name": "Python 3",
   "language": "python",
   "name": "python3"
  },
  "language_info": {
   "codemirror_mode": {
    "name": "ipython",
    "version": 3
   },
   "file_extension": ".py",
   "mimetype": "text/x-python",
   "name": "python",
   "nbconvert_exporter": "python",
   "pygments_lexer": "ipython3",
   "version": "3.6.4"
  }
 },
 "nbformat": 4,
 "nbformat_minor": 2
}
