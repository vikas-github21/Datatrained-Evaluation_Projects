{
 "cells": [
  {
   "cell_type": "markdown",
   "metadata": {},
   "source": [
    "# Problem Statement:\n",
    "Th Goal is to predict the price of flight ticket from the dataset provided from the month of march and June 2019 with various airlines between various cities."
   ]
  },
  {
   "cell_type": "markdown",
   "metadata": {},
   "source": [
    "# Importing libraries"
   ]
  },
  {
   "cell_type": "code",
   "execution_count": 128,
   "metadata": {},
   "outputs": [],
   "source": [
    "import numpy as np\n",
    "import pandas as pd\n",
    "import matplotlib.pyplot as plt\n",
    "import seaborn as sns\n",
    "from sklearn.decomposition import PCA\n",
    "from sklearn.linear_model import LinearRegression\n",
    "from sklearn.tree import DecisionTreeRegressor\n",
    "from sklearn.ensemble import RandomForestRegressor\n",
    "from sklearn.svm import SVR\n",
    "import xgboost \n",
    "from xgboost import XGBRegressor\n",
    "from sklearn.metrics import r2_score\n",
    "from sklearn.metrics import mean_squared_error,mean_absolute_error\n",
    "from sklearn.model_selection import train_test_split\n",
    "from sklearn.preprocessing import LabelEncoder\n",
    "from sklearn.preprocessing import StandardScaler\n",
    "import warnings\n",
    "warnings.filterwarnings('ignore')"
   ]
  },
  {
   "cell_type": "code",
   "execution_count": 129,
   "metadata": {},
   "outputs": [],
   "source": [
    "train = pd.read_csv('Data_Train.csv')"
   ]
  },
  {
   "cell_type": "code",
   "execution_count": 130,
   "metadata": {},
   "outputs": [],
   "source": [
    "test = pd.read_csv('Test_set.csv')"
   ]
  },
  {
   "cell_type": "code",
   "execution_count": 131,
   "metadata": {},
   "outputs": [],
   "source": [
    "df_train = pd.DataFrame(train)\n",
    "df_test = pd.DataFrame(test)"
   ]
  },
  {
   "cell_type": "markdown",
   "metadata": {},
   "source": [
    "# Test Set Initial Analysis"
   ]
  },
  {
   "cell_type": "code",
   "execution_count": 132,
   "metadata": {},
   "outputs": [
    {
     "data": {
      "text/html": [
       "<div>\n",
       "<style scoped>\n",
       "    .dataframe tbody tr th:only-of-type {\n",
       "        vertical-align: middle;\n",
       "    }\n",
       "\n",
       "    .dataframe tbody tr th {\n",
       "        vertical-align: top;\n",
       "    }\n",
       "\n",
       "    .dataframe thead th {\n",
       "        text-align: right;\n",
       "    }\n",
       "</style>\n",
       "<table border=\"1\" class=\"dataframe\">\n",
       "  <thead>\n",
       "    <tr style=\"text-align: right;\">\n",
       "      <th></th>\n",
       "      <th>Airline</th>\n",
       "      <th>Date_of_Journey</th>\n",
       "      <th>Source</th>\n",
       "      <th>Destination</th>\n",
       "      <th>Route</th>\n",
       "      <th>Dep_Time</th>\n",
       "      <th>Arrival_Time</th>\n",
       "      <th>Duration</th>\n",
       "      <th>Total_Stops</th>\n",
       "      <th>Additional_Info</th>\n",
       "    </tr>\n",
       "  </thead>\n",
       "  <tbody>\n",
       "    <tr>\n",
       "      <th>0</th>\n",
       "      <td>Jet Airways</td>\n",
       "      <td>6/06/2019</td>\n",
       "      <td>Delhi</td>\n",
       "      <td>Cochin</td>\n",
       "      <td>DEL ? BOM ? COK</td>\n",
       "      <td>17:30</td>\n",
       "      <td>04:25 07 Jun</td>\n",
       "      <td>10h 55m</td>\n",
       "      <td>1 stop</td>\n",
       "      <td>No info</td>\n",
       "    </tr>\n",
       "    <tr>\n",
       "      <th>1</th>\n",
       "      <td>IndiGo</td>\n",
       "      <td>12/05/2019</td>\n",
       "      <td>Kolkata</td>\n",
       "      <td>Banglore</td>\n",
       "      <td>CCU ? MAA ? BLR</td>\n",
       "      <td>06:20</td>\n",
       "      <td>10:20</td>\n",
       "      <td>4h</td>\n",
       "      <td>1 stop</td>\n",
       "      <td>No info</td>\n",
       "    </tr>\n",
       "    <tr>\n",
       "      <th>2</th>\n",
       "      <td>Jet Airways</td>\n",
       "      <td>21/05/2019</td>\n",
       "      <td>Delhi</td>\n",
       "      <td>Cochin</td>\n",
       "      <td>DEL ? BOM ? COK</td>\n",
       "      <td>19:15</td>\n",
       "      <td>19:00 22 May</td>\n",
       "      <td>23h 45m</td>\n",
       "      <td>1 stop</td>\n",
       "      <td>In-flight meal not included</td>\n",
       "    </tr>\n",
       "    <tr>\n",
       "      <th>3</th>\n",
       "      <td>Multiple carriers</td>\n",
       "      <td>21/05/2019</td>\n",
       "      <td>Delhi</td>\n",
       "      <td>Cochin</td>\n",
       "      <td>DEL ? BOM ? COK</td>\n",
       "      <td>08:00</td>\n",
       "      <td>21:00</td>\n",
       "      <td>13h</td>\n",
       "      <td>1 stop</td>\n",
       "      <td>No info</td>\n",
       "    </tr>\n",
       "    <tr>\n",
       "      <th>4</th>\n",
       "      <td>Air Asia</td>\n",
       "      <td>24/06/2019</td>\n",
       "      <td>Banglore</td>\n",
       "      <td>Delhi</td>\n",
       "      <td>BLR ? DEL</td>\n",
       "      <td>23:55</td>\n",
       "      <td>02:45 25 Jun</td>\n",
       "      <td>2h 50m</td>\n",
       "      <td>non-stop</td>\n",
       "      <td>No info</td>\n",
       "    </tr>\n",
       "  </tbody>\n",
       "</table>\n",
       "</div>"
      ],
      "text/plain": [
       "             Airline Date_of_Journey    Source Destination            Route  \\\n",
       "0        Jet Airways       6/06/2019     Delhi      Cochin  DEL ? BOM ? COK   \n",
       "1             IndiGo      12/05/2019   Kolkata    Banglore  CCU ? MAA ? BLR   \n",
       "2        Jet Airways      21/05/2019     Delhi      Cochin  DEL ? BOM ? COK   \n",
       "3  Multiple carriers      21/05/2019     Delhi      Cochin  DEL ? BOM ? COK   \n",
       "4           Air Asia      24/06/2019  Banglore       Delhi        BLR ? DEL   \n",
       "\n",
       "  Dep_Time  Arrival_Time Duration Total_Stops              Additional_Info  \n",
       "0    17:30  04:25 07 Jun  10h 55m      1 stop                      No info  \n",
       "1    06:20         10:20       4h      1 stop                      No info  \n",
       "2    19:15  19:00 22 May  23h 45m      1 stop  In-flight meal not included  \n",
       "3    08:00         21:00      13h      1 stop                      No info  \n",
       "4    23:55  02:45 25 Jun   2h 50m    non-stop                      No info  "
      ]
     },
     "execution_count": 132,
     "metadata": {},
     "output_type": "execute_result"
    }
   ],
   "source": [
    "df_test.head()"
   ]
  },
  {
   "cell_type": "markdown",
   "metadata": {},
   "source": [
    "- The test has no target variables.\n",
    "- Number of rows present in test set is less then train set.\n",
    "- All the cols has object values."
   ]
  },
  {
   "cell_type": "code",
   "execution_count": 133,
   "metadata": {},
   "outputs": [
    {
     "data": {
      "text/plain": [
       "(2671, 10)"
      ]
     },
     "execution_count": 133,
     "metadata": {},
     "output_type": "execute_result"
    }
   ],
   "source": [
    "df_test.shape"
   ]
  },
  {
   "cell_type": "markdown",
   "metadata": {},
   "source": [
    "- Test set has 2671 rows less then train set and 10 cols.\n",
    "- Target col price is not there."
   ]
  },
  {
   "cell_type": "code",
   "execution_count": 134,
   "metadata": {},
   "outputs": [
    {
     "data": {
      "text/plain": [
       "(10683, 11)"
      ]
     },
     "execution_count": 134,
     "metadata": {},
     "output_type": "execute_result"
    }
   ],
   "source": [
    "df_train.shape"
   ]
  },
  {
   "cell_type": "markdown",
   "metadata": {},
   "source": [
    "- train  set has 10683 rows and 11 cols.\n",
    "- Target col price is present in th train set."
   ]
  },
  {
   "cell_type": "code",
   "execution_count": 135,
   "metadata": {},
   "outputs": [],
   "source": [
    "df_test['year'] = pd.DatetimeIndex(df_test['Date_of_Journey']).year"
   ]
  },
  {
   "cell_type": "code",
   "execution_count": 136,
   "metadata": {},
   "outputs": [],
   "source": [
    "df_test['month'] = pd.DatetimeIndex(df_test['Date_of_Journey']).month"
   ]
  },
  {
   "cell_type": "code",
   "execution_count": 137,
   "metadata": {},
   "outputs": [],
   "source": [
    "df_test['day'] = pd.DatetimeIndex(df_test['Date_of_Journey']).day"
   ]
  },
  {
   "cell_type": "code",
   "execution_count": 138,
   "metadata": {},
   "outputs": [],
   "source": [
    "df_test.drop(['Date_of_Journey'],axis=1,inplace=True)"
   ]
  },
  {
   "cell_type": "code",
   "execution_count": 139,
   "metadata": {},
   "outputs": [
    {
     "data": {
      "text/html": [
       "<div>\n",
       "<style scoped>\n",
       "    .dataframe tbody tr th:only-of-type {\n",
       "        vertical-align: middle;\n",
       "    }\n",
       "\n",
       "    .dataframe tbody tr th {\n",
       "        vertical-align: top;\n",
       "    }\n",
       "\n",
       "    .dataframe thead th {\n",
       "        text-align: right;\n",
       "    }\n",
       "</style>\n",
       "<table border=\"1\" class=\"dataframe\">\n",
       "  <thead>\n",
       "    <tr style=\"text-align: right;\">\n",
       "      <th></th>\n",
       "      <th>Airline</th>\n",
       "      <th>Source</th>\n",
       "      <th>Destination</th>\n",
       "      <th>Route</th>\n",
       "      <th>Dep_Time</th>\n",
       "      <th>Arrival_Time</th>\n",
       "      <th>Duration</th>\n",
       "      <th>Total_Stops</th>\n",
       "      <th>Additional_Info</th>\n",
       "      <th>year</th>\n",
       "      <th>month</th>\n",
       "      <th>day</th>\n",
       "    </tr>\n",
       "  </thead>\n",
       "  <tbody>\n",
       "    <tr>\n",
       "      <th>0</th>\n",
       "      <td>Jet Airways</td>\n",
       "      <td>Delhi</td>\n",
       "      <td>Cochin</td>\n",
       "      <td>DEL ? BOM ? COK</td>\n",
       "      <td>17:30</td>\n",
       "      <td>04:25 07 Jun</td>\n",
       "      <td>10h 55m</td>\n",
       "      <td>1 stop</td>\n",
       "      <td>No info</td>\n",
       "      <td>2019</td>\n",
       "      <td>6</td>\n",
       "      <td>6</td>\n",
       "    </tr>\n",
       "    <tr>\n",
       "      <th>1</th>\n",
       "      <td>IndiGo</td>\n",
       "      <td>Kolkata</td>\n",
       "      <td>Banglore</td>\n",
       "      <td>CCU ? MAA ? BLR</td>\n",
       "      <td>06:20</td>\n",
       "      <td>10:20</td>\n",
       "      <td>4h</td>\n",
       "      <td>1 stop</td>\n",
       "      <td>No info</td>\n",
       "      <td>2019</td>\n",
       "      <td>12</td>\n",
       "      <td>5</td>\n",
       "    </tr>\n",
       "    <tr>\n",
       "      <th>2</th>\n",
       "      <td>Jet Airways</td>\n",
       "      <td>Delhi</td>\n",
       "      <td>Cochin</td>\n",
       "      <td>DEL ? BOM ? COK</td>\n",
       "      <td>19:15</td>\n",
       "      <td>19:00 22 May</td>\n",
       "      <td>23h 45m</td>\n",
       "      <td>1 stop</td>\n",
       "      <td>In-flight meal not included</td>\n",
       "      <td>2019</td>\n",
       "      <td>5</td>\n",
       "      <td>21</td>\n",
       "    </tr>\n",
       "    <tr>\n",
       "      <th>3</th>\n",
       "      <td>Multiple carriers</td>\n",
       "      <td>Delhi</td>\n",
       "      <td>Cochin</td>\n",
       "      <td>DEL ? BOM ? COK</td>\n",
       "      <td>08:00</td>\n",
       "      <td>21:00</td>\n",
       "      <td>13h</td>\n",
       "      <td>1 stop</td>\n",
       "      <td>No info</td>\n",
       "      <td>2019</td>\n",
       "      <td>5</td>\n",
       "      <td>21</td>\n",
       "    </tr>\n",
       "    <tr>\n",
       "      <th>4</th>\n",
       "      <td>Air Asia</td>\n",
       "      <td>Banglore</td>\n",
       "      <td>Delhi</td>\n",
       "      <td>BLR ? DEL</td>\n",
       "      <td>23:55</td>\n",
       "      <td>02:45 25 Jun</td>\n",
       "      <td>2h 50m</td>\n",
       "      <td>non-stop</td>\n",
       "      <td>No info</td>\n",
       "      <td>2019</td>\n",
       "      <td>6</td>\n",
       "      <td>24</td>\n",
       "    </tr>\n",
       "  </tbody>\n",
       "</table>\n",
       "</div>"
      ],
      "text/plain": [
       "             Airline    Source Destination            Route Dep_Time  \\\n",
       "0        Jet Airways     Delhi      Cochin  DEL ? BOM ? COK    17:30   \n",
       "1             IndiGo   Kolkata    Banglore  CCU ? MAA ? BLR    06:20   \n",
       "2        Jet Airways     Delhi      Cochin  DEL ? BOM ? COK    19:15   \n",
       "3  Multiple carriers     Delhi      Cochin  DEL ? BOM ? COK    08:00   \n",
       "4           Air Asia  Banglore       Delhi        BLR ? DEL    23:55   \n",
       "\n",
       "   Arrival_Time Duration Total_Stops              Additional_Info  year  \\\n",
       "0  04:25 07 Jun  10h 55m      1 stop                      No info  2019   \n",
       "1         10:20       4h      1 stop                      No info  2019   \n",
       "2  19:00 22 May  23h 45m      1 stop  In-flight meal not included  2019   \n",
       "3         21:00      13h      1 stop                      No info  2019   \n",
       "4  02:45 25 Jun   2h 50m    non-stop                      No info  2019   \n",
       "\n",
       "   month  day  \n",
       "0      6    6  \n",
       "1     12    5  \n",
       "2      5   21  \n",
       "3      5   21  \n",
       "4      6   24  "
      ]
     },
     "execution_count": 139,
     "metadata": {},
     "output_type": "execute_result"
    }
   ],
   "source": [
    "df_test.head()"
   ]
  },
  {
   "cell_type": "markdown",
   "metadata": {},
   "source": [
    "- the train & test set has one date col \"Date_of_Journey\" which is converted to seprate year, month & day col.\n",
    "- After that \"Date_of_Journey\" is dropped."
   ]
  },
  {
   "cell_type": "code",
   "execution_count": 140,
   "metadata": {},
   "outputs": [
    {
     "data": {
      "text/plain": [
       "Airline            0\n",
       "Source             0\n",
       "Destination        0\n",
       "Route              0\n",
       "Dep_Time           0\n",
       "Arrival_Time       0\n",
       "Duration           0\n",
       "Total_Stops        0\n",
       "Additional_Info    0\n",
       "year               0\n",
       "month              0\n",
       "day                0\n",
       "dtype: int64"
      ]
     },
     "execution_count": 140,
     "metadata": {},
     "output_type": "execute_result"
    }
   ],
   "source": [
    "df_test.isnull().sum()"
   ]
  },
  {
   "cell_type": "markdown",
   "metadata": {},
   "source": [
    "- Test set has no missing value"
   ]
  },
  {
   "cell_type": "code",
   "execution_count": 141,
   "metadata": {},
   "outputs": [],
   "source": [
    "objects_df = df_test.select_dtypes(exclude=numerics_var)"
   ]
  },
  {
   "cell_type": "markdown",
   "metadata": {},
   "source": [
    "-  test set is converted to object dataframe as there is no numneric col"
   ]
  },
  {
   "cell_type": "code",
   "execution_count": 142,
   "metadata": {},
   "outputs": [
    {
     "name": "stdout",
     "output_type": "stream",
     "text": [
      "<class 'pandas.core.frame.DataFrame'>\n",
      "RangeIndex: 2671 entries, 0 to 2670\n",
      "Data columns (total 9 columns):\n",
      " #   Column           Non-Null Count  Dtype \n",
      "---  ------           --------------  ----- \n",
      " 0   Airline          2671 non-null   object\n",
      " 1   Source           2671 non-null   object\n",
      " 2   Destination      2671 non-null   object\n",
      " 3   Route            2671 non-null   object\n",
      " 4   Dep_Time         2671 non-null   object\n",
      " 5   Arrival_Time     2671 non-null   object\n",
      " 6   Duration         2671 non-null   object\n",
      " 7   Total_Stops      2671 non-null   object\n",
      " 8   Additional_Info  2671 non-null   object\n",
      "dtypes: object(9)\n",
      "memory usage: 187.9+ KB\n"
     ]
    }
   ],
   "source": [
    "objects_df.info()"
   ]
  },
  {
   "cell_type": "markdown",
   "metadata": {},
   "source": [
    "-  The test set has 9 object cols"
   ]
  },
  {
   "cell_type": "code",
   "execution_count": 143,
   "metadata": {},
   "outputs": [],
   "source": [
    "# categorical variable encoding\n",
    "cat_vars_list = objects_df.columns.tolist()\n",
    "## Label Encoder\n",
    "from sklearn.preprocessing import LabelEncoder\n",
    "\n",
    "le = LabelEncoder()\n",
    "for i in cat_vars_list :\n",
    "    df_test[i] = le.fit_transform(df_test[i])"
   ]
  },
  {
   "cell_type": "markdown",
   "metadata": {},
   "source": [
    "- All the object col is label encoded with test set DataFrame for further analysis."
   ]
  },
  {
   "cell_type": "code",
   "execution_count": 144,
   "metadata": {},
   "outputs": [
    {
     "data": {
      "text/html": [
       "<div>\n",
       "<style scoped>\n",
       "    .dataframe tbody tr th:only-of-type {\n",
       "        vertical-align: middle;\n",
       "    }\n",
       "\n",
       "    .dataframe tbody tr th {\n",
       "        vertical-align: top;\n",
       "    }\n",
       "\n",
       "    .dataframe thead th {\n",
       "        text-align: right;\n",
       "    }\n",
       "</style>\n",
       "<table border=\"1\" class=\"dataframe\">\n",
       "  <thead>\n",
       "    <tr style=\"text-align: right;\">\n",
       "      <th></th>\n",
       "      <th>Airline</th>\n",
       "      <th>Source</th>\n",
       "      <th>Destination</th>\n",
       "      <th>Route</th>\n",
       "      <th>Dep_Time</th>\n",
       "      <th>Arrival_Time</th>\n",
       "      <th>Duration</th>\n",
       "      <th>Total_Stops</th>\n",
       "      <th>Additional_Info</th>\n",
       "      <th>year</th>\n",
       "      <th>month</th>\n",
       "      <th>day</th>\n",
       "    </tr>\n",
       "  </thead>\n",
       "  <tbody>\n",
       "    <tr>\n",
       "      <th>0</th>\n",
       "      <td>4</td>\n",
       "      <td>2</td>\n",
       "      <td>1</td>\n",
       "      <td>76</td>\n",
       "      <td>138</td>\n",
       "      <td>150</td>\n",
       "      <td>10</td>\n",
       "      <td>0</td>\n",
       "      <td>5</td>\n",
       "      <td>2019</td>\n",
       "      <td>6</td>\n",
       "      <td>6</td>\n",
       "    </tr>\n",
       "    <tr>\n",
       "      <th>1</th>\n",
       "      <td>3</td>\n",
       "      <td>3</td>\n",
       "      <td>0</td>\n",
       "      <td>65</td>\n",
       "      <td>31</td>\n",
       "      <td>353</td>\n",
       "      <td>248</td>\n",
       "      <td>0</td>\n",
       "      <td>5</td>\n",
       "      <td>2019</td>\n",
       "      <td>12</td>\n",
       "      <td>5</td>\n",
       "    </tr>\n",
       "    <tr>\n",
       "      <th>2</th>\n",
       "      <td>4</td>\n",
       "      <td>2</td>\n",
       "      <td>1</td>\n",
       "      <td>76</td>\n",
       "      <td>156</td>\n",
       "      <td>566</td>\n",
       "      <td>148</td>\n",
       "      <td>0</td>\n",
       "      <td>3</td>\n",
       "      <td>2019</td>\n",
       "      <td>5</td>\n",
       "      <td>21</td>\n",
       "    </tr>\n",
       "    <tr>\n",
       "      <th>3</th>\n",
       "      <td>6</td>\n",
       "      <td>2</td>\n",
       "      <td>1</td>\n",
       "      <td>76</td>\n",
       "      <td>48</td>\n",
       "      <td>633</td>\n",
       "      <td>36</td>\n",
       "      <td>0</td>\n",
       "      <td>5</td>\n",
       "      <td>2019</td>\n",
       "      <td>5</td>\n",
       "      <td>21</td>\n",
       "    </tr>\n",
       "    <tr>\n",
       "      <th>4</th>\n",
       "      <td>0</td>\n",
       "      <td>0</td>\n",
       "      <td>2</td>\n",
       "      <td>16</td>\n",
       "      <td>198</td>\n",
       "      <td>135</td>\n",
       "      <td>216</td>\n",
       "      <td>4</td>\n",
       "      <td>5</td>\n",
       "      <td>2019</td>\n",
       "      <td>6</td>\n",
       "      <td>24</td>\n",
       "    </tr>\n",
       "  </tbody>\n",
       "</table>\n",
       "</div>"
      ],
      "text/plain": [
       "   Airline  Source  Destination  Route  Dep_Time  Arrival_Time  Duration  \\\n",
       "0        4       2            1     76       138           150        10   \n",
       "1        3       3            0     65        31           353       248   \n",
       "2        4       2            1     76       156           566       148   \n",
       "3        6       2            1     76        48           633        36   \n",
       "4        0       0            2     16       198           135       216   \n",
       "\n",
       "   Total_Stops  Additional_Info  year  month  day  \n",
       "0            0                5  2019      6    6  \n",
       "1            0                5  2019     12    5  \n",
       "2            0                3  2019      5   21  \n",
       "3            0                5  2019      5   21  \n",
       "4            4                5  2019      6   24  "
      ]
     },
     "execution_count": 144,
     "metadata": {},
     "output_type": "execute_result"
    }
   ],
   "source": [
    "df_test.head()"
   ]
  },
  {
   "cell_type": "markdown",
   "metadata": {},
   "source": [
    "- The test set is seen with encoded value which will be used to predict the price once model is ready with train set."
   ]
  },
  {
   "cell_type": "markdown",
   "metadata": {},
   "source": [
    "# Train data Analysis"
   ]
  },
  {
   "cell_type": "code",
   "execution_count": 145,
   "metadata": {},
   "outputs": [
    {
     "data": {
      "text/html": [
       "<div>\n",
       "<style scoped>\n",
       "    .dataframe tbody tr th:only-of-type {\n",
       "        vertical-align: middle;\n",
       "    }\n",
       "\n",
       "    .dataframe tbody tr th {\n",
       "        vertical-align: top;\n",
       "    }\n",
       "\n",
       "    .dataframe thead th {\n",
       "        text-align: right;\n",
       "    }\n",
       "</style>\n",
       "<table border=\"1\" class=\"dataframe\">\n",
       "  <thead>\n",
       "    <tr style=\"text-align: right;\">\n",
       "      <th></th>\n",
       "      <th>Airline</th>\n",
       "      <th>Date_of_Journey</th>\n",
       "      <th>Source</th>\n",
       "      <th>Destination</th>\n",
       "      <th>Route</th>\n",
       "      <th>Dep_Time</th>\n",
       "      <th>Arrival_Time</th>\n",
       "      <th>Duration</th>\n",
       "      <th>Total_Stops</th>\n",
       "      <th>Additional_Info</th>\n",
       "      <th>Price</th>\n",
       "    </tr>\n",
       "  </thead>\n",
       "  <tbody>\n",
       "    <tr>\n",
       "      <th>0</th>\n",
       "      <td>IndiGo</td>\n",
       "      <td>24/03/2019</td>\n",
       "      <td>Banglore</td>\n",
       "      <td>New Delhi</td>\n",
       "      <td>BLR ? DEL</td>\n",
       "      <td>22:20</td>\n",
       "      <td>01:10 22 Mar</td>\n",
       "      <td>2h 50m</td>\n",
       "      <td>non-stop</td>\n",
       "      <td>No info</td>\n",
       "      <td>3897</td>\n",
       "    </tr>\n",
       "    <tr>\n",
       "      <th>1</th>\n",
       "      <td>Air India</td>\n",
       "      <td>1/05/2019</td>\n",
       "      <td>Kolkata</td>\n",
       "      <td>Banglore</td>\n",
       "      <td>CCU ? IXR ? BBI ? BLR</td>\n",
       "      <td>05:50</td>\n",
       "      <td>13:15</td>\n",
       "      <td>7h 25m</td>\n",
       "      <td>2 stops</td>\n",
       "      <td>No info</td>\n",
       "      <td>7662</td>\n",
       "    </tr>\n",
       "    <tr>\n",
       "      <th>2</th>\n",
       "      <td>Jet Airways</td>\n",
       "      <td>9/06/2019</td>\n",
       "      <td>Delhi</td>\n",
       "      <td>Cochin</td>\n",
       "      <td>DEL ? LKO ? BOM ? COK</td>\n",
       "      <td>09:25</td>\n",
       "      <td>04:25 10 Jun</td>\n",
       "      <td>19h</td>\n",
       "      <td>2 stops</td>\n",
       "      <td>No info</td>\n",
       "      <td>13882</td>\n",
       "    </tr>\n",
       "    <tr>\n",
       "      <th>3</th>\n",
       "      <td>IndiGo</td>\n",
       "      <td>12/05/2019</td>\n",
       "      <td>Kolkata</td>\n",
       "      <td>Banglore</td>\n",
       "      <td>CCU ? NAG ? BLR</td>\n",
       "      <td>18:05</td>\n",
       "      <td>23:30</td>\n",
       "      <td>5h 25m</td>\n",
       "      <td>1 stop</td>\n",
       "      <td>No info</td>\n",
       "      <td>6218</td>\n",
       "    </tr>\n",
       "    <tr>\n",
       "      <th>4</th>\n",
       "      <td>IndiGo</td>\n",
       "      <td>01/03/2019</td>\n",
       "      <td>Banglore</td>\n",
       "      <td>New Delhi</td>\n",
       "      <td>BLR ? NAG ? DEL</td>\n",
       "      <td>16:50</td>\n",
       "      <td>21:35</td>\n",
       "      <td>4h 45m</td>\n",
       "      <td>1 stop</td>\n",
       "      <td>No info</td>\n",
       "      <td>13302</td>\n",
       "    </tr>\n",
       "  </tbody>\n",
       "</table>\n",
       "</div>"
      ],
      "text/plain": [
       "       Airline Date_of_Journey    Source Destination                  Route  \\\n",
       "0       IndiGo      24/03/2019  Banglore   New Delhi              BLR ? DEL   \n",
       "1    Air India       1/05/2019   Kolkata    Banglore  CCU ? IXR ? BBI ? BLR   \n",
       "2  Jet Airways       9/06/2019     Delhi      Cochin  DEL ? LKO ? BOM ? COK   \n",
       "3       IndiGo      12/05/2019   Kolkata    Banglore        CCU ? NAG ? BLR   \n",
       "4       IndiGo      01/03/2019  Banglore   New Delhi        BLR ? NAG ? DEL   \n",
       "\n",
       "  Dep_Time  Arrival_Time Duration Total_Stops Additional_Info  Price  \n",
       "0    22:20  01:10 22 Mar   2h 50m    non-stop         No info   3897  \n",
       "1    05:50         13:15   7h 25m     2 stops         No info   7662  \n",
       "2    09:25  04:25 10 Jun      19h     2 stops         No info  13882  \n",
       "3    18:05         23:30   5h 25m      1 stop         No info   6218  \n",
       "4    16:50         21:35   4h 45m      1 stop         No info  13302  "
      ]
     },
     "execution_count": 145,
     "metadata": {},
     "output_type": "execute_result"
    }
   ],
   "source": [
    "df_train.head()"
   ]
  },
  {
   "cell_type": "markdown",
   "metadata": {},
   "source": [
    "- The Train set has target variable-Price.\n",
    "- Number of rows present in test set is less then train set.\n",
    "- All the cols has object values.\n",
    "- Target is continous varibles."
   ]
  },
  {
   "cell_type": "code",
   "execution_count": 147,
   "metadata": {},
   "outputs": [
    {
     "data": {
      "text/plain": [
       "(10683, 11)"
      ]
     },
     "execution_count": 147,
     "metadata": {},
     "output_type": "execute_result"
    }
   ],
   "source": [
    "df_train.shape"
   ]
  },
  {
   "cell_type": "markdown",
   "metadata": {},
   "source": [
    "- Train has 10683 rows and 11 cols\n",
    "- Number of rows is high in train set."
   ]
  },
  {
   "cell_type": "code",
   "execution_count": 149,
   "metadata": {},
   "outputs": [
    {
     "name": "stdout",
     "output_type": "stream",
     "text": [
      "<class 'pandas.core.frame.DataFrame'>\n",
      "RangeIndex: 10683 entries, 0 to 10682\n",
      "Data columns (total 11 columns):\n",
      " #   Column           Non-Null Count  Dtype \n",
      "---  ------           --------------  ----- \n",
      " 0   Airline          10683 non-null  object\n",
      " 1   Date_of_Journey  10683 non-null  object\n",
      " 2   Source           10683 non-null  object\n",
      " 3   Destination      10683 non-null  object\n",
      " 4   Route            10682 non-null  object\n",
      " 5   Dep_Time         10683 non-null  object\n",
      " 6   Arrival_Time     10683 non-null  object\n",
      " 7   Duration         10683 non-null  object\n",
      " 8   Total_Stops      10682 non-null  object\n",
      " 9   Additional_Info  10683 non-null  object\n",
      " 10  Price            10683 non-null  int64 \n",
      "dtypes: int64(1), object(10)\n",
      "memory usage: 918.2+ KB\n"
     ]
    }
   ],
   "source": [
    "df_train.info()"
   ]
  },
  {
   "cell_type": "markdown",
   "metadata": {},
   "source": [
    "- One Int Col which is Price at index 10.\n",
    "- Rest all are object variables."
   ]
  },
  {
   "cell_type": "code",
   "execution_count": 151,
   "metadata": {},
   "outputs": [],
   "source": [
    "df_train['year'] = pd.DatetimeIndex(df_train['Date_of_Journey']).year"
   ]
  },
  {
   "cell_type": "code",
   "execution_count": 152,
   "metadata": {},
   "outputs": [],
   "source": [
    "df_train['month'] = pd.DatetimeIndex(df_train['Date_of_Journey']).month"
   ]
  },
  {
   "cell_type": "code",
   "execution_count": 153,
   "metadata": {},
   "outputs": [],
   "source": [
    "df_train['day'] = pd.DatetimeIndex(df_train['Date_of_Journey']).day"
   ]
  },
  {
   "cell_type": "code",
   "execution_count": 154,
   "metadata": {},
   "outputs": [],
   "source": [
    "df_train.drop(['Date_of_Journey'],axis=1,inplace=True)"
   ]
  },
  {
   "cell_type": "markdown",
   "metadata": {},
   "source": [
    "- the train & test set has one date col \"Date_of_Journey\" which is converted to seprate year, month & day col.\n",
    "- After that \"Date_of_Journey\" is dropped."
   ]
  },
  {
   "cell_type": "code",
   "execution_count": 155,
   "metadata": {},
   "outputs": [
    {
     "data": {
      "text/html": [
       "<div>\n",
       "<style scoped>\n",
       "    .dataframe tbody tr th:only-of-type {\n",
       "        vertical-align: middle;\n",
       "    }\n",
       "\n",
       "    .dataframe tbody tr th {\n",
       "        vertical-align: top;\n",
       "    }\n",
       "\n",
       "    .dataframe thead th {\n",
       "        text-align: right;\n",
       "    }\n",
       "</style>\n",
       "<table border=\"1\" class=\"dataframe\">\n",
       "  <thead>\n",
       "    <tr style=\"text-align: right;\">\n",
       "      <th></th>\n",
       "      <th>Airline</th>\n",
       "      <th>Source</th>\n",
       "      <th>Destination</th>\n",
       "      <th>Route</th>\n",
       "      <th>Dep_Time</th>\n",
       "      <th>Arrival_Time</th>\n",
       "      <th>Duration</th>\n",
       "      <th>Total_Stops</th>\n",
       "      <th>Additional_Info</th>\n",
       "      <th>Price</th>\n",
       "      <th>year</th>\n",
       "      <th>month</th>\n",
       "      <th>day</th>\n",
       "    </tr>\n",
       "  </thead>\n",
       "  <tbody>\n",
       "    <tr>\n",
       "      <th>0</th>\n",
       "      <td>IndiGo</td>\n",
       "      <td>Banglore</td>\n",
       "      <td>New Delhi</td>\n",
       "      <td>BLR ? DEL</td>\n",
       "      <td>22:20</td>\n",
       "      <td>01:10 22 Mar</td>\n",
       "      <td>2h 50m</td>\n",
       "      <td>non-stop</td>\n",
       "      <td>No info</td>\n",
       "      <td>3897</td>\n",
       "      <td>2019</td>\n",
       "      <td>3</td>\n",
       "      <td>24</td>\n",
       "    </tr>\n",
       "    <tr>\n",
       "      <th>1</th>\n",
       "      <td>Air India</td>\n",
       "      <td>Kolkata</td>\n",
       "      <td>Banglore</td>\n",
       "      <td>CCU ? IXR ? BBI ? BLR</td>\n",
       "      <td>05:50</td>\n",
       "      <td>13:15</td>\n",
       "      <td>7h 25m</td>\n",
       "      <td>2 stops</td>\n",
       "      <td>No info</td>\n",
       "      <td>7662</td>\n",
       "      <td>2019</td>\n",
       "      <td>1</td>\n",
       "      <td>5</td>\n",
       "    </tr>\n",
       "    <tr>\n",
       "      <th>2</th>\n",
       "      <td>Jet Airways</td>\n",
       "      <td>Delhi</td>\n",
       "      <td>Cochin</td>\n",
       "      <td>DEL ? LKO ? BOM ? COK</td>\n",
       "      <td>09:25</td>\n",
       "      <td>04:25 10 Jun</td>\n",
       "      <td>19h</td>\n",
       "      <td>2 stops</td>\n",
       "      <td>No info</td>\n",
       "      <td>13882</td>\n",
       "      <td>2019</td>\n",
       "      <td>9</td>\n",
       "      <td>6</td>\n",
       "    </tr>\n",
       "    <tr>\n",
       "      <th>3</th>\n",
       "      <td>IndiGo</td>\n",
       "      <td>Kolkata</td>\n",
       "      <td>Banglore</td>\n",
       "      <td>CCU ? NAG ? BLR</td>\n",
       "      <td>18:05</td>\n",
       "      <td>23:30</td>\n",
       "      <td>5h 25m</td>\n",
       "      <td>1 stop</td>\n",
       "      <td>No info</td>\n",
       "      <td>6218</td>\n",
       "      <td>2019</td>\n",
       "      <td>12</td>\n",
       "      <td>5</td>\n",
       "    </tr>\n",
       "    <tr>\n",
       "      <th>4</th>\n",
       "      <td>IndiGo</td>\n",
       "      <td>Banglore</td>\n",
       "      <td>New Delhi</td>\n",
       "      <td>BLR ? NAG ? DEL</td>\n",
       "      <td>16:50</td>\n",
       "      <td>21:35</td>\n",
       "      <td>4h 45m</td>\n",
       "      <td>1 stop</td>\n",
       "      <td>No info</td>\n",
       "      <td>13302</td>\n",
       "      <td>2019</td>\n",
       "      <td>1</td>\n",
       "      <td>3</td>\n",
       "    </tr>\n",
       "  </tbody>\n",
       "</table>\n",
       "</div>"
      ],
      "text/plain": [
       "       Airline    Source Destination                  Route Dep_Time  \\\n",
       "0       IndiGo  Banglore   New Delhi              BLR ? DEL    22:20   \n",
       "1    Air India   Kolkata    Banglore  CCU ? IXR ? BBI ? BLR    05:50   \n",
       "2  Jet Airways     Delhi      Cochin  DEL ? LKO ? BOM ? COK    09:25   \n",
       "3       IndiGo   Kolkata    Banglore        CCU ? NAG ? BLR    18:05   \n",
       "4       IndiGo  Banglore   New Delhi        BLR ? NAG ? DEL    16:50   \n",
       "\n",
       "   Arrival_Time Duration Total_Stops Additional_Info  Price  year  month  day  \n",
       "0  01:10 22 Mar   2h 50m    non-stop         No info   3897  2019      3   24  \n",
       "1         13:15   7h 25m     2 stops         No info   7662  2019      1    5  \n",
       "2  04:25 10 Jun      19h     2 stops         No info  13882  2019      9    6  \n",
       "3         23:30   5h 25m      1 stop         No info   6218  2019     12    5  \n",
       "4         21:35   4h 45m      1 stop         No info  13302  2019      1    3  "
      ]
     },
     "execution_count": 155,
     "metadata": {},
     "output_type": "execute_result"
    }
   ],
   "source": [
    "df_train.head()"
   ]
  },
  {
   "cell_type": "code",
   "execution_count": 156,
   "metadata": {},
   "outputs": [
    {
     "data": {
      "text/plain": [
       "Airline            0\n",
       "Source             0\n",
       "Destination        0\n",
       "Route              1\n",
       "Dep_Time           0\n",
       "Arrival_Time       0\n",
       "Duration           0\n",
       "Total_Stops        1\n",
       "Additional_Info    0\n",
       "Price              0\n",
       "year               0\n",
       "month              0\n",
       "day                0\n",
       "dtype: int64"
      ]
     },
     "execution_count": 156,
     "metadata": {},
     "output_type": "execute_result"
    }
   ],
   "source": [
    "df_train.isnull().sum()"
   ]
  },
  {
   "cell_type": "markdown",
   "metadata": {},
   "source": [
    "- Route & Total_Stops has one missing value each"
   ]
  },
  {
   "cell_type": "code",
   "execution_count": 157,
   "metadata": {},
   "outputs": [],
   "source": [
    "df_train['Route'].fillna(df_train['Route'].value_counts().idxmax(),inplace=True)"
   ]
  },
  {
   "cell_type": "code",
   "execution_count": 158,
   "metadata": {},
   "outputs": [],
   "source": [
    "df_train['Total_Stops'].fillna(df_train['Total_Stops'].value_counts().idxmax(),inplace=True)"
   ]
  },
  {
   "cell_type": "code",
   "execution_count": 159,
   "metadata": {},
   "outputs": [
    {
     "data": {
      "text/plain": [
       "Airline            0\n",
       "Source             0\n",
       "Destination        0\n",
       "Route              0\n",
       "Dep_Time           0\n",
       "Arrival_Time       0\n",
       "Duration           0\n",
       "Total_Stops        0\n",
       "Additional_Info    0\n",
       "Price              0\n",
       "year               0\n",
       "month              0\n",
       "day                0\n",
       "dtype: int64"
      ]
     },
     "execution_count": 159,
     "metadata": {},
     "output_type": "execute_result"
    }
   ],
   "source": [
    "df_train.isnull().sum()"
   ]
  },
  {
   "cell_type": "markdown",
   "metadata": {},
   "source": [
    "- As the cols is object type missing value is removed by frequency count."
   ]
  },
  {
   "cell_type": "code",
   "execution_count": 160,
   "metadata": {},
   "outputs": [
    {
     "data": {
      "text/plain": [
       "(10683, 13)"
      ]
     },
     "execution_count": 160,
     "metadata": {},
     "output_type": "execute_result"
    }
   ],
   "source": [
    "df_train.shape"
   ]
  },
  {
   "cell_type": "markdown",
   "metadata": {},
   "source": [
    "- The number oc col is increased as the date col is separated into year,month & day cols."
   ]
  },
  {
   "cell_type": "code",
   "execution_count": 161,
   "metadata": {},
   "outputs": [],
   "source": [
    "numerics_var = ['float64', 'int64']\n",
    "numeric_df = df_train.select_dtypes(include=numerics_var)\n",
    "objects_df = df_train.select_dtypes(exclude=numerics_var)"
   ]
  },
  {
   "cell_type": "markdown",
   "metadata": {},
   "source": [
    "- Train set is divided into object & numeric variables.\n",
    "- Where all are the object cols except price is the numeric col."
   ]
  },
  {
   "cell_type": "code",
   "execution_count": 162,
   "metadata": {},
   "outputs": [
    {
     "data": {
      "text/html": [
       "<div>\n",
       "<style scoped>\n",
       "    .dataframe tbody tr th:only-of-type {\n",
       "        vertical-align: middle;\n",
       "    }\n",
       "\n",
       "    .dataframe tbody tr th {\n",
       "        vertical-align: top;\n",
       "    }\n",
       "\n",
       "    .dataframe thead th {\n",
       "        text-align: right;\n",
       "    }\n",
       "</style>\n",
       "<table border=\"1\" class=\"dataframe\">\n",
       "  <thead>\n",
       "    <tr style=\"text-align: right;\">\n",
       "      <th></th>\n",
       "      <th>Airline</th>\n",
       "      <th>Source</th>\n",
       "      <th>Destination</th>\n",
       "      <th>Route</th>\n",
       "      <th>Dep_Time</th>\n",
       "      <th>Arrival_Time</th>\n",
       "      <th>Duration</th>\n",
       "      <th>Total_Stops</th>\n",
       "      <th>Additional_Info</th>\n",
       "    </tr>\n",
       "  </thead>\n",
       "  <tbody>\n",
       "    <tr>\n",
       "      <th>0</th>\n",
       "      <td>IndiGo</td>\n",
       "      <td>Banglore</td>\n",
       "      <td>New Delhi</td>\n",
       "      <td>BLR ? DEL</td>\n",
       "      <td>22:20</td>\n",
       "      <td>01:10 22 Mar</td>\n",
       "      <td>2h 50m</td>\n",
       "      <td>non-stop</td>\n",
       "      <td>No info</td>\n",
       "    </tr>\n",
       "    <tr>\n",
       "      <th>1</th>\n",
       "      <td>Air India</td>\n",
       "      <td>Kolkata</td>\n",
       "      <td>Banglore</td>\n",
       "      <td>CCU ? IXR ? BBI ? BLR</td>\n",
       "      <td>05:50</td>\n",
       "      <td>13:15</td>\n",
       "      <td>7h 25m</td>\n",
       "      <td>2 stops</td>\n",
       "      <td>No info</td>\n",
       "    </tr>\n",
       "    <tr>\n",
       "      <th>2</th>\n",
       "      <td>Jet Airways</td>\n",
       "      <td>Delhi</td>\n",
       "      <td>Cochin</td>\n",
       "      <td>DEL ? LKO ? BOM ? COK</td>\n",
       "      <td>09:25</td>\n",
       "      <td>04:25 10 Jun</td>\n",
       "      <td>19h</td>\n",
       "      <td>2 stops</td>\n",
       "      <td>No info</td>\n",
       "    </tr>\n",
       "    <tr>\n",
       "      <th>3</th>\n",
       "      <td>IndiGo</td>\n",
       "      <td>Kolkata</td>\n",
       "      <td>Banglore</td>\n",
       "      <td>CCU ? NAG ? BLR</td>\n",
       "      <td>18:05</td>\n",
       "      <td>23:30</td>\n",
       "      <td>5h 25m</td>\n",
       "      <td>1 stop</td>\n",
       "      <td>No info</td>\n",
       "    </tr>\n",
       "    <tr>\n",
       "      <th>4</th>\n",
       "      <td>IndiGo</td>\n",
       "      <td>Banglore</td>\n",
       "      <td>New Delhi</td>\n",
       "      <td>BLR ? NAG ? DEL</td>\n",
       "      <td>16:50</td>\n",
       "      <td>21:35</td>\n",
       "      <td>4h 45m</td>\n",
       "      <td>1 stop</td>\n",
       "      <td>No info</td>\n",
       "    </tr>\n",
       "    <tr>\n",
       "      <th>...</th>\n",
       "      <td>...</td>\n",
       "      <td>...</td>\n",
       "      <td>...</td>\n",
       "      <td>...</td>\n",
       "      <td>...</td>\n",
       "      <td>...</td>\n",
       "      <td>...</td>\n",
       "      <td>...</td>\n",
       "      <td>...</td>\n",
       "    </tr>\n",
       "    <tr>\n",
       "      <th>10678</th>\n",
       "      <td>Air Asia</td>\n",
       "      <td>Kolkata</td>\n",
       "      <td>Banglore</td>\n",
       "      <td>CCU ? BLR</td>\n",
       "      <td>19:55</td>\n",
       "      <td>22:25</td>\n",
       "      <td>2h 30m</td>\n",
       "      <td>non-stop</td>\n",
       "      <td>No info</td>\n",
       "    </tr>\n",
       "    <tr>\n",
       "      <th>10679</th>\n",
       "      <td>Air India</td>\n",
       "      <td>Kolkata</td>\n",
       "      <td>Banglore</td>\n",
       "      <td>CCU ? BLR</td>\n",
       "      <td>20:45</td>\n",
       "      <td>23:20</td>\n",
       "      <td>2h 35m</td>\n",
       "      <td>non-stop</td>\n",
       "      <td>No info</td>\n",
       "    </tr>\n",
       "    <tr>\n",
       "      <th>10680</th>\n",
       "      <td>Jet Airways</td>\n",
       "      <td>Banglore</td>\n",
       "      <td>Delhi</td>\n",
       "      <td>BLR ? DEL</td>\n",
       "      <td>08:20</td>\n",
       "      <td>11:20</td>\n",
       "      <td>3h</td>\n",
       "      <td>non-stop</td>\n",
       "      <td>No info</td>\n",
       "    </tr>\n",
       "    <tr>\n",
       "      <th>10681</th>\n",
       "      <td>Vistara</td>\n",
       "      <td>Banglore</td>\n",
       "      <td>New Delhi</td>\n",
       "      <td>BLR ? DEL</td>\n",
       "      <td>11:30</td>\n",
       "      <td>14:10</td>\n",
       "      <td>2h 40m</td>\n",
       "      <td>non-stop</td>\n",
       "      <td>No info</td>\n",
       "    </tr>\n",
       "    <tr>\n",
       "      <th>10682</th>\n",
       "      <td>Air India</td>\n",
       "      <td>Delhi</td>\n",
       "      <td>Cochin</td>\n",
       "      <td>DEL ? GOI ? BOM ? COK</td>\n",
       "      <td>10:55</td>\n",
       "      <td>19:15</td>\n",
       "      <td>8h 20m</td>\n",
       "      <td>2 stops</td>\n",
       "      <td>No info</td>\n",
       "    </tr>\n",
       "  </tbody>\n",
       "</table>\n",
       "<p>10683 rows × 9 columns</p>\n",
       "</div>"
      ],
      "text/plain": [
       "           Airline    Source Destination                  Route Dep_Time  \\\n",
       "0           IndiGo  Banglore   New Delhi              BLR ? DEL    22:20   \n",
       "1        Air India   Kolkata    Banglore  CCU ? IXR ? BBI ? BLR    05:50   \n",
       "2      Jet Airways     Delhi      Cochin  DEL ? LKO ? BOM ? COK    09:25   \n",
       "3           IndiGo   Kolkata    Banglore        CCU ? NAG ? BLR    18:05   \n",
       "4           IndiGo  Banglore   New Delhi        BLR ? NAG ? DEL    16:50   \n",
       "...            ...       ...         ...                    ...      ...   \n",
       "10678     Air Asia   Kolkata    Banglore              CCU ? BLR    19:55   \n",
       "10679    Air India   Kolkata    Banglore              CCU ? BLR    20:45   \n",
       "10680  Jet Airways  Banglore       Delhi              BLR ? DEL    08:20   \n",
       "10681      Vistara  Banglore   New Delhi              BLR ? DEL    11:30   \n",
       "10682    Air India     Delhi      Cochin  DEL ? GOI ? BOM ? COK    10:55   \n",
       "\n",
       "       Arrival_Time Duration Total_Stops Additional_Info  \n",
       "0      01:10 22 Mar   2h 50m    non-stop         No info  \n",
       "1             13:15   7h 25m     2 stops         No info  \n",
       "2      04:25 10 Jun      19h     2 stops         No info  \n",
       "3             23:30   5h 25m      1 stop         No info  \n",
       "4             21:35   4h 45m      1 stop         No info  \n",
       "...             ...      ...         ...             ...  \n",
       "10678         22:25   2h 30m    non-stop         No info  \n",
       "10679         23:20   2h 35m    non-stop         No info  \n",
       "10680         11:20       3h    non-stop         No info  \n",
       "10681         14:10   2h 40m    non-stop         No info  \n",
       "10682         19:15   8h 20m     2 stops         No info  \n",
       "\n",
       "[10683 rows x 9 columns]"
      ]
     },
     "execution_count": 162,
     "metadata": {},
     "output_type": "execute_result"
    }
   ],
   "source": [
    "objects_df"
   ]
  },
  {
   "cell_type": "code",
   "execution_count": 163,
   "metadata": {},
   "outputs": [
    {
     "data": {
      "text/html": [
       "<div>\n",
       "<style scoped>\n",
       "    .dataframe tbody tr th:only-of-type {\n",
       "        vertical-align: middle;\n",
       "    }\n",
       "\n",
       "    .dataframe tbody tr th {\n",
       "        vertical-align: top;\n",
       "    }\n",
       "\n",
       "    .dataframe thead th {\n",
       "        text-align: right;\n",
       "    }\n",
       "</style>\n",
       "<table border=\"1\" class=\"dataframe\">\n",
       "  <thead>\n",
       "    <tr style=\"text-align: right;\">\n",
       "      <th></th>\n",
       "      <th>Airline</th>\n",
       "      <th>Source</th>\n",
       "      <th>Destination</th>\n",
       "      <th>Route</th>\n",
       "      <th>Dep_Time</th>\n",
       "      <th>Arrival_Time</th>\n",
       "      <th>Duration</th>\n",
       "      <th>Total_Stops</th>\n",
       "      <th>Additional_Info</th>\n",
       "    </tr>\n",
       "  </thead>\n",
       "  <tbody>\n",
       "    <tr>\n",
       "      <th>count</th>\n",
       "      <td>10683</td>\n",
       "      <td>10683</td>\n",
       "      <td>10683</td>\n",
       "      <td>10683</td>\n",
       "      <td>10683</td>\n",
       "      <td>10683</td>\n",
       "      <td>10683</td>\n",
       "      <td>10683</td>\n",
       "      <td>10683</td>\n",
       "    </tr>\n",
       "    <tr>\n",
       "      <th>unique</th>\n",
       "      <td>12</td>\n",
       "      <td>5</td>\n",
       "      <td>6</td>\n",
       "      <td>128</td>\n",
       "      <td>222</td>\n",
       "      <td>1343</td>\n",
       "      <td>368</td>\n",
       "      <td>5</td>\n",
       "      <td>10</td>\n",
       "    </tr>\n",
       "    <tr>\n",
       "      <th>top</th>\n",
       "      <td>Jet Airways</td>\n",
       "      <td>Delhi</td>\n",
       "      <td>Cochin</td>\n",
       "      <td>DEL ? BOM ? COK</td>\n",
       "      <td>18:55</td>\n",
       "      <td>19:00</td>\n",
       "      <td>2h 50m</td>\n",
       "      <td>1 stop</td>\n",
       "      <td>No info</td>\n",
       "    </tr>\n",
       "    <tr>\n",
       "      <th>freq</th>\n",
       "      <td>3849</td>\n",
       "      <td>4537</td>\n",
       "      <td>4537</td>\n",
       "      <td>2377</td>\n",
       "      <td>233</td>\n",
       "      <td>423</td>\n",
       "      <td>550</td>\n",
       "      <td>5626</td>\n",
       "      <td>8345</td>\n",
       "    </tr>\n",
       "  </tbody>\n",
       "</table>\n",
       "</div>"
      ],
      "text/plain": [
       "            Airline Source Destination            Route Dep_Time Arrival_Time  \\\n",
       "count         10683  10683       10683            10683    10683        10683   \n",
       "unique           12      5           6              128      222         1343   \n",
       "top     Jet Airways  Delhi      Cochin  DEL ? BOM ? COK    18:55        19:00   \n",
       "freq           3849   4537        4537             2377      233          423   \n",
       "\n",
       "       Duration Total_Stops Additional_Info  \n",
       "count     10683       10683           10683  \n",
       "unique      368           5              10  \n",
       "top      2h 50m      1 stop         No info  \n",
       "freq        550        5626            8345  "
      ]
     },
     "execution_count": 163,
     "metadata": {},
     "output_type": "execute_result"
    }
   ],
   "source": [
    "objects_df.describe()"
   ]
  },
  {
   "cell_type": "markdown",
   "metadata": {},
   "source": [
    "- There are 12 Airlines operator where jetairways freq used is highest.\n",
    "- The most route trafic is from DEL-BOM_COK which tops the counts.\n",
    "- The datset shows highest destination count is Cochin.\n",
    "- The highest duration of travel is 2h50m whose freq count is highest."
   ]
  },
  {
   "cell_type": "code",
   "execution_count": 164,
   "metadata": {},
   "outputs": [],
   "source": [
    "# categorical variable encoding\n",
    "cat_vars_list = objects_df.columns.tolist()\n",
    "## Label Encoder\n",
    "from sklearn.preprocessing import LabelEncoder\n",
    "\n",
    "le = LabelEncoder()\n",
    "for i in cat_vars_list :\n",
    "    df_train[i] = le.fit_transform(df_train[i])"
   ]
  },
  {
   "cell_type": "markdown",
   "metadata": {},
   "source": [
    "-  Object col of train set is label encoded with train dataframe for further analysis."
   ]
  },
  {
   "cell_type": "code",
   "execution_count": 165,
   "metadata": {},
   "outputs": [
    {
     "data": {
      "text/html": [
       "<div>\n",
       "<style scoped>\n",
       "    .dataframe tbody tr th:only-of-type {\n",
       "        vertical-align: middle;\n",
       "    }\n",
       "\n",
       "    .dataframe tbody tr th {\n",
       "        vertical-align: top;\n",
       "    }\n",
       "\n",
       "    .dataframe thead th {\n",
       "        text-align: right;\n",
       "    }\n",
       "</style>\n",
       "<table border=\"1\" class=\"dataframe\">\n",
       "  <thead>\n",
       "    <tr style=\"text-align: right;\">\n",
       "      <th></th>\n",
       "      <th>Airline</th>\n",
       "      <th>Source</th>\n",
       "      <th>Destination</th>\n",
       "      <th>Route</th>\n",
       "      <th>Dep_Time</th>\n",
       "      <th>Arrival_Time</th>\n",
       "      <th>Duration</th>\n",
       "      <th>Total_Stops</th>\n",
       "      <th>Additional_Info</th>\n",
       "      <th>Price</th>\n",
       "      <th>year</th>\n",
       "      <th>month</th>\n",
       "      <th>day</th>\n",
       "    </tr>\n",
       "  </thead>\n",
       "  <tbody>\n",
       "    <tr>\n",
       "      <th>0</th>\n",
       "      <td>3</td>\n",
       "      <td>0</td>\n",
       "      <td>5</td>\n",
       "      <td>18</td>\n",
       "      <td>211</td>\n",
       "      <td>233</td>\n",
       "      <td>240</td>\n",
       "      <td>4</td>\n",
       "      <td>8</td>\n",
       "      <td>3897</td>\n",
       "      <td>2019</td>\n",
       "      <td>3</td>\n",
       "      <td>24</td>\n",
       "    </tr>\n",
       "    <tr>\n",
       "      <th>1</th>\n",
       "      <td>1</td>\n",
       "      <td>3</td>\n",
       "      <td>0</td>\n",
       "      <td>84</td>\n",
       "      <td>31</td>\n",
       "      <td>906</td>\n",
       "      <td>336</td>\n",
       "      <td>1</td>\n",
       "      <td>8</td>\n",
       "      <td>7662</td>\n",
       "      <td>2019</td>\n",
       "      <td>1</td>\n",
       "      <td>5</td>\n",
       "    </tr>\n",
       "    <tr>\n",
       "      <th>2</th>\n",
       "      <td>4</td>\n",
       "      <td>2</td>\n",
       "      <td>1</td>\n",
       "      <td>118</td>\n",
       "      <td>70</td>\n",
       "      <td>413</td>\n",
       "      <td>106</td>\n",
       "      <td>1</td>\n",
       "      <td>8</td>\n",
       "      <td>13882</td>\n",
       "      <td>2019</td>\n",
       "      <td>9</td>\n",
       "      <td>6</td>\n",
       "    </tr>\n",
       "    <tr>\n",
       "      <th>3</th>\n",
       "      <td>3</td>\n",
       "      <td>3</td>\n",
       "      <td>0</td>\n",
       "      <td>91</td>\n",
       "      <td>164</td>\n",
       "      <td>1324</td>\n",
       "      <td>311</td>\n",
       "      <td>0</td>\n",
       "      <td>8</td>\n",
       "      <td>6218</td>\n",
       "      <td>2019</td>\n",
       "      <td>12</td>\n",
       "      <td>5</td>\n",
       "    </tr>\n",
       "    <tr>\n",
       "      <th>4</th>\n",
       "      <td>3</td>\n",
       "      <td>0</td>\n",
       "      <td>5</td>\n",
       "      <td>29</td>\n",
       "      <td>149</td>\n",
       "      <td>1237</td>\n",
       "      <td>303</td>\n",
       "      <td>0</td>\n",
       "      <td>8</td>\n",
       "      <td>13302</td>\n",
       "      <td>2019</td>\n",
       "      <td>1</td>\n",
       "      <td>3</td>\n",
       "    </tr>\n",
       "  </tbody>\n",
       "</table>\n",
       "</div>"
      ],
      "text/plain": [
       "   Airline  Source  Destination  Route  Dep_Time  Arrival_Time  Duration  \\\n",
       "0        3       0            5     18       211           233       240   \n",
       "1        1       3            0     84        31           906       336   \n",
       "2        4       2            1    118        70           413       106   \n",
       "3        3       3            0     91       164          1324       311   \n",
       "4        3       0            5     29       149          1237       303   \n",
       "\n",
       "   Total_Stops  Additional_Info  Price  year  month  day  \n",
       "0            4                8   3897  2019      3   24  \n",
       "1            1                8   7662  2019      1    5  \n",
       "2            1                8  13882  2019      9    6  \n",
       "3            0                8   6218  2019     12    5  \n",
       "4            0                8  13302  2019      1    3  "
      ]
     },
     "execution_count": 165,
     "metadata": {},
     "output_type": "execute_result"
    }
   ],
   "source": [
    "df_train.head()"
   ]
  },
  {
   "cell_type": "markdown",
   "metadata": {},
   "source": [
    "- train dataframe shows label encoded values."
   ]
  },
  {
   "cell_type": "code",
   "execution_count": 166,
   "metadata": {},
   "outputs": [
    {
     "data": {
      "text/plain": [
       "Airline            0\n",
       "Source             0\n",
       "Destination        0\n",
       "Route              0\n",
       "Dep_Time           0\n",
       "Arrival_Time       0\n",
       "Duration           0\n",
       "Total_Stops        0\n",
       "Additional_Info    0\n",
       "Price              0\n",
       "year               0\n",
       "month              0\n",
       "day                0\n",
       "dtype: int64"
      ]
     },
     "execution_count": 166,
     "metadata": {},
     "output_type": "execute_result"
    }
   ],
   "source": [
    "df_train.isnull().sum()"
   ]
  },
  {
   "cell_type": "markdown",
   "metadata": {},
   "source": [
    "- Missing value is not seen after label encoding and already removed before labelencoder applied to train dataframe."
   ]
  },
  {
   "cell_type": "code",
   "execution_count": 167,
   "metadata": {},
   "outputs": [
    {
     "data": {
      "text/html": [
       "<div>\n",
       "<style scoped>\n",
       "    .dataframe tbody tr th:only-of-type {\n",
       "        vertical-align: middle;\n",
       "    }\n",
       "\n",
       "    .dataframe tbody tr th {\n",
       "        vertical-align: top;\n",
       "    }\n",
       "\n",
       "    .dataframe thead th {\n",
       "        text-align: right;\n",
       "    }\n",
       "</style>\n",
       "<table border=\"1\" class=\"dataframe\">\n",
       "  <thead>\n",
       "    <tr style=\"text-align: right;\">\n",
       "      <th></th>\n",
       "      <th>Airline</th>\n",
       "      <th>Source</th>\n",
       "      <th>Destination</th>\n",
       "      <th>Route</th>\n",
       "      <th>Dep_Time</th>\n",
       "      <th>Arrival_Time</th>\n",
       "      <th>Duration</th>\n",
       "      <th>Total_Stops</th>\n",
       "      <th>Additional_Info</th>\n",
       "      <th>Price</th>\n",
       "      <th>year</th>\n",
       "      <th>month</th>\n",
       "      <th>day</th>\n",
       "    </tr>\n",
       "  </thead>\n",
       "  <tbody>\n",
       "    <tr>\n",
       "      <th>Airline</th>\n",
       "      <td>1.000000</td>\n",
       "      <td>-0.013401</td>\n",
       "      <td>0.018479</td>\n",
       "      <td>0.025118</td>\n",
       "      <td>-0.039439</td>\n",
       "      <td>-0.015733</td>\n",
       "      <td>0.027917</td>\n",
       "      <td>0.036064</td>\n",
       "      <td>-0.060802</td>\n",
       "      <td>-0.039520</td>\n",
       "      <td>NaN</td>\n",
       "      <td>-0.007918</td>\n",
       "      <td>0.031218</td>\n",
       "    </tr>\n",
       "    <tr>\n",
       "      <th>Source</th>\n",
       "      <td>-0.013401</td>\n",
       "      <td>1.000000</td>\n",
       "      <td>-0.592574</td>\n",
       "      <td>0.403403</td>\n",
       "      <td>0.055191</td>\n",
       "      <td>0.020844</td>\n",
       "      <td>-0.192009</td>\n",
       "      <td>-0.225601</td>\n",
       "      <td>-0.022107</td>\n",
       "      <td>0.015998</td>\n",
       "      <td>NaN</td>\n",
       "      <td>0.063052</td>\n",
       "      <td>0.007560</td>\n",
       "    </tr>\n",
       "    <tr>\n",
       "      <th>Destination</th>\n",
       "      <td>0.018479</td>\n",
       "      <td>-0.592574</td>\n",
       "      <td>1.000000</td>\n",
       "      <td>-0.461183</td>\n",
       "      <td>-0.063608</td>\n",
       "      <td>-0.036830</td>\n",
       "      <td>0.022037</td>\n",
       "      <td>0.337883</td>\n",
       "      <td>0.026806</td>\n",
       "      <td>-0.071112</td>\n",
       "      <td>NaN</td>\n",
       "      <td>-0.105039</td>\n",
       "      <td>-0.052076</td>\n",
       "    </tr>\n",
       "    <tr>\n",
       "      <th>Route</th>\n",
       "      <td>0.025118</td>\n",
       "      <td>0.403403</td>\n",
       "      <td>-0.461183</td>\n",
       "      <td>1.000000</td>\n",
       "      <td>-0.082051</td>\n",
       "      <td>0.010560</td>\n",
       "      <td>-0.062097</td>\n",
       "      <td>-0.437783</td>\n",
       "      <td>0.035188</td>\n",
       "      <td>0.164118</td>\n",
       "      <td>NaN</td>\n",
       "      <td>0.042204</td>\n",
       "      <td>0.096530</td>\n",
       "    </tr>\n",
       "    <tr>\n",
       "      <th>Dep_Time</th>\n",
       "      <td>-0.039439</td>\n",
       "      <td>0.055191</td>\n",
       "      <td>-0.063608</td>\n",
       "      <td>-0.082051</td>\n",
       "      <td>1.000000</td>\n",
       "      <td>-0.023294</td>\n",
       "      <td>0.041619</td>\n",
       "      <td>0.044687</td>\n",
       "      <td>-0.052853</td>\n",
       "      <td>0.002949</td>\n",
       "      <td>NaN</td>\n",
       "      <td>0.027747</td>\n",
       "      <td>-0.003399</td>\n",
       "    </tr>\n",
       "    <tr>\n",
       "      <th>Arrival_Time</th>\n",
       "      <td>-0.015733</td>\n",
       "      <td>0.020844</td>\n",
       "      <td>-0.036830</td>\n",
       "      <td>0.010560</td>\n",
       "      <td>-0.023294</td>\n",
       "      <td>1.000000</td>\n",
       "      <td>0.027746</td>\n",
       "      <td>-0.097132</td>\n",
       "      <td>0.017505</td>\n",
       "      <td>0.027377</td>\n",
       "      <td>NaN</td>\n",
       "      <td>-0.002303</td>\n",
       "      <td>0.001485</td>\n",
       "    </tr>\n",
       "    <tr>\n",
       "      <th>Duration</th>\n",
       "      <td>0.027917</td>\n",
       "      <td>-0.192009</td>\n",
       "      <td>0.022037</td>\n",
       "      <td>-0.062097</td>\n",
       "      <td>0.041619</td>\n",
       "      <td>0.027746</td>\n",
       "      <td>1.000000</td>\n",
       "      <td>0.175207</td>\n",
       "      <td>0.080151</td>\n",
       "      <td>-0.144270</td>\n",
       "      <td>NaN</td>\n",
       "      <td>-0.038864</td>\n",
       "      <td>0.024767</td>\n",
       "    </tr>\n",
       "    <tr>\n",
       "      <th>Total_Stops</th>\n",
       "      <td>0.036064</td>\n",
       "      <td>-0.225601</td>\n",
       "      <td>0.337883</td>\n",
       "      <td>-0.437783</td>\n",
       "      <td>0.044687</td>\n",
       "      <td>-0.097132</td>\n",
       "      <td>0.175207</td>\n",
       "      <td>1.000000</td>\n",
       "      <td>0.164009</td>\n",
       "      <td>-0.571174</td>\n",
       "      <td>NaN</td>\n",
       "      <td>-0.056524</td>\n",
       "      <td>0.043907</td>\n",
       "    </tr>\n",
       "    <tr>\n",
       "      <th>Additional_Info</th>\n",
       "      <td>-0.060802</td>\n",
       "      <td>-0.022107</td>\n",
       "      <td>0.026806</td>\n",
       "      <td>0.035188</td>\n",
       "      <td>-0.052853</td>\n",
       "      <td>0.017505</td>\n",
       "      <td>0.080151</td>\n",
       "      <td>0.164009</td>\n",
       "      <td>1.000000</td>\n",
       "      <td>-0.065478</td>\n",
       "      <td>NaN</td>\n",
       "      <td>-0.009098</td>\n",
       "      <td>-0.019456</td>\n",
       "    </tr>\n",
       "    <tr>\n",
       "      <th>Price</th>\n",
       "      <td>-0.039520</td>\n",
       "      <td>0.015998</td>\n",
       "      <td>-0.071112</td>\n",
       "      <td>0.164118</td>\n",
       "      <td>0.002949</td>\n",
       "      <td>0.027377</td>\n",
       "      <td>-0.144270</td>\n",
       "      <td>-0.571174</td>\n",
       "      <td>-0.065478</td>\n",
       "      <td>1.000000</td>\n",
       "      <td>NaN</td>\n",
       "      <td>0.010700</td>\n",
       "      <td>-0.165412</td>\n",
       "    </tr>\n",
       "    <tr>\n",
       "      <th>year</th>\n",
       "      <td>NaN</td>\n",
       "      <td>NaN</td>\n",
       "      <td>NaN</td>\n",
       "      <td>NaN</td>\n",
       "      <td>NaN</td>\n",
       "      <td>NaN</td>\n",
       "      <td>NaN</td>\n",
       "      <td>NaN</td>\n",
       "      <td>NaN</td>\n",
       "      <td>NaN</td>\n",
       "      <td>NaN</td>\n",
       "      <td>NaN</td>\n",
       "      <td>NaN</td>\n",
       "    </tr>\n",
       "    <tr>\n",
       "      <th>month</th>\n",
       "      <td>-0.007918</td>\n",
       "      <td>0.063052</td>\n",
       "      <td>-0.105039</td>\n",
       "      <td>0.042204</td>\n",
       "      <td>0.027747</td>\n",
       "      <td>-0.002303</td>\n",
       "      <td>-0.038864</td>\n",
       "      <td>-0.056524</td>\n",
       "      <td>-0.009098</td>\n",
       "      <td>0.010700</td>\n",
       "      <td>NaN</td>\n",
       "      <td>1.000000</td>\n",
       "      <td>-0.264899</td>\n",
       "    </tr>\n",
       "    <tr>\n",
       "      <th>day</th>\n",
       "      <td>0.031218</td>\n",
       "      <td>0.007560</td>\n",
       "      <td>-0.052076</td>\n",
       "      <td>0.096530</td>\n",
       "      <td>-0.003399</td>\n",
       "      <td>0.001485</td>\n",
       "      <td>0.024767</td>\n",
       "      <td>0.043907</td>\n",
       "      <td>-0.019456</td>\n",
       "      <td>-0.165412</td>\n",
       "      <td>NaN</td>\n",
       "      <td>-0.264899</td>\n",
       "      <td>1.000000</td>\n",
       "    </tr>\n",
       "  </tbody>\n",
       "</table>\n",
       "</div>"
      ],
      "text/plain": [
       "                  Airline    Source  Destination     Route  Dep_Time  \\\n",
       "Airline          1.000000 -0.013401     0.018479  0.025118 -0.039439   \n",
       "Source          -0.013401  1.000000    -0.592574  0.403403  0.055191   \n",
       "Destination      0.018479 -0.592574     1.000000 -0.461183 -0.063608   \n",
       "Route            0.025118  0.403403    -0.461183  1.000000 -0.082051   \n",
       "Dep_Time        -0.039439  0.055191    -0.063608 -0.082051  1.000000   \n",
       "Arrival_Time    -0.015733  0.020844    -0.036830  0.010560 -0.023294   \n",
       "Duration         0.027917 -0.192009     0.022037 -0.062097  0.041619   \n",
       "Total_Stops      0.036064 -0.225601     0.337883 -0.437783  0.044687   \n",
       "Additional_Info -0.060802 -0.022107     0.026806  0.035188 -0.052853   \n",
       "Price           -0.039520  0.015998    -0.071112  0.164118  0.002949   \n",
       "year                  NaN       NaN          NaN       NaN       NaN   \n",
       "month           -0.007918  0.063052    -0.105039  0.042204  0.027747   \n",
       "day              0.031218  0.007560    -0.052076  0.096530 -0.003399   \n",
       "\n",
       "                 Arrival_Time  Duration  Total_Stops  Additional_Info  \\\n",
       "Airline             -0.015733  0.027917     0.036064        -0.060802   \n",
       "Source               0.020844 -0.192009    -0.225601        -0.022107   \n",
       "Destination         -0.036830  0.022037     0.337883         0.026806   \n",
       "Route                0.010560 -0.062097    -0.437783         0.035188   \n",
       "Dep_Time            -0.023294  0.041619     0.044687        -0.052853   \n",
       "Arrival_Time         1.000000  0.027746    -0.097132         0.017505   \n",
       "Duration             0.027746  1.000000     0.175207         0.080151   \n",
       "Total_Stops         -0.097132  0.175207     1.000000         0.164009   \n",
       "Additional_Info      0.017505  0.080151     0.164009         1.000000   \n",
       "Price                0.027377 -0.144270    -0.571174        -0.065478   \n",
       "year                      NaN       NaN          NaN              NaN   \n",
       "month               -0.002303 -0.038864    -0.056524        -0.009098   \n",
       "day                  0.001485  0.024767     0.043907        -0.019456   \n",
       "\n",
       "                    Price  year     month       day  \n",
       "Airline         -0.039520   NaN -0.007918  0.031218  \n",
       "Source           0.015998   NaN  0.063052  0.007560  \n",
       "Destination     -0.071112   NaN -0.105039 -0.052076  \n",
       "Route            0.164118   NaN  0.042204  0.096530  \n",
       "Dep_Time         0.002949   NaN  0.027747 -0.003399  \n",
       "Arrival_Time     0.027377   NaN -0.002303  0.001485  \n",
       "Duration        -0.144270   NaN -0.038864  0.024767  \n",
       "Total_Stops     -0.571174   NaN -0.056524  0.043907  \n",
       "Additional_Info -0.065478   NaN -0.009098 -0.019456  \n",
       "Price            1.000000   NaN  0.010700 -0.165412  \n",
       "year                  NaN   NaN       NaN       NaN  \n",
       "month            0.010700   NaN  1.000000 -0.264899  \n",
       "day             -0.165412   NaN -0.264899  1.000000  "
      ]
     },
     "execution_count": 167,
     "metadata": {},
     "output_type": "execute_result"
    }
   ],
   "source": [
    "corr = df_train.corr()\n",
    "corr"
   ]
  },
  {
   "cell_type": "markdown",
   "metadata": {},
   "source": [
    "-  All the variables is categorical variables.\n",
    "-  Corr of cat variables is not least important which is not effecting model performance.\n",
    "-  Only target col-Price  is continous\n",
    "-  Corr is less significant in cat variables."
   ]
  },
  {
   "cell_type": "code",
   "execution_count": 168,
   "metadata": {},
   "outputs": [
    {
     "data": {
      "text/plain": [
       "<AxesSubplot:>"
      ]
     },
     "execution_count": 168,
     "metadata": {},
     "output_type": "execute_result"
    },
    {
     "data": {
      "image/png": "[encoded data removed]",
      "text/plain": [
       "<Figure size 2880x864 with 2 Axes>"
      ]
     },
     "metadata": {},
     "output_type": "display_data"
    }
   ],
   "source": [
    "plt.figure(figsize=(40,12))\n",
    "sns.heatmap(corr,cmap='YlOrRd_r', annot=True)"
   ]
  },
  {
   "cell_type": "markdown",
   "metadata": {},
   "source": [
    "-  All the variables is categorical variables.\n",
    "-  Corr of cat variables is not least important which is not effecting model performance.\n",
    "-  Only target col-Price  is continous\n",
    "-  Corr is less significant in cat variables."
   ]
  },
  {
   "cell_type": "code",
   "execution_count": 169,
   "metadata": {},
   "outputs": [
    {
     "data": {
      "text/plain": [
       "0    2019\n",
       "1    2019\n",
       "2    2019\n",
       "3    2019\n",
       "4    2019\n",
       "Name: year, dtype: int64"
      ]
     },
     "execution_count": 169,
     "metadata": {},
     "output_type": "execute_result"
    }
   ],
   "source": [
    "df_train['year'].head()"
   ]
  },
  {
   "cell_type": "markdown",
   "metadata": {},
   "source": [
    "-  The blank row in above plot is because year is same in the dataset which is 2019 as shown above."
   ]
  },
  {
   "cell_type": "markdown",
   "metadata": {},
   "source": [
    "# Skewness"
   ]
  },
  {
   "cell_type": "code",
   "execution_count": 170,
   "metadata": {},
   "outputs": [
    {
     "data": {
      "text/plain": [
       "Airline            0.731095\n",
       "Source            -0.424054\n",
       "Destination        1.244169\n",
       "Route             -0.502066\n",
       "Dep_Time           0.195055\n",
       "Arrival_Time      -0.606530\n",
       "Duration          -0.213427\n",
       "Total_Stops        0.631681\n",
       "Additional_Info   -1.779838\n",
       "Price              1.812552\n",
       "year               0.000000\n",
       "month              0.629540\n",
       "day                0.367373\n",
       "dtype: float64"
      ]
     },
     "execution_count": 170,
     "metadata": {},
     "output_type": "execute_result"
    }
   ],
   "source": [
    "df_train.skew()"
   ]
  },
  {
   "cell_type": "code",
   "execution_count": null,
   "metadata": {},
   "outputs": [],
   "source": [
    "- Only Target col is continous which is Right skewed data."
   ]
  },
  {
   "cell_type": "code",
   "execution_count": 171,
   "metadata": {},
   "outputs": [
    {
     "data": {
      "text/plain": [
       "<AxesSubplot:xlabel='Price', ylabel='Density'>"
      ]
     },
     "execution_count": 171,
     "metadata": {},
     "output_type": "execute_result"
    },
    {
     "data": {
      "image/png": "[encoded data removed]",
      "text/plain": [
       "<Figure size 432x288 with 1 Axes>"
      ]
     },
     "metadata": {},
     "output_type": "display_data"
    }
   ],
   "source": [
    "sns.distplot(df_train['Price'])"
   ]
  },
  {
   "cell_type": "markdown",
   "metadata": {},
   "source": [
    "- Only Target col is continous which is Right skewed data."
   ]
  },
  {
   "cell_type": "code",
   "execution_count": 172,
   "metadata": {},
   "outputs": [
    {
     "data": {
      "text/plain": [
       "Airline            0.731095\n",
       "Source            -0.424054\n",
       "Destination        1.244169\n",
       "Route             -0.502066\n",
       "Dep_Time           0.195055\n",
       "Arrival_Time      -0.606530\n",
       "Duration          -0.213427\n",
       "Total_Stops        0.631681\n",
       "Additional_Info   -1.779838\n",
       "Price              0.431747\n",
       "year               0.000000\n",
       "month              0.629540\n",
       "day                0.367373\n",
       "dtype: float64"
      ]
     },
     "execution_count": 172,
     "metadata": {},
     "output_type": "execute_result"
    },
    {
     "data": {
      "image/png": "[encoded data removed]",
      "text/plain": [
       "<Figure size 432x288 with 1 Axes>"
      ]
     },
     "metadata": {},
     "output_type": "display_data"
    }
   ],
   "source": [
    "import numpy as np\n",
    "sns.distplot(df_train['Price'])\n",
    "df_train['Price']=np.sqrt(df_train['Price'])\n",
    "sns.distplot(df_train['Price'])\n",
    "df_train.skew()"
   ]
  },
  {
   "cell_type": "markdown",
   "metadata": {},
   "source": [
    "-  Skewness is reduced to normal range with sqrt method where the value falls between +0.5  to -0.5 range."
   ]
  },
  {
   "cell_type": "code",
   "execution_count": 173,
   "metadata": {},
   "outputs": [
    {
     "data": {
      "text/plain": [
       "<AxesSubplot:>"
      ]
     },
     "execution_count": 173,
     "metadata": {},
     "output_type": "execute_result"
    },
    {
     "data": {
      "image/png": "[encoded data removed]",
      "text/plain": [
       "<Figure size 4320x360 with 1 Axes>"
      ]
     },
     "metadata": {},
     "output_type": "display_data"
    }
   ],
   "source": [
    "fig, ax =plt.subplots(figsize=(60,5))\n",
    "sns.boxplot(data=df_train, width = 0.5,ax=ax, fliersize=3)"
   ]
  },
  {
   "cell_type": "markdown",
   "metadata": {},
   "source": [
    "- Train set has no outliers"
   ]
  },
  {
   "cell_type": "code",
   "execution_count": 174,
   "metadata": {},
   "outputs": [],
   "source": [
    "x=df_train.drop(\"Price\",axis=1)\n",
    "y=df_train[\"Price\"]"
   ]
  },
  {
   "cell_type": "code",
   "execution_count": 175,
   "metadata": {},
   "outputs": [
    {
     "data": {
      "text/plain": [
       "(10683, 12)"
      ]
     },
     "execution_count": 175,
     "metadata": {},
     "output_type": "execute_result"
    }
   ],
   "source": [
    "x.shape"
   ]
  },
  {
   "cell_type": "code",
   "execution_count": 176,
   "metadata": {},
   "outputs": [
    {
     "data": {
      "text/plain": [
       "(10683,)"
      ]
     },
     "execution_count": 176,
     "metadata": {},
     "output_type": "execute_result"
    }
   ],
   "source": [
    "y.shape"
   ]
  },
  {
   "cell_type": "code",
   "execution_count": 177,
   "metadata": {},
   "outputs": [
    {
     "data": {
      "text/plain": [
       "array([[-0.41067545, -1.65844074,  2.41666505, ...,  0.        ,\n",
       "        -0.84850298,  1.28563248],\n",
       "       [-1.26099927,  0.89005213, -0.97382594, ...,  0.        ,\n",
       "        -1.5179928 , -0.8726517 ],\n",
       "       [ 0.01448647,  0.04055451, -0.29572775, ...,  0.        ,\n",
       "         1.15996647, -0.7590578 ],\n",
       "       ...,\n",
       "       [ 0.01448647, -1.65844074,  0.38237045, ...,  0.        ,\n",
       "        -0.51375808,  1.62641419],\n",
       "       [ 2.56545795, -1.65844074,  2.41666505, ...,  0.        ,\n",
       "        -1.5179928 , -1.09983951],\n",
       "       [-1.26099927,  0.04055451, -0.29572775, ...,  0.        ,\n",
       "         1.15996647, -0.8726517 ]])"
      ]
     },
     "execution_count": 177,
     "metadata": {},
     "output_type": "execute_result"
    }
   ],
   "source": [
    "from sklearn.preprocessing import StandardScaler\n",
    "scaling = StandardScaler()\n",
    "x=scaling.fit_transform(x)\n",
    "x"
   ]
  },
  {
   "cell_type": "markdown",
   "metadata": {},
   "source": [
    "# Model building & Predicting on Train data."
   ]
  },
  {
   "cell_type": "markdown",
   "metadata": {},
   "source": [
    "- As the all object col is label encoded where the values are not in same range so the sclaing is applied on independent variables x"
   ]
  },
  {
   "cell_type": "code",
   "execution_count": 178,
   "metadata": {},
   "outputs": [
    {
     "name": "stdout",
     "output_type": "stream",
     "text": [
      "3.6483976766023742 at random_state 0\n",
      "3.610508215096741 at random_state 1\n",
      "3.6680974699580764 at random_state 2\n",
      "3.944017587696681 at random_state 3\n",
      "3.6393729795756924 at random_state 4\n",
      "3.9273778101706087 at random_state 5\n",
      "3.819878313881572 at random_state 6\n",
      "3.561123880087214 at random_state 7\n",
      "3.6578457534389477 at random_state 8\n",
      "3.5562891389624918 at random_state 9\n",
      "3.620994844872034 at random_state 10\n",
      "3.795149132179604 at random_state 11\n",
      "3.8318299296035736 at random_state 12\n",
      "3.5152582589148036 at random_state 13\n",
      "3.6237786052963328 at random_state 14\n",
      "3.5947030479623048 at random_state 15\n",
      "3.8013432346222076 at random_state 16\n",
      "3.6153148280350162 at random_state 17\n",
      "3.6516798002243656 at random_state 18\n",
      "3.51193108765207 at random_state 19\n",
      "3.8767560734704434 at random_state 20\n",
      "3.543123371651809 at random_state 21\n",
      "3.5164748961523777 at random_state 22\n",
      "3.8181230728074715 at random_state 23\n",
      "3.697338513081368 at random_state 24\n",
      "3.7472492758097626 at random_state 25\n",
      "3.733924848394653 at random_state 26\n",
      "3.7553023255386493 at random_state 27\n",
      "3.7119147269328834 at random_state 28\n",
      "3.7045978582350965 at random_state 29\n",
      "3.8601569417029564 at random_state 30\n",
      "3.653175852148211 at random_state 31\n",
      "3.7174373093853776 at random_state 32\n",
      "3.9140404095823462 at random_state 33\n",
      "4.030205008337793 at random_state 34\n",
      "3.6179732022860143 at random_state 35\n",
      "3.6907464527049445 at random_state 36\n",
      "3.5876215376603136 at random_state 37\n",
      "3.494255264710211 at random_state 38\n",
      "3.758899211466485 at random_state 39\n",
      "3.676798005732539 at random_state 40\n",
      "3.8358998582566888 at random_state 41\n",
      "3.5890192241086596 at random_state 42\n",
      "3.8598260029075573 at random_state 43\n",
      "3.7299156821208435 at random_state 44\n",
      "3.8187140162737077 at random_state 45\n",
      "3.8788377755489925 at random_state 46\n",
      "3.7094122469996194 at random_state 47\n",
      "3.700125756480448 at random_state 48\n",
      "3.7546270738718364 at random_state 49\n",
      "3.6361347418184806 at random_state 50\n",
      "3.5474343059659454 at random_state 51\n",
      "3.743020274923082 at random_state 52\n",
      "3.9381175995260373 at random_state 53\n",
      "3.687880315211032 at random_state 54\n",
      "3.7381852620167266 at random_state 55\n",
      "3.8797108872637067 at random_state 56\n",
      "3.717564090645906 at random_state 57\n",
      "3.6987931239596734 at random_state 58\n",
      "3.688884948307996 at random_state 59\n",
      "3.738238645084052 at random_state 60\n",
      "3.6904927818447018 at random_state 61\n",
      "3.56804008571516 at random_state 62\n",
      "3.69770785173921 at random_state 63\n",
      "3.6848345265533053 at random_state 64\n",
      "3.6445912778491394 at random_state 65\n",
      "3.9261781552008284 at random_state 66\n",
      "3.7424400245985003 at random_state 67\n",
      "3.7097712372333507 at random_state 68\n",
      "3.6971566487632006 at random_state 69\n",
      "3.7654820835381755 at random_state 70\n",
      "3.7137040158433554 at random_state 71\n",
      "3.7424912947375177 at random_state 72\n",
      "3.5059968186810417 at random_state 73\n",
      "3.9787594734863068 at random_state 74\n",
      "3.612532430609641 at random_state 75\n",
      "3.7393583624637 at random_state 76\n",
      "3.5739403762521773 at random_state 77\n",
      "3.9569045769331628 at random_state 78\n",
      "3.8104064089046354 at random_state 79\n",
      "3.753176245237422 at random_state 80\n",
      "3.685759810199274 at random_state 81\n",
      "3.737923960163501 at random_state 82\n",
      "3.9288167360438226 at random_state 83\n",
      "3.5493905270854915 at random_state 84\n",
      "3.9361980296637107 at random_state 85\n",
      "3.572857522998667 at random_state 86\n",
      "3.5912356827552294 at random_state 87\n",
      "3.5810557372133953 at random_state 88\n",
      "3.733097301302928 at random_state 89\n",
      "3.8868909763485804 at random_state 90\n",
      "3.737454747599235 at random_state 91\n",
      "3.5168226706447614 at random_state 92\n",
      "3.697967483438384 at random_state 93\n",
      "3.8479963290186787 at random_state 94\n",
      "3.9317104076255736 at random_state 95\n",
      "3.768870779040635 at random_state 96\n",
      "3.646817197714845 at random_state 97\n",
      "3.5762145742711207 at random_state 98\n",
      "3.6646260695022925 at random_state 99\n",
      "3.6100629893488887 at random_state 100\n",
      "3.5847306072761294 at random_state 101\n",
      "3.7589188020320927 at random_state 102\n",
      "3.7447996390016973 at random_state 103\n",
      "3.6690267265236045 at random_state 104\n",
      "3.730966782034316 at random_state 105\n",
      "3.7205420833350122 at random_state 106\n",
      "3.8260126597296154 at random_state 107\n",
      "3.781262568028079 at random_state 108\n",
      "3.812202988153845 at random_state 109\n",
      "3.68848435194463 at random_state 110\n",
      "3.720641542583393 at random_state 111\n",
      "3.682584066665904 at random_state 112\n",
      "3.8834057343773134 at random_state 113\n",
      "3.7286313983852413 at random_state 114\n",
      "3.664580332884661 at random_state 115\n",
      "3.736236347409843 at random_state 116\n",
      "4.0011497179774 at random_state 117\n",
      "3.6747512641172837 at random_state 118\n",
      "3.9416023681705243 at random_state 119\n",
      "3.4705982125544996 at random_state 120\n",
      "3.6711037560743174 at random_state 121\n",
      "3.933650336577222 at random_state 122\n",
      "3.7129302371894934 at random_state 123\n",
      "3.642604753819995 at random_state 124\n",
      "3.6639417967634675 at random_state 125\n",
      "3.663373248996771 at random_state 126\n",
      "3.6031320401230698 at random_state 127\n",
      "3.666173835590835 at random_state 128\n",
      "3.593311524689975 at random_state 129\n",
      "3.7162663529277014 at random_state 130\n",
      "3.7674539910466733 at random_state 131\n",
      "3.5284178793130345 at random_state 132\n",
      "3.845947831529964 at random_state 133\n",
      "3.913884184236116 at random_state 134\n",
      "3.7381978250798538 at random_state 135\n",
      "3.8465134663411034 at random_state 136\n",
      "3.6941307887535957 at random_state 137\n",
      "3.630343559991813 at random_state 138\n",
      "3.653322625944904 at random_state 139\n",
      "3.765557056735663 at random_state 140\n",
      "3.736287236856564 at random_state 141\n",
      "3.690098906565192 at random_state 142\n",
      "3.8667768076268096 at random_state 143\n",
      "3.5691470931971527 at random_state 144\n",
      "3.7508906721536865 at random_state 145\n",
      "3.5979374173454874 at random_state 146\n",
      "3.7672975616511515 at random_state 147\n",
      "3.8156568634410992 at random_state 148\n",
      "3.6144330472694524 at random_state 149\n",
      "3.8203573332532152 at random_state 150\n",
      "3.7603110592149274 at random_state 151\n",
      "3.6330004699766643 at random_state 152\n",
      "3.6890808347327377 at random_state 153\n",
      "3.7344975815649732 at random_state 154\n",
      "3.771252777830162 at random_state 155\n",
      "3.461540362747562 at random_state 156\n",
      "3.7166977171904203 at random_state 157\n",
      "3.6260539100875318 at random_state 158\n",
      "3.75111720044606 at random_state 159\n",
      "3.918146240663781 at random_state 160\n",
      "3.815963071656382 at random_state 161\n",
      "3.615334935171555 at random_state 162\n",
      "3.8411952161146803 at random_state 163\n",
      "3.8273385269473095 at random_state 164\n",
      "3.5648896644945287 at random_state 165\n",
      "3.697783705465142 at random_state 166\n",
      "3.8507204563785966 at random_state 167\n",
      "3.716847390624473 at random_state 168\n",
      "3.741734924873519 at random_state 169\n",
      "3.8060582953252062 at random_state 170\n",
      "3.5235888928766492 at random_state 171\n",
      "3.6209516107294104 at random_state 172\n",
      "3.737545407329351 at random_state 173\n",
      "3.8561521077447947 at random_state 174\n",
      "3.5808498094747048 at random_state 175\n",
      "3.505142448418091 at random_state 176\n",
      "3.947288748771324 at random_state 177\n",
      "3.825793935227676 at random_state 178\n",
      "3.5440932590438727 at random_state 179\n",
      "3.6676251813336167 at random_state 180\n",
      "3.7219419589595395 at random_state 181\n",
      "3.641312145014323 at random_state 182\n",
      "3.685985111225766 at random_state 183\n",
      "3.6672382083429937 at random_state 184\n",
      "3.6598342371004846 at random_state 185\n",
      "3.8746581136908524 at random_state 186\n",
      "3.645050123692576 at random_state 187\n",
      "3.9293991002828785 at random_state 188\n",
      "3.6906371880383237 at random_state 189\n",
      "3.8437273929867026 at random_state 190\n",
      "3.669237107984977 at random_state 191\n",
      "3.502541127451876 at random_state 192\n",
      "3.4471339630336795 at random_state 193\n",
      "3.913047656703385 at random_state 194\n",
      "3.66753753079536 at random_state 195\n",
      "3.7214128771577526 at random_state 196\n",
      "3.8963577607919557 at random_state 197\n",
      "3.496457409346473 at random_state 198\n",
      "3.619543856101337 at random_state 199\n"
     ]
    }
   ],
   "source": [
    "for i in range(200):\n",
    "    x_train, x_test, y_train, y_test = train_test_split(x,y, test_size=0.33, random_state=i)\n",
    "    \n",
    "    DTR = DecisionTreeRegressor()\n",
    "    DTR.fit(x_train, y_train)\n",
    "    pred=DTR.predict(x_test)\n",
    "    MAE= mean_absolute_error(y_test,pred)\n",
    "    print(MAE, \"at random_state\", i)"
   ]
  },
  {
   "cell_type": "code",
   "execution_count": 179,
   "metadata": {},
   "outputs": [
    {
     "name": "stdout",
     "output_type": "stream",
     "text": [
      "Least MAE  4.025759679548609  on Random_state  56\n"
     ]
    }
   ],
   "source": [
    "leastMAE=0\n",
    "maxRS=0\n",
    "for i in range(1,200):\n",
    "    x_train, x_test, y_train, y_test = train_test_split(x,y,test_size=0.30, random_state = i)\n",
    "    DTR = DecisionTreeRegressor()\n",
    "    DTR.fit(x_train, y_train)\n",
    "    pred = DTR.predict(x_test)\n",
    "    MAE= mean_absolute_error(y_test,pred)\n",
    "    if MAE>leastMAE:\n",
    "        leastMAE=MAE\n",
    "        maxRS=i\n",
    "print(\"Least MAE \", leastMAE,\" on Random_state \",maxRS)"
   ]
  },
  {
   "cell_type": "code",
   "execution_count": 180,
   "metadata": {},
   "outputs": [],
   "source": [
    "x_train, x_test, y_train, y_test = train_test_split(x,y,test_size=0.30, random_state = 56)"
   ]
  },
  {
   "cell_type": "code",
   "execution_count": 181,
   "metadata": {},
   "outputs": [
    {
     "name": "stdout",
     "output_type": "stream",
     "text": [
      "Mean Absolute error:  13.92784208769995\n",
      "Mean Squared error:  316.1133303493935\n",
      "Root Mean Squared Error: 17.779576213998844\n",
      "0.4463431813322112\n"
     ]
    },
    {
     "data": {
      "text/plain": [
       "0.4486919480129493"
      ]
     },
     "execution_count": 181,
     "metadata": {},
     "output_type": "execute_result"
    }
   ],
   "source": [
    "lm = LinearRegression() # linear regression instance\n",
    "lm.fit(x_train,y_train) # applying linear regression on training set to learn the linear relationship.\n",
    "pred=lm.predict(x_test) # Applying linear Reg on test data\n",
    "print('Mean Absolute error: ',mean_absolute_error(y_test,pred)) # Calculating MAE error between actual actual y value & prdicted y value\n",
    "print('Mean Squared error: ',mean_squared_error(y_test,pred))\n",
    "print('Root Mean Squared Error:',np.sqrt(mean_squared_error(y_test,pred)))\n",
    "print(r2_score(y_test,pred))\n",
    "lm.score(x_train,y_train) # how well the model learned"
   ]
  },
  {
   "cell_type": "code",
   "execution_count": 182,
   "metadata": {},
   "outputs": [
    {
     "name": "stdout",
     "output_type": "stream",
     "text": [
      "Mean Absolute error:  4.002322806999107\n",
      "Mean Squared error:  87.29261213269122\n",
      "Root Mean Squared Error: 9.343051542868166\n",
      "0.8471113196233492\n"
     ]
    },
    {
     "data": {
      "text/plain": [
       "0.996950995743365"
      ]
     },
     "execution_count": 182,
     "metadata": {},
     "output_type": "execute_result"
    }
   ],
   "source": [
    "DTR = DecisionTreeRegressor()\n",
    "DTR.fit(x_train, y_train)\n",
    "pred = DTR.predict(x_test)\n",
    "print('Mean Absolute error: ',mean_absolute_error(y_test,pred)) # Calculating MAE error between actual actual y value & prdicted y value\n",
    "print('Mean Squared error: ',mean_squared_error(y_test,pred))\n",
    "print('Root Mean Squared Error:',np.sqrt(mean_squared_error(y_test,pred)))\n",
    "print(r2_score(y_test,pred))\n",
    "DTR.score(x_train,y_train) # how well the model learned"
   ]
  },
  {
   "cell_type": "code",
   "execution_count": 183,
   "metadata": {},
   "outputs": [
    {
     "name": "stdout",
     "output_type": "stream",
     "text": [
      "Mean Absolute error:  3.4782416026605887\n",
      "Mean Squared error:  53.21969550140127\n",
      "Root Mean Squared Error: 7.295183034126098\n",
      "0.9067883430628924\n"
     ]
    },
    {
     "data": {
      "text/plain": [
       "0.9875528847839621"
      ]
     },
     "execution_count": 183,
     "metadata": {},
     "output_type": "execute_result"
    }
   ],
   "source": [
    "RFR = RandomForestRegressor()  # Random Forest regressor instance\n",
    "RFR.fit(x_train, y_train) # applying Random Forest regressor on training set to learn relationship.\n",
    "pred = RFR.predict(x_test) # Applying linear Reg on test data\n",
    "print('Mean Absolute error: ',mean_absolute_error(y_test,pred)) # Calculating MAE error between actual actual y value & prdicted y value\n",
    "print('Mean Squared error: ',mean_squared_error(y_test,pred))\n",
    "print('Root Mean Squared Error:',np.sqrt(mean_squared_error(y_test,pred)))\n",
    "print(r2_score(y_test,pred))\n",
    "RFR.score(x_train,y_train) # how well the model learned"
   ]
  },
  {
   "cell_type": "code",
   "execution_count": 184,
   "metadata": {},
   "outputs": [
    {
     "name": "stdout",
     "output_type": "stream",
     "text": [
      "Mean Absolute error:  10.705480090625487\n",
      "Mean Squared error:  239.11541164594078\n",
      "Root Mean Squared Error: 15.463357062615504\n",
      "0.581201216791444\n"
     ]
    },
    {
     "data": {
      "text/plain": [
       "0.5920240126816099"
      ]
     },
     "execution_count": 184,
     "metadata": {},
     "output_type": "execute_result"
    }
   ],
   "source": [
    "SV = SVR() # Support Vector Reg Instance\n",
    "SV.fit(x_train, y_train) # applying Support Vector Reg on training set to learn  relationship.\n",
    "pred = SV.predict(x_test) # Applying Support Vector Reg on test data\n",
    "print('Mean Absolute error: ',mean_absolute_error(y_test,pred)) # Calculating MAE error between actual actual y value & prdicted y value\n",
    "print('Mean Squared error: ',mean_squared_error(y_test,pred))\n",
    "print('Root Mean Squared Error:',np.sqrt(mean_squared_error(y_test,pred)))\n",
    "print(r2_score(y_test,pred))\n",
    "SV.score(x_train,y_train)# how well the model learned"
   ]
  },
  {
   "cell_type": "code",
   "execution_count": 185,
   "metadata": {},
   "outputs": [
    {
     "name": "stdout",
     "output_type": "stream",
     "text": [
      "Mean Absolute error:  3.819408311295202\n",
      "Mean Squared error:  44.07873728131673\n",
      "Root Mean Squared Error: 6.639181973806466\n",
      "0.9227982779875392\n"
     ]
    },
    {
     "data": {
      "text/plain": [
       "0.9770115166178938"
      ]
     },
     "execution_count": 185,
     "metadata": {},
     "output_type": "execute_result"
    }
   ],
   "source": [
    "XGBR = XGBRegressor() # XGBR Instance\n",
    "XGBR.fit(x_train,y_train) # applying XGBR on training set to learn  relationship.\n",
    "pred = XGBR.predict(x_test) # Applying XGBR on test data\n",
    "print('Mean Absolute error: ', mean_absolute_error(y_test,pred))# Calculating MAE error between actual actual y value & prdicted y value\n",
    "print('Mean Squared error: ',mean_squared_error(y_test,pred))\n",
    "print('Root Mean Squared Error:',np.sqrt(mean_squared_error(y_test,pred)))\n",
    "print(r2_score(y_test,pred))\n",
    "XGBR.score(x_train,y_train) # how well the model learned     "
   ]
  },
  {
   "cell_type": "markdown",
   "metadata": {},
   "source": [
    "# K-Fold Cross validation"
   ]
  },
  {
   "cell_type": "code",
   "execution_count": 186,
   "metadata": {},
   "outputs": [],
   "source": [
    "from sklearn.model_selection import cross_val_score  # Obs : Importing cross val score\n",
    "from sklearn.model_selection import KFold  # Obs : Imporing Kfold CV"
   ]
  },
  {
   "cell_type": "code",
   "execution_count": 187,
   "metadata": {},
   "outputs": [],
   "source": [
    "cross_validation=KFold(5, shuffle =True)\n",
    "# Obs : Creating CV Object with shuffle = true to avoid -ve CV Values as o/p"
   ]
  },
  {
   "cell_type": "code",
   "execution_count": 188,
   "metadata": {},
   "outputs": [
    {
     "name": "stdout",
     "output_type": "stream",
     "text": [
      "0.4469232691127091\n"
     ]
    }
   ],
   "source": [
    "print(cross_val_score(lm,x,y,cv=cross_validation).mean()) # Obs : Linear Regression CV o/p"
   ]
  },
  {
   "cell_type": "code",
   "execution_count": 189,
   "metadata": {},
   "outputs": [
    {
     "name": "stdout",
     "output_type": "stream",
     "text": [
      "0.8876100863087004\n"
     ]
    }
   ],
   "source": [
    "print(cross_val_score(DTR,x,y,cv=cross_validation).mean()) # Obs :  DTR Regression CV o/p"
   ]
  },
  {
   "cell_type": "code",
   "execution_count": 190,
   "metadata": {},
   "outputs": [
    {
     "name": "stdout",
     "output_type": "stream",
     "text": [
      "0.9235533039036244\n"
     ]
    }
   ],
   "source": [
    "print(cross_val_score(RFR,x,y,cv=cross_validation).mean()) # Obs : Random Forest Regressor CV o/p"
   ]
  },
  {
   "cell_type": "code",
   "execution_count": 191,
   "metadata": {},
   "outputs": [
    {
     "name": "stdout",
     "output_type": "stream",
     "text": [
      "0.5914676486341357\n"
     ]
    }
   ],
   "source": [
    "print(cross_val_score(SV,x,y,cv=cross_validation).mean()) # Obs : Support Vector CV o/p"
   ]
  },
  {
   "cell_type": "code",
   "execution_count": 192,
   "metadata": {},
   "outputs": [
    {
     "name": "stdout",
     "output_type": "stream",
     "text": [
      "0.9310874458969065\n"
     ]
    }
   ],
   "source": [
    "print(cross_val_score(XGBR,x,y,cv=cross_validation).mean()) # Obs :  XGBoost Regressor CV o/p"
   ]
  },
  {
   "cell_type": "markdown",
   "metadata": {},
   "source": [
    "# Best Model : \n",
    "XGBR as the best model as it MSE is very less as well as CV score & R2 score is also high."
   ]
  },
  {
   "cell_type": "code",
   "execution_count": 193,
   "metadata": {},
   "outputs": [],
   "source": [
    "from sklearn.model_selection import GridSearchCV # Obs : importing GridSearchCV"
   ]
  },
  {
   "cell_type": "code",
   "execution_count": 194,
   "metadata": {},
   "outputs": [],
   "source": [
    "import numpy as np\n",
    "parameter = {'eta': [0.01,0.02],\n",
    "             'max_depth': np.arange(2,10),\n",
    "             'subsample': [0,1],\n",
    "             'colsample_bytree': [0,1],\n",
    "             'n_estimators': [10]}"
   ]
  },
  {
   "cell_type": "code",
   "execution_count": 195,
   "metadata": {},
   "outputs": [],
   "source": [
    "GCV=GridSearchCV(XGBRegressor(),parameter,cv=cross_validation)\n",
    "# Creating Grid Search CV Object and Applying GridSearch on best Model - XGBR"
   ]
  },
  {
   "cell_type": "code",
   "execution_count": 196,
   "metadata": {},
   "outputs": [
    {
     "data": {
      "text/plain": [
       "GridSearchCV(cv=KFold(n_splits=5, random_state=None, shuffle=True),\n",
       "             estimator=XGBRegressor(base_score=None, booster=None,\n",
       "                                    colsample_bylevel=None,\n",
       "                                    colsample_bynode=None,\n",
       "                                    colsample_bytree=None, gamma=None,\n",
       "                                    gpu_id=None, importance_type='gain',\n",
       "                                    interaction_constraints=None,\n",
       "                                    learning_rate=None, max_delta_step=None,\n",
       "                                    max_depth=None, min_child_weight=None,\n",
       "                                    missing=nan, monotone_constraints=None,\n",
       "                                    n_estimators=100, n_jobs=None,\n",
       "                                    num_parallel_tree=None, random_state=None,\n",
       "                                    reg_alpha=None, reg_lambda=None,\n",
       "                                    scale_pos_weight=None, subsample=None,\n",
       "                                    tree_method=None, validate_parameters=None,\n",
       "                                    verbosity=None),\n",
       "             param_grid={'colsample_bytree': [0, 1], 'eta': [0.01, 0.02],\n",
       "                         'max_depth': array([2, 3, 4, 5, 6, 7, 8, 9]),\n",
       "                         'n_estimators': [10], 'subsample': [0, 1]})"
      ]
     },
     "execution_count": 196,
     "metadata": {},
     "output_type": "execute_result"
    }
   ],
   "source": [
    "GCV.fit(x_train,y_train) # Applying XGBR-Gridsearch to training set with parameters"
   ]
  },
  {
   "cell_type": "code",
   "execution_count": 197,
   "metadata": {},
   "outputs": [
    {
     "data": {
      "text/plain": [
       "{'colsample_bytree': 1,\n",
       " 'eta': 0.02,\n",
       " 'max_depth': 9,\n",
       " 'n_estimators': 10,\n",
       " 'subsample': 1}"
      ]
     },
     "execution_count": 197,
     "metadata": {},
     "output_type": "execute_result"
    }
   ],
   "source": [
    "GCV.best_params_ # Giving the Best Gridserach Parameters"
   ]
  },
  {
   "cell_type": "code",
   "execution_count": 200,
   "metadata": {},
   "outputs": [
    {
     "name": "stdout",
     "output_type": "stream",
     "text": [
      "Mean Absolute error:  75.6578339536939\n",
      "Mean Squared error:  6144.90312371658\n",
      "Root Mean Squared Error: 78.38943247477035\n",
      "-9.762493029757191\n"
     ]
    },
    {
     "data": {
      "text/plain": [
       "0.9770115166178938"
      ]
     },
     "execution_count": 200,
     "metadata": {},
     "output_type": "execute_result"
    }
   ],
   "source": [
    "Final_mod = XGBRegressor(colsample_bytree = 1, eta= 0.02, max_depth = 9,n_estimators = 10, subsample = 1)\n",
    "Final_mod.fit(x_train, y_train)\n",
    "pred = Final_mod.predict(x_test)\n",
    "print('Mean Absolute error: ',mean_absolute_error(y_test,pred))\n",
    "print('Mean Squared error: ',mean_squared_error(y_test,pred))\n",
    "print('Root Mean Squared Error:',np.sqrt(mean_squared_error(y_test,pred)))\n",
    "print(r2_score(y_test,pred))\n",
    "XGBR.score(x_train,y_train) # how well the model learned\n",
    "\n",
    "# Applying Best XGBR hyperparameter to the model and predicting MAE"
   ]
  },
  {
   "cell_type": "code",
   "execution_count": null,
   "metadata": {},
   "outputs": [],
   "source": []
  },
  {
   "cell_type": "markdown",
   "metadata": {},
   "source": [
    "# Model building & Predicting on Test data"
   ]
  },
  {
   "cell_type": "code",
   "execution_count": 201,
   "metadata": {},
   "outputs": [],
   "source": [
    "z = df_test"
   ]
  },
  {
   "cell_type": "code",
   "execution_count": 202,
   "metadata": {},
   "outputs": [
    {
     "data": {
      "text/html": [
       "<div>\n",
       "<style scoped>\n",
       "    .dataframe tbody tr th:only-of-type {\n",
       "        vertical-align: middle;\n",
       "    }\n",
       "\n",
       "    .dataframe tbody tr th {\n",
       "        vertical-align: top;\n",
       "    }\n",
       "\n",
       "    .dataframe thead th {\n",
       "        text-align: right;\n",
       "    }\n",
       "</style>\n",
       "<table border=\"1\" class=\"dataframe\">\n",
       "  <thead>\n",
       "    <tr style=\"text-align: right;\">\n",
       "      <th></th>\n",
       "      <th>Airline</th>\n",
       "      <th>Source</th>\n",
       "      <th>Destination</th>\n",
       "      <th>Route</th>\n",
       "      <th>Dep_Time</th>\n",
       "      <th>Arrival_Time</th>\n",
       "      <th>Duration</th>\n",
       "      <th>Total_Stops</th>\n",
       "      <th>Additional_Info</th>\n",
       "      <th>year</th>\n",
       "      <th>month</th>\n",
       "      <th>day</th>\n",
       "    </tr>\n",
       "  </thead>\n",
       "  <tbody>\n",
       "    <tr>\n",
       "      <th>0</th>\n",
       "      <td>4</td>\n",
       "      <td>2</td>\n",
       "      <td>1</td>\n",
       "      <td>76</td>\n",
       "      <td>138</td>\n",
       "      <td>150</td>\n",
       "      <td>10</td>\n",
       "      <td>0</td>\n",
       "      <td>5</td>\n",
       "      <td>2019</td>\n",
       "      <td>6</td>\n",
       "      <td>6</td>\n",
       "    </tr>\n",
       "    <tr>\n",
       "      <th>1</th>\n",
       "      <td>3</td>\n",
       "      <td>3</td>\n",
       "      <td>0</td>\n",
       "      <td>65</td>\n",
       "      <td>31</td>\n",
       "      <td>353</td>\n",
       "      <td>248</td>\n",
       "      <td>0</td>\n",
       "      <td>5</td>\n",
       "      <td>2019</td>\n",
       "      <td>12</td>\n",
       "      <td>5</td>\n",
       "    </tr>\n",
       "    <tr>\n",
       "      <th>2</th>\n",
       "      <td>4</td>\n",
       "      <td>2</td>\n",
       "      <td>1</td>\n",
       "      <td>76</td>\n",
       "      <td>156</td>\n",
       "      <td>566</td>\n",
       "      <td>148</td>\n",
       "      <td>0</td>\n",
       "      <td>3</td>\n",
       "      <td>2019</td>\n",
       "      <td>5</td>\n",
       "      <td>21</td>\n",
       "    </tr>\n",
       "    <tr>\n",
       "      <th>3</th>\n",
       "      <td>6</td>\n",
       "      <td>2</td>\n",
       "      <td>1</td>\n",
       "      <td>76</td>\n",
       "      <td>48</td>\n",
       "      <td>633</td>\n",
       "      <td>36</td>\n",
       "      <td>0</td>\n",
       "      <td>5</td>\n",
       "      <td>2019</td>\n",
       "      <td>5</td>\n",
       "      <td>21</td>\n",
       "    </tr>\n",
       "    <tr>\n",
       "      <th>4</th>\n",
       "      <td>0</td>\n",
       "      <td>0</td>\n",
       "      <td>2</td>\n",
       "      <td>16</td>\n",
       "      <td>198</td>\n",
       "      <td>135</td>\n",
       "      <td>216</td>\n",
       "      <td>4</td>\n",
       "      <td>5</td>\n",
       "      <td>2019</td>\n",
       "      <td>6</td>\n",
       "      <td>24</td>\n",
       "    </tr>\n",
       "    <tr>\n",
       "      <th>...</th>\n",
       "      <td>...</td>\n",
       "      <td>...</td>\n",
       "      <td>...</td>\n",
       "      <td>...</td>\n",
       "      <td>...</td>\n",
       "      <td>...</td>\n",
       "      <td>...</td>\n",
       "      <td>...</td>\n",
       "      <td>...</td>\n",
       "      <td>...</td>\n",
       "      <td>...</td>\n",
       "      <td>...</td>\n",
       "    </tr>\n",
       "    <tr>\n",
       "      <th>2666</th>\n",
       "      <td>1</td>\n",
       "      <td>3</td>\n",
       "      <td>0</td>\n",
       "      <td>51</td>\n",
       "      <td>170</td>\n",
       "      <td>617</td>\n",
       "      <td>150</td>\n",
       "      <td>0</td>\n",
       "      <td>5</td>\n",
       "      <td>2019</td>\n",
       "      <td>6</td>\n",
       "      <td>6</td>\n",
       "    </tr>\n",
       "    <tr>\n",
       "      <th>2667</th>\n",
       "      <td>3</td>\n",
       "      <td>3</td>\n",
       "      <td>0</td>\n",
       "      <td>43</td>\n",
       "      <td>106</td>\n",
       "      <td>507</td>\n",
       "      <td>213</td>\n",
       "      <td>4</td>\n",
       "      <td>5</td>\n",
       "      <td>2019</td>\n",
       "      <td>3</td>\n",
       "      <td>27</td>\n",
       "    </tr>\n",
       "    <tr>\n",
       "      <th>2668</th>\n",
       "      <td>4</td>\n",
       "      <td>2</td>\n",
       "      <td>1</td>\n",
       "      <td>76</td>\n",
       "      <td>183</td>\n",
       "      <td>151</td>\n",
       "      <td>278</td>\n",
       "      <td>0</td>\n",
       "      <td>5</td>\n",
       "      <td>2019</td>\n",
       "      <td>6</td>\n",
       "      <td>3</td>\n",
       "    </tr>\n",
       "    <tr>\n",
       "      <th>2669</th>\n",
       "      <td>1</td>\n",
       "      <td>2</td>\n",
       "      <td>1</td>\n",
       "      <td>76</td>\n",
       "      <td>11</td>\n",
       "      <td>577</td>\n",
       "      <td>60</td>\n",
       "      <td>0</td>\n",
       "      <td>5</td>\n",
       "      <td>2019</td>\n",
       "      <td>6</td>\n",
       "      <td>3</td>\n",
       "    </tr>\n",
       "    <tr>\n",
       "      <th>2670</th>\n",
       "      <td>6</td>\n",
       "      <td>2</td>\n",
       "      <td>1</td>\n",
       "      <td>76</td>\n",
       "      <td>15</td>\n",
       "      <td>577</td>\n",
       "      <td>49</td>\n",
       "      <td>0</td>\n",
       "      <td>5</td>\n",
       "      <td>2019</td>\n",
       "      <td>6</td>\n",
       "      <td>15</td>\n",
       "    </tr>\n",
       "  </tbody>\n",
       "</table>\n",
       "<p>2671 rows × 12 columns</p>\n",
       "</div>"
      ],
      "text/plain": [
       "      Airline  Source  Destination  Route  Dep_Time  Arrival_Time  Duration  \\\n",
       "0           4       2            1     76       138           150        10   \n",
       "1           3       3            0     65        31           353       248   \n",
       "2           4       2            1     76       156           566       148   \n",
       "3           6       2            1     76        48           633        36   \n",
       "4           0       0            2     16       198           135       216   \n",
       "...       ...     ...          ...    ...       ...           ...       ...   \n",
       "2666        1       3            0     51       170           617       150   \n",
       "2667        3       3            0     43       106           507       213   \n",
       "2668        4       2            1     76       183           151       278   \n",
       "2669        1       2            1     76        11           577        60   \n",
       "2670        6       2            1     76        15           577        49   \n",
       "\n",
       "      Total_Stops  Additional_Info  year  month  day  \n",
       "0               0                5  2019      6    6  \n",
       "1               0                5  2019     12    5  \n",
       "2               0                3  2019      5   21  \n",
       "3               0                5  2019      5   21  \n",
       "4               4                5  2019      6   24  \n",
       "...           ...              ...   ...    ...  ...  \n",
       "2666            0                5  2019      6    6  \n",
       "2667            4                5  2019      3   27  \n",
       "2668            0                5  2019      6    3  \n",
       "2669            0                5  2019      6    3  \n",
       "2670            0                5  2019      6   15  \n",
       "\n",
       "[2671 rows x 12 columns]"
      ]
     },
     "execution_count": 202,
     "metadata": {},
     "output_type": "execute_result"
    }
   ],
   "source": [
    "z"
   ]
  },
  {
   "cell_type": "code",
   "execution_count": 203,
   "metadata": {},
   "outputs": [
    {
     "data": {
      "text/plain": [
       "(2671, 12)"
      ]
     },
     "execution_count": 203,
     "metadata": {},
     "output_type": "execute_result"
    }
   ],
   "source": [
    "z.shape"
   ]
  },
  {
   "cell_type": "code",
   "execution_count": 204,
   "metadata": {},
   "outputs": [
    {
     "data": {
      "text/plain": [
       "(10683,)"
      ]
     },
     "execution_count": 204,
     "metadata": {},
     "output_type": "execute_result"
    }
   ],
   "source": [
    "y.shape"
   ]
  },
  {
   "cell_type": "code",
   "execution_count": 205,
   "metadata": {},
   "outputs": [
    {
     "data": {
      "text/plain": [
       "0         62.425956\n",
       "1         87.532851\n",
       "2        117.821899\n",
       "3         78.854296\n",
       "4        115.334297\n",
       "            ...    \n",
       "10678     64.085880\n",
       "10679     64.381674\n",
       "10680     85.023526\n",
       "10681    112.463327\n",
       "10682    108.411254\n",
       "Name: Price, Length: 10683, dtype: float64"
      ]
     },
     "execution_count": 205,
     "metadata": {},
     "output_type": "execute_result"
    }
   ],
   "source": [
    "y"
   ]
  },
  {
   "cell_type": "code",
   "execution_count": 208,
   "metadata": {},
   "outputs": [],
   "source": [
    "y.drop(y.index[2671:10682], inplace = True)"
   ]
  },
  {
   "cell_type": "code",
   "execution_count": 209,
   "metadata": {},
   "outputs": [
    {
     "data": {
      "text/plain": [
       "0        62.425956\n",
       "1        87.532851\n",
       "2       117.821899\n",
       "3        78.854296\n",
       "4       115.334297\n",
       "           ...    \n",
       "2666    115.926701\n",
       "2667     69.310894\n",
       "2668    107.898100\n",
       "2669     58.472216\n",
       "2670     78.121700\n",
       "Name: Price, Length: 2671, dtype: float64"
      ]
     },
     "execution_count": 209,
     "metadata": {},
     "output_type": "execute_result"
    }
   ],
   "source": [
    "y"
   ]
  },
  {
   "cell_type": "code",
   "execution_count": 210,
   "metadata": {},
   "outputs": [
    {
     "data": {
      "text/plain": [
       "(2671, 12)"
      ]
     },
     "execution_count": 210,
     "metadata": {},
     "output_type": "execute_result"
    }
   ],
   "source": [
    "z.shape"
   ]
  },
  {
   "cell_type": "code",
   "execution_count": 211,
   "metadata": {},
   "outputs": [
    {
     "data": {
      "text/plain": [
       "(2671,)"
      ]
     },
     "execution_count": 211,
     "metadata": {},
     "output_type": "execute_result"
    }
   ],
   "source": [
    "y.shape"
   ]
  },
  {
   "cell_type": "code",
   "execution_count": 212,
   "metadata": {},
   "outputs": [
    {
     "data": {
      "text/html": [
       "<div>\n",
       "<style scoped>\n",
       "    .dataframe tbody tr th:only-of-type {\n",
       "        vertical-align: middle;\n",
       "    }\n",
       "\n",
       "    .dataframe tbody tr th {\n",
       "        vertical-align: top;\n",
       "    }\n",
       "\n",
       "    .dataframe thead th {\n",
       "        text-align: right;\n",
       "    }\n",
       "</style>\n",
       "<table border=\"1\" class=\"dataframe\">\n",
       "  <thead>\n",
       "    <tr style=\"text-align: right;\">\n",
       "      <th></th>\n",
       "      <th>Airline</th>\n",
       "      <th>Source</th>\n",
       "      <th>Destination</th>\n",
       "      <th>Route</th>\n",
       "      <th>Dep_Time</th>\n",
       "      <th>Arrival_Time</th>\n",
       "      <th>Duration</th>\n",
       "      <th>Total_Stops</th>\n",
       "      <th>Additional_Info</th>\n",
       "      <th>year</th>\n",
       "      <th>month</th>\n",
       "      <th>day</th>\n",
       "    </tr>\n",
       "  </thead>\n",
       "  <tbody>\n",
       "    <tr>\n",
       "      <th>0</th>\n",
       "      <td>4</td>\n",
       "      <td>2</td>\n",
       "      <td>1</td>\n",
       "      <td>76</td>\n",
       "      <td>138</td>\n",
       "      <td>150</td>\n",
       "      <td>10</td>\n",
       "      <td>0</td>\n",
       "      <td>5</td>\n",
       "      <td>2019</td>\n",
       "      <td>6</td>\n",
       "      <td>6</td>\n",
       "    </tr>\n",
       "    <tr>\n",
       "      <th>1</th>\n",
       "      <td>3</td>\n",
       "      <td>3</td>\n",
       "      <td>0</td>\n",
       "      <td>65</td>\n",
       "      <td>31</td>\n",
       "      <td>353</td>\n",
       "      <td>248</td>\n",
       "      <td>0</td>\n",
       "      <td>5</td>\n",
       "      <td>2019</td>\n",
       "      <td>12</td>\n",
       "      <td>5</td>\n",
       "    </tr>\n",
       "    <tr>\n",
       "      <th>2</th>\n",
       "      <td>4</td>\n",
       "      <td>2</td>\n",
       "      <td>1</td>\n",
       "      <td>76</td>\n",
       "      <td>156</td>\n",
       "      <td>566</td>\n",
       "      <td>148</td>\n",
       "      <td>0</td>\n",
       "      <td>3</td>\n",
       "      <td>2019</td>\n",
       "      <td>5</td>\n",
       "      <td>21</td>\n",
       "    </tr>\n",
       "    <tr>\n",
       "      <th>3</th>\n",
       "      <td>6</td>\n",
       "      <td>2</td>\n",
       "      <td>1</td>\n",
       "      <td>76</td>\n",
       "      <td>48</td>\n",
       "      <td>633</td>\n",
       "      <td>36</td>\n",
       "      <td>0</td>\n",
       "      <td>5</td>\n",
       "      <td>2019</td>\n",
       "      <td>5</td>\n",
       "      <td>21</td>\n",
       "    </tr>\n",
       "    <tr>\n",
       "      <th>4</th>\n",
       "      <td>0</td>\n",
       "      <td>0</td>\n",
       "      <td>2</td>\n",
       "      <td>16</td>\n",
       "      <td>198</td>\n",
       "      <td>135</td>\n",
       "      <td>216</td>\n",
       "      <td>4</td>\n",
       "      <td>5</td>\n",
       "      <td>2019</td>\n",
       "      <td>6</td>\n",
       "      <td>24</td>\n",
       "    </tr>\n",
       "    <tr>\n",
       "      <th>...</th>\n",
       "      <td>...</td>\n",
       "      <td>...</td>\n",
       "      <td>...</td>\n",
       "      <td>...</td>\n",
       "      <td>...</td>\n",
       "      <td>...</td>\n",
       "      <td>...</td>\n",
       "      <td>...</td>\n",
       "      <td>...</td>\n",
       "      <td>...</td>\n",
       "      <td>...</td>\n",
       "      <td>...</td>\n",
       "    </tr>\n",
       "    <tr>\n",
       "      <th>2666</th>\n",
       "      <td>1</td>\n",
       "      <td>3</td>\n",
       "      <td>0</td>\n",
       "      <td>51</td>\n",
       "      <td>170</td>\n",
       "      <td>617</td>\n",
       "      <td>150</td>\n",
       "      <td>0</td>\n",
       "      <td>5</td>\n",
       "      <td>2019</td>\n",
       "      <td>6</td>\n",
       "      <td>6</td>\n",
       "    </tr>\n",
       "    <tr>\n",
       "      <th>2667</th>\n",
       "      <td>3</td>\n",
       "      <td>3</td>\n",
       "      <td>0</td>\n",
       "      <td>43</td>\n",
       "      <td>106</td>\n",
       "      <td>507</td>\n",
       "      <td>213</td>\n",
       "      <td>4</td>\n",
       "      <td>5</td>\n",
       "      <td>2019</td>\n",
       "      <td>3</td>\n",
       "      <td>27</td>\n",
       "    </tr>\n",
       "    <tr>\n",
       "      <th>2668</th>\n",
       "      <td>4</td>\n",
       "      <td>2</td>\n",
       "      <td>1</td>\n",
       "      <td>76</td>\n",
       "      <td>183</td>\n",
       "      <td>151</td>\n",
       "      <td>278</td>\n",
       "      <td>0</td>\n",
       "      <td>5</td>\n",
       "      <td>2019</td>\n",
       "      <td>6</td>\n",
       "      <td>3</td>\n",
       "    </tr>\n",
       "    <tr>\n",
       "      <th>2669</th>\n",
       "      <td>1</td>\n",
       "      <td>2</td>\n",
       "      <td>1</td>\n",
       "      <td>76</td>\n",
       "      <td>11</td>\n",
       "      <td>577</td>\n",
       "      <td>60</td>\n",
       "      <td>0</td>\n",
       "      <td>5</td>\n",
       "      <td>2019</td>\n",
       "      <td>6</td>\n",
       "      <td>3</td>\n",
       "    </tr>\n",
       "    <tr>\n",
       "      <th>2670</th>\n",
       "      <td>6</td>\n",
       "      <td>2</td>\n",
       "      <td>1</td>\n",
       "      <td>76</td>\n",
       "      <td>15</td>\n",
       "      <td>577</td>\n",
       "      <td>49</td>\n",
       "      <td>0</td>\n",
       "      <td>5</td>\n",
       "      <td>2019</td>\n",
       "      <td>6</td>\n",
       "      <td>15</td>\n",
       "    </tr>\n",
       "  </tbody>\n",
       "</table>\n",
       "<p>2671 rows × 12 columns</p>\n",
       "</div>"
      ],
      "text/plain": [
       "      Airline  Source  Destination  Route  Dep_Time  Arrival_Time  Duration  \\\n",
       "0           4       2            1     76       138           150        10   \n",
       "1           3       3            0     65        31           353       248   \n",
       "2           4       2            1     76       156           566       148   \n",
       "3           6       2            1     76        48           633        36   \n",
       "4           0       0            2     16       198           135       216   \n",
       "...       ...     ...          ...    ...       ...           ...       ...   \n",
       "2666        1       3            0     51       170           617       150   \n",
       "2667        3       3            0     43       106           507       213   \n",
       "2668        4       2            1     76       183           151       278   \n",
       "2669        1       2            1     76        11           577        60   \n",
       "2670        6       2            1     76        15           577        49   \n",
       "\n",
       "      Total_Stops  Additional_Info  year  month  day  \n",
       "0               0                5  2019      6    6  \n",
       "1               0                5  2019     12    5  \n",
       "2               0                3  2019      5   21  \n",
       "3               0                5  2019      5   21  \n",
       "4               4                5  2019      6   24  \n",
       "...           ...              ...   ...    ...  ...  \n",
       "2666            0                5  2019      6    6  \n",
       "2667            4                5  2019      3   27  \n",
       "2668            0                5  2019      6    3  \n",
       "2669            0                5  2019      6    3  \n",
       "2670            0                5  2019      6   15  \n",
       "\n",
       "[2671 rows x 12 columns]"
      ]
     },
     "execution_count": 212,
     "metadata": {},
     "output_type": "execute_result"
    }
   ],
   "source": [
    "z"
   ]
  },
  {
   "cell_type": "code",
   "execution_count": 213,
   "metadata": {},
   "outputs": [
    {
     "data": {
      "text/plain": [
       "0        62.425956\n",
       "1        87.532851\n",
       "2       117.821899\n",
       "3        78.854296\n",
       "4       115.334297\n",
       "           ...    \n",
       "2666    115.926701\n",
       "2667     69.310894\n",
       "2668    107.898100\n",
       "2669     58.472216\n",
       "2670     78.121700\n",
       "Name: Price, Length: 2671, dtype: float64"
      ]
     },
     "execution_count": 213,
     "metadata": {},
     "output_type": "execute_result"
    }
   ],
   "source": [
    "y"
   ]
  },
  {
   "cell_type": "markdown",
   "metadata": {},
   "source": [
    "-  The number of rows in target y is dropped to make it equal to z which is test set dataframe for model building.\n",
    "-  All the above command is used to make number of rows of target equal to test set z."
   ]
  },
  {
   "cell_type": "code",
   "execution_count": 218,
   "metadata": {},
   "outputs": [
    {
     "name": "stdout",
     "output_type": "stream",
     "text": [
      "27.22518554501455 at random_state 0\n",
      "28.142750046658662 at random_state 1\n",
      "29.09334739120043 at random_state 2\n",
      "27.555019789036407 at random_state 3\n",
      "27.279039673965922 at random_state 4\n",
      "26.126246117416887 at random_state 5\n",
      "27.821360611846774 at random_state 6\n",
      "27.959654331440717 at random_state 7\n",
      "27.05609663139678 at random_state 8\n",
      "28.409763248169966 at random_state 9\n",
      "28.09144775239508 at random_state 10\n",
      "27.58028582572082 at random_state 11\n",
      "27.308448408421032 at random_state 12\n",
      "27.99406808495589 at random_state 13\n",
      "27.454864633646455 at random_state 14\n",
      "27.168309809842263 at random_state 15\n",
      "27.755889364729494 at random_state 16\n",
      "26.71602608309779 at random_state 17\n",
      "26.519987304095288 at random_state 18\n",
      "26.55346340466992 at random_state 19\n",
      "27.30003525573808 at random_state 20\n",
      "26.152988451833757 at random_state 21\n",
      "28.124348568511365 at random_state 22\n",
      "28.00464093325278 at random_state 23\n",
      "26.534211429483875 at random_state 24\n",
      "27.876454671430945 at random_state 25\n",
      "28.03322715261708 at random_state 26\n",
      "27.016199204622207 at random_state 27\n",
      "26.01692217728744 at random_state 28\n",
      "27.403467020696954 at random_state 29\n",
      "27.06869577713362 at random_state 30\n",
      "28.212843455118463 at random_state 31\n",
      "27.325148223259696 at random_state 32\n",
      "28.90107156856784 at random_state 33\n",
      "27.127433084140733 at random_state 34\n",
      "27.628971498051378 at random_state 35\n",
      "27.28685982510106 at random_state 36\n",
      "27.053586083982044 at random_state 37\n",
      "28.12933690798816 at random_state 38\n",
      "27.207470721398003 at random_state 39\n",
      "26.74948732372409 at random_state 40\n",
      "28.084738929039165 at random_state 41\n",
      "27.201028257567213 at random_state 42\n",
      "26.786777605637077 at random_state 43\n",
      "27.138610692011618 at random_state 44\n",
      "27.31242432481065 at random_state 45\n",
      "26.10237274342459 at random_state 46\n",
      "27.87804550915684 at random_state 47\n",
      "26.442039630878224 at random_state 48\n",
      "27.712598060040847 at random_state 49\n",
      "27.797320265359996 at random_state 50\n",
      "26.6237411979125 at random_state 51\n",
      "28.114453557658763 at random_state 52\n",
      "27.641201782659746 at random_state 53\n",
      "26.862362924094867 at random_state 54\n",
      "27.37797872338334 at random_state 55\n",
      "27.73231177103163 at random_state 56\n",
      "28.899416613360952 at random_state 57\n",
      "27.02805460465546 at random_state 58\n",
      "27.536631322928553 at random_state 59\n",
      "27.433367572293072 at random_state 60\n",
      "26.62552771445459 at random_state 61\n",
      "27.289967064840475 at random_state 62\n",
      "27.985912254494234 at random_state 63\n",
      "27.80666181239873 at random_state 64\n",
      "28.25641033828707 at random_state 65\n",
      "27.14447500835245 at random_state 66\n",
      "27.992215813850457 at random_state 67\n",
      "27.05757701435486 at random_state 68\n",
      "26.541855440856597 at random_state 69\n",
      "28.038256349051956 at random_state 70\n",
      "26.93480443677879 at random_state 71\n",
      "27.52064906734322 at random_state 72\n",
      "26.43812906802487 at random_state 73\n",
      "27.44354013254648 at random_state 74\n",
      "27.071640236650794 at random_state 75\n",
      "26.76105477360054 at random_state 76\n",
      "27.897010964619813 at random_state 77\n",
      "27.373534685243847 at random_state 78\n",
      "27.196595157426195 at random_state 79\n",
      "26.64806502834172 at random_state 80\n",
      "28.022002328452174 at random_state 81\n",
      "27.414468271015142 at random_state 82\n",
      "27.829824868793423 at random_state 83\n",
      "26.46837608230598 at random_state 84\n",
      "26.760774358483975 at random_state 85\n",
      "25.93506317040728 at random_state 86\n",
      "27.363482648483302 at random_state 87\n",
      "27.14951261318165 at random_state 88\n",
      "27.826956857790417 at random_state 89\n",
      "27.777692442919275 at random_state 90\n",
      "27.64469749604307 at random_state 91\n",
      "27.269740693373578 at random_state 92\n",
      "26.672528755630758 at random_state 93\n",
      "27.738946148898425 at random_state 94\n",
      "27.51124039818498 at random_state 95\n",
      "28.552173179812915 at random_state 96\n",
      "27.87464037073113 at random_state 97\n",
      "27.002381853185614 at random_state 98\n",
      "26.148242537917586 at random_state 99\n",
      "27.28147368971712 at random_state 100\n",
      "27.31281175877021 at random_state 101\n",
      "27.22965735607054 at random_state 102\n",
      "27.704295187990642 at random_state 103\n",
      "27.60293158436266 at random_state 104\n",
      "26.446469246141504 at random_state 105\n",
      "26.550193121314848 at random_state 106\n",
      "26.940674384002328 at random_state 107\n",
      "27.576407734600078 at random_state 108\n",
      "26.59405466308904 at random_state 109\n",
      "26.208212304981068 at random_state 110\n",
      "26.323863576156977 at random_state 111\n",
      "27.661323968659058 at random_state 112\n",
      "26.71686205957013 at random_state 113\n",
      "27.232175630379142 at random_state 114\n",
      "27.053995594547324 at random_state 115\n",
      "27.891967109226375 at random_state 116\n",
      "26.964187037566305 at random_state 117\n",
      "27.36429802314546 at random_state 118\n",
      "28.31611074753361 at random_state 119\n",
      "27.497315360442013 at random_state 120\n",
      "28.72041924283148 at random_state 121\n",
      "27.7309476481097 at random_state 122\n",
      "27.765884179332975 at random_state 123\n",
      "27.024438104470835 at random_state 124\n",
      "27.164836296423623 at random_state 125\n",
      "27.23527078106535 at random_state 126\n",
      "27.386810877853048 at random_state 127\n",
      "27.711096390600797 at random_state 128\n",
      "27.67038797568529 at random_state 129\n",
      "26.6099022963941 at random_state 130\n",
      "26.047650895505804 at random_state 131\n",
      "28.52700588690267 at random_state 132\n",
      "27.759790994682785 at random_state 133\n",
      "27.550690530165472 at random_state 134\n",
      "26.325306771648624 at random_state 135\n",
      "26.937909246906894 at random_state 136\n",
      "27.258127370471126 at random_state 137\n",
      "27.583135756108632 at random_state 138\n",
      "26.75290208862356 at random_state 139\n",
      "27.509476287904317 at random_state 140\n",
      "27.261903676832258 at random_state 141\n",
      "27.14170836306645 at random_state 142\n",
      "27.532518729189295 at random_state 143\n",
      "27.634604921519042 at random_state 144\n",
      "27.957400698405923 at random_state 145\n",
      "26.7990165117044 at random_state 146\n",
      "27.52086531226407 at random_state 147\n",
      "28.09407400522583 at random_state 148\n",
      "27.251620602603726 at random_state 149\n",
      "26.28964632402505 at random_state 150\n",
      "26.62383697967301 at random_state 151\n",
      "28.309245367284213 at random_state 152\n",
      "26.99252813900106 at random_state 153\n",
      "27.233336267325043 at random_state 154\n",
      "26.350125003699944 at random_state 155\n",
      "26.77626619026777 at random_state 156\n",
      "26.407852448150223 at random_state 157\n",
      "28.366591295748055 at random_state 158\n",
      "27.40511188385799 at random_state 159\n",
      "26.81561546692489 at random_state 160\n",
      "27.007210645464298 at random_state 161\n",
      "27.744298257023864 at random_state 162\n",
      "27.4345569934307 at random_state 163\n",
      "27.097737013999605 at random_state 164\n",
      "27.211983301494655 at random_state 165\n",
      "27.004731664739868 at random_state 166\n",
      "27.60204432733718 at random_state 167\n",
      "27.349909734137746 at random_state 168\n",
      "27.66712454848951 at random_state 169\n",
      "27.40220527718152 at random_state 170\n",
      "26.65664877317226 at random_state 171\n",
      "27.07056214935463 at random_state 172\n",
      "28.45490601691455 at random_state 173\n",
      "27.092806949517676 at random_state 174\n",
      "27.722240907506546 at random_state 175\n",
      "26.71202818212903 at random_state 176\n",
      "29.5128942640269 at random_state 177\n",
      "28.09184557666024 at random_state 178\n",
      "28.04179359423284 at random_state 179\n",
      "27.361759360368975 at random_state 180\n",
      "27.099902068282848 at random_state 181\n",
      "28.849938729160918 at random_state 182\n",
      "27.559496266058638 at random_state 183\n",
      "27.73076685621297 at random_state 184\n",
      "27.11395697213309 at random_state 185\n",
      "28.610765922746097 at random_state 186\n",
      "28.490452881396543 at random_state 187\n",
      "27.16697066078211 at random_state 188\n",
      "27.937959580199383 at random_state 189\n",
      "26.98445845017974 at random_state 190\n",
      "27.82276433675158 at random_state 191\n",
      "27.936440553630806 at random_state 192\n",
      "27.1376692451319 at random_state 193\n",
      "27.563801139622434 at random_state 194\n",
      "26.390855991530668 at random_state 195\n",
      "26.567394383311957 at random_state 196\n",
      "27.42023383777154 at random_state 197\n",
      "26.39208928361972 at random_state 198\n",
      "26.849715255744023 at random_state 199\n"
     ]
    }
   ],
   "source": [
    "for i in range(200):\n",
    "    z_train, z_test, y_train, y_test = train_test_split(z,y, test_size=0.33, random_state=i)\n",
    "    \n",
    "    DTR = DecisionTreeRegressor()\n",
    "    DTR.fit(z_train, y_train)\n",
    "    pred=DTR.predict(z_test)\n",
    "    MAE= mean_absolute_error(y_test,pred)\n",
    "    print(MAE, \"at random_state\", i)"
   ]
  },
  {
   "cell_type": "code",
   "execution_count": 219,
   "metadata": {},
   "outputs": [
    {
     "name": "stdout",
     "output_type": "stream",
     "text": [
      "Least MAE  29.120991284359437  on Random_state  33\n"
     ]
    }
   ],
   "source": [
    "leastMAE=0\n",
    "mazRS=0\n",
    "for i in range(1,200):\n",
    "    z_train, z_test, y_train, y_test = train_test_split(z,y,test_size=0.30, random_state = i)\n",
    "    DTR = DecisionTreeRegressor()\n",
    "    DTR.fit(z_train, y_train)\n",
    "    pred = DTR.predict(z_test)\n",
    "    MAE= mean_absolute_error(y_test,pred)\n",
    "    if MAE>leastMAE:\n",
    "        leastMAE=MAE\n",
    "        mazRS=i\n",
    "print(\"Least MAE \", leastMAE,\" on Random_state \",mazRS)"
   ]
  },
  {
   "cell_type": "code",
   "execution_count": 220,
   "metadata": {},
   "outputs": [],
   "source": [
    "z_train, z_test, y_train, y_test = train_test_split(z,y,test_size=0.30, random_state = 33)"
   ]
  },
  {
   "cell_type": "code",
   "execution_count": 221,
   "metadata": {},
   "outputs": [
    {
     "name": "stdout",
     "output_type": "stream",
     "text": [
      "Mean Absolute error:  20.295971587199865\n",
      "Mean Squared error:  593.2219337434169\n",
      "Root Mean Squared Error: 24.356147760748556\n",
      "-0.003827334970593066\n"
     ]
    },
    {
     "data": {
      "text/plain": [
       "0.004730670323555897"
      ]
     },
     "execution_count": 221,
     "metadata": {},
     "output_type": "execute_result"
    }
   ],
   "source": [
    "lm = LinearRegression() # linear regression instance\n",
    "lm.fit(z_train,y_train) # applying linear regression on training set to learn the linear relationship.\n",
    "pred=lm.predict(z_test) # Applying linear Reg on test data\n",
    "print('Mean Absolute error: ',mean_absolute_error(y_test,pred)) # Calculating MAE error between actual actual y value & prdicted y value\n",
    "print('Mean Squared error: ',mean_squared_error(y_test,pred))\n",
    "print('Root Mean Squared Error:',np.sqrt(mean_squared_error(y_test,pred)))\n",
    "print(r2_score(y_test,pred))\n",
    "lm.score(z_train,y_train) # how well the model learned\n"
   ]
  },
  {
   "cell_type": "code",
   "execution_count": 222,
   "metadata": {},
   "outputs": [
    {
     "name": "stdout",
     "output_type": "stream",
     "text": [
      "Mean Absolute error:  28.53150943510139\n",
      "Mean Squared error:  1279.1442324873653\n",
      "Root Mean Squared Error: 35.76512592578649\n",
      "-1.1645186614023206\n"
     ]
    },
    {
     "data": {
      "text/plain": [
       "0.9922079631516194"
      ]
     },
     "execution_count": 222,
     "metadata": {},
     "output_type": "execute_result"
    }
   ],
   "source": [
    "DTR = DecisionTreeRegressor()\n",
    "DTR.fit(z_train, y_train)\n",
    "pred = DTR.predict(z_test)\n",
    "print('Mean Absolute error: ',mean_absolute_error(y_test,pred)) # Calculating MAE error between actual actual y value & prdicted y value\n",
    "print('Mean Squared error: ',mean_squared_error(y_test,pred))\n",
    "print('Root Mean Squared Error:',np.sqrt(mean_squared_error(y_test,pred)))\n",
    "print(r2_score(y_test,pred))\n",
    "DTR.score(z_train,y_train) # how well the model learned"
   ]
  },
  {
   "cell_type": "code",
   "execution_count": 223,
   "metadata": {},
   "outputs": [
    {
     "name": "stdout",
     "output_type": "stream",
     "text": [
      "Mean Absolute error:  21.88249565778635\n",
      "Mean Squared error:  698.906736431095\n",
      "Root Mean Squared Error: 26.436844297894087\n",
      "-0.18266309237323708\n"
     ]
    },
    {
     "data": {
      "text/plain": [
       "0.8289214949276555"
      ]
     },
     "execution_count": 223,
     "metadata": {},
     "output_type": "execute_result"
    }
   ],
   "source": [
    "RFR = RandomForestRegressor()  # Random Forest regressor instance\n",
    "RFR.fit(z_train, y_train) # applying Random Forest regressor on training set to learn relationship.\n",
    "pred = RFR.predict(z_test) # Applying linear Reg on test data\n",
    "print('Mean Absolute error: ',mean_absolute_error(y_test,pred)) # Calculating MAE error between actual actual y value & prdicted y value\n",
    "print('Mean Squared error: ',mean_squared_error(y_test,pred))\n",
    "print('Root Mean Squared Error:',np.sqrt(mean_squared_error(y_test,pred)))\n",
    "print(r2_score(y_test,pred))\n",
    "RFR.score(z_train,y_train) # how well the model learned"
   ]
  },
  {
   "cell_type": "code",
   "execution_count": 224,
   "metadata": {},
   "outputs": [
    {
     "name": "stdout",
     "output_type": "stream",
     "text": [
      "Mean Absolute error:  20.26175833022307\n",
      "Mean Squared error:  592.5136628051096\n",
      "Root Mean Squared Error: 24.34160353808084\n",
      "-0.002628826136046758\n"
     ]
    },
    {
     "data": {
      "text/plain": [
       "-0.0009237536649222555"
      ]
     },
     "execution_count": 224,
     "metadata": {},
     "output_type": "execute_result"
    }
   ],
   "source": [
    "SV = SVR() # Support Vector Reg Instance\n",
    "SV.fit(z_train, y_train) # applying Support Vector Reg on training set to learn  relationship.\n",
    "pred = SV.predict(z_test) # Applying Support Vector Reg on test data\n",
    "print('Mean Absolute error: ',mean_absolute_error(y_test,pred)) # Calculating MAE error between actual actual y value & prdicted y value\n",
    "print('Mean Squared error: ',mean_squared_error(y_test,pred))\n",
    "print('Root Mean Squared Error:',np.sqrt(mean_squared_error(y_test,pred)))\n",
    "print(r2_score(y_test,pred))\n",
    "SV.score(z_train,y_train)# how well the model learned\n"
   ]
  },
  {
   "cell_type": "code",
   "execution_count": 225,
   "metadata": {},
   "outputs": [
    {
     "name": "stdout",
     "output_type": "stream",
     "text": [
      "Mean Absolute error:  22.814257389320417\n",
      "Mean Squared error:  799.340507620727\n",
      "Root Mean Squared Error: 28.272610555460332\n",
      "-0.3526132562826194\n"
     ]
    },
    {
     "data": {
      "text/plain": [
       "0.8174868759605812"
      ]
     },
     "execution_count": 225,
     "metadata": {},
     "output_type": "execute_result"
    }
   ],
   "source": [
    "XGBR = XGBRegressor() # zGBR Instance\n",
    "XGBR.fit(z_train,y_train) # applying zGBR on training set to learn  relationship.\n",
    "pred = XGBR.predict(z_test) # Applying zGBR on test data\n",
    "print('Mean Absolute error: ', mean_absolute_error(y_test,pred))# Calculating MAE error between actual actual y value & prdicted y value\n",
    "print('Mean Squared error: ',mean_squared_error(y_test,pred))\n",
    "print('Root Mean Squared Error:',np.sqrt(mean_squared_error(y_test,pred)))\n",
    "print(r2_score(y_test,pred))\n",
    "XGBR.score(z_train,y_train) # how well the model learned   \n"
   ]
  },
  {
   "cell_type": "markdown",
   "metadata": {},
   "source": [
    "# K-fold Cross Validation"
   ]
  },
  {
   "cell_type": "code",
   "execution_count": 226,
   "metadata": {},
   "outputs": [
    {
     "name": "stdout",
     "output_type": "stream",
     "text": [
      "-0.004432440783226221\n"
     ]
    }
   ],
   "source": [
    "print(cross_val_score(lm,z,y,cv=cross_validation).mean()) # Obs : Linear Regression CV o/p"
   ]
  },
  {
   "cell_type": "code",
   "execution_count": 227,
   "metadata": {},
   "outputs": [
    {
     "name": "stdout",
     "output_type": "stream",
     "text": [
      "-1.1743151790171575\n"
     ]
    }
   ],
   "source": [
    "print(cross_val_score(DTR,z,y,cv=cross_validation).mean()) # Obs :  DTR Regression CV o/p\n"
   ]
  },
  {
   "cell_type": "code",
   "execution_count": 228,
   "metadata": {},
   "outputs": [
    {
     "name": "stdout",
     "output_type": "stream",
     "text": [
      "-0.16407407567402302\n"
     ]
    }
   ],
   "source": [
    "print(cross_val_score(RFR,z,y,cv=cross_validation).mean()) # Obs : Random Forest Regressor CV o/p"
   ]
  },
  {
   "cell_type": "code",
   "execution_count": 229,
   "metadata": {},
   "outputs": [
    {
     "name": "stdout",
     "output_type": "stream",
     "text": [
      "-0.008501095694633554\n"
     ]
    }
   ],
   "source": [
    "print(cross_val_score(SV,z,y,cv=cross_validation).mean()) # Obs : Support Vector CV o/p\n"
   ]
  },
  {
   "cell_type": "code",
   "execution_count": 230,
   "metadata": {},
   "outputs": [
    {
     "name": "stdout",
     "output_type": "stream",
     "text": [
      "-0.35617098781013967\n"
     ]
    }
   ],
   "source": [
    "print(cross_val_score(XGBR,z,y,cv=cross_validation).mean()) # Obs :  zGBoost Regressor CV o/p"
   ]
  },
  {
   "cell_type": "markdown",
   "metadata": {},
   "source": [
    "# Best Model:\n",
    "\n",
    "I have selected RFR as the best model as it has high CV score and least MSE & MAE. The cv score is negative as  all cols in independenet variable is object type.\n",
    "So, the data is not linear and spreaded so we get -ve cv score & r2 score."
   ]
  },
  {
   "cell_type": "code",
   "execution_count": 231,
   "metadata": {},
   "outputs": [],
   "source": [
    "import numpy as np\n",
    "parameter = {'max_depth': np.arange(2,8),\n",
    "             'max_features': ['log2','sqrt','auto'],\n",
    "             'min_samples_leaf': [1,2],\n",
    "             'n_estimators': [10]}"
   ]
  },
  {
   "cell_type": "code",
   "execution_count": 232,
   "metadata": {},
   "outputs": [],
   "source": [
    "GCV=GridSearchCV(RandomForestRegressor(),parameter,cv=cross_validation)\n",
    "# Creating Grid Search CV Object and Applying GridSearch on best Model - RFR"
   ]
  },
  {
   "cell_type": "code",
   "execution_count": 233,
   "metadata": {},
   "outputs": [
    {
     "data": {
      "text/plain": [
       "GridSearchCV(cv=KFold(n_splits=5, random_state=None, shuffle=True),\n",
       "             estimator=RandomForestRegressor(),\n",
       "             param_grid={'max_depth': array([2, 3, 4, 5, 6, 7]),\n",
       "                         'max_features': ['log2', 'sqrt', 'auto'],\n",
       "                         'min_samples_leaf': [1, 2], 'n_estimators': [10]})"
      ]
     },
     "execution_count": 233,
     "metadata": {},
     "output_type": "execute_result"
    }
   ],
   "source": [
    "GCV.fit(z_train,y_train)"
   ]
  },
  {
   "cell_type": "code",
   "execution_count": 234,
   "metadata": {},
   "outputs": [
    {
     "data": {
      "text/plain": [
       "{'max_depth': 3,\n",
       " 'max_features': 'log2',\n",
       " 'min_samples_leaf': 2,\n",
       " 'n_estimators': 10}"
      ]
     },
     "execution_count": 234,
     "metadata": {},
     "output_type": "execute_result"
    }
   ],
   "source": [
    "GCV.best_params_ # Giving the Best Gridserach Parameters"
   ]
  },
  {
   "cell_type": "code",
   "execution_count": 235,
   "metadata": {},
   "outputs": [
    {
     "name": "stdout",
     "output_type": "stream",
     "text": [
      "Mean Absolute error:  20.289968299548224\n",
      "Mean Squared error:  593.8584378930713\n",
      "Root Mean Squared Error: 24.369210859054736\n",
      "-0.0049044028062568135\n"
     ]
    },
    {
     "data": {
      "text/plain": [
       "0.8289214949276555"
      ]
     },
     "execution_count": 235,
     "metadata": {},
     "output_type": "execute_result"
    }
   ],
   "source": [
    "Final_mod = RandomForestRegressor(max_depth = 3, max_features = 'log2', min_samples_leaf = 2,n_estimators= 10)\n",
    "Final_mod.fit(z_train, y_train)\n",
    "pred = Final_mod.predict(z_test)\n",
    "print('Mean Absolute error: ',mean_absolute_error(y_test,pred)) # Calculating MAE error between actual actual y value & prdicted y value\n",
    "print('Mean Squared error: ',mean_squared_error(y_test,pred))\n",
    "print('Root Mean Squared Error:',np.sqrt(mean_squared_error(y_test,pred)))\n",
    "print(r2_score(y_test,pred))\n",
    "RFR.score(z_train,y_train) # how well the model learned"
   ]
  },
  {
   "cell_type": "code",
   "execution_count": 236,
   "metadata": {},
   "outputs": [
    {
     "data": {
      "text/plain": [
       "['FinalModel.pkl']"
      ]
     },
     "execution_count": 236,
     "metadata": {},
     "output_type": "execute_result"
    }
   ],
   "source": [
    "import joblib\n",
    "joblib.dump(Final_mod,\"FinalModel.pkl\")"
   ]
  },
  {
   "cell_type": "code",
   "execution_count": null,
   "metadata": {},
   "outputs": [],
   "source": []
  }
 ],
 "metadata": {
  "kernelspec": {
   "display_name": "Python 3",
   "language": "python",
   "name": "python3"
  },
  "language_info": {
   "codemirror_mode": {
    "name": "ipython",
    "version": 3
   },
   "file_extension": ".py",
   "mimetype": "text/x-python",
   "name": "python",
   "nbconvert_exporter": "python",
   "pygments_lexer": "ipython3",
   "version": "3.6.4"
  }
 },
 "nbformat": 4,
 "nbformat_minor": 2
}
