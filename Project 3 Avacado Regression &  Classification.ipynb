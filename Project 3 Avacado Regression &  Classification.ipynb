{
 "cells": [
  {
   "cell_type": "markdown",
   "metadata": {},
   "source": [
    "# Problem Statement : Classification\n",
    "Predicting the region with consumption of Avocados, where region is the target col which is a multiclass target col."
   ]
  },
  {
   "cell_type": "markdown",
   "metadata": {},
   "source": [
    "# Importing Libraries"
   ]
  },
  {
   "cell_type": "code",
   "execution_count": 1,
   "metadata": {},
   "outputs": [],
   "source": [
    "import numpy as np\n",
    "import pandas as pd\n",
    "import matplotlib.pyplot as plt\n",
    "import seaborn as sns\n",
    "from sklearn.model_selection import train_test_split\n",
    "from sklearn.preprocessing import LabelEncoder\n",
    "from sklearn.naive_bayes import MultinomialNB\n",
    "from sklearn.svm import SVC\n",
    "from sklearn.tree import DecisionTreeClassifier\n",
    "from sklearn.ensemble import RandomForestClassifier\n",
    "from sklearn.neighbors import KNeighborsClassifier\n",
    "from sklearn.metrics import accuracy_score,confusion_matrix,classification_report,roc_curve,roc_auc_score\n",
    "import warnings\n",
    "warnings.filterwarnings('ignore')"
   ]
  },
  {
   "cell_type": "markdown",
   "metadata": {},
   "source": [
    "- Importing Neccessary libraries for model preparation -Numpy, Pandas, Matplotlib & Seaborn for plots\n",
    "- 5 ML algo used from  sklearn library at once - Logistic,SVC,Random Forest Classifier, Decision tree classifier, KNN\n",
    "- As the metrics is common for all classification problems so imported common metrics all at once.\n",
    "- (Confusion Metrics, Accuracy Score, Classification Report) from Sklearn metrics module"
   ]
  },
  {
   "cell_type": "markdown",
   "metadata": {},
   "source": [
    "## Loading Dataset & Creating New Dataframe"
   ]
  },
  {
   "cell_type": "code",
   "execution_count": 3,
   "metadata": {},
   "outputs": [
    {
     "data": {
      "text/html": [
       "<div>\n",
       "<style scoped>\n",
       "    .dataframe tbody tr th:only-of-type {\n",
       "        vertical-align: middle;\n",
       "    }\n",
       "\n",
       "    .dataframe tbody tr th {\n",
       "        vertical-align: top;\n",
       "    }\n",
       "\n",
       "    .dataframe thead th {\n",
       "        text-align: right;\n",
       "    }\n",
       "</style>\n",
       "<table border=\"1\" class=\"dataframe\">\n",
       "  <thead>\n",
       "    <tr style=\"text-align: right;\">\n",
       "      <th></th>\n",
       "      <th>Unnamed: 0</th>\n",
       "      <th>Date</th>\n",
       "      <th>AveragePrice</th>\n",
       "      <th>Total Volume</th>\n",
       "      <th>4046</th>\n",
       "      <th>4225</th>\n",
       "      <th>4770</th>\n",
       "      <th>Total Bags</th>\n",
       "      <th>Small Bags</th>\n",
       "      <th>Large Bags</th>\n",
       "      <th>XLarge Bags</th>\n",
       "      <th>type</th>\n",
       "      <th>year</th>\n",
       "      <th>region</th>\n",
       "    </tr>\n",
       "  </thead>\n",
       "  <tbody>\n",
       "    <tr>\n",
       "      <th>0</th>\n",
       "      <td>0</td>\n",
       "      <td>2015-12-27</td>\n",
       "      <td>1.33</td>\n",
       "      <td>64236.62</td>\n",
       "      <td>1036.74</td>\n",
       "      <td>54454.85</td>\n",
       "      <td>48.16</td>\n",
       "      <td>8696.87</td>\n",
       "      <td>8603.62</td>\n",
       "      <td>93.25</td>\n",
       "      <td>0.0</td>\n",
       "      <td>conventional</td>\n",
       "      <td>2015</td>\n",
       "      <td>Albany</td>\n",
       "    </tr>\n",
       "    <tr>\n",
       "      <th>1</th>\n",
       "      <td>1</td>\n",
       "      <td>2015-12-20</td>\n",
       "      <td>1.35</td>\n",
       "      <td>54876.98</td>\n",
       "      <td>674.28</td>\n",
       "      <td>44638.81</td>\n",
       "      <td>58.33</td>\n",
       "      <td>9505.56</td>\n",
       "      <td>9408.07</td>\n",
       "      <td>97.49</td>\n",
       "      <td>0.0</td>\n",
       "      <td>conventional</td>\n",
       "      <td>2015</td>\n",
       "      <td>Albany</td>\n",
       "    </tr>\n",
       "    <tr>\n",
       "      <th>2</th>\n",
       "      <td>2</td>\n",
       "      <td>2015-12-13</td>\n",
       "      <td>0.93</td>\n",
       "      <td>118220.22</td>\n",
       "      <td>794.70</td>\n",
       "      <td>109149.67</td>\n",
       "      <td>130.50</td>\n",
       "      <td>8145.35</td>\n",
       "      <td>8042.21</td>\n",
       "      <td>103.14</td>\n",
       "      <td>0.0</td>\n",
       "      <td>conventional</td>\n",
       "      <td>2015</td>\n",
       "      <td>Albany</td>\n",
       "    </tr>\n",
       "    <tr>\n",
       "      <th>3</th>\n",
       "      <td>3</td>\n",
       "      <td>2015-12-06</td>\n",
       "      <td>1.08</td>\n",
       "      <td>78992.15</td>\n",
       "      <td>1132.00</td>\n",
       "      <td>71976.41</td>\n",
       "      <td>72.58</td>\n",
       "      <td>5811.16</td>\n",
       "      <td>5677.40</td>\n",
       "      <td>133.76</td>\n",
       "      <td>0.0</td>\n",
       "      <td>conventional</td>\n",
       "      <td>2015</td>\n",
       "      <td>Albany</td>\n",
       "    </tr>\n",
       "    <tr>\n",
       "      <th>4</th>\n",
       "      <td>4</td>\n",
       "      <td>2015-11-29</td>\n",
       "      <td>1.28</td>\n",
       "      <td>51039.60</td>\n",
       "      <td>941.48</td>\n",
       "      <td>43838.39</td>\n",
       "      <td>75.78</td>\n",
       "      <td>6183.95</td>\n",
       "      <td>5986.26</td>\n",
       "      <td>197.69</td>\n",
       "      <td>0.0</td>\n",
       "      <td>conventional</td>\n",
       "      <td>2015</td>\n",
       "      <td>Albany</td>\n",
       "    </tr>\n",
       "  </tbody>\n",
       "</table>\n",
       "</div>"
      ],
      "text/plain": [
       "   Unnamed: 0        Date  AveragePrice  Total Volume     4046       4225  \\\n",
       "0           0  2015-12-27          1.33      64236.62  1036.74   54454.85   \n",
       "1           1  2015-12-20          1.35      54876.98   674.28   44638.81   \n",
       "2           2  2015-12-13          0.93     118220.22   794.70  109149.67   \n",
       "3           3  2015-12-06          1.08      78992.15  1132.00   71976.41   \n",
       "4           4  2015-11-29          1.28      51039.60   941.48   43838.39   \n",
       "\n",
       "     4770  Total Bags  Small Bags  Large Bags  XLarge Bags          type  \\\n",
       "0   48.16     8696.87     8603.62       93.25          0.0  conventional   \n",
       "1   58.33     9505.56     9408.07       97.49          0.0  conventional   \n",
       "2  130.50     8145.35     8042.21      103.14          0.0  conventional   \n",
       "3   72.58     5811.16     5677.40      133.76          0.0  conventional   \n",
       "4   75.78     6183.95     5986.26      197.69          0.0  conventional   \n",
       "\n",
       "   year  region  \n",
       "0  2015  Albany  \n",
       "1  2015  Albany  \n",
       "2  2015  Albany  \n",
       "3  2015  Albany  \n",
       "4  2015  Albany  "
      ]
     },
     "execution_count": 3,
     "metadata": {},
     "output_type": "execute_result"
    }
   ],
   "source": [
    "avocado = pd.read_csv('avocado.csv')\n",
    "avocado.head()"
   ]
  },
  {
   "cell_type": "code",
   "execution_count": 4,
   "metadata": {},
   "outputs": [
    {
     "data": {
      "text/html": [
       "<div>\n",
       "<style scoped>\n",
       "    .dataframe tbody tr th:only-of-type {\n",
       "        vertical-align: middle;\n",
       "    }\n",
       "\n",
       "    .dataframe tbody tr th {\n",
       "        vertical-align: top;\n",
       "    }\n",
       "\n",
       "    .dataframe thead th {\n",
       "        text-align: right;\n",
       "    }\n",
       "</style>\n",
       "<table border=\"1\" class=\"dataframe\">\n",
       "  <thead>\n",
       "    <tr style=\"text-align: right;\">\n",
       "      <th></th>\n",
       "      <th>Unnamed: 0</th>\n",
       "      <th>Date</th>\n",
       "      <th>AveragePrice</th>\n",
       "      <th>Total Volume</th>\n",
       "      <th>4046</th>\n",
       "      <th>4225</th>\n",
       "      <th>4770</th>\n",
       "      <th>Total Bags</th>\n",
       "      <th>Small Bags</th>\n",
       "      <th>Large Bags</th>\n",
       "      <th>XLarge Bags</th>\n",
       "      <th>type</th>\n",
       "      <th>year</th>\n",
       "      <th>region</th>\n",
       "    </tr>\n",
       "  </thead>\n",
       "  <tbody>\n",
       "    <tr>\n",
       "      <th>0</th>\n",
       "      <td>0</td>\n",
       "      <td>2015-12-27</td>\n",
       "      <td>1.33</td>\n",
       "      <td>64236.62</td>\n",
       "      <td>1036.74</td>\n",
       "      <td>54454.85</td>\n",
       "      <td>48.16</td>\n",
       "      <td>8696.87</td>\n",
       "      <td>8603.62</td>\n",
       "      <td>93.25</td>\n",
       "      <td>0.0</td>\n",
       "      <td>conventional</td>\n",
       "      <td>2015</td>\n",
       "      <td>Albany</td>\n",
       "    </tr>\n",
       "    <tr>\n",
       "      <th>1</th>\n",
       "      <td>1</td>\n",
       "      <td>2015-12-20</td>\n",
       "      <td>1.35</td>\n",
       "      <td>54876.98</td>\n",
       "      <td>674.28</td>\n",
       "      <td>44638.81</td>\n",
       "      <td>58.33</td>\n",
       "      <td>9505.56</td>\n",
       "      <td>9408.07</td>\n",
       "      <td>97.49</td>\n",
       "      <td>0.0</td>\n",
       "      <td>conventional</td>\n",
       "      <td>2015</td>\n",
       "      <td>Albany</td>\n",
       "    </tr>\n",
       "    <tr>\n",
       "      <th>2</th>\n",
       "      <td>2</td>\n",
       "      <td>2015-12-13</td>\n",
       "      <td>0.93</td>\n",
       "      <td>118220.22</td>\n",
       "      <td>794.70</td>\n",
       "      <td>109149.67</td>\n",
       "      <td>130.50</td>\n",
       "      <td>8145.35</td>\n",
       "      <td>8042.21</td>\n",
       "      <td>103.14</td>\n",
       "      <td>0.0</td>\n",
       "      <td>conventional</td>\n",
       "      <td>2015</td>\n",
       "      <td>Albany</td>\n",
       "    </tr>\n",
       "    <tr>\n",
       "      <th>3</th>\n",
       "      <td>3</td>\n",
       "      <td>2015-12-06</td>\n",
       "      <td>1.08</td>\n",
       "      <td>78992.15</td>\n",
       "      <td>1132.00</td>\n",
       "      <td>71976.41</td>\n",
       "      <td>72.58</td>\n",
       "      <td>5811.16</td>\n",
       "      <td>5677.40</td>\n",
       "      <td>133.76</td>\n",
       "      <td>0.0</td>\n",
       "      <td>conventional</td>\n",
       "      <td>2015</td>\n",
       "      <td>Albany</td>\n",
       "    </tr>\n",
       "    <tr>\n",
       "      <th>4</th>\n",
       "      <td>4</td>\n",
       "      <td>2015-11-29</td>\n",
       "      <td>1.28</td>\n",
       "      <td>51039.60</td>\n",
       "      <td>941.48</td>\n",
       "      <td>43838.39</td>\n",
       "      <td>75.78</td>\n",
       "      <td>6183.95</td>\n",
       "      <td>5986.26</td>\n",
       "      <td>197.69</td>\n",
       "      <td>0.0</td>\n",
       "      <td>conventional</td>\n",
       "      <td>2015</td>\n",
       "      <td>Albany</td>\n",
       "    </tr>\n",
       "  </tbody>\n",
       "</table>\n",
       "</div>"
      ],
      "text/plain": [
       "   Unnamed: 0        Date  AveragePrice  Total Volume     4046       4225  \\\n",
       "0           0  2015-12-27          1.33      64236.62  1036.74   54454.85   \n",
       "1           1  2015-12-20          1.35      54876.98   674.28   44638.81   \n",
       "2           2  2015-12-13          0.93     118220.22   794.70  109149.67   \n",
       "3           3  2015-12-06          1.08      78992.15  1132.00   71976.41   \n",
       "4           4  2015-11-29          1.28      51039.60   941.48   43838.39   \n",
       "\n",
       "     4770  Total Bags  Small Bags  Large Bags  XLarge Bags          type  \\\n",
       "0   48.16     8696.87     8603.62       93.25          0.0  conventional   \n",
       "1   58.33     9505.56     9408.07       97.49          0.0  conventional   \n",
       "2  130.50     8145.35     8042.21      103.14          0.0  conventional   \n",
       "3   72.58     5811.16     5677.40      133.76          0.0  conventional   \n",
       "4   75.78     6183.95     5986.26      197.69          0.0  conventional   \n",
       "\n",
       "   year  region  \n",
       "0  2015  Albany  \n",
       "1  2015  Albany  \n",
       "2  2015  Albany  \n",
       "3  2015  Albany  \n",
       "4  2015  Albany  "
      ]
     },
     "execution_count": 4,
     "metadata": {},
     "output_type": "execute_result"
    }
   ],
   "source": [
    "df = pd.DataFrame(avocado)\n",
    "df.head()"
   ]
  },
  {
   "cell_type": "markdown",
   "metadata": {},
   "source": [
    "- Separate df created."
   ]
  },
  {
   "cell_type": "markdown",
   "metadata": {},
   "source": [
    "## Date Column Treatment"
   ]
  },
  {
   "cell_type": "code",
   "execution_count": 5,
   "metadata": {},
   "outputs": [],
   "source": [
    "df['year'] = pd.DatetimeIndex(df['Date']).year"
   ]
  },
  {
   "cell_type": "code",
   "execution_count": 6,
   "metadata": {},
   "outputs": [],
   "source": [
    "df['month'] = pd.DatetimeIndex(df['Date']).month"
   ]
  },
  {
   "cell_type": "code",
   "execution_count": 7,
   "metadata": {},
   "outputs": [],
   "source": [
    "df['day'] = pd.DatetimeIndex(df['Date']).day"
   ]
  },
  {
   "cell_type": "code",
   "execution_count": 8,
   "metadata": {},
   "outputs": [],
   "source": [
    "df.drop(['Unnamed: 0','Date'],axis=1,inplace=True)"
   ]
  },
  {
   "cell_type": "markdown",
   "metadata": {},
   "source": [
    "- year, month & day is separated and created as new col in the dataframe.\n",
    "- Date & Unammed  col is removed after creating new col of month,year & days."
   ]
  },
  {
   "cell_type": "markdown",
   "metadata": {},
   "source": [
    "## Initial Analysis"
   ]
  },
  {
   "cell_type": "code",
   "execution_count": 9,
   "metadata": {},
   "outputs": [
    {
     "data": {
      "text/html": [
       "<div>\n",
       "<style scoped>\n",
       "    .dataframe tbody tr th:only-of-type {\n",
       "        vertical-align: middle;\n",
       "    }\n",
       "\n",
       "    .dataframe tbody tr th {\n",
       "        vertical-align: top;\n",
       "    }\n",
       "\n",
       "    .dataframe thead th {\n",
       "        text-align: right;\n",
       "    }\n",
       "</style>\n",
       "<table border=\"1\" class=\"dataframe\">\n",
       "  <thead>\n",
       "    <tr style=\"text-align: right;\">\n",
       "      <th></th>\n",
       "      <th>AveragePrice</th>\n",
       "      <th>Total Volume</th>\n",
       "      <th>4046</th>\n",
       "      <th>4225</th>\n",
       "      <th>4770</th>\n",
       "      <th>Total Bags</th>\n",
       "      <th>Small Bags</th>\n",
       "      <th>Large Bags</th>\n",
       "      <th>XLarge Bags</th>\n",
       "      <th>type</th>\n",
       "      <th>year</th>\n",
       "      <th>region</th>\n",
       "      <th>month</th>\n",
       "      <th>day</th>\n",
       "    </tr>\n",
       "  </thead>\n",
       "  <tbody>\n",
       "    <tr>\n",
       "      <th>0</th>\n",
       "      <td>1.33</td>\n",
       "      <td>64236.62</td>\n",
       "      <td>1036.74</td>\n",
       "      <td>54454.85</td>\n",
       "      <td>48.16</td>\n",
       "      <td>8696.87</td>\n",
       "      <td>8603.62</td>\n",
       "      <td>93.25</td>\n",
       "      <td>0.0</td>\n",
       "      <td>conventional</td>\n",
       "      <td>2015</td>\n",
       "      <td>Albany</td>\n",
       "      <td>12</td>\n",
       "      <td>27</td>\n",
       "    </tr>\n",
       "    <tr>\n",
       "      <th>1</th>\n",
       "      <td>1.35</td>\n",
       "      <td>54876.98</td>\n",
       "      <td>674.28</td>\n",
       "      <td>44638.81</td>\n",
       "      <td>58.33</td>\n",
       "      <td>9505.56</td>\n",
       "      <td>9408.07</td>\n",
       "      <td>97.49</td>\n",
       "      <td>0.0</td>\n",
       "      <td>conventional</td>\n",
       "      <td>2015</td>\n",
       "      <td>Albany</td>\n",
       "      <td>12</td>\n",
       "      <td>20</td>\n",
       "    </tr>\n",
       "    <tr>\n",
       "      <th>2</th>\n",
       "      <td>0.93</td>\n",
       "      <td>118220.22</td>\n",
       "      <td>794.70</td>\n",
       "      <td>109149.67</td>\n",
       "      <td>130.50</td>\n",
       "      <td>8145.35</td>\n",
       "      <td>8042.21</td>\n",
       "      <td>103.14</td>\n",
       "      <td>0.0</td>\n",
       "      <td>conventional</td>\n",
       "      <td>2015</td>\n",
       "      <td>Albany</td>\n",
       "      <td>12</td>\n",
       "      <td>13</td>\n",
       "    </tr>\n",
       "    <tr>\n",
       "      <th>3</th>\n",
       "      <td>1.08</td>\n",
       "      <td>78992.15</td>\n",
       "      <td>1132.00</td>\n",
       "      <td>71976.41</td>\n",
       "      <td>72.58</td>\n",
       "      <td>5811.16</td>\n",
       "      <td>5677.40</td>\n",
       "      <td>133.76</td>\n",
       "      <td>0.0</td>\n",
       "      <td>conventional</td>\n",
       "      <td>2015</td>\n",
       "      <td>Albany</td>\n",
       "      <td>12</td>\n",
       "      <td>6</td>\n",
       "    </tr>\n",
       "    <tr>\n",
       "      <th>4</th>\n",
       "      <td>1.28</td>\n",
       "      <td>51039.60</td>\n",
       "      <td>941.48</td>\n",
       "      <td>43838.39</td>\n",
       "      <td>75.78</td>\n",
       "      <td>6183.95</td>\n",
       "      <td>5986.26</td>\n",
       "      <td>197.69</td>\n",
       "      <td>0.0</td>\n",
       "      <td>conventional</td>\n",
       "      <td>2015</td>\n",
       "      <td>Albany</td>\n",
       "      <td>11</td>\n",
       "      <td>29</td>\n",
       "    </tr>\n",
       "  </tbody>\n",
       "</table>\n",
       "</div>"
      ],
      "text/plain": [
       "   AveragePrice  Total Volume     4046       4225    4770  Total Bags  \\\n",
       "0          1.33      64236.62  1036.74   54454.85   48.16     8696.87   \n",
       "1          1.35      54876.98   674.28   44638.81   58.33     9505.56   \n",
       "2          0.93     118220.22   794.70  109149.67  130.50     8145.35   \n",
       "3          1.08      78992.15  1132.00   71976.41   72.58     5811.16   \n",
       "4          1.28      51039.60   941.48   43838.39   75.78     6183.95   \n",
       "\n",
       "   Small Bags  Large Bags  XLarge Bags          type  year  region  month  day  \n",
       "0     8603.62       93.25          0.0  conventional  2015  Albany     12   27  \n",
       "1     9408.07       97.49          0.0  conventional  2015  Albany     12   20  \n",
       "2     8042.21      103.14          0.0  conventional  2015  Albany     12   13  \n",
       "3     5677.40      133.76          0.0  conventional  2015  Albany     12    6  \n",
       "4     5986.26      197.69          0.0  conventional  2015  Albany     11   29  "
      ]
     },
     "execution_count": 9,
     "metadata": {},
     "output_type": "execute_result"
    }
   ],
   "source": [
    "df.head()"
   ]
  },
  {
   "cell_type": "markdown",
   "metadata": {},
   "source": [
    "- Dataset has mixed data types float, int and object type.\n",
    "- Value of data are not in same range."
   ]
  },
  {
   "cell_type": "code",
   "execution_count": 10,
   "metadata": {},
   "outputs": [
    {
     "data": {
      "text/plain": [
       "AveragePrice    float64\n",
       "Total Volume    float64\n",
       "4046            float64\n",
       "4225            float64\n",
       "4770            float64\n",
       "Total Bags      float64\n",
       "Small Bags      float64\n",
       "Large Bags      float64\n",
       "XLarge Bags     float64\n",
       "type             object\n",
       "year              int64\n",
       "region           object\n",
       "month             int64\n",
       "day               int64\n",
       "dtype: object"
      ]
     },
     "execution_count": 10,
     "metadata": {},
     "output_type": "execute_result"
    }
   ],
   "source": [
    "df.dtypes"
   ]
  },
  {
   "cell_type": "markdown",
   "metadata": {},
   "source": [
    "- Mixed data types containing float,int & object types"
   ]
  },
  {
   "cell_type": "code",
   "execution_count": 11,
   "metadata": {},
   "outputs": [
    {
     "data": {
      "text/plain": [
       "(18249, 14)"
      ]
     },
     "execution_count": 11,
     "metadata": {},
     "output_type": "execute_result"
    }
   ],
   "source": [
    "df.shape"
   ]
  },
  {
   "cell_type": "markdown",
   "metadata": {},
   "source": [
    "- dataframe has 18249 rows & 14 cols"
   ]
  },
  {
   "cell_type": "code",
   "execution_count": 12,
   "metadata": {},
   "outputs": [
    {
     "name": "stdout",
     "output_type": "stream",
     "text": [
      "<class 'pandas.core.frame.DataFrame'>\n",
      "RangeIndex: 18249 entries, 0 to 18248\n",
      "Data columns (total 14 columns):\n",
      " #   Column        Non-Null Count  Dtype  \n",
      "---  ------        --------------  -----  \n",
      " 0   AveragePrice  18249 non-null  float64\n",
      " 1   Total Volume  18249 non-null  float64\n",
      " 2   4046          18249 non-null  float64\n",
      " 3   4225          18249 non-null  float64\n",
      " 4   4770          18249 non-null  float64\n",
      " 5   Total Bags    18249 non-null  float64\n",
      " 6   Small Bags    18249 non-null  float64\n",
      " 7   Large Bags    18249 non-null  float64\n",
      " 8   XLarge Bags   18249 non-null  float64\n",
      " 9   type          18249 non-null  object \n",
      " 10  year          18249 non-null  int64  \n",
      " 11  region        18249 non-null  object \n",
      " 12  month         18249 non-null  int64  \n",
      " 13  day           18249 non-null  int64  \n",
      "dtypes: float64(9), int64(3), object(2)\n",
      "memory usage: 1.9+ MB\n"
     ]
    }
   ],
   "source": [
    "df.info()"
   ]
  },
  {
   "cell_type": "markdown",
   "metadata": {},
   "source": [
    "- the dataset has 9 float var.\n",
    "- 3 Int var\n",
    "- 2 Object var\n",
    "- index 0 = Average price & Index 13 = day col"
   ]
  },
  {
   "cell_type": "code",
   "execution_count": 13,
   "metadata": {
    "scrolled": true
   },
   "outputs": [
    {
     "data": {
      "text/html": [
       "<div>\n",
       "<style scoped>\n",
       "    .dataframe tbody tr th:only-of-type {\n",
       "        vertical-align: middle;\n",
       "    }\n",
       "\n",
       "    .dataframe tbody tr th {\n",
       "        vertical-align: top;\n",
       "    }\n",
       "\n",
       "    .dataframe thead th {\n",
       "        text-align: right;\n",
       "    }\n",
       "</style>\n",
       "<table border=\"1\" class=\"dataframe\">\n",
       "  <thead>\n",
       "    <tr style=\"text-align: right;\">\n",
       "      <th></th>\n",
       "      <th>AveragePrice</th>\n",
       "      <th>Total Volume</th>\n",
       "      <th>4046</th>\n",
       "      <th>4225</th>\n",
       "      <th>4770</th>\n",
       "      <th>Total Bags</th>\n",
       "      <th>Small Bags</th>\n",
       "      <th>Large Bags</th>\n",
       "      <th>XLarge Bags</th>\n",
       "      <th>year</th>\n",
       "      <th>month</th>\n",
       "      <th>day</th>\n",
       "    </tr>\n",
       "  </thead>\n",
       "  <tbody>\n",
       "    <tr>\n",
       "      <th>count</th>\n",
       "      <td>18249.000000</td>\n",
       "      <td>1.824900e+04</td>\n",
       "      <td>1.824900e+04</td>\n",
       "      <td>1.824900e+04</td>\n",
       "      <td>1.824900e+04</td>\n",
       "      <td>1.824900e+04</td>\n",
       "      <td>1.824900e+04</td>\n",
       "      <td>1.824900e+04</td>\n",
       "      <td>18249.000000</td>\n",
       "      <td>18249.000000</td>\n",
       "      <td>18249.000000</td>\n",
       "      <td>18249.000000</td>\n",
       "    </tr>\n",
       "    <tr>\n",
       "      <th>mean</th>\n",
       "      <td>1.405978</td>\n",
       "      <td>8.506440e+05</td>\n",
       "      <td>2.930084e+05</td>\n",
       "      <td>2.951546e+05</td>\n",
       "      <td>2.283974e+04</td>\n",
       "      <td>2.396392e+05</td>\n",
       "      <td>1.821947e+05</td>\n",
       "      <td>5.433809e+04</td>\n",
       "      <td>3106.426507</td>\n",
       "      <td>2016.147899</td>\n",
       "      <td>6.177215</td>\n",
       "      <td>15.662612</td>\n",
       "    </tr>\n",
       "    <tr>\n",
       "      <th>std</th>\n",
       "      <td>0.402677</td>\n",
       "      <td>3.453545e+06</td>\n",
       "      <td>1.264989e+06</td>\n",
       "      <td>1.204120e+06</td>\n",
       "      <td>1.074641e+05</td>\n",
       "      <td>9.862424e+05</td>\n",
       "      <td>7.461785e+05</td>\n",
       "      <td>2.439660e+05</td>\n",
       "      <td>17692.894652</td>\n",
       "      <td>0.939938</td>\n",
       "      <td>3.534130</td>\n",
       "      <td>8.776281</td>\n",
       "    </tr>\n",
       "    <tr>\n",
       "      <th>min</th>\n",
       "      <td>0.440000</td>\n",
       "      <td>8.456000e+01</td>\n",
       "      <td>0.000000e+00</td>\n",
       "      <td>0.000000e+00</td>\n",
       "      <td>0.000000e+00</td>\n",
       "      <td>0.000000e+00</td>\n",
       "      <td>0.000000e+00</td>\n",
       "      <td>0.000000e+00</td>\n",
       "      <td>0.000000</td>\n",
       "      <td>2015.000000</td>\n",
       "      <td>1.000000</td>\n",
       "      <td>1.000000</td>\n",
       "    </tr>\n",
       "    <tr>\n",
       "      <th>25%</th>\n",
       "      <td>1.100000</td>\n",
       "      <td>1.083858e+04</td>\n",
       "      <td>8.540700e+02</td>\n",
       "      <td>3.008780e+03</td>\n",
       "      <td>0.000000e+00</td>\n",
       "      <td>5.088640e+03</td>\n",
       "      <td>2.849420e+03</td>\n",
       "      <td>1.274700e+02</td>\n",
       "      <td>0.000000</td>\n",
       "      <td>2015.000000</td>\n",
       "      <td>3.000000</td>\n",
       "      <td>8.000000</td>\n",
       "    </tr>\n",
       "    <tr>\n",
       "      <th>50%</th>\n",
       "      <td>1.370000</td>\n",
       "      <td>1.073768e+05</td>\n",
       "      <td>8.645300e+03</td>\n",
       "      <td>2.906102e+04</td>\n",
       "      <td>1.849900e+02</td>\n",
       "      <td>3.974383e+04</td>\n",
       "      <td>2.636282e+04</td>\n",
       "      <td>2.647710e+03</td>\n",
       "      <td>0.000000</td>\n",
       "      <td>2016.000000</td>\n",
       "      <td>6.000000</td>\n",
       "      <td>16.000000</td>\n",
       "    </tr>\n",
       "    <tr>\n",
       "      <th>75%</th>\n",
       "      <td>1.660000</td>\n",
       "      <td>4.329623e+05</td>\n",
       "      <td>1.110202e+05</td>\n",
       "      <td>1.502069e+05</td>\n",
       "      <td>6.243420e+03</td>\n",
       "      <td>1.107834e+05</td>\n",
       "      <td>8.333767e+04</td>\n",
       "      <td>2.202925e+04</td>\n",
       "      <td>132.500000</td>\n",
       "      <td>2017.000000</td>\n",
       "      <td>9.000000</td>\n",
       "      <td>23.000000</td>\n",
       "    </tr>\n",
       "    <tr>\n",
       "      <th>max</th>\n",
       "      <td>3.250000</td>\n",
       "      <td>6.250565e+07</td>\n",
       "      <td>2.274362e+07</td>\n",
       "      <td>2.047057e+07</td>\n",
       "      <td>2.546439e+06</td>\n",
       "      <td>1.937313e+07</td>\n",
       "      <td>1.338459e+07</td>\n",
       "      <td>5.719097e+06</td>\n",
       "      <td>551693.650000</td>\n",
       "      <td>2018.000000</td>\n",
       "      <td>12.000000</td>\n",
       "      <td>31.000000</td>\n",
       "    </tr>\n",
       "  </tbody>\n",
       "</table>\n",
       "</div>"
      ],
      "text/plain": [
       "       AveragePrice  Total Volume          4046          4225          4770  \\\n",
       "count  18249.000000  1.824900e+04  1.824900e+04  1.824900e+04  1.824900e+04   \n",
       "mean       1.405978  8.506440e+05  2.930084e+05  2.951546e+05  2.283974e+04   \n",
       "std        0.402677  3.453545e+06  1.264989e+06  1.204120e+06  1.074641e+05   \n",
       "min        0.440000  8.456000e+01  0.000000e+00  0.000000e+00  0.000000e+00   \n",
       "25%        1.100000  1.083858e+04  8.540700e+02  3.008780e+03  0.000000e+00   \n",
       "50%        1.370000  1.073768e+05  8.645300e+03  2.906102e+04  1.849900e+02   \n",
       "75%        1.660000  4.329623e+05  1.110202e+05  1.502069e+05  6.243420e+03   \n",
       "max        3.250000  6.250565e+07  2.274362e+07  2.047057e+07  2.546439e+06   \n",
       "\n",
       "         Total Bags    Small Bags    Large Bags    XLarge Bags          year  \\\n",
       "count  1.824900e+04  1.824900e+04  1.824900e+04   18249.000000  18249.000000   \n",
       "mean   2.396392e+05  1.821947e+05  5.433809e+04    3106.426507   2016.147899   \n",
       "std    9.862424e+05  7.461785e+05  2.439660e+05   17692.894652      0.939938   \n",
       "min    0.000000e+00  0.000000e+00  0.000000e+00       0.000000   2015.000000   \n",
       "25%    5.088640e+03  2.849420e+03  1.274700e+02       0.000000   2015.000000   \n",
       "50%    3.974383e+04  2.636282e+04  2.647710e+03       0.000000   2016.000000   \n",
       "75%    1.107834e+05  8.333767e+04  2.202925e+04     132.500000   2017.000000   \n",
       "max    1.937313e+07  1.338459e+07  5.719097e+06  551693.650000   2018.000000   \n",
       "\n",
       "              month           day  \n",
       "count  18249.000000  18249.000000  \n",
       "mean       6.177215     15.662612  \n",
       "std        3.534130      8.776281  \n",
       "min        1.000000      1.000000  \n",
       "25%        3.000000      8.000000  \n",
       "50%        6.000000     16.000000  \n",
       "75%        9.000000     23.000000  \n",
       "max       12.000000     31.000000  "
      ]
     },
     "execution_count": 13,
     "metadata": {},
     "output_type": "execute_result"
    }
   ],
   "source": [
    "df.describe()"
   ]
  },
  {
   "cell_type": "markdown",
   "metadata": {},
   "source": [
    "- Mean is greater then 50th Percentile in total volume, 4046,4225 & 4770 col.\n",
    "- Diff seen in Max & 75th Percentile in total volume, 4046,4225 & 4770 col.\n",
    "- as per above obs it seems there are outliers present in those col."
   ]
  },
  {
   "cell_type": "markdown",
   "metadata": {},
   "source": [
    "# Missing Value Detection"
   ]
  },
  {
   "cell_type": "code",
   "execution_count": 14,
   "metadata": {},
   "outputs": [
    {
     "data": {
      "text/plain": [
       "AveragePrice    0\n",
       "Total Volume    0\n",
       "4046            0\n",
       "4225            0\n",
       "4770            0\n",
       "Total Bags      0\n",
       "Small Bags      0\n",
       "Large Bags      0\n",
       "XLarge Bags     0\n",
       "type            0\n",
       "year            0\n",
       "region          0\n",
       "month           0\n",
       "day             0\n",
       "dtype: int64"
      ]
     },
     "execution_count": 14,
     "metadata": {},
     "output_type": "execute_result"
    }
   ],
   "source": [
    "df.isnull().sum()"
   ]
  },
  {
   "cell_type": "markdown",
   "metadata": {},
   "source": [
    "- No Missing value seen in the dataset.\n",
    "- There are 0 values in 4046,4225,4770 but i have not treated as missing value as there value is 0 on that particular day.\n",
    "- Cat variable having 0s dropped later in the process below"
   ]
  },
  {
   "cell_type": "markdown",
   "metadata": {},
   "source": [
    "# Histplot"
   ]
  },
  {
   "cell_type": "code",
   "execution_count": 19,
   "metadata": {},
   "outputs": [
    {
     "data": {
      "text/plain": [
       "array([[<AxesSubplot:title={'center':'AveragePrice'}>,\n",
       "        <AxesSubplot:title={'center':'Total Volume'}>,\n",
       "        <AxesSubplot:title={'center':'4046'}>],\n",
       "       [<AxesSubplot:title={'center':'4225'}>,\n",
       "        <AxesSubplot:title={'center':'4770'}>,\n",
       "        <AxesSubplot:title={'center':'Total Bags'}>],\n",
       "       [<AxesSubplot:title={'center':'Small Bags'}>,\n",
       "        <AxesSubplot:title={'center':'Large Bags'}>,\n",
       "        <AxesSubplot:title={'center':'XLarge Bags'}>],\n",
       "       [<AxesSubplot:title={'center':'year'}>,\n",
       "        <AxesSubplot:title={'center':'month'}>,\n",
       "        <AxesSubplot:title={'center':'day'}>]], dtype=object)"
      ]
     },
     "execution_count": 19,
     "metadata": {},
     "output_type": "execute_result"
    },
    {
     "data": {
      "image/png": "[encoded data removed]",
      "text/plain": [
       "<Figure size 1296x864 with 12 Axes>"
      ]
     },
     "metadata": {},
     "output_type": "display_data"
    }
   ],
   "source": [
    "df.hist(grid=False, figsize=(18,12), bins=30)"
   ]
  },
  {
   "cell_type": "markdown",
   "metadata": {},
   "source": [
    "- total volume, 4046,4225 & 4770 col are right skewed."
   ]
  },
  {
   "cell_type": "markdown",
   "metadata": {},
   "source": [
    "## Countplot for Categorical Variable"
   ]
  },
  {
   "cell_type": "code",
   "execution_count": 22,
   "metadata": {},
   "outputs": [
    {
     "data": {
      "image/png": "[encoded data removed]",
      "text/plain": [
       "<Figure size 432x288 with 1 Axes>"
      ]
     },
     "metadata": {},
     "output_type": "display_data"
    }
   ],
   "source": [
    "sns.countplot(df['type']);"
   ]
  },
  {
   "cell_type": "markdown",
   "metadata": {},
   "source": [
    "- Type has 2 class.\n",
    "- And there is no big diff in there count."
   ]
  },
  {
   "cell_type": "code",
   "execution_count": 23,
   "metadata": {},
   "outputs": [
    {
     "data": {
      "text/plain": [
       "type\n",
       "conventional    9126\n",
       "organic         9123\n",
       "dtype: int64"
      ]
     },
     "execution_count": 23,
     "metadata": {},
     "output_type": "execute_result"
    }
   ],
   "source": [
    "df.groupby('type').size()"
   ]
  },
  {
   "cell_type": "markdown",
   "metadata": {},
   "source": [
    "- Type has 2 class.\n",
    "- And there is no big diff in there count."
   ]
  },
  {
   "cell_type": "code",
   "execution_count": 24,
   "metadata": {},
   "outputs": [
    {
     "data": {
      "text/plain": [
       "year\n",
       "2015    5615\n",
       "2016    5616\n",
       "2017    5722\n",
       "2018    1296\n",
       "dtype: int64"
      ]
     },
     "execution_count": 24,
     "metadata": {},
     "output_type": "execute_result"
    }
   ],
   "source": [
    "df.groupby('year').size()"
   ]
  },
  {
   "cell_type": "markdown",
   "metadata": {},
   "source": [
    "- year col has 4 class of years where year freq of year 2016 is high and freq of year 2018 is less.\n",
    "-  freq of year 2015 & 2016 is almost same."
   ]
  },
  {
   "cell_type": "code",
   "execution_count": 25,
   "metadata": {},
   "outputs": [
    {
     "data": {
      "text/plain": [
       "region\n",
       "Albany                 338\n",
       "Atlanta                338\n",
       "BaltimoreWashington    338\n",
       "Boise                  338\n",
       "Boston                 338\n",
       "BuffaloRochester       338\n",
       "California             338\n",
       "Charlotte              338\n",
       "Chicago                338\n",
       "CincinnatiDayton       338\n",
       "Columbus               338\n",
       "DallasFtWorth          338\n",
       "Denver                 338\n",
       "Detroit                338\n",
       "GrandRapids            338\n",
       "GreatLakes             338\n",
       "HarrisburgScranton     338\n",
       "HartfordSpringfield    338\n",
       "Houston                338\n",
       "Indianapolis           338\n",
       "Jacksonville           338\n",
       "LasVegas               338\n",
       "LosAngeles             338\n",
       "Louisville             338\n",
       "MiamiFtLauderdale      338\n",
       "Midsouth               338\n",
       "Nashville              338\n",
       "NewOrleansMobile       338\n",
       "NewYork                338\n",
       "Northeast              338\n",
       "NorthernNewEngland     338\n",
       "Orlando                338\n",
       "Philadelphia           338\n",
       "PhoenixTucson          338\n",
       "Pittsburgh             338\n",
       "Plains                 338\n",
       "Portland               338\n",
       "RaleighGreensboro      338\n",
       "RichmondNorfolk        338\n",
       "Roanoke                338\n",
       "Sacramento             338\n",
       "SanDiego               338\n",
       "SanFrancisco           338\n",
       "Seattle                338\n",
       "SouthCarolina          338\n",
       "SouthCentral           338\n",
       "Southeast              338\n",
       "Spokane                338\n",
       "StLouis                338\n",
       "Syracuse               338\n",
       "Tampa                  338\n",
       "TotalUS                338\n",
       "West                   338\n",
       "WestTexNewMexico       335\n",
       "dtype: int64"
      ]
     },
     "execution_count": 25,
     "metadata": {},
     "output_type": "execute_result"
    }
   ],
   "source": [
    "df.groupby('region').size()"
   ]
  },
  {
   "cell_type": "markdown",
   "metadata": {},
   "source": [
    "- Multiclass target col has equal number of obs for each class."
   ]
  },
  {
   "cell_type": "code",
   "execution_count": 26,
   "metadata": {},
   "outputs": [
    {
     "data": {
      "image/png": "[encoded data removed]",
      "text/plain": [
       "<Figure size 432x288 with 1 Axes>"
      ]
     },
     "metadata": {},
     "output_type": "display_data"
    }
   ],
   "source": [
    "sns.countplot(df['year']);"
   ]
  },
  {
   "cell_type": "markdown",
   "metadata": {},
   "source": [
    "- year 2018 has the least count and year 2017 has the highest count"
   ]
  },
  {
   "cell_type": "code",
   "execution_count": 27,
   "metadata": {},
   "outputs": [
    {
     "data": {
      "image/png": "[encoded data removed]",
      "text/plain": [
       "<Figure size 7200x864 with 1 Axes>"
      ]
     },
     "metadata": {},
     "output_type": "display_data"
    }
   ],
   "source": [
    "fig, ax =plt.subplots(figsize=(100,12))\n",
    "sns.countplot(df['region']);"
   ]
  },
  {
   "cell_type": "markdown",
   "metadata": {},
   "source": [
    "- Multiclass target col has equal number of obs for each class."
   ]
  },
  {
   "cell_type": "markdown",
   "metadata": {},
   "source": [
    "## Bar plot for Categorical variables "
   ]
  },
  {
   "cell_type": "code",
   "execution_count": 29,
   "metadata": {},
   "outputs": [
    {
     "data": {
      "image/png": "[encoded data removed]",
      "text/plain": [
       "<Figure size 432x288 with 1 Axes>"
      ]
     },
     "metadata": {},
     "output_type": "display_data"
    }
   ],
   "source": [
    "ax = sns.barplot(x='type', y= 'AveragePrice' , data=df)"
   ]
  },
  {
   "cell_type": "markdown",
   "metadata": {},
   "source": [
    "- Organic Class in type col has high avg price"
   ]
  },
  {
   "cell_type": "code",
   "execution_count": 30,
   "metadata": {},
   "outputs": [
    {
     "data": {
      "image/png": "[encoded data removed]",
      "text/plain": [
       "<Figure size 432x288 with 1 Axes>"
      ]
     },
     "metadata": {},
     "output_type": "display_data"
    }
   ],
   "source": [
    "ax = sns.barplot(x='year', y= 'AveragePrice' , data=df)"
   ]
  },
  {
   "cell_type": "markdown",
   "metadata": {},
   "source": [
    "-  year 2017 has high avg price"
   ]
  },
  {
   "cell_type": "code",
   "execution_count": 31,
   "metadata": {},
   "outputs": [
    {
     "data": {
      "image/png": "[encoded data removed]",
      "text/plain": [
       "<Figure size 5760x864 with 1 Axes>"
      ]
     },
     "metadata": {},
     "output_type": "display_data"
    }
   ],
   "source": [
    "fig, ax =plt.subplots(figsize=(80,12))\n",
    "ax = sns.barplot(x='region', y= 'AveragePrice' , data=df)"
   ]
  },
  {
   "cell_type": "markdown",
   "metadata": {},
   "source": [
    "- There is no big difference in average price of avocado with respect to all region in target col."
   ]
  },
  {
   "cell_type": "markdown",
   "metadata": {},
   "source": [
    "# Correlation"
   ]
  },
  {
   "cell_type": "code",
   "execution_count": 32,
   "metadata": {},
   "outputs": [
    {
     "data": {
      "text/html": [
       "<div>\n",
       "<style scoped>\n",
       "    .dataframe tbody tr th:only-of-type {\n",
       "        vertical-align: middle;\n",
       "    }\n",
       "\n",
       "    .dataframe tbody tr th {\n",
       "        vertical-align: top;\n",
       "    }\n",
       "\n",
       "    .dataframe thead th {\n",
       "        text-align: right;\n",
       "    }\n",
       "</style>\n",
       "<table border=\"1\" class=\"dataframe\">\n",
       "  <thead>\n",
       "    <tr style=\"text-align: right;\">\n",
       "      <th></th>\n",
       "      <th>AveragePrice</th>\n",
       "      <th>Total Volume</th>\n",
       "      <th>4046</th>\n",
       "      <th>4225</th>\n",
       "      <th>4770</th>\n",
       "      <th>Total Bags</th>\n",
       "      <th>Small Bags</th>\n",
       "      <th>Large Bags</th>\n",
       "      <th>XLarge Bags</th>\n",
       "      <th>year</th>\n",
       "      <th>month</th>\n",
       "      <th>day</th>\n",
       "    </tr>\n",
       "  </thead>\n",
       "  <tbody>\n",
       "    <tr>\n",
       "      <th>AveragePrice</th>\n",
       "      <td>1.000000</td>\n",
       "      <td>-0.192752</td>\n",
       "      <td>-0.206664</td>\n",
       "      <td>-0.172692</td>\n",
       "      <td>-0.177155</td>\n",
       "      <td>-0.177048</td>\n",
       "      <td>-0.174500</td>\n",
       "      <td>-0.171406</td>\n",
       "      <td>-0.105900</td>\n",
       "      <td>0.093197</td>\n",
       "      <td>0.162409</td>\n",
       "      <td>0.027386</td>\n",
       "    </tr>\n",
       "    <tr>\n",
       "      <th>Total Volume</th>\n",
       "      <td>-0.192752</td>\n",
       "      <td>1.000000</td>\n",
       "      <td>0.977453</td>\n",
       "      <td>0.974077</td>\n",
       "      <td>0.871923</td>\n",
       "      <td>0.963046</td>\n",
       "      <td>0.967231</td>\n",
       "      <td>0.880536</td>\n",
       "      <td>0.743734</td>\n",
       "      <td>0.017193</td>\n",
       "      <td>-0.024689</td>\n",
       "      <td>-0.009747</td>\n",
       "    </tr>\n",
       "    <tr>\n",
       "      <th>4046</th>\n",
       "      <td>-0.206664</td>\n",
       "      <td>0.977453</td>\n",
       "      <td>1.000000</td>\n",
       "      <td>0.925583</td>\n",
       "      <td>0.832799</td>\n",
       "      <td>0.919644</td>\n",
       "      <td>0.924859</td>\n",
       "      <td>0.838177</td>\n",
       "      <td>0.695660</td>\n",
       "      <td>0.003576</td>\n",
       "      <td>-0.026037</td>\n",
       "      <td>-0.010411</td>\n",
       "    </tr>\n",
       "    <tr>\n",
       "      <th>4225</th>\n",
       "      <td>-0.172692</td>\n",
       "      <td>0.974077</td>\n",
       "      <td>0.925583</td>\n",
       "      <td>1.000000</td>\n",
       "      <td>0.887517</td>\n",
       "      <td>0.905680</td>\n",
       "      <td>0.915916</td>\n",
       "      <td>0.809792</td>\n",
       "      <td>0.685176</td>\n",
       "      <td>-0.009718</td>\n",
       "      <td>-0.022014</td>\n",
       "      <td>-0.012333</td>\n",
       "    </tr>\n",
       "    <tr>\n",
       "      <th>4770</th>\n",
       "      <td>-0.177155</td>\n",
       "      <td>0.871923</td>\n",
       "      <td>0.832799</td>\n",
       "      <td>0.887517</td>\n",
       "      <td>1.000000</td>\n",
       "      <td>0.791990</td>\n",
       "      <td>0.802407</td>\n",
       "      <td>0.698029</td>\n",
       "      <td>0.676424</td>\n",
       "      <td>-0.036558</td>\n",
       "      <td>-0.033396</td>\n",
       "      <td>-0.009048</td>\n",
       "    </tr>\n",
       "    <tr>\n",
       "      <th>Total Bags</th>\n",
       "      <td>-0.177048</td>\n",
       "      <td>0.963046</td>\n",
       "      <td>0.919644</td>\n",
       "      <td>0.905680</td>\n",
       "      <td>0.791990</td>\n",
       "      <td>1.000000</td>\n",
       "      <td>0.994330</td>\n",
       "      <td>0.942939</td>\n",
       "      <td>0.801449</td>\n",
       "      <td>0.071512</td>\n",
       "      <td>-0.022725</td>\n",
       "      <td>-0.004987</td>\n",
       "    </tr>\n",
       "    <tr>\n",
       "      <th>Small Bags</th>\n",
       "      <td>-0.174500</td>\n",
       "      <td>0.967231</td>\n",
       "      <td>0.924859</td>\n",
       "      <td>0.915916</td>\n",
       "      <td>0.802407</td>\n",
       "      <td>0.994330</td>\n",
       "      <td>1.000000</td>\n",
       "      <td>0.902499</td>\n",
       "      <td>0.803920</td>\n",
       "      <td>0.063617</td>\n",
       "      <td>-0.023139</td>\n",
       "      <td>-0.003849</td>\n",
       "    </tr>\n",
       "    <tr>\n",
       "      <th>Large Bags</th>\n",
       "      <td>-0.171406</td>\n",
       "      <td>0.880536</td>\n",
       "      <td>0.838177</td>\n",
       "      <td>0.809792</td>\n",
       "      <td>0.698029</td>\n",
       "      <td>0.942939</td>\n",
       "      <td>0.902499</td>\n",
       "      <td>1.000000</td>\n",
       "      <td>0.708596</td>\n",
       "      <td>0.086782</td>\n",
       "      <td>-0.020288</td>\n",
       "      <td>-0.008423</td>\n",
       "    </tr>\n",
       "    <tr>\n",
       "      <th>XLarge Bags</th>\n",
       "      <td>-0.105900</td>\n",
       "      <td>0.743734</td>\n",
       "      <td>0.695660</td>\n",
       "      <td>0.685176</td>\n",
       "      <td>0.676424</td>\n",
       "      <td>0.801449</td>\n",
       "      <td>0.803920</td>\n",
       "      <td>0.708596</td>\n",
       "      <td>1.000000</td>\n",
       "      <td>0.076840</td>\n",
       "      <td>-0.013524</td>\n",
       "      <td>0.000076</td>\n",
       "    </tr>\n",
       "    <tr>\n",
       "      <th>year</th>\n",
       "      <td>0.093197</td>\n",
       "      <td>0.017193</td>\n",
       "      <td>0.003576</td>\n",
       "      <td>-0.009718</td>\n",
       "      <td>-0.036558</td>\n",
       "      <td>0.071512</td>\n",
       "      <td>0.063617</td>\n",
       "      <td>0.086782</td>\n",
       "      <td>0.076840</td>\n",
       "      <td>1.000000</td>\n",
       "      <td>-0.177050</td>\n",
       "      <td>0.004475</td>\n",
       "    </tr>\n",
       "    <tr>\n",
       "      <th>month</th>\n",
       "      <td>0.162409</td>\n",
       "      <td>-0.024689</td>\n",
       "      <td>-0.026037</td>\n",
       "      <td>-0.022014</td>\n",
       "      <td>-0.033396</td>\n",
       "      <td>-0.022725</td>\n",
       "      <td>-0.023139</td>\n",
       "      <td>-0.020288</td>\n",
       "      <td>-0.013524</td>\n",
       "      <td>-0.177050</td>\n",
       "      <td>1.000000</td>\n",
       "      <td>0.010621</td>\n",
       "    </tr>\n",
       "    <tr>\n",
       "      <th>day</th>\n",
       "      <td>0.027386</td>\n",
       "      <td>-0.009747</td>\n",
       "      <td>-0.010411</td>\n",
       "      <td>-0.012333</td>\n",
       "      <td>-0.009048</td>\n",
       "      <td>-0.004987</td>\n",
       "      <td>-0.003849</td>\n",
       "      <td>-0.008423</td>\n",
       "      <td>0.000076</td>\n",
       "      <td>0.004475</td>\n",
       "      <td>0.010621</td>\n",
       "      <td>1.000000</td>\n",
       "    </tr>\n",
       "  </tbody>\n",
       "</table>\n",
       "</div>"
      ],
      "text/plain": [
       "              AveragePrice  Total Volume      4046      4225      4770  \\\n",
       "AveragePrice      1.000000     -0.192752 -0.206664 -0.172692 -0.177155   \n",
       "Total Volume     -0.192752      1.000000  0.977453  0.974077  0.871923   \n",
       "4046             -0.206664      0.977453  1.000000  0.925583  0.832799   \n",
       "4225             -0.172692      0.974077  0.925583  1.000000  0.887517   \n",
       "4770             -0.177155      0.871923  0.832799  0.887517  1.000000   \n",
       "Total Bags       -0.177048      0.963046  0.919644  0.905680  0.791990   \n",
       "Small Bags       -0.174500      0.967231  0.924859  0.915916  0.802407   \n",
       "Large Bags       -0.171406      0.880536  0.838177  0.809792  0.698029   \n",
       "XLarge Bags      -0.105900      0.743734  0.695660  0.685176  0.676424   \n",
       "year              0.093197      0.017193  0.003576 -0.009718 -0.036558   \n",
       "month             0.162409     -0.024689 -0.026037 -0.022014 -0.033396   \n",
       "day               0.027386     -0.009747 -0.010411 -0.012333 -0.009048   \n",
       "\n",
       "              Total Bags  Small Bags  Large Bags  XLarge Bags      year  \\\n",
       "AveragePrice   -0.177048   -0.174500   -0.171406    -0.105900  0.093197   \n",
       "Total Volume    0.963046    0.967231    0.880536     0.743734  0.017193   \n",
       "4046            0.919644    0.924859    0.838177     0.695660  0.003576   \n",
       "4225            0.905680    0.915916    0.809792     0.685176 -0.009718   \n",
       "4770            0.791990    0.802407    0.698029     0.676424 -0.036558   \n",
       "Total Bags      1.000000    0.994330    0.942939     0.801449  0.071512   \n",
       "Small Bags      0.994330    1.000000    0.902499     0.803920  0.063617   \n",
       "Large Bags      0.942939    0.902499    1.000000     0.708596  0.086782   \n",
       "XLarge Bags     0.801449    0.803920    0.708596     1.000000  0.076840   \n",
       "year            0.071512    0.063617    0.086782     0.076840  1.000000   \n",
       "month          -0.022725   -0.023139   -0.020288    -0.013524 -0.177050   \n",
       "day            -0.004987   -0.003849   -0.008423     0.000076  0.004475   \n",
       "\n",
       "                 month       day  \n",
       "AveragePrice  0.162409  0.027386  \n",
       "Total Volume -0.024689 -0.009747  \n",
       "4046         -0.026037 -0.010411  \n",
       "4225         -0.022014 -0.012333  \n",
       "4770         -0.033396 -0.009048  \n",
       "Total Bags   -0.022725 -0.004987  \n",
       "Small Bags   -0.023139 -0.003849  \n",
       "Large Bags   -0.020288 -0.008423  \n",
       "XLarge Bags  -0.013524  0.000076  \n",
       "year         -0.177050  0.004475  \n",
       "month         1.000000  0.010621  \n",
       "day           0.010621  1.000000  "
      ]
     },
     "execution_count": 32,
     "metadata": {},
     "output_type": "execute_result"
    }
   ],
   "source": [
    "dfcor=df.corr()\n",
    "dfcor"
   ]
  },
  {
   "cell_type": "markdown",
   "metadata": {},
   "source": [
    "-  Total Volume, 4046,4225 & 4770 Total bags, small bags, Large bags & X large bags shows high corr with each other."
   ]
  },
  {
   "cell_type": "markdown",
   "metadata": {},
   "source": [
    "# Heatmap"
   ]
  },
  {
   "cell_type": "code",
   "execution_count": 33,
   "metadata": {
    "scrolled": false
   },
   "outputs": [
    {
     "data": {
      "text/plain": [
       "<AxesSubplot:>"
      ]
     },
     "execution_count": 33,
     "metadata": {},
     "output_type": "execute_result"
    },
    {
     "data": {
      "image/png": "[encoded data removed]",
      "text/plain": [
       "<Figure size 864x576 with 2 Axes>"
      ]
     },
     "metadata": {},
     "output_type": "display_data"
    }
   ],
   "source": [
    "plt.figure(figsize=(12,8))\n",
    "sns.heatmap(dfcor,cmap='YlOrRd_r', annot=True)"
   ]
  },
  {
   "cell_type": "markdown",
   "metadata": {},
   "source": [
    "-  Total Volume, 4046,4225 & 4770 Total bags, small bags, Large bags & X large bags shows high corr with each other."
   ]
  },
  {
   "cell_type": "markdown",
   "metadata": {},
   "source": [
    "# Labelencoding"
   ]
  },
  {
   "cell_type": "code",
   "execution_count": 34,
   "metadata": {},
   "outputs": [
    {
     "data": {
      "text/html": [
       "<div>\n",
       "<style scoped>\n",
       "    .dataframe tbody tr th:only-of-type {\n",
       "        vertical-align: middle;\n",
       "    }\n",
       "\n",
       "    .dataframe tbody tr th {\n",
       "        vertical-align: top;\n",
       "    }\n",
       "\n",
       "    .dataframe thead th {\n",
       "        text-align: right;\n",
       "    }\n",
       "</style>\n",
       "<table border=\"1\" class=\"dataframe\">\n",
       "  <thead>\n",
       "    <tr style=\"text-align: right;\">\n",
       "      <th></th>\n",
       "      <th>AveragePrice</th>\n",
       "      <th>Total Volume</th>\n",
       "      <th>4046</th>\n",
       "      <th>4225</th>\n",
       "      <th>4770</th>\n",
       "      <th>Total Bags</th>\n",
       "      <th>Small Bags</th>\n",
       "      <th>Large Bags</th>\n",
       "      <th>XLarge Bags</th>\n",
       "      <th>type</th>\n",
       "      <th>year</th>\n",
       "      <th>region</th>\n",
       "      <th>month</th>\n",
       "      <th>day</th>\n",
       "    </tr>\n",
       "  </thead>\n",
       "  <tbody>\n",
       "    <tr>\n",
       "      <th>0</th>\n",
       "      <td>1.33</td>\n",
       "      <td>64236.62</td>\n",
       "      <td>1036.74</td>\n",
       "      <td>54454.85</td>\n",
       "      <td>48.16</td>\n",
       "      <td>8696.87</td>\n",
       "      <td>8603.62</td>\n",
       "      <td>93.25</td>\n",
       "      <td>1130.0</td>\n",
       "      <td>0</td>\n",
       "      <td>2015</td>\n",
       "      <td>Albany</td>\n",
       "      <td>12</td>\n",
       "      <td>27</td>\n",
       "    </tr>\n",
       "    <tr>\n",
       "      <th>1</th>\n",
       "      <td>1.35</td>\n",
       "      <td>54876.98</td>\n",
       "      <td>674.28</td>\n",
       "      <td>44638.81</td>\n",
       "      <td>58.33</td>\n",
       "      <td>9505.56</td>\n",
       "      <td>9408.07</td>\n",
       "      <td>97.49</td>\n",
       "      <td>1130.0</td>\n",
       "      <td>0</td>\n",
       "      <td>2015</td>\n",
       "      <td>Albany</td>\n",
       "      <td>12</td>\n",
       "      <td>20</td>\n",
       "    </tr>\n",
       "    <tr>\n",
       "      <th>2</th>\n",
       "      <td>0.93</td>\n",
       "      <td>118220.22</td>\n",
       "      <td>794.70</td>\n",
       "      <td>109149.67</td>\n",
       "      <td>130.50</td>\n",
       "      <td>8145.35</td>\n",
       "      <td>8042.21</td>\n",
       "      <td>103.14</td>\n",
       "      <td>1130.0</td>\n",
       "      <td>0</td>\n",
       "      <td>2015</td>\n",
       "      <td>Albany</td>\n",
       "      <td>12</td>\n",
       "      <td>13</td>\n",
       "    </tr>\n",
       "    <tr>\n",
       "      <th>3</th>\n",
       "      <td>1.08</td>\n",
       "      <td>78992.15</td>\n",
       "      <td>1132.00</td>\n",
       "      <td>71976.41</td>\n",
       "      <td>72.58</td>\n",
       "      <td>5811.16</td>\n",
       "      <td>5677.40</td>\n",
       "      <td>133.76</td>\n",
       "      <td>1130.0</td>\n",
       "      <td>0</td>\n",
       "      <td>2015</td>\n",
       "      <td>Albany</td>\n",
       "      <td>12</td>\n",
       "      <td>6</td>\n",
       "    </tr>\n",
       "    <tr>\n",
       "      <th>4</th>\n",
       "      <td>1.28</td>\n",
       "      <td>51039.60</td>\n",
       "      <td>941.48</td>\n",
       "      <td>43838.39</td>\n",
       "      <td>75.78</td>\n",
       "      <td>6183.95</td>\n",
       "      <td>5986.26</td>\n",
       "      <td>197.69</td>\n",
       "      <td>1130.0</td>\n",
       "      <td>0</td>\n",
       "      <td>2015</td>\n",
       "      <td>Albany</td>\n",
       "      <td>11</td>\n",
       "      <td>29</td>\n",
       "    </tr>\n",
       "  </tbody>\n",
       "</table>\n",
       "</div>"
      ],
      "text/plain": [
       "   AveragePrice  Total Volume     4046       4225    4770  Total Bags  \\\n",
       "0          1.33      64236.62  1036.74   54454.85   48.16     8696.87   \n",
       "1          1.35      54876.98   674.28   44638.81   58.33     9505.56   \n",
       "2          0.93     118220.22   794.70  109149.67  130.50     8145.35   \n",
       "3          1.08      78992.15  1132.00   71976.41   72.58     5811.16   \n",
       "4          1.28      51039.60   941.48   43838.39   75.78     6183.95   \n",
       "\n",
       "   Small Bags  Large Bags  XLarge Bags  type  year  region  month  day  \n",
       "0     8603.62       93.25       1130.0     0  2015  Albany     12   27  \n",
       "1     9408.07       97.49       1130.0     0  2015  Albany     12   20  \n",
       "2     8042.21      103.14       1130.0     0  2015  Albany     12   13  \n",
       "3     5677.40      133.76       1130.0     0  2015  Albany     12    6  \n",
       "4     5986.26      197.69       1130.0     0  2015  Albany     11   29  "
      ]
     },
     "execution_count": 34,
     "metadata": {},
     "output_type": "execute_result"
    }
   ],
   "source": [
    "lencode=LabelEncoder()\n",
    "df['type']=lencode.fit_transform(df['type'])\n",
    "df.head()"
   ]
  },
  {
   "cell_type": "markdown",
   "metadata": {},
   "source": [
    "- Type col is label encoded"
   ]
  },
  {
   "cell_type": "code",
   "execution_count": 35,
   "metadata": {},
   "outputs": [
    {
     "data": {
      "text/plain": [
       "type\n",
       "0    9126\n",
       "1    9123\n",
       "dtype: int64"
      ]
     },
     "execution_count": 35,
     "metadata": {},
     "output_type": "execute_result"
    }
   ],
   "source": [
    "df.groupby('type').size()"
   ]
  },
  {
   "cell_type": "markdown",
   "metadata": {},
   "source": [
    "-  class of type col is same"
   ]
  },
  {
   "cell_type": "code",
   "execution_count": 36,
   "metadata": {},
   "outputs": [
    {
     "data": {
      "text/html": [
       "<div>\n",
       "<style scoped>\n",
       "    .dataframe tbody tr th:only-of-type {\n",
       "        vertical-align: middle;\n",
       "    }\n",
       "\n",
       "    .dataframe tbody tr th {\n",
       "        vertical-align: top;\n",
       "    }\n",
       "\n",
       "    .dataframe thead th {\n",
       "        text-align: right;\n",
       "    }\n",
       "</style>\n",
       "<table border=\"1\" class=\"dataframe\">\n",
       "  <thead>\n",
       "    <tr style=\"text-align: right;\">\n",
       "      <th></th>\n",
       "      <th>AveragePrice</th>\n",
       "      <th>Total Volume</th>\n",
       "      <th>4046</th>\n",
       "      <th>4225</th>\n",
       "      <th>4770</th>\n",
       "      <th>Total Bags</th>\n",
       "      <th>Small Bags</th>\n",
       "      <th>Large Bags</th>\n",
       "      <th>XLarge Bags</th>\n",
       "      <th>type</th>\n",
       "      <th>year</th>\n",
       "      <th>region</th>\n",
       "      <th>month</th>\n",
       "      <th>day</th>\n",
       "    </tr>\n",
       "  </thead>\n",
       "  <tbody>\n",
       "    <tr>\n",
       "      <th>0</th>\n",
       "      <td>1.33</td>\n",
       "      <td>64236.62</td>\n",
       "      <td>1036.74</td>\n",
       "      <td>54454.85</td>\n",
       "      <td>48.16</td>\n",
       "      <td>8696.87</td>\n",
       "      <td>8603.62</td>\n",
       "      <td>93.25</td>\n",
       "      <td>1130.0</td>\n",
       "      <td>0</td>\n",
       "      <td>0</td>\n",
       "      <td>Albany</td>\n",
       "      <td>12</td>\n",
       "      <td>27</td>\n",
       "    </tr>\n",
       "    <tr>\n",
       "      <th>1</th>\n",
       "      <td>1.35</td>\n",
       "      <td>54876.98</td>\n",
       "      <td>674.28</td>\n",
       "      <td>44638.81</td>\n",
       "      <td>58.33</td>\n",
       "      <td>9505.56</td>\n",
       "      <td>9408.07</td>\n",
       "      <td>97.49</td>\n",
       "      <td>1130.0</td>\n",
       "      <td>0</td>\n",
       "      <td>0</td>\n",
       "      <td>Albany</td>\n",
       "      <td>12</td>\n",
       "      <td>20</td>\n",
       "    </tr>\n",
       "    <tr>\n",
       "      <th>2</th>\n",
       "      <td>0.93</td>\n",
       "      <td>118220.22</td>\n",
       "      <td>794.70</td>\n",
       "      <td>109149.67</td>\n",
       "      <td>130.50</td>\n",
       "      <td>8145.35</td>\n",
       "      <td>8042.21</td>\n",
       "      <td>103.14</td>\n",
       "      <td>1130.0</td>\n",
       "      <td>0</td>\n",
       "      <td>0</td>\n",
       "      <td>Albany</td>\n",
       "      <td>12</td>\n",
       "      <td>13</td>\n",
       "    </tr>\n",
       "    <tr>\n",
       "      <th>3</th>\n",
       "      <td>1.08</td>\n",
       "      <td>78992.15</td>\n",
       "      <td>1132.00</td>\n",
       "      <td>71976.41</td>\n",
       "      <td>72.58</td>\n",
       "      <td>5811.16</td>\n",
       "      <td>5677.40</td>\n",
       "      <td>133.76</td>\n",
       "      <td>1130.0</td>\n",
       "      <td>0</td>\n",
       "      <td>0</td>\n",
       "      <td>Albany</td>\n",
       "      <td>12</td>\n",
       "      <td>6</td>\n",
       "    </tr>\n",
       "    <tr>\n",
       "      <th>4</th>\n",
       "      <td>1.28</td>\n",
       "      <td>51039.60</td>\n",
       "      <td>941.48</td>\n",
       "      <td>43838.39</td>\n",
       "      <td>75.78</td>\n",
       "      <td>6183.95</td>\n",
       "      <td>5986.26</td>\n",
       "      <td>197.69</td>\n",
       "      <td>1130.0</td>\n",
       "      <td>0</td>\n",
       "      <td>0</td>\n",
       "      <td>Albany</td>\n",
       "      <td>11</td>\n",
       "      <td>29</td>\n",
       "    </tr>\n",
       "  </tbody>\n",
       "</table>\n",
       "</div>"
      ],
      "text/plain": [
       "   AveragePrice  Total Volume     4046       4225    4770  Total Bags  \\\n",
       "0          1.33      64236.62  1036.74   54454.85   48.16     8696.87   \n",
       "1          1.35      54876.98   674.28   44638.81   58.33     9505.56   \n",
       "2          0.93     118220.22   794.70  109149.67  130.50     8145.35   \n",
       "3          1.08      78992.15  1132.00   71976.41   72.58     5811.16   \n",
       "4          1.28      51039.60   941.48   43838.39   75.78     6183.95   \n",
       "\n",
       "   Small Bags  Large Bags  XLarge Bags  type  year  region  month  day  \n",
       "0     8603.62       93.25       1130.0     0     0  Albany     12   27  \n",
       "1     9408.07       97.49       1130.0     0     0  Albany     12   20  \n",
       "2     8042.21      103.14       1130.0     0     0  Albany     12   13  \n",
       "3     5677.40      133.76       1130.0     0     0  Albany     12    6  \n",
       "4     5986.26      197.69       1130.0     0     0  Albany     11   29  "
      ]
     },
     "execution_count": 36,
     "metadata": {},
     "output_type": "execute_result"
    }
   ],
   "source": [
    "lencode=LabelEncoder()\n",
    "df['year']=lencode.fit_transform(df['year'])\n",
    "df.head()"
   ]
  },
  {
   "cell_type": "markdown",
   "metadata": {},
   "source": [
    "-  year col is encoded and can be seen in dataframe above with class values shown below in groupby"
   ]
  },
  {
   "cell_type": "code",
   "execution_count": 37,
   "metadata": {},
   "outputs": [
    {
     "data": {
      "text/plain": [
       "year\n",
       "0    5615\n",
       "1    5616\n",
       "2    5722\n",
       "3    1296\n",
       "dtype: int64"
      ]
     },
     "execution_count": 37,
     "metadata": {},
     "output_type": "execute_result"
    }
   ],
   "source": [
    "df.groupby('year').size()"
   ]
  },
  {
   "cell_type": "code",
   "execution_count": 38,
   "metadata": {},
   "outputs": [
    {
     "data": {
      "text/html": [
       "<div>\n",
       "<style scoped>\n",
       "    .dataframe tbody tr th:only-of-type {\n",
       "        vertical-align: middle;\n",
       "    }\n",
       "\n",
       "    .dataframe tbody tr th {\n",
       "        vertical-align: top;\n",
       "    }\n",
       "\n",
       "    .dataframe thead th {\n",
       "        text-align: right;\n",
       "    }\n",
       "</style>\n",
       "<table border=\"1\" class=\"dataframe\">\n",
       "  <thead>\n",
       "    <tr style=\"text-align: right;\">\n",
       "      <th></th>\n",
       "      <th>AveragePrice</th>\n",
       "      <th>Total Volume</th>\n",
       "      <th>4046</th>\n",
       "      <th>4225</th>\n",
       "      <th>4770</th>\n",
       "      <th>Total Bags</th>\n",
       "      <th>Small Bags</th>\n",
       "      <th>Large Bags</th>\n",
       "      <th>XLarge Bags</th>\n",
       "      <th>type</th>\n",
       "      <th>year</th>\n",
       "      <th>region</th>\n",
       "      <th>month</th>\n",
       "      <th>day</th>\n",
       "    </tr>\n",
       "  </thead>\n",
       "  <tbody>\n",
       "    <tr>\n",
       "      <th>0</th>\n",
       "      <td>1.33</td>\n",
       "      <td>64236.62</td>\n",
       "      <td>1036.74</td>\n",
       "      <td>54454.85</td>\n",
       "      <td>48.16</td>\n",
       "      <td>8696.87</td>\n",
       "      <td>8603.62</td>\n",
       "      <td>93.25</td>\n",
       "      <td>1130.0</td>\n",
       "      <td>0</td>\n",
       "      <td>0</td>\n",
       "      <td>0</td>\n",
       "      <td>12</td>\n",
       "      <td>27</td>\n",
       "    </tr>\n",
       "    <tr>\n",
       "      <th>1</th>\n",
       "      <td>1.35</td>\n",
       "      <td>54876.98</td>\n",
       "      <td>674.28</td>\n",
       "      <td>44638.81</td>\n",
       "      <td>58.33</td>\n",
       "      <td>9505.56</td>\n",
       "      <td>9408.07</td>\n",
       "      <td>97.49</td>\n",
       "      <td>1130.0</td>\n",
       "      <td>0</td>\n",
       "      <td>0</td>\n",
       "      <td>0</td>\n",
       "      <td>12</td>\n",
       "      <td>20</td>\n",
       "    </tr>\n",
       "    <tr>\n",
       "      <th>2</th>\n",
       "      <td>0.93</td>\n",
       "      <td>118220.22</td>\n",
       "      <td>794.70</td>\n",
       "      <td>109149.67</td>\n",
       "      <td>130.50</td>\n",
       "      <td>8145.35</td>\n",
       "      <td>8042.21</td>\n",
       "      <td>103.14</td>\n",
       "      <td>1130.0</td>\n",
       "      <td>0</td>\n",
       "      <td>0</td>\n",
       "      <td>0</td>\n",
       "      <td>12</td>\n",
       "      <td>13</td>\n",
       "    </tr>\n",
       "    <tr>\n",
       "      <th>3</th>\n",
       "      <td>1.08</td>\n",
       "      <td>78992.15</td>\n",
       "      <td>1132.00</td>\n",
       "      <td>71976.41</td>\n",
       "      <td>72.58</td>\n",
       "      <td>5811.16</td>\n",
       "      <td>5677.40</td>\n",
       "      <td>133.76</td>\n",
       "      <td>1130.0</td>\n",
       "      <td>0</td>\n",
       "      <td>0</td>\n",
       "      <td>0</td>\n",
       "      <td>12</td>\n",
       "      <td>6</td>\n",
       "    </tr>\n",
       "    <tr>\n",
       "      <th>4</th>\n",
       "      <td>1.28</td>\n",
       "      <td>51039.60</td>\n",
       "      <td>941.48</td>\n",
       "      <td>43838.39</td>\n",
       "      <td>75.78</td>\n",
       "      <td>6183.95</td>\n",
       "      <td>5986.26</td>\n",
       "      <td>197.69</td>\n",
       "      <td>1130.0</td>\n",
       "      <td>0</td>\n",
       "      <td>0</td>\n",
       "      <td>0</td>\n",
       "      <td>11</td>\n",
       "      <td>29</td>\n",
       "    </tr>\n",
       "  </tbody>\n",
       "</table>\n",
       "</div>"
      ],
      "text/plain": [
       "   AveragePrice  Total Volume     4046       4225    4770  Total Bags  \\\n",
       "0          1.33      64236.62  1036.74   54454.85   48.16     8696.87   \n",
       "1          1.35      54876.98   674.28   44638.81   58.33     9505.56   \n",
       "2          0.93     118220.22   794.70  109149.67  130.50     8145.35   \n",
       "3          1.08      78992.15  1132.00   71976.41   72.58     5811.16   \n",
       "4          1.28      51039.60   941.48   43838.39   75.78     6183.95   \n",
       "\n",
       "   Small Bags  Large Bags  XLarge Bags  type  year  region  month  day  \n",
       "0     8603.62       93.25       1130.0     0     0       0     12   27  \n",
       "1     9408.07       97.49       1130.0     0     0       0     12   20  \n",
       "2     8042.21      103.14       1130.0     0     0       0     12   13  \n",
       "3     5677.40      133.76       1130.0     0     0       0     12    6  \n",
       "4     5986.26      197.69       1130.0     0     0       0     11   29  "
      ]
     },
     "execution_count": 38,
     "metadata": {},
     "output_type": "execute_result"
    }
   ],
   "source": [
    "lencode=LabelEncoder()\n",
    "df['region']=lencode.fit_transform(df['region'])\n",
    "df.head()"
   ]
  },
  {
   "cell_type": "markdown",
   "metadata": {},
   "source": [
    "-  Target col region is also encoded "
   ]
  },
  {
   "cell_type": "markdown",
   "metadata": {},
   "source": [
    "## VIF : Multicollinearity test"
   ]
  },
  {
   "cell_type": "markdown",
   "metadata": {},
   "source": [
    "from statsmodels.stats.outliers_influence import variance_inflation_factor # Importing VIF"
   ]
  },
  {
   "cell_type": "code",
   "execution_count": 40,
   "metadata": {},
   "outputs": [],
   "source": [
    "def vif_calc():\n",
    "    vif=pd.DataFrame()\n",
    "    vif[\"VIF Factor\"]=[variance_inflation_factor(df.values,i) for i in range(df.shape[1])]\n",
    "    vif[\"features\"]=df.columns\n",
    "    print(vif)"
   ]
  },
  {
   "cell_type": "markdown",
   "metadata": {},
   "source": [
    "- computing VIF"
   ]
  },
  {
   "cell_type": "code",
   "execution_count": 41,
   "metadata": {},
   "outputs": [
    {
     "name": "stdout",
     "output_type": "stream",
     "text": [
      "       VIF Factor      features\n",
      "0       14.173725  AveragePrice\n",
      "1     8953.466384  Total Volume\n",
      "2     1189.090456          4046\n",
      "3     1102.170441          4225\n",
      "4       14.446382          4770\n",
      "5   141182.245901    Total Bags\n",
      "6    80446.526039    Small Bags\n",
      "7     8517.371541    Large Bags\n",
      "8       47.503391   XLarge Bags\n",
      "9        3.413145          type\n",
      "10       2.760816          year\n",
      "11       3.699228        region\n",
      "12       4.181540         month\n",
      "13       3.707858           day\n"
     ]
    }
   ],
   "source": [
    "vif_calc()"
   ]
  },
  {
   "cell_type": "markdown",
   "metadata": {},
   "source": [
    "- Total Bags,  Small Bags, Large Bags, XLarge Bags are highly correlated.\n",
    "- region col doesnt show corr and multicollinearity with others variables."
   ]
  },
  {
   "cell_type": "code",
   "execution_count": null,
   "metadata": {},
   "outputs": [],
   "source": []
  },
  {
   "cell_type": "code",
   "execution_count": 42,
   "metadata": {},
   "outputs": [
    {
     "data": {
      "text/plain": [
       "Index(['AveragePrice', 'Total Volume', '4046', '4225', '4770', 'Total Bags',\n",
       "       'Small Bags', 'Large Bags', 'XLarge Bags', 'type', 'year', 'region',\n",
       "       'month', 'day'],\n",
       "      dtype='object')"
      ]
     },
     "execution_count": 42,
     "metadata": {},
     "output_type": "execute_result"
    }
   ],
   "source": [
    "df.columns"
   ]
  },
  {
   "cell_type": "code",
   "execution_count": 43,
   "metadata": {},
   "outputs": [],
   "source": [
    "df.drop(['Total Bags','Small Bags','Large Bags','XLarge Bags'],axis=1,inplace=True)"
   ]
  },
  {
   "cell_type": "markdown",
   "metadata": {},
   "source": [
    "- Above 'Total Bags','Small Bags','Large Bags','XLarge Bags' are dropped becuse of high multicollinearity among each others\n",
    "- These var are less significant and not influencing the target col"
   ]
  },
  {
   "cell_type": "code",
   "execution_count": 44,
   "metadata": {},
   "outputs": [
    {
     "data": {
      "text/html": [
       "<div>\n",
       "<style scoped>\n",
       "    .dataframe tbody tr th:only-of-type {\n",
       "        vertical-align: middle;\n",
       "    }\n",
       "\n",
       "    .dataframe tbody tr th {\n",
       "        vertical-align: top;\n",
       "    }\n",
       "\n",
       "    .dataframe thead th {\n",
       "        text-align: right;\n",
       "    }\n",
       "</style>\n",
       "<table border=\"1\" class=\"dataframe\">\n",
       "  <thead>\n",
       "    <tr style=\"text-align: right;\">\n",
       "      <th></th>\n",
       "      <th>AveragePrice</th>\n",
       "      <th>Total Volume</th>\n",
       "      <th>4046</th>\n",
       "      <th>4225</th>\n",
       "      <th>4770</th>\n",
       "      <th>type</th>\n",
       "      <th>year</th>\n",
       "      <th>region</th>\n",
       "      <th>month</th>\n",
       "      <th>day</th>\n",
       "    </tr>\n",
       "  </thead>\n",
       "  <tbody>\n",
       "    <tr>\n",
       "      <th>0</th>\n",
       "      <td>1.33</td>\n",
       "      <td>64236.62</td>\n",
       "      <td>1036.74</td>\n",
       "      <td>54454.85</td>\n",
       "      <td>48.16</td>\n",
       "      <td>0</td>\n",
       "      <td>0</td>\n",
       "      <td>0</td>\n",
       "      <td>12</td>\n",
       "      <td>27</td>\n",
       "    </tr>\n",
       "    <tr>\n",
       "      <th>1</th>\n",
       "      <td>1.35</td>\n",
       "      <td>54876.98</td>\n",
       "      <td>674.28</td>\n",
       "      <td>44638.81</td>\n",
       "      <td>58.33</td>\n",
       "      <td>0</td>\n",
       "      <td>0</td>\n",
       "      <td>0</td>\n",
       "      <td>12</td>\n",
       "      <td>20</td>\n",
       "    </tr>\n",
       "    <tr>\n",
       "      <th>2</th>\n",
       "      <td>0.93</td>\n",
       "      <td>118220.22</td>\n",
       "      <td>794.70</td>\n",
       "      <td>109149.67</td>\n",
       "      <td>130.50</td>\n",
       "      <td>0</td>\n",
       "      <td>0</td>\n",
       "      <td>0</td>\n",
       "      <td>12</td>\n",
       "      <td>13</td>\n",
       "    </tr>\n",
       "    <tr>\n",
       "      <th>3</th>\n",
       "      <td>1.08</td>\n",
       "      <td>78992.15</td>\n",
       "      <td>1132.00</td>\n",
       "      <td>71976.41</td>\n",
       "      <td>72.58</td>\n",
       "      <td>0</td>\n",
       "      <td>0</td>\n",
       "      <td>0</td>\n",
       "      <td>12</td>\n",
       "      <td>6</td>\n",
       "    </tr>\n",
       "    <tr>\n",
       "      <th>4</th>\n",
       "      <td>1.28</td>\n",
       "      <td>51039.60</td>\n",
       "      <td>941.48</td>\n",
       "      <td>43838.39</td>\n",
       "      <td>75.78</td>\n",
       "      <td>0</td>\n",
       "      <td>0</td>\n",
       "      <td>0</td>\n",
       "      <td>11</td>\n",
       "      <td>29</td>\n",
       "    </tr>\n",
       "  </tbody>\n",
       "</table>\n",
       "</div>"
      ],
      "text/plain": [
       "   AveragePrice  Total Volume     4046       4225    4770  type  year  region  \\\n",
       "0          1.33      64236.62  1036.74   54454.85   48.16     0     0       0   \n",
       "1          1.35      54876.98   674.28   44638.81   58.33     0     0       0   \n",
       "2          0.93     118220.22   794.70  109149.67  130.50     0     0       0   \n",
       "3          1.08      78992.15  1132.00   71976.41   72.58     0     0       0   \n",
       "4          1.28      51039.60   941.48   43838.39   75.78     0     0       0   \n",
       "\n",
       "   month  day  \n",
       "0     12   27  \n",
       "1     12   20  \n",
       "2     12   13  \n",
       "3     12    6  \n",
       "4     11   29  "
      ]
     },
     "execution_count": 44,
     "metadata": {},
     "output_type": "execute_result"
    }
   ],
   "source": [
    "df.head()"
   ]
  },
  {
   "cell_type": "markdown",
   "metadata": {},
   "source": [
    "# Outliers Removal"
   ]
  },
  {
   "cell_type": "code",
   "execution_count": 45,
   "metadata": {},
   "outputs": [
    {
     "data": {
      "text/plain": [
       "<AxesSubplot:>"
      ]
     },
     "execution_count": 45,
     "metadata": {},
     "output_type": "execute_result"
    },
    {
     "data": {
      "image/png": "[encoded data removed]",
      "text/plain": [
       "<Figure size 1800x864 with 1 Axes>"
      ]
     },
     "metadata": {},
     "output_type": "display_data"
    }
   ],
   "source": [
    "fig, ax =plt.subplots(figsize=(25,12))\n",
    "sns.boxplot(data=df, width = 0.5,ax=ax, fliersize=3)"
   ]
  },
  {
   "cell_type": "markdown",
   "metadata": {},
   "source": [
    "- High Outliers present in Total Volume, 4046,4225 & 4770 Col."
   ]
  },
  {
   "cell_type": "code",
   "execution_count": 46,
   "metadata": {},
   "outputs": [
    {
     "name": "stdout",
     "output_type": "stream",
     "text": [
      "(array([  346,   359,   783,   787,   788,   790,   791,   792,   794,\n",
      "         795,   796,   797,   799,   803,   805,   807,   808,   809,\n",
      "         812,   816,   820,   823,   827,  1334,  1347,  1516,  1518,\n",
      "        1541,  2340,  2341,  2348,  2351,  2368,  2370,  2652,  2652,\n",
      "        2652,  2652,  2653,  2653,  2653,  2653,  2654,  2654,  2654,\n",
      "        2654,  2655,  2655,  2655,  2655,  2656,  2656,  2656,  2656,\n",
      "        2657,  2657,  2657,  2657,  2658,  2658,  2658,  2658,  2659,\n",
      "        2659,  2659,  2659,  2660,  2660,  2660,  2660,  2661,  2661,\n",
      "        2661,  2661,  2662,  2662,  2662,  2662,  2663,  2663,  2663,\n",
      "        2663,  2664,  2664,  2664,  2664,  2665,  2665,  2665,  2665,\n",
      "        2666,  2666,  2666,  2666,  2667,  2667,  2667,  2667,  2668,\n",
      "        2668,  2668,  2668,  2669,  2669,  2669,  2669,  2670,  2670,\n",
      "        2670,  2670,  2671,  2671,  2671,  2671,  2672,  2672,  2672,\n",
      "        2672,  2673,  2673,  2673,  2673,  2674,  2674,  2674,  2674,\n",
      "        2675,  2675,  2675,  2675,  2676,  2676,  2676,  2676,  2677,\n",
      "        2677,  2677,  2677,  2678,  2678,  2678,  2678,  2679,  2679,\n",
      "        2679,  2679,  2680,  2680,  2680,  2680,  2681,  2681,  2681,\n",
      "        2681,  2682,  2682,  2682,  2682,  2683,  2683,  2683,  2683,\n",
      "        2684,  2684,  2684,  2684,  2685,  2685,  2685,  2685,  2686,\n",
      "        2686,  2686,  2686,  2687,  2687,  2687,  2687,  2688,  2688,\n",
      "        2688,  2688,  2689,  2689,  2689,  2689,  2690,  2690,  2690,\n",
      "        2690,  2691,  2691,  2691,  2691,  2692,  2692,  2692,  2692,\n",
      "        2693,  2693,  2693,  2693,  2694,  2694,  2694,  2694,  2695,\n",
      "        2695,  2695,  2695,  2696,  2696,  2696,  2696,  2697,  2697,\n",
      "        2697,  2697,  2698,  2698,  2698,  2698,  2699,  2699,  2699,\n",
      "        2699,  2700,  2700,  2700,  2700,  2701,  2701,  2701,  2701,\n",
      "        2702,  2702,  2702,  2702,  2703,  2703,  2703,  2703,  3145,\n",
      "        3149,  3152,  3156,  3157,  3166,  3166,  3613,  3614,  3615,\n",
      "        3617,  3620,  3621,  3624,  3626,  3627,  3628,  3630,  3631,\n",
      "        3633,  3634,  3635,  3636,  3637,  3638,  3639,  4349,  4362,\n",
      "        5173,  5174,  5175,  5176,  5177,  5178,  5179,  5180,  5181,\n",
      "        5182,  5183,  5184,  5185,  5186,  5187,  5188,  5189,  5190,\n",
      "        5192,  5193,  5194,  5195,  5197,  5199,  5460,  5460,  5460,\n",
      "        5460,  5461,  5461,  5461,  5461,  5462,  5462,  5462,  5462,\n",
      "        5463,  5463,  5463,  5463,  5464,  5464,  5464,  5465,  5465,\n",
      "        5465,  5465,  5466,  5466,  5466,  5466,  5467,  5467,  5467,\n",
      "        5467,  5468,  5468,  5468,  5468,  5469,  5469,  5469,  5469,\n",
      "        5470,  5470,  5470,  5470,  5471,  5471,  5471,  5471,  5472,\n",
      "        5472,  5472,  5472,  5473,  5473,  5473,  5473,  5474,  5474,\n",
      "        5474,  5474,  5475,  5475,  5475,  5475,  5476,  5476,  5476,\n",
      "        5476,  5477,  5477,  5477,  5477,  5478,  5478,  5478,  5478,\n",
      "        5479,  5479,  5479,  5479,  5480,  5480,  5480,  5480,  5481,\n",
      "        5481,  5481,  5481,  5482,  5482,  5482,  5482,  5483,  5483,\n",
      "        5483,  5483,  5484,  5484,  5484,  5484,  5485,  5485,  5485,\n",
      "        5485,  5486,  5486,  5486,  5486,  5487,  5487,  5487,  5487,\n",
      "        5488,  5488,  5488,  5488,  5489,  5489,  5489,  5489,  5490,\n",
      "        5490,  5490,  5490,  5491,  5491,  5491,  5491,  5492,  5492,\n",
      "        5492,  5492,  5493,  5493,  5493,  5493,  5494,  5494,  5494,\n",
      "        5494,  5495,  5495,  5495,  5495,  5496,  5496,  5496,  5496,\n",
      "        5497,  5497,  5497,  5497,  5498,  5498,  5498,  5498,  5499,\n",
      "        5499,  5499,  5499,  5500,  5500,  5500,  5500,  5501,  5501,\n",
      "        5501,  5501,  5502,  5502,  5502,  5502,  5503,  5503,  5503,\n",
      "        5503,  5504,  5504,  5504,  5504,  5505,  5505,  5505,  5505,\n",
      "        5506,  5506,  5506,  5506,  5507,  5507,  5507,  5507,  5508,\n",
      "        5508,  5508,  5508,  5509,  5509,  5509,  5509,  5510,  5510,\n",
      "        5510,  5510,  5511,  5511,  5511,  5511,  5981,  6411,  6436,\n",
      "        6437,  6439,  6445,  6455,  7156,  7200,  7200,  8035,  8045,\n",
      "        8048,  8048,  8051,  8319,  8319,  8319,  8319,  8320,  8320,\n",
      "        8320,  8320,  8321,  8321,  8321,  8321,  8322,  8322,  8322,\n",
      "        8322,  8323,  8323,  8323,  8323,  8324,  8324,  8324,  8324,\n",
      "        8325,  8325,  8325,  8325,  8326,  8326,  8326,  8326,  8327,\n",
      "        8327,  8327,  8327,  8328,  8328,  8328,  8328,  8329,  8329,\n",
      "        8329,  8329,  8330,  8330,  8330,  8330,  8331,  8331,  8331,\n",
      "        8331,  8332,  8332,  8332,  8332,  8333,  8333,  8333,  8333,\n",
      "        8334,  8334,  8334,  8334,  8335,  8335,  8335,  8335,  8336,\n",
      "        8336,  8336,  8336,  8337,  8337,  8337,  8337,  8338,  8338,\n",
      "        8338,  8338,  8339,  8339,  8339,  8339,  8340,  8340,  8340,\n",
      "        8340,  8341,  8341,  8341,  8341,  8342,  8342,  8342,  8342,\n",
      "        8343,  8343,  8343,  8343,  8344,  8344,  8344,  8344,  8345,\n",
      "        8345,  8345,  8345,  8346,  8346,  8346,  8346,  8347,  8347,\n",
      "        8347,  8347,  8348,  8348,  8348,  8348,  8349,  8349,  8349,\n",
      "        8349,  8350,  8350,  8350,  8350,  8351,  8351,  8351,  8351,\n",
      "        8352,  8352,  8352,  8352,  8353,  8353,  8353,  8353,  8354,\n",
      "        8354,  8354,  8354,  8355,  8355,  8355,  8355,  8356,  8356,\n",
      "        8356,  8356,  8357,  8357,  8357,  8357,  8358,  8358,  8358,\n",
      "        8358,  8359,  8359,  8359,  8359,  8360,  8360,  8360,  8360,\n",
      "        8361,  8361,  8361,  8361,  8362,  8362,  8362,  8362,  8363,\n",
      "        8363,  8363,  8363,  8364,  8364,  8364,  8364,  8365,  8365,\n",
      "        8365,  8365,  8366,  8366,  8366,  8366,  8367,  8367,  8367,\n",
      "        8367,  8368,  8368,  8368,  8368,  8369,  8369,  8369,  8369,\n",
      "        8370,  8370,  8370,  8370,  8371,  8371,  8371,  8371,  8419,\n",
      "        8419,  8557,  8557,  8658,  8659,  8660,  8662,  8665,  8667,\n",
      "        8669,  8833,  8835,  9025,  9037,  9090,  9090,  9090,  9090,\n",
      "        9091,  9091,  9091,  9091,  9092,  9092,  9092,  9092,  9093,\n",
      "        9093,  9093,  9093,  9094,  9094,  9094,  9094,  9095,  9095,\n",
      "        9095,  9095,  9096,  9096,  9096,  9096,  9097,  9097,  9097,\n",
      "        9097,  9098,  9098,  9098,  9098,  9099,  9099,  9099,  9099,\n",
      "        9100,  9100,  9100,  9100,  9101,  9101,  9101,  9101, 11320,\n",
      "       11321, 11323, 11324, 11325, 11326, 11327, 11328, 11329, 11330,\n",
      "       11331, 11332, 12821, 12823, 13033, 13035, 13037, 13038, 13395,\n",
      "       13657, 13661, 14019, 14020, 14073, 14074, 14119, 14120, 14121,\n",
      "       14122, 14123, 14124, 14125, 14126, 14128, 14129, 14177, 14385,\n",
      "       14699, 14701, 14702, 14807, 14911, 14912, 14913, 14914, 14915,\n",
      "       14916, 14917, 14918, 14919, 15124, 15125, 15127, 15128, 15129,\n",
      "       15130, 15510, 15511, 15667, 15668, 15671, 15673, 15674, 15814,\n",
      "       15871, 16024, 16050, 16055, 16395, 16399, 16421, 16660, 16661,\n",
      "       16662, 16663, 16664, 16665, 16666, 16667, 16714, 16715, 16717,\n",
      "       16718, 16719, 16720, 16721, 16734, 16737, 16738, 16985, 16986,\n",
      "       16994, 16995, 16996, 16997, 16998, 16999, 17000, 17007, 17008,\n",
      "       17009, 17010, 17015, 17017, 17031, 17032, 17033, 17034, 17035,\n",
      "       17036, 17037, 17038, 17039, 17040, 17047, 17244, 17245, 17246,\n",
      "       17247, 17248, 17249, 17250, 17251, 17255, 17300, 17301, 17302,\n",
      "       17303, 17304, 17402, 17428], dtype=int64), array([2, 2, 4, 4, 4, 4, 4, 4, 4, 4, 4, 4, 4, 4, 4, 4, 4, 4, 4, 4, 4, 4,\n",
      "       4, 4, 4, 3, 3, 3, 4, 4, 4, 4, 2, 2, 1, 2, 3, 4, 1, 2, 3, 4, 1, 2,\n",
      "       3, 4, 1, 2, 3, 4, 1, 2, 3, 4, 1, 2, 3, 4, 1, 2, 3, 4, 1, 2, 3, 4,\n",
      "       1, 2, 3, 4, 1, 2, 3, 4, 1, 2, 3, 4, 1, 2, 3, 4, 1, 2, 3, 4, 1, 2,\n",
      "       3, 4, 1, 2, 3, 4, 1, 2, 3, 4, 1, 2, 3, 4, 1, 2, 3, 4, 1, 2, 3, 4,\n",
      "       1, 2, 3, 4, 1, 2, 3, 4, 1, 2, 3, 4, 1, 2, 3, 4, 1, 2, 3, 4, 1, 2,\n",
      "       3, 4, 1, 2, 3, 4, 1, 2, 3, 4, 1, 2, 3, 4, 1, 2, 3, 4, 1, 2, 3, 4,\n",
      "       1, 2, 3, 4, 1, 2, 3, 4, 1, 2, 3, 4, 1, 2, 3, 4, 1, 2, 3, 4, 1, 2,\n",
      "       3, 4, 1, 2, 3, 4, 1, 2, 3, 4, 1, 2, 3, 4, 1, 2, 3, 4, 1, 2, 3, 4,\n",
      "       1, 2, 3, 4, 1, 2, 3, 4, 1, 2, 3, 4, 1, 2, 3, 4, 1, 2, 3, 4, 1, 2,\n",
      "       3, 4, 1, 2, 3, 4, 1, 2, 3, 4, 1, 2, 3, 4, 1, 2, 3, 4, 1, 2, 3, 4,\n",
      "       4, 4, 4, 4, 4, 3, 4, 4, 4, 4, 4, 4, 4, 4, 4, 4, 4, 4, 4, 4, 4, 4,\n",
      "       4, 4, 4, 4, 3, 3, 4, 4, 4, 4, 4, 4, 4, 4, 4, 4, 4, 4, 4, 4, 4, 4,\n",
      "       4, 4, 4, 4, 4, 4, 4, 4, 1, 2, 3, 4, 1, 2, 3, 4, 1, 2, 3, 4, 1, 2,\n",
      "       3, 4, 1, 2, 3, 1, 2, 3, 4, 1, 2, 3, 4, 1, 2, 3, 4, 1, 2, 3, 4, 1,\n",
      "       2, 3, 4, 1, 2, 3, 4, 1, 2, 3, 4, 1, 2, 3, 4, 1, 2, 3, 4, 1, 2, 3,\n",
      "       4, 1, 2, 3, 4, 1, 2, 3, 4, 1, 2, 3, 4, 1, 2, 3, 4, 1, 2, 3, 4, 1,\n",
      "       2, 3, 4, 1, 2, 3, 4, 1, 2, 3, 4, 1, 2, 3, 4, 1, 2, 3, 4, 1, 2, 3,\n",
      "       4, 1, 2, 3, 4, 1, 2, 3, 4, 1, 2, 3, 4, 1, 2, 3, 4, 1, 2, 3, 4, 1,\n",
      "       2, 3, 4, 1, 2, 3, 4, 1, 2, 3, 4, 1, 2, 3, 4, 1, 2, 3, 4, 1, 2, 3,\n",
      "       4, 1, 2, 3, 4, 1, 2, 3, 4, 1, 2, 3, 4, 1, 2, 3, 4, 1, 2, 3, 4, 1,\n",
      "       2, 3, 4, 1, 2, 3, 4, 1, 2, 3, 4, 1, 2, 3, 4, 1, 2, 3, 4, 1, 2, 3,\n",
      "       4, 1, 2, 3, 4, 1, 2, 3, 4, 1, 2, 3, 4, 1, 2, 3, 4, 1, 4, 4, 4, 4,\n",
      "       4, 4, 3, 3, 4, 2, 2, 2, 4, 2, 1, 2, 3, 4, 1, 2, 3, 4, 1, 2, 3, 4,\n",
      "       1, 2, 3, 4, 1, 2, 3, 4, 1, 2, 3, 4, 1, 2, 3, 4, 1, 2, 3, 4, 1, 2,\n",
      "       3, 4, 1, 2, 3, 4, 1, 2, 3, 4, 1, 2, 3, 4, 1, 2, 3, 4, 1, 2, 3, 4,\n",
      "       1, 2, 3, 4, 1, 2, 3, 4, 1, 2, 3, 4, 1, 2, 3, 4, 1, 2, 3, 4, 1, 2,\n",
      "       3, 4, 1, 2, 3, 4, 1, 2, 3, 4, 1, 2, 3, 4, 1, 2, 3, 4, 1, 2, 3, 4,\n",
      "       1, 2, 3, 4, 1, 2, 3, 4, 1, 2, 3, 4, 1, 2, 3, 4, 1, 2, 3, 4, 1, 2,\n",
      "       3, 4, 1, 2, 3, 4, 1, 2, 3, 4, 1, 2, 3, 4, 1, 2, 3, 4, 1, 2, 3, 4,\n",
      "       1, 2, 3, 4, 1, 2, 3, 4, 1, 2, 3, 4, 1, 2, 3, 4, 1, 2, 3, 4, 1, 2,\n",
      "       3, 4, 1, 2, 3, 4, 1, 2, 3, 4, 1, 2, 3, 4, 1, 2, 3, 4, 1, 2, 3, 4,\n",
      "       1, 2, 3, 4, 1, 2, 3, 4, 1, 2, 3, 4, 1, 2, 3, 4, 1, 2, 3, 4, 1, 2,\n",
      "       3, 4, 1, 2, 2, 3, 4, 4, 4, 4, 4, 4, 4, 3, 3, 2, 2, 1, 2, 3, 4, 1,\n",
      "       2, 3, 4, 1, 2, 3, 4, 1, 2, 3, 4, 1, 2, 3, 4, 1, 2, 3, 4, 1, 2, 3,\n",
      "       4, 1, 2, 3, 4, 1, 2, 3, 4, 1, 2, 3, 4, 1, 2, 3, 4, 1, 2, 3, 4, 0,\n",
      "       0, 0, 0, 0, 0, 0, 0, 0, 0, 0, 0, 0, 0, 0, 0, 0, 0, 0, 0, 0, 0, 0,\n",
      "       0, 0, 0, 0, 0, 0, 0, 0, 0, 0, 0, 0, 0, 0, 0, 0, 0, 0, 0, 0, 0, 0,\n",
      "       0, 0, 0, 0, 0, 0, 0, 0, 0, 0, 0, 0, 0, 0, 0, 0, 0, 0, 0, 0, 0, 0,\n",
      "       0, 0, 0, 0, 0, 0, 0, 0, 0, 0, 0, 0, 0, 0, 0, 0, 0, 0, 0, 0, 0, 0,\n",
      "       0, 0, 0, 0, 0, 0, 0, 0, 0, 0, 0, 0, 0, 0, 0, 0, 0, 0, 0, 0, 0, 0,\n",
      "       0, 0, 0, 0, 0, 0, 0, 0, 0, 0, 0, 0, 0, 0, 0, 0, 0, 0, 0, 0],\n",
      "      dtype=int64))\n"
     ]
    }
   ],
   "source": [
    "#detecting outliers\n",
    "from scipy.stats import zscore\n",
    "dfzscore=np.abs(zscore(df))\n",
    "print(np.where(dfzscore>3))"
   ]
  },
  {
   "cell_type": "code",
   "execution_count": 47,
   "metadata": {},
   "outputs": [
    {
     "name": "stdout",
     "output_type": "stream",
     "text": [
      "dfnew.shape= (17838, 10)\n"
     ]
    }
   ],
   "source": [
    "dfnew=df[(dfzscore<3).all(axis=1)]\n",
    "print('dfnew.shape=',dfnew.shape)\n",
    "\n",
    "df=dfnew"
   ]
  },
  {
   "cell_type": "markdown",
   "metadata": {},
   "source": [
    "- Outliers removed as we can see shape of the rows which is reduced to 17838"
   ]
  },
  {
   "cell_type": "code",
   "execution_count": 48,
   "metadata": {},
   "outputs": [],
   "source": [
    "Data_loss=((18249-17838)/18249)*100"
   ]
  },
  {
   "cell_type": "markdown",
   "metadata": {},
   "source": [
    "- Computing Data loss"
   ]
  },
  {
   "cell_type": "code",
   "execution_count": 49,
   "metadata": {},
   "outputs": [
    {
     "data": {
      "text/plain": [
       "2.25217820154529"
      ]
     },
     "execution_count": 49,
     "metadata": {},
     "output_type": "execute_result"
    }
   ],
   "source": [
    "Data_loss"
   ]
  },
  {
   "cell_type": "markdown",
   "metadata": {},
   "source": [
    "- data loss is very less and outliers present in those 4 col is high, so i will once again apply z score to remove more outliers."
   ]
  },
  {
   "cell_type": "code",
   "execution_count": 50,
   "metadata": {},
   "outputs": [
    {
     "name": "stdout",
     "output_type": "stream",
     "text": [
      "(array([  312,   312,   312, ..., 16854, 17022, 17023], dtype=int64), array([1, 2, 3, ..., 0, 0, 0], dtype=int64))\n"
     ]
    }
   ],
   "source": [
    "#detecting outliers\n",
    "from scipy.stats import zscore\n",
    "dfzscore=np.abs(zscore(df))\n",
    "print(np.where(dfzscore>3))"
   ]
  },
  {
   "cell_type": "code",
   "execution_count": 51,
   "metadata": {},
   "outputs": [
    {
     "name": "stdout",
     "output_type": "stream",
     "text": [
      "dfnew.shape= (16708, 10)\n"
     ]
    }
   ],
   "source": [
    "dfnew=df[(dfzscore<3).all(axis=1)]\n",
    "print('dfnew.shape=',dfnew.shape)\n",
    "\n",
    "df=dfnew"
   ]
  },
  {
   "cell_type": "markdown",
   "metadata": {},
   "source": [
    "- zscore applied second time to reduced outlier as we can see the rows got reduced to 16708"
   ]
  },
  {
   "cell_type": "code",
   "execution_count": 52,
   "metadata": {},
   "outputs": [],
   "source": [
    "Data_loss=((18249-16708)/18249)*100"
   ]
  },
  {
   "cell_type": "markdown",
   "metadata": {},
   "source": [
    "computing data loss"
   ]
  },
  {
   "cell_type": "code",
   "execution_count": 53,
   "metadata": {},
   "outputs": [
    {
     "data": {
      "text/plain": [
       "8.44429831771604"
      ]
     },
     "execution_count": 53,
     "metadata": {},
     "output_type": "execute_result"
    }
   ],
   "source": [
    "Data_loss"
   ]
  },
  {
   "cell_type": "markdown",
   "metadata": {},
   "source": [
    "- data loss is greater then 8% percent but still I prefer to remove the outliers as the same is high.\n",
    "- reamaining outliers will be averaged out by tree based algorithm"
   ]
  },
  {
   "cell_type": "code",
   "execution_count": null,
   "metadata": {},
   "outputs": [],
   "source": []
  },
  {
   "cell_type": "markdown",
   "metadata": {},
   "source": [
    "## Skewness"
   ]
  },
  {
   "cell_type": "code",
   "execution_count": 54,
   "metadata": {},
   "outputs": [
    {
     "data": {
      "text/plain": [
       "AveragePrice    0.304307\n",
       "Total Volume    3.486804\n",
       "4046            3.679576\n",
       "4225            3.330606\n",
       "4770            4.509026\n",
       "type           -0.143063\n",
       "year            0.222602\n",
       "region          0.008764\n",
       "month           0.102427\n",
       "day             0.011771\n",
       "dtype: float64"
      ]
     },
     "execution_count": 54,
     "metadata": {},
     "output_type": "execute_result"
    }
   ],
   "source": [
    "df.skew()"
   ]
  },
  {
   "cell_type": "markdown",
   "metadata": {},
   "source": [
    "- Total Volume, 4046,4225 & 4770 shows high positive skewness."
   ]
  },
  {
   "cell_type": "markdown",
   "metadata": {},
   "source": [
    "# Disstplot"
   ]
  },
  {
   "cell_type": "code",
   "execution_count": 56,
   "metadata": {},
   "outputs": [
    {
     "data": {
      "image/png": "[encoded data removed]",
      "text/plain": [
       "<Figure size 432x288 with 1 Axes>"
      ]
     },
     "metadata": {},
     "output_type": "display_data"
    },
    {
     "data": {
      "image/png": "[encoded data removed]",
      "text/plain": [
       "<Figure size 432x288 with 1 Axes>"
      ]
     },
     "metadata": {},
     "output_type": "display_data"
    },
    {
     "data": {
      "image/png": "[encoded data removed]",
      "text/plain": [
       "<Figure size 432x288 with 1 Axes>"
      ]
     },
     "metadata": {},
     "output_type": "display_data"
    },
    {
     "data": {
      "image/png": "[encoded data removed]",
      "text/plain": [
       "<Figure size 432x288 with 1 Axes>"
      ]
     },
     "metadata": {},
     "output_type": "display_data"
    },
    {
     "data": {
      "image/png": "[encoded data removed]",
      "text/plain": [
       "<Figure size 432x288 with 1 Axes>"
      ]
     },
     "metadata": {},
     "output_type": "display_data"
    },
    {
     "data": {
      "image/png": "[encoded data removed]",
      "text/plain": [
       "<Figure size 432x288 with 1 Axes>"
      ]
     },
     "metadata": {},
     "output_type": "display_data"
    },
    {
     "data": {
      "image/png": "[encoded data removed]",
      "text/plain": [
       "<Figure size 432x288 with 1 Axes>"
      ]
     },
     "metadata": {},
     "output_type": "display_data"
    },
    {
     "data": {
      "image/png": "[encoded data removed]",
      "text/plain": [
       "<Figure size 432x288 with 1 Axes>"
      ]
     },
     "metadata": {},
     "output_type": "display_data"
    },
    {
     "data": {
      "image/png": "[encoded data removed]",
      "text/plain": [
       "<Figure size 432x288 with 1 Axes>"
      ]
     },
     "metadata": {},
     "output_type": "display_data"
    },
    {
     "data": {
      "image/png": "[encoded data removed]",
      "text/plain": [
       "<Figure size 432x288 with 1 Axes>"
      ]
     },
     "metadata": {},
     "output_type": "display_data"
    }
   ],
   "source": [
    "for i in df:\n",
    "    plt.figure()\n",
    "    sns.distplot(df[i])"
   ]
  },
  {
   "cell_type": "markdown",
   "metadata": {},
   "source": [
    "- Total Volume, 4046,4225 & 4770 are right skewed seen in disstplot above"
   ]
  },
  {
   "cell_type": "markdown",
   "metadata": {},
   "source": [
    "# Dividing dataset in x-independent var & target col"
   ]
  },
  {
   "cell_type": "code",
   "execution_count": 58,
   "metadata": {},
   "outputs": [],
   "source": [
    "x=df.drop(\"region\",axis=1) # Independent var\n",
    "y=df[\"region\"] # target col"
   ]
  },
  {
   "cell_type": "code",
   "execution_count": 59,
   "metadata": {},
   "outputs": [
    {
     "data": {
      "text/html": [
       "<div>\n",
       "<style scoped>\n",
       "    .dataframe tbody tr th:only-of-type {\n",
       "        vertical-align: middle;\n",
       "    }\n",
       "\n",
       "    .dataframe tbody tr th {\n",
       "        vertical-align: top;\n",
       "    }\n",
       "\n",
       "    .dataframe thead th {\n",
       "        text-align: right;\n",
       "    }\n",
       "</style>\n",
       "<table border=\"1\" class=\"dataframe\">\n",
       "  <thead>\n",
       "    <tr style=\"text-align: right;\">\n",
       "      <th></th>\n",
       "      <th>AveragePrice</th>\n",
       "      <th>Total Volume</th>\n",
       "      <th>4046</th>\n",
       "      <th>4225</th>\n",
       "      <th>4770</th>\n",
       "      <th>type</th>\n",
       "      <th>year</th>\n",
       "      <th>month</th>\n",
       "      <th>day</th>\n",
       "    </tr>\n",
       "  </thead>\n",
       "  <tbody>\n",
       "    <tr>\n",
       "      <th>0</th>\n",
       "      <td>1.33</td>\n",
       "      <td>64236.62</td>\n",
       "      <td>1036.74</td>\n",
       "      <td>54454.85</td>\n",
       "      <td>48.16</td>\n",
       "      <td>0</td>\n",
       "      <td>0</td>\n",
       "      <td>12</td>\n",
       "      <td>27</td>\n",
       "    </tr>\n",
       "    <tr>\n",
       "      <th>1</th>\n",
       "      <td>1.35</td>\n",
       "      <td>54876.98</td>\n",
       "      <td>674.28</td>\n",
       "      <td>44638.81</td>\n",
       "      <td>58.33</td>\n",
       "      <td>0</td>\n",
       "      <td>0</td>\n",
       "      <td>12</td>\n",
       "      <td>20</td>\n",
       "    </tr>\n",
       "    <tr>\n",
       "      <th>2</th>\n",
       "      <td>0.93</td>\n",
       "      <td>118220.22</td>\n",
       "      <td>794.70</td>\n",
       "      <td>109149.67</td>\n",
       "      <td>130.50</td>\n",
       "      <td>0</td>\n",
       "      <td>0</td>\n",
       "      <td>12</td>\n",
       "      <td>13</td>\n",
       "    </tr>\n",
       "    <tr>\n",
       "      <th>3</th>\n",
       "      <td>1.08</td>\n",
       "      <td>78992.15</td>\n",
       "      <td>1132.00</td>\n",
       "      <td>71976.41</td>\n",
       "      <td>72.58</td>\n",
       "      <td>0</td>\n",
       "      <td>0</td>\n",
       "      <td>12</td>\n",
       "      <td>6</td>\n",
       "    </tr>\n",
       "    <tr>\n",
       "      <th>4</th>\n",
       "      <td>1.28</td>\n",
       "      <td>51039.60</td>\n",
       "      <td>941.48</td>\n",
       "      <td>43838.39</td>\n",
       "      <td>75.78</td>\n",
       "      <td>0</td>\n",
       "      <td>0</td>\n",
       "      <td>11</td>\n",
       "      <td>29</td>\n",
       "    </tr>\n",
       "  </tbody>\n",
       "</table>\n",
       "</div>"
      ],
      "text/plain": [
       "   AveragePrice  Total Volume     4046       4225    4770  type  year  month  \\\n",
       "0          1.33      64236.62  1036.74   54454.85   48.16     0     0     12   \n",
       "1          1.35      54876.98   674.28   44638.81   58.33     0     0     12   \n",
       "2          0.93     118220.22   794.70  109149.67  130.50     0     0     12   \n",
       "3          1.08      78992.15  1132.00   71976.41   72.58     0     0     12   \n",
       "4          1.28      51039.60   941.48   43838.39   75.78     0     0     11   \n",
       "\n",
       "   day  \n",
       "0   27  \n",
       "1   20  \n",
       "2   13  \n",
       "3    6  \n",
       "4   29  "
      ]
     },
     "execution_count": 59,
     "metadata": {},
     "output_type": "execute_result"
    }
   ],
   "source": [
    "x.head()"
   ]
  },
  {
   "cell_type": "code",
   "execution_count": null,
   "metadata": {},
   "outputs": [],
   "source": [
    "- x dataframe as independent var "
   ]
  },
  {
   "cell_type": "markdown",
   "metadata": {},
   "source": [
    "y.head() # y as target var"
   ]
  },
  {
   "cell_type": "markdown",
   "metadata": {},
   "source": [
    "# Removing skewness"
   ]
  },
  {
   "cell_type": "code",
   "execution_count": 61,
   "metadata": {},
   "outputs": [
    {
     "data": {
      "text/plain": [
       "AveragePrice    0.304307\n",
       "Total Volume    3.486804\n",
       "4046            3.679576\n",
       "4225            3.330606\n",
       "4770            4.509026\n",
       "type           -0.143063\n",
       "year            0.222602\n",
       "month           0.102427\n",
       "day             0.011771\n",
       "dtype: float64"
      ]
     },
     "execution_count": 61,
     "metadata": {},
     "output_type": "execute_result"
    }
   ],
   "source": [
    "x.skew()"
   ]
  },
  {
   "cell_type": "markdown",
   "metadata": {},
   "source": [
    "- removing the skewness in Total Volume, 4046,4225 & 4770"
   ]
  },
  {
   "cell_type": "code",
   "execution_count": 62,
   "metadata": {},
   "outputs": [
    {
     "data": {
      "text/plain": [
       "AveragePrice    0.304307\n",
       "Total Volume    1.421583\n",
       "4046            3.679576\n",
       "4225            3.330606\n",
       "4770            4.509026\n",
       "type           -0.143063\n",
       "year            0.222602\n",
       "month           0.102427\n",
       "day             0.011771\n",
       "dtype: float64"
      ]
     },
     "execution_count": 62,
     "metadata": {},
     "output_type": "execute_result"
    }
   ],
   "source": [
    "import numpy as np\n",
    "x['Total Volume']=np.sqrt(x['Total Volume'])\n",
    "x.skew()"
   ]
  },
  {
   "cell_type": "code",
   "execution_count": 63,
   "metadata": {},
   "outputs": [
    {
     "data": {
      "text/plain": [
       "AveragePrice    0.304307\n",
       "Total Volume    1.421583\n",
       "4046            1.779013\n",
       "4225            3.330606\n",
       "4770            4.509026\n",
       "type           -0.143063\n",
       "year            0.222602\n",
       "month           0.102427\n",
       "day             0.011771\n",
       "dtype: float64"
      ]
     },
     "execution_count": 63,
     "metadata": {},
     "output_type": "execute_result"
    }
   ],
   "source": [
    "import numpy as np\n",
    "x['4046']=np.sqrt(x['4046'])\n",
    "x.skew()"
   ]
  },
  {
   "cell_type": "code",
   "execution_count": 64,
   "metadata": {},
   "outputs": [
    {
     "data": {
      "text/plain": [
       "AveragePrice    0.304307\n",
       "Total Volume    1.421583\n",
       "4046            1.779013\n",
       "4225            3.330606\n",
       "4770            2.379316\n",
       "type           -0.143063\n",
       "year            0.222602\n",
       "month           0.102427\n",
       "day             0.011771\n",
       "dtype: float64"
      ]
     },
     "execution_count": 64,
     "metadata": {},
     "output_type": "execute_result"
    }
   ],
   "source": [
    "import numpy as np\n",
    "x['4770']=np.sqrt(x['4770'])\n",
    "x.skew()"
   ]
  },
  {
   "cell_type": "code",
   "execution_count": 65,
   "metadata": {},
   "outputs": [
    {
     "data": {
      "text/plain": [
       "AveragePrice    0.304307\n",
       "Total Volume    1.421583\n",
       "4046            1.779013\n",
       "4225            1.434689\n",
       "4770            2.379316\n",
       "type           -0.143063\n",
       "year            0.222602\n",
       "month           0.102427\n",
       "day             0.011771\n",
       "dtype: float64"
      ]
     },
     "execution_count": 65,
     "metadata": {},
     "output_type": "execute_result"
    }
   ],
   "source": [
    "import numpy as np\n",
    "x['4225']=np.sqrt(x['4225'])\n",
    "x.skew()"
   ]
  },
  {
   "cell_type": "code",
   "execution_count": 66,
   "metadata": {},
   "outputs": [
    {
     "data": {
      "text/plain": [
       "AveragePrice    0.304307\n",
       "Total Volume    1.421583\n",
       "4046            0.794965\n",
       "4225            1.434689\n",
       "4770            2.379316\n",
       "type           -0.143063\n",
       "year            0.222602\n",
       "month           0.102427\n",
       "day             0.011771\n",
       "dtype: float64"
      ]
     },
     "execution_count": 66,
     "metadata": {},
     "output_type": "execute_result"
    }
   ],
   "source": [
    "import numpy as np\n",
    "x['4046']=np.sqrt(x['4046'])\n",
    "x.skew()"
   ]
  },
  {
   "cell_type": "code",
   "execution_count": 67,
   "metadata": {},
   "outputs": [
    {
     "data": {
      "text/plain": [
       "AveragePrice    0.304307\n",
       "Total Volume    1.421583\n",
       "4046            0.794965\n",
       "4225            0.512519\n",
       "4770            2.379316\n",
       "type           -0.143063\n",
       "year            0.222602\n",
       "month           0.102427\n",
       "day             0.011771\n",
       "dtype: float64"
      ]
     },
     "execution_count": 67,
     "metadata": {},
     "output_type": "execute_result"
    }
   ],
   "source": [
    "import numpy as np\n",
    "x['4225']=np.sqrt(x['4225'])\n",
    "x.skew()"
   ]
  },
  {
   "cell_type": "code",
   "execution_count": 68,
   "metadata": {},
   "outputs": [
    {
     "data": {
      "text/plain": [
       "AveragePrice    0.304307\n",
       "Total Volume    1.421583\n",
       "4046            0.794965\n",
       "4225            0.512519\n",
       "4770            0.990032\n",
       "type           -0.143063\n",
       "year            0.222602\n",
       "month           0.102427\n",
       "day             0.011771\n",
       "dtype: float64"
      ]
     },
     "execution_count": 68,
     "metadata": {},
     "output_type": "execute_result"
    }
   ],
   "source": [
    "import numpy as np\n",
    "x['4770']=np.sqrt(x['4770'])\n",
    "x.skew()"
   ]
  },
  {
   "cell_type": "code",
   "execution_count": 69,
   "metadata": {},
   "outputs": [
    {
     "data": {
      "text/plain": [
       "AveragePrice    0.304307\n",
       "Total Volume    0.563248\n",
       "4046            0.794965\n",
       "4225            0.512519\n",
       "4770            0.990032\n",
       "type           -0.143063\n",
       "year            0.222602\n",
       "month           0.102427\n",
       "day             0.011771\n",
       "dtype: float64"
      ]
     },
     "execution_count": 69,
     "metadata": {},
     "output_type": "execute_result"
    }
   ],
   "source": [
    "import numpy as np\n",
    "x['Total Volume']=np.sqrt(x['Total Volume'])\n",
    "x.skew()"
   ]
  },
  {
   "cell_type": "code",
   "execution_count": 70,
   "metadata": {},
   "outputs": [
    {
     "data": {
      "text/plain": [
       "AveragePrice    0.304307\n",
       "Total Volume    0.563248\n",
       "4046            0.794965\n",
       "4225            0.512519\n",
       "4770            0.194870\n",
       "type           -0.143063\n",
       "year            0.222602\n",
       "month           0.102427\n",
       "day             0.011771\n",
       "dtype: float64"
      ]
     },
     "execution_count": 70,
     "metadata": {},
     "output_type": "execute_result"
    }
   ],
   "source": [
    "import numpy as np\n",
    "x['4770']=np.sqrt(x['4770'])\n",
    "x.skew()"
   ]
  },
  {
   "cell_type": "code",
   "execution_count": 71,
   "metadata": {},
   "outputs": [
    {
     "data": {
      "text/plain": [
       "AveragePrice    0.304307\n",
       "Total Volume    0.563248\n",
       "4046            0.264156\n",
       "4225            0.512519\n",
       "4770            0.194870\n",
       "type           -0.143063\n",
       "year            0.222602\n",
       "month           0.102427\n",
       "day             0.011771\n",
       "dtype: float64"
      ]
     },
     "execution_count": 71,
     "metadata": {},
     "output_type": "execute_result"
    }
   ],
   "source": [
    "import numpy as np\n",
    "x['4046']=np.sqrt(x['4046'])\n",
    "x.skew()"
   ]
  },
  {
   "cell_type": "markdown",
   "metadata": {},
   "source": [
    "- Mutiple time sqrt method is applied to Total Volume, 4046,4225 & 4770 var to reduce the skewness.\n",
    "- The skewness is reduced to normal range as seen above and below in distplot."
   ]
  },
  {
   "cell_type": "code",
   "execution_count": 72,
   "metadata": {},
   "outputs": [
    {
     "data": {
      "image/png": "[encoded data removed]",
      "text/plain": [
       "<Figure size 432x288 with 1 Axes>"
      ]
     },
     "metadata": {},
     "output_type": "display_data"
    },
    {
     "data": {
      "image/png": "[encoded data removed]",
      "text/plain": [
       "<Figure size 432x288 with 1 Axes>"
      ]
     },
     "metadata": {},
     "output_type": "display_data"
    },
    {
     "data": {
      "image/png": "[encoded data removed]",
      "text/plain": [
       "<Figure size 432x288 with 1 Axes>"
      ]
     },
     "metadata": {},
     "output_type": "display_data"
    },
    {
     "data": {
      "image/png": "[encoded data removed]",
      "text/plain": [
       "<Figure size 432x288 with 1 Axes>"
      ]
     },
     "metadata": {},
     "output_type": "display_data"
    },
    {
     "data": {
      "image/png": "[encoded data removed]",
      "text/plain": [
       "<Figure size 432x288 with 1 Axes>"
      ]
     },
     "metadata": {},
     "output_type": "display_data"
    },
    {
     "data": {
      "image/png": "[encoded data removed]",
      "text/plain": [
       "<Figure size 432x288 with 1 Axes>"
      ]
     },
     "metadata": {},
     "output_type": "display_data"
    },
    {
     "data": {
      "image/png": "[encoded data removed]",
      "text/plain": [
       "<Figure size 432x288 with 1 Axes>"
      ]
     },
     "metadata": {},
     "output_type": "display_data"
    },
    {
     "data": {
      "image/png": "[encoded data removed]",
      "text/plain": [
       "<Figure size 432x288 with 1 Axes>"
      ]
     },
     "metadata": {},
     "output_type": "display_data"
    },
    {
     "data": {
      "image/png": "[encoded data removed]",
      "text/plain": [
       "<Figure size 432x288 with 1 Axes>"
      ]
     },
     "metadata": {},
     "output_type": "display_data"
    }
   ],
   "source": [
    "for i in x:\n",
    "    plt.figure()\n",
    "    sns.distplot(x[i])"
   ]
  },
  {
   "cell_type": "markdown",
   "metadata": {},
   "source": [
    "# Power transform to reduce left & right skewed data"
   ]
  },
  {
   "cell_type": "raw",
   "metadata": {},
   "source": [
    "from sklearn.preprocessing import power_transform # Importing power tranform\n",
    "x=power_transform(x,method='yeo-johnson') # Applying power transform to whole dataframe"
   ]
  },
  {
   "cell_type": "markdown",
   "metadata": {},
   "source": [
    "- Power transform is applied to reduce left & right skewed data."
   ]
  },
  {
   "cell_type": "markdown",
   "metadata": {},
   "source": [
    "# Standard Scaling"
   ]
  },
  {
   "cell_type": "code",
   "execution_count": 73,
   "metadata": {},
   "outputs": [],
   "source": [
    "from sklearn.preprocessing import StandardScaler"
   ]
  },
  {
   "cell_type": "markdown",
   "metadata": {},
   "source": [
    "- Importing standard sclaer library from preprocessing module."
   ]
  },
  {
   "cell_type": "code",
   "execution_count": 74,
   "metadata": {},
   "outputs": [
    {
     "data": {
      "text/plain": [
       "array([[-0.22997457, -0.20901703, -0.72867325, ..., -1.2187082 ,\n",
       "         1.63864214,  1.28996009],\n",
       "       [-0.17759348, -0.28096079, -0.8391108 , ..., -1.2187082 ,\n",
       "         1.63864214,  0.4919459 ],\n",
       "       [-1.27759644,  0.097982  , -0.79762662, ..., -1.2187082 ,\n",
       "         1.63864214, -0.30606828],\n",
       "       ...,\n",
       "       [ 1.18431495, -0.80462597, -0.69157129, ...,  1.97335586,\n",
       "        -1.46676889,  0.60594793],\n",
       "       [ 1.34145823, -0.75186333, -0.62394382, ...,  1.97335586,\n",
       "        -1.46676889, -0.19206626],\n",
       "       [ 0.52955128, -0.72643782, -0.43977441, ...,  1.97335586,\n",
       "        -1.46676889, -0.99008044]])"
      ]
     },
     "execution_count": 74,
     "metadata": {},
     "output_type": "execute_result"
    }
   ],
   "source": [
    "scaling = StandardScaler()\n",
    "x=scaling.fit_transform(x)\n",
    "x"
   ]
  },
  {
   "cell_type": "markdown",
   "metadata": {},
   "source": [
    "- Standard Scaler is applied to x independent variables to make all vaues in same range."
   ]
  },
  {
   "cell_type": "code",
   "execution_count": 75,
   "metadata": {},
   "outputs": [
    {
     "data": {
      "text/plain": [
       "(16708, 9)"
      ]
     },
     "execution_count": 75,
     "metadata": {},
     "output_type": "execute_result"
    }
   ],
   "source": [
    "x.shape"
   ]
  },
  {
   "cell_type": "markdown",
   "metadata": {},
   "source": [
    "- Independent var shows 16708 rows and 9 var"
   ]
  },
  {
   "cell_type": "code",
   "execution_count": 76,
   "metadata": {},
   "outputs": [
    {
     "data": {
      "text/plain": [
       "(16708,)"
      ]
     },
     "execution_count": 76,
     "metadata": {},
     "output_type": "execute_result"
    }
   ],
   "source": [
    "y.shape"
   ]
  },
  {
   "cell_type": "markdown",
   "metadata": {},
   "source": [
    "- y as target col shows 16708 rows"
   ]
  },
  {
   "cell_type": "code",
   "execution_count": 77,
   "metadata": {},
   "outputs": [
    {
     "name": "stdout",
     "output_type": "stream",
     "text": [
      "72.92040694195093 at random_state 0\n",
      "72.0526630760024 at random_state 1\n",
      "74.86535008976661 at random_state 2\n",
      "70.97546379413525 at random_state 3\n",
      "71.7833632555356 at random_state 4\n",
      "73.12986235786954 at random_state 5\n",
      "73.48892878515859 at random_state 6\n",
      "73.0101735487732 at random_state 7\n",
      "72.86056253740276 at random_state 8\n",
      "72.89048473967684 at random_state 9\n",
      "73.24955116696589 at random_state 10\n",
      "73.39916217833633 at random_state 11\n",
      "72.2920406941951 at random_state 12\n",
      "73.51885098743267 at random_state 13\n",
      "74.59605026929982 at random_state 14\n",
      "73.39916217833633 at random_state 15\n",
      "72.47157390783961 at random_state 16\n",
      "73.60861759425494 at random_state 17\n",
      "73.78815080789947 at random_state 18\n",
      "72.92040694195093 at random_state 19\n",
      "73.09994015559546 at random_state 20\n",
      "73.0101735487732 at random_state 21\n",
      "73.66846199880311 at random_state 22\n",
      "73.69838420107719 at random_state 23\n",
      "72.14242968282466 at random_state 24\n",
      "72.56134051466188 at random_state 25\n",
      "72.32196289646919 at random_state 26\n",
      "72.41172950329144 at random_state 27\n",
      "72.92040694195093 at random_state 28\n",
      "72.77079593058049 at random_state 29\n",
      "73.84799521244764 at random_state 30\n",
      "72.83064033512866 at random_state 31\n",
      "73.36923997606223 at random_state 32\n",
      "71.3345302214243 at random_state 33\n",
      "72.17235188509873 at random_state 34\n",
      "74.11729503291443 at random_state 35\n",
      "73.07001795332137 at random_state 36\n",
      "73.4290843806104 at random_state 37\n",
      "71.99281867145422 at random_state 38\n",
      "72.86056253740276 at random_state 39\n",
      "73.87791741472172 at random_state 40\n",
      "73.72830640335128 at random_state 41\n",
      "71.54398563734291 at random_state 42\n",
      "74.1771394374626 at random_state 43\n",
      "73.09994015559546 at random_state 44\n",
      "72.262118491921 at random_state 45\n",
      "73.0101735487732 at random_state 46\n",
      "72.23219628964692 at random_state 47\n",
      "73.69838420107719 at random_state 48\n",
      "73.99760622381807 at random_state 49\n",
      "73.48892878515859 at random_state 50\n",
      "73.2196289646918 at random_state 51\n",
      "73.30939557151407 at random_state 52\n",
      "73.87791741472172 at random_state 53\n",
      "72.20227408737283 at random_state 54\n",
      "72.95032914422501 at random_state 55\n",
      "73.51885098743267 at random_state 56\n",
      "74.32675044883304 at random_state 57\n",
      "72.20227408737283 at random_state 58\n",
      "72.95032914422501 at random_state 59\n",
      "73.9078396169958 at random_state 60\n",
      "73.30939557151407 at random_state 61\n",
      "72.65110712148413 at random_state 62\n",
      "73.15978456014362 at random_state 63\n",
      "73.78815080789947 at random_state 64\n",
      "73.9078396169958 at random_state 65\n",
      "71.8132854578097 at random_state 66\n",
      "72.71095152603232 at random_state 67\n",
      "74.86535008976661 at random_state 68\n",
      "71.66367444643926 at random_state 69\n",
      "72.77079593058049 at random_state 70\n",
      "74.68581687612208 at random_state 71\n",
      "71.90305206463195 at random_state 72\n",
      "72.86056253740276 at random_state 73\n",
      "72.80071813285458 at random_state 74\n",
      "71.15499700777977 at random_state 75\n",
      "73.72830640335128 at random_state 76\n",
      "73.48892878515859 at random_state 77\n",
      "73.81807301017355 at random_state 78\n",
      "74.32675044883304 at random_state 79\n",
      "74.44643925792938 at random_state 80\n",
      "73.87791741472172 at random_state 81\n",
      "73.69838420107719 at random_state 82\n",
      "73.99760622381807 at random_state 83\n",
      "73.99760622381807 at random_state 84\n",
      "72.7408737283064 at random_state 85\n",
      "71.87312986235787 at random_state 86\n",
      "74.02752842609216 at random_state 87\n",
      "72.7408737283064 at random_state 88\n",
      "74.05745062836625 at random_state 89\n",
      "73.24955116696589 at random_state 90\n",
      "71.84320766008379 at random_state 91\n",
      "73.48892878515859 at random_state 92\n",
      "73.78815080789947 at random_state 93\n",
      "74.32675044883304 at random_state 94\n",
      "74.56612806702573 at random_state 95\n",
      "73.9078396169958 at random_state 96\n",
      "73.30939557151407 at random_state 97\n",
      "74.20706163973668 at random_state 98\n",
      "72.83064033512866 at random_state 99\n",
      "72.86056253740276 at random_state 100\n",
      "73.63853979652902 at random_state 101\n",
      "72.35188509874327 at random_state 102\n",
      "72.9802513464991 at random_state 103\n",
      "72.80071813285458 at random_state 104\n",
      "73.87791741472172 at random_state 105\n",
      "74.1771394374626 at random_state 106\n",
      "74.53620586475165 at random_state 107\n",
      "72.08258527827648 at random_state 108\n",
      "74.23698384201077 at random_state 109\n",
      "73.48892878515859 at random_state 110\n",
      "73.07001795332137 at random_state 111\n",
      "72.71095152603232 at random_state 112\n",
      "73.07001795332137 at random_state 113\n",
      "72.65110712148413 at random_state 114\n",
      "71.45421903052065 at random_state 115\n",
      "72.47157390783961 at random_state 116\n",
      "73.12986235786954 at random_state 117\n",
      "73.18970676241771 at random_state 118\n",
      "72.89048473967684 at random_state 119\n",
      "72.32196289646919 at random_state 120\n",
      "73.51885098743267 at random_state 121\n",
      "73.60861759425494 at random_state 122\n",
      "72.5314183123878 at random_state 123\n",
      "73.54877318970676 at random_state 124\n",
      "73.07001795332137 at random_state 125\n",
      "73.24955116696589 at random_state 126\n",
      "73.39916217833633 at random_state 127\n",
      "73.12986235786954 at random_state 128\n",
      "73.4590065828845 at random_state 129\n",
      "72.77079593058049 at random_state 130\n",
      "73.15978456014362 at random_state 131\n",
      "74.29682824655895 at random_state 132\n",
      "73.48892878515859 at random_state 133\n",
      "73.18970676241771 at random_state 134\n",
      "72.71095152603232 at random_state 135\n",
      "73.75822860562538 at random_state 136\n",
      "73.75822860562538 at random_state 137\n",
      "72.95032914422501 at random_state 138\n",
      "74.23698384201077 at random_state 139\n",
      "73.33931777378815 at random_state 140\n",
      "72.47157390783961 at random_state 141\n",
      "73.63853979652902 at random_state 142\n",
      "72.95032914422501 at random_state 143\n",
      "72.02274087372831 at random_state 144\n",
      "73.04009575104728 at random_state 145\n",
      "73.0101735487732 at random_state 146\n",
      "72.44165170556553 at random_state 147\n",
      "73.66846199880311 at random_state 148\n",
      "73.36923997606223 at random_state 149\n",
      "73.2196289646918 at random_state 150\n",
      "73.18970676241771 at random_state 151\n",
      "72.68102932375822 at random_state 152\n",
      "73.96768402154399 at random_state 153\n",
      "72.262118491921 at random_state 154\n",
      "72.5014961101137 at random_state 155\n",
      "73.33931777378815 at random_state 156\n",
      "73.04009575104728 at random_state 157\n",
      "74.6259724715739 at random_state 158\n",
      "71.96289646918012 at random_state 159\n",
      "71.7833632555356 at random_state 160\n",
      "71.93297426690604 at random_state 161\n",
      "72.71095152603232 at random_state 162\n",
      "73.12986235786954 at random_state 163\n",
      "73.07001795332137 at random_state 164\n",
      "73.54877318970676 at random_state 165\n",
      "72.62118491921005 at random_state 166\n",
      "73.30939557151407 at random_state 167\n",
      "73.66846199880311 at random_state 168\n",
      "72.5314183123878 at random_state 169\n",
      "73.84799521244764 at random_state 170\n",
      "73.4290843806104 at random_state 171\n",
      "72.89048473967684 at random_state 172\n",
      "73.0101735487732 at random_state 173\n",
      "73.15978456014362 at random_state 174\n",
      "73.07001795332137 at random_state 175\n",
      "72.5314183123878 at random_state 176\n",
      "73.57869539198086 at random_state 177\n",
      "74.32675044883304 at random_state 178\n",
      "73.72830640335128 at random_state 179\n",
      "72.95032914422501 at random_state 180\n",
      "73.18970676241771 at random_state 181\n",
      "73.36923997606223 at random_state 182\n",
      "73.0101735487732 at random_state 183\n",
      "73.75822860562538 at random_state 184\n",
      "72.5314183123878 at random_state 185\n",
      "73.57869539198086 at random_state 186\n",
      "73.69838420107719 at random_state 187\n",
      "74.1771394374626 at random_state 188\n",
      "71.87312986235787 at random_state 189\n",
      "72.2920406941951 at random_state 190\n",
      "73.69838420107719 at random_state 191\n",
      "73.27947336923998 at random_state 192\n",
      "72.2920406941951 at random_state 193\n",
      "72.7408737283064 at random_state 194\n",
      "73.04009575104728 at random_state 195\n",
      "73.15978456014362 at random_state 196\n",
      "74.32675044883304 at random_state 197\n",
      "74.47636146020346 at random_state 198\n",
      "73.4590065828845 at random_state 199\n"
     ]
    }
   ],
   "source": [
    "for i in range(200):\n",
    "    x_train, x_test, y_train, y_test = train_test_split(x,y, test_size=0.20, random_state=i)\n",
    "    from sklearn.tree import DecisionTreeClassifier\n",
    "    lm = DecisionTreeClassifier()\n",
    "    lm.fit(x_train,y_train)\n",
    "    pred=lm.predict(x_test)\n",
    "    accu=accuracy_score(y_test,pred)\n",
    "    print(accu*100, \"at random_state\", i)  "
   ]
  },
  {
   "cell_type": "markdown",
   "metadata": {},
   "source": [
    "- Obs: DTC is set for 200 random state displaying accu for each state."
   ]
  },
  {
   "cell_type": "code",
   "execution_count": 78,
   "metadata": {},
   "outputs": [
    {
     "name": "stdout",
     "output_type": "stream",
     "text": [
      "Best accuracy is  0.7360861759425493  on Random_state  79\n"
     ]
    }
   ],
   "source": [
    "from sklearn.tree import DecisionTreeClassifier\n",
    "maxAccu=0\n",
    "maxRS=0\n",
    "for i in range(1,200):\n",
    "    x_train, x_test, y_train, y_test = train_test_split(x,y,test_size=0.30, random_state = i)\n",
    "    mod = DecisionTreeClassifier()\n",
    "    mod.fit(x_train, y_train)\n",
    "    pred = mod.predict(x_test)\n",
    "    acc=accuracy_score(y_test, pred)\n",
    "    if acc>maxAccu:\n",
    "        maxAccu=acc\n",
    "        maxRS=i\n",
    "print(\"Best accuracy is \", maxAccu,\" on Random_state \",maxRS)"
   ]
  },
  {
   "cell_type": "markdown",
   "metadata": {},
   "source": [
    "-Obs : Above code is used to select best random sate out of 200 random state which is 79 with accuracy of 73%"
   ]
  },
  {
   "cell_type": "code",
   "execution_count": 79,
   "metadata": {},
   "outputs": [],
   "source": [
    "x_train, x_test, y_train, y_test = train_test_split(x,y,test_size=0.30, random_state = 79)"
   ]
  },
  {
   "cell_type": "markdown",
   "metadata": {},
   "source": [
    "- 70% data used to train the model\n",
    "- 30% data used to test & predict the model on test data.\n",
    "- Best random state used is 79"
   ]
  },
  {
   "cell_type": "code",
   "execution_count": 80,
   "metadata": {},
   "outputs": [
    {
     "name": "stdout",
     "output_type": "stream",
     "text": [
      "              precision    recall  f1-score   support\n",
      "\n",
      "           0       0.77      0.74      0.75       110\n",
      "           1       0.59      0.63      0.61       101\n",
      "           2       0.84      0.89      0.87       109\n",
      "           3       0.65      0.76      0.70        85\n",
      "           4       0.81      0.76      0.78        99\n",
      "           5       0.74      0.68      0.71       114\n",
      "           6       0.86      0.86      0.86        49\n",
      "           7       0.84      0.75      0.79       110\n",
      "           8       0.93      0.96      0.94        77\n",
      "           9       0.78      0.82      0.80        91\n",
      "          10       0.62      0.66      0.64       100\n",
      "          11       0.73      0.78      0.76       102\n",
      "          12       0.72      0.79      0.75        90\n",
      "          13       0.65      0.74      0.69        92\n",
      "          14       0.83      0.73      0.78       100\n",
      "          15       0.86      0.97      0.91        58\n",
      "          16       0.84      0.81      0.82        93\n",
      "          17       0.77      0.71      0.74       105\n",
      "          18       0.68      0.76      0.72       100\n",
      "          19       0.71      0.73      0.72        90\n",
      "          20       0.68      0.67      0.68       109\n",
      "          21       0.54      0.62      0.58        99\n",
      "          22       0.91      0.88      0.89        98\n",
      "          23       0.73      0.74      0.73       100\n",
      "          24       0.62      0.63      0.63        89\n",
      "          25       0.93      0.95      0.94        83\n",
      "          26       0.53      0.55      0.54        94\n",
      "          27       0.74      0.77      0.76       106\n",
      "          28       0.88      0.84      0.86       107\n",
      "          29       0.88      0.76      0.82        59\n",
      "          30       0.71      0.71      0.71        86\n",
      "          31       0.59      0.60      0.59       107\n",
      "          32       0.71      0.70      0.70       107\n",
      "          33       0.82      0.73      0.77       103\n",
      "          34       0.75      0.72      0.73       102\n",
      "          35       0.81      0.90      0.85        96\n",
      "          36       0.54      0.56      0.55        98\n",
      "          37       0.70      0.70      0.70        96\n",
      "          38       0.77      0.81      0.79       106\n",
      "          39       0.81      0.77      0.79       100\n",
      "          40       0.70      0.77      0.73        99\n",
      "          41       0.67      0.60      0.64       103\n",
      "          42       0.84      0.66      0.74        97\n",
      "          43       0.70      0.64      0.67       109\n",
      "          44       0.72      0.66      0.69        92\n",
      "          45       0.97      0.98      0.97        58\n",
      "          46       0.87      0.92      0.90        65\n",
      "          47       0.63      0.66      0.64        96\n",
      "          48       0.71      0.64      0.67       103\n",
      "          49       0.79      0.87      0.82        89\n",
      "          50       0.48      0.51      0.49        94\n",
      "          51       1.00      1.00      1.00        50\n",
      "          52       0.84      0.88      0.86        48\n",
      "          53       0.62      0.46      0.53        90\n",
      "\n",
      "    accuracy                           0.74      5013\n",
      "   macro avg       0.75      0.75      0.75      5013\n",
      "weighted avg       0.74      0.74      0.74      5013\n",
      "\n"
     ]
    }
   ],
   "source": [
    "DTC = DecisionTreeClassifier()\n",
    "DTC.fit(x_train, y_train)\n",
    "pred = DTC.predict(x_test)\n",
    "acc = classification_report(y_test, pred)\n",
    "print(acc)\n",
    "\n",
    "# Obs Decision Tree Classifier is giving 80% Accuracy on y test data"
   ]
  },
  {
   "cell_type": "markdown",
   "metadata": {},
   "source": [
    "- DTC accu = 74%"
   ]
  },
  {
   "cell_type": "code",
   "execution_count": 81,
   "metadata": {},
   "outputs": [
    {
     "name": "stdout",
     "output_type": "stream",
     "text": [
      "              precision    recall  f1-score   support\n",
      "\n",
      "           0       0.88      0.83      0.85       110\n",
      "           1       0.72      0.82      0.77       101\n",
      "           2       0.95      0.94      0.94       109\n",
      "           3       0.81      0.88      0.84        85\n",
      "           4       0.91      0.91      0.91        99\n",
      "           5       0.89      0.77      0.83       114\n",
      "           6       0.92      0.90      0.91        49\n",
      "           7       0.98      0.84      0.90       110\n",
      "           8       0.95      1.00      0.97        77\n",
      "           9       0.81      0.91      0.86        91\n",
      "          10       0.80      0.86      0.83       100\n",
      "          11       0.82      0.90      0.86       102\n",
      "          12       0.88      0.93      0.91        90\n",
      "          13       0.90      0.85      0.87        92\n",
      "          14       0.93      0.82      0.87       100\n",
      "          15       0.98      0.97      0.97        58\n",
      "          16       0.94      0.90      0.92        93\n",
      "          17       0.93      0.83      0.87       105\n",
      "          18       0.85      0.82      0.84       100\n",
      "          19       0.75      0.84      0.80        90\n",
      "          20       0.90      0.77      0.83       109\n",
      "          21       0.72      0.75      0.73        99\n",
      "          22       0.93      0.97      0.95        98\n",
      "          23       0.86      0.91      0.88       100\n",
      "          24       0.74      0.70      0.72        89\n",
      "          25       0.93      1.00      0.97        83\n",
      "          26       0.74      0.69      0.71        94\n",
      "          27       0.78      0.90      0.83       106\n",
      "          28       0.92      0.89      0.90       107\n",
      "          29       0.96      0.93      0.95        59\n",
      "          30       0.82      0.88      0.85        86\n",
      "          31       0.69      0.64      0.67       107\n",
      "          32       0.84      0.82      0.83       107\n",
      "          33       0.85      0.86      0.86       103\n",
      "          34       0.90      0.87      0.89       102\n",
      "          35       0.83      0.94      0.88        96\n",
      "          36       0.77      0.79      0.78        98\n",
      "          37       0.83      0.92      0.87        96\n",
      "          38       0.87      0.95      0.91       106\n",
      "          39       0.88      0.87      0.87       100\n",
      "          40       0.77      0.93      0.84        99\n",
      "          41       0.91      0.87      0.89       103\n",
      "          42       0.92      0.90      0.91        97\n",
      "          43       0.92      0.76      0.83       109\n",
      "          44       0.93      0.86      0.89        92\n",
      "          45       0.98      1.00      0.99        58\n",
      "          46       0.88      0.91      0.89        65\n",
      "          47       0.85      0.73      0.79        96\n",
      "          48       0.80      0.78      0.79       103\n",
      "          49       0.79      0.93      0.86        89\n",
      "          50       0.57      0.53      0.55        94\n",
      "          51       0.98      1.00      0.99        50\n",
      "          52       0.90      0.94      0.92        48\n",
      "          53       0.82      0.69      0.75        90\n",
      "\n",
      "    accuracy                           0.85      5013\n",
      "   macro avg       0.86      0.86      0.86      5013\n",
      "weighted avg       0.85      0.85      0.85      5013\n",
      "\n"
     ]
    }
   ],
   "source": [
    "RFC = RandomForestClassifier()\n",
    "RFC.fit(x_train, y_train)\n",
    "pred = RFC.predict(x_test)\n",
    "acc = classification_report(y_test, pred)\n",
    "print(acc)\n",
    "\n",
    "# Obs : Random forest classifier is  giving 83% acc on y test data"
   ]
  },
  {
   "cell_type": "markdown",
   "metadata": {},
   "source": [
    "- RFC accu = 85%"
   ]
  },
  {
   "cell_type": "code",
   "execution_count": 82,
   "metadata": {},
   "outputs": [
    {
     "name": "stdout",
     "output_type": "stream",
     "text": [
      "              precision    recall  f1-score   support\n",
      "\n",
      "           0       0.46      0.64      0.53       110\n",
      "           1       0.44      0.48      0.46       101\n",
      "           2       0.92      0.90      0.91       109\n",
      "           3       0.63      0.67      0.65        85\n",
      "           4       0.66      0.68      0.67        99\n",
      "           5       0.65      0.47      0.55       114\n",
      "           6       0.79      0.78      0.78        49\n",
      "           7       0.68      0.73      0.70       110\n",
      "           8       0.85      0.99      0.92        77\n",
      "           9       0.63      0.66      0.65        91\n",
      "          10       0.53      0.48      0.50       100\n",
      "          11       0.48      0.62      0.54       102\n",
      "          12       0.72      0.84      0.78        90\n",
      "          13       0.45      0.60      0.52        92\n",
      "          14       0.55      0.38      0.45       100\n",
      "          15       0.81      0.52      0.63        58\n",
      "          16       0.75      0.86      0.80        93\n",
      "          17       0.88      0.70      0.78       105\n",
      "          18       0.57      0.43      0.49       100\n",
      "          19       0.44      0.64      0.52        90\n",
      "          20       0.78      0.61      0.68       109\n",
      "          21       0.41      0.47      0.44        99\n",
      "          22       0.79      0.78      0.78        98\n",
      "          23       0.69      0.61      0.65       100\n",
      "          24       0.55      0.63      0.59        89\n",
      "          25       0.67      0.96      0.79        83\n",
      "          26       0.47      0.38      0.42        94\n",
      "          27       0.64      0.46      0.54       106\n",
      "          28       0.78      0.84      0.81       107\n",
      "          29       0.76      0.63      0.69        59\n",
      "          30       0.54      0.53      0.54        86\n",
      "          31       0.45      0.43      0.44       107\n",
      "          32       0.66      0.79      0.72       107\n",
      "          33       0.58      0.76      0.66       103\n",
      "          34       0.48      0.71      0.57       102\n",
      "          35       0.66      0.88      0.75        96\n",
      "          36       0.43      0.42      0.42        98\n",
      "          37       0.63      0.61      0.62        96\n",
      "          38       0.79      0.70      0.74       106\n",
      "          39       0.70      0.71      0.70       100\n",
      "          40       0.49      0.76      0.59        99\n",
      "          41       0.69      0.44      0.54       103\n",
      "          42       0.85      0.64      0.73        97\n",
      "          43       0.73      0.45      0.56       109\n",
      "          44       0.66      0.77      0.71        92\n",
      "          45       0.97      0.98      0.97        58\n",
      "          46       0.79      0.69      0.74        65\n",
      "          47       0.71      0.52      0.60        96\n",
      "          48       0.59      0.44      0.50       103\n",
      "          49       0.61      0.65      0.63        89\n",
      "          50       0.31      0.21      0.25        94\n",
      "          51       0.98      1.00      0.99        50\n",
      "          52       0.79      0.77      0.78        48\n",
      "          53       0.76      0.43      0.55        90\n",
      "\n",
      "    accuracy                           0.63      5013\n",
      "   macro avg       0.65      0.64      0.64      5013\n",
      "weighted avg       0.64      0.63      0.63      5013\n",
      "\n"
     ]
    }
   ],
   "source": [
    "SV = SVC()\n",
    "SV.fit(x_train, y_train)\n",
    "pred = SV.predict(x_test)\n",
    "acc = classification_report(y_test, pred)\n",
    "print(acc)\n",
    "\n",
    "# Support vector classifier is giving 78% acc on y test data"
   ]
  },
  {
   "cell_type": "markdown",
   "metadata": {},
   "source": [
    "- SVC accu is 63%"
   ]
  },
  {
   "cell_type": "code",
   "execution_count": 83,
   "metadata": {},
   "outputs": [
    {
     "name": "stdout",
     "output_type": "stream",
     "text": [
      "              precision    recall  f1-score   support\n",
      "\n",
      "           0       0.46      0.64      0.53       110\n",
      "           1       0.44      0.48      0.46       101\n",
      "           2       0.92      0.90      0.91       109\n",
      "           3       0.63      0.67      0.65        85\n",
      "           4       0.66      0.68      0.67        99\n",
      "           5       0.65      0.47      0.55       114\n",
      "           6       0.79      0.78      0.78        49\n",
      "           7       0.68      0.73      0.70       110\n",
      "           8       0.85      0.99      0.92        77\n",
      "           9       0.63      0.66      0.65        91\n",
      "          10       0.53      0.48      0.50       100\n",
      "          11       0.48      0.62      0.54       102\n",
      "          12       0.72      0.84      0.78        90\n",
      "          13       0.45      0.60      0.52        92\n",
      "          14       0.55      0.38      0.45       100\n",
      "          15       0.81      0.52      0.63        58\n",
      "          16       0.75      0.86      0.80        93\n",
      "          17       0.88      0.70      0.78       105\n",
      "          18       0.57      0.43      0.49       100\n",
      "          19       0.44      0.64      0.52        90\n",
      "          20       0.78      0.61      0.68       109\n",
      "          21       0.41      0.47      0.44        99\n",
      "          22       0.79      0.78      0.78        98\n",
      "          23       0.69      0.61      0.65       100\n",
      "          24       0.55      0.63      0.59        89\n",
      "          25       0.67      0.96      0.79        83\n",
      "          26       0.47      0.38      0.42        94\n",
      "          27       0.64      0.46      0.54       106\n",
      "          28       0.78      0.84      0.81       107\n",
      "          29       0.76      0.63      0.69        59\n",
      "          30       0.54      0.53      0.54        86\n",
      "          31       0.45      0.43      0.44       107\n",
      "          32       0.66      0.79      0.72       107\n",
      "          33       0.58      0.76      0.66       103\n",
      "          34       0.48      0.71      0.57       102\n",
      "          35       0.66      0.88      0.75        96\n",
      "          36       0.43      0.42      0.42        98\n",
      "          37       0.63      0.61      0.62        96\n",
      "          38       0.79      0.70      0.74       106\n",
      "          39       0.70      0.71      0.70       100\n",
      "          40       0.49      0.76      0.59        99\n",
      "          41       0.69      0.44      0.54       103\n",
      "          42       0.85      0.64      0.73        97\n",
      "          43       0.73      0.45      0.56       109\n",
      "          44       0.66      0.77      0.71        92\n",
      "          45       0.97      0.98      0.97        58\n",
      "          46       0.79      0.69      0.74        65\n",
      "          47       0.71      0.52      0.60        96\n",
      "          48       0.59      0.44      0.50       103\n",
      "          49       0.61      0.65      0.63        89\n",
      "          50       0.31      0.21      0.25        94\n",
      "          51       0.98      1.00      0.99        50\n",
      "          52       0.79      0.77      0.78        48\n",
      "          53       0.76      0.43      0.55        90\n",
      "\n",
      "    accuracy                           0.63      5013\n",
      "   macro avg       0.65      0.64      0.64      5013\n",
      "weighted avg       0.64      0.63      0.63      5013\n",
      "\n"
     ]
    }
   ],
   "source": [
    "knn=KNeighborsClassifier(n_neighbors=5)\n",
    "knn.fit(x_train,y_train)\n",
    "predknn=knn.predict(x_test)\n",
    "acc = classification_report(y_test, pred)\n",
    "print(acc)\n",
    "\n",
    "# Obs KNN is giving 78% accuracy on y test data"
   ]
  },
  {
   "cell_type": "markdown",
   "metadata": {},
   "source": [
    "- Knn Acc = 63%"
   ]
  },
  {
   "cell_type": "markdown",
   "metadata": {},
   "source": [
    "# K-Fold Cross Validation"
   ]
  },
  {
   "cell_type": "code",
   "execution_count": 84,
   "metadata": {},
   "outputs": [],
   "source": [
    "from sklearn.model_selection import cross_val_score  # Importing cross val score\n",
    "from sklearn.model_selection import KFold  # Imporing Kfold CV"
   ]
  },
  {
   "cell_type": "code",
   "execution_count": 85,
   "metadata": {},
   "outputs": [],
   "source": [
    "cross_validation=KFold(5, shuffle =True) \n",
    "# Creating CV Object with shuffle = true to avoid -ve CV Values as o/p"
   ]
  },
  {
   "cell_type": "code",
   "execution_count": 86,
   "metadata": {},
   "outputs": [
    {
     "name": "stdout",
     "output_type": "stream",
     "text": [
      "0.7346786054552089\n"
     ]
    }
   ],
   "source": [
    "print(cross_val_score(DTC,x,y,cv=cross_validation).mean()) # Decision Tree Classifier CV o/p"
   ]
  },
  {
   "cell_type": "code",
   "execution_count": 87,
   "metadata": {},
   "outputs": [
    {
     "name": "stdout",
     "output_type": "stream",
     "text": [
      "0.8487546327468367\n"
     ]
    }
   ],
   "source": [
    "print(cross_val_score(RFC,x,y,cv=cross_validation).mean()) # Random Forest Classifier CV o/p"
   ]
  },
  {
   "cell_type": "code",
   "execution_count": 88,
   "metadata": {},
   "outputs": [
    {
     "name": "stdout",
     "output_type": "stream",
     "text": [
      "0.6458580990830605\n"
     ]
    }
   ],
   "source": [
    "print(cross_val_score(SV,x,y,cv=cross_validation).mean()) # Support vector Regressor  CV o/p"
   ]
  },
  {
   "cell_type": "code",
   "execution_count": 89,
   "metadata": {},
   "outputs": [
    {
     "name": "stdout",
     "output_type": "stream",
     "text": [
      "0.47875154648796103\n"
     ]
    }
   ],
   "source": [
    "print(cross_val_score(knn,x,y,cv=cross_validation).mean()) # knn classifier  CV o/p"
   ]
  },
  {
   "cell_type": "markdown",
   "metadata": {},
   "source": [
    "RFR is the best model as it has good accu and least diff value between RFR Acc - CV value = 85-84 = 1"
   ]
  },
  {
   "cell_type": "markdown",
   "metadata": {},
   "source": [
    "# Hyperparameter & Gridsearchcv"
   ]
  },
  {
   "cell_type": "code",
   "execution_count": 90,
   "metadata": {},
   "outputs": [],
   "source": [
    "from sklearn.model_selection import GridSearchCV # Importing Gridsearch CV from sklearn"
   ]
  },
  {
   "cell_type": "code",
   "execution_count": 91,
   "metadata": {},
   "outputs": [],
   "source": [
    "import numpy as np\n",
    "parameter = {'max_depth' : np.arange(2,8),\n",
    "            'criterion':['gini','entropy'],\n",
    "            'n_estimators' : [10],\n",
    "            'max_features' : ['auto','sqrt','log2']}"
   ]
  },
  {
   "cell_type": "markdown",
   "metadata": {},
   "source": [
    "- Hyperparameter is set with multiple values to select the best one through GridsearchCV"
   ]
  },
  {
   "cell_type": "code",
   "execution_count": 92,
   "metadata": {},
   "outputs": [],
   "source": [
    "GCV=GridSearchCV(RandomForestClassifier(),parameter,cv=cross_validation)"
   ]
  },
  {
   "cell_type": "markdown",
   "metadata": {},
   "source": [
    "-Obs : Applying Gridsearch to best model random forest classifier "
   ]
  },
  {
   "cell_type": "code",
   "execution_count": 93,
   "metadata": {},
   "outputs": [
    {
     "data": {
      "text/plain": [
       "GridSearchCV(cv=KFold(n_splits=5, random_state=None, shuffle=True),\n",
       "             estimator=RandomForestClassifier(),\n",
       "             param_grid={'criterion': ['gini', 'entropy'],\n",
       "                         'max_depth': array([2, 3, 4, 5, 6, 7]),\n",
       "                         'max_features': ['auto', 'sqrt', 'log2'],\n",
       "                         'n_estimators': [10]})"
      ]
     },
     "execution_count": 93,
     "metadata": {},
     "output_type": "execute_result"
    }
   ],
   "source": [
    "GCV.fit(x_train,y_train)\n",
    "# Grid search CV applied to the Training Dataset "
   ]
  },
  {
   "cell_type": "markdown",
   "metadata": {},
   "source": [
    "- Grid search CV applied to the Training Dataset "
   ]
  },
  {
   "cell_type": "code",
   "execution_count": 94,
   "metadata": {},
   "outputs": [
    {
     "data": {
      "text/plain": [
       "{'criterion': 'entropy',\n",
       " 'max_depth': 7,\n",
       " 'max_features': 'log2',\n",
       " 'n_estimators': 10}"
      ]
     },
     "execution_count": 94,
     "metadata": {},
     "output_type": "execute_result"
    }
   ],
   "source": [
    "GCV.best_params_"
   ]
  },
  {
   "cell_type": "markdown",
   "metadata": {},
   "source": [
    "- Best Parameter is selected from grid search CV which is \n",
    "- 'criterion': 'entropy','max_depth': 7,'max_features': 'log2','n_estimators': '10'"
   ]
  },
  {
   "cell_type": "markdown",
   "metadata": {},
   "source": [
    "## Best Model Selected is Random Forest Classifier"
   ]
  },
  {
   "cell_type": "code",
   "execution_count": 95,
   "metadata": {},
   "outputs": [
    {
     "name": "stdout",
     "output_type": "stream",
     "text": [
      "61.28067025733094\n"
     ]
    }
   ],
   "source": [
    "Final_mod = RandomForestClassifier(criterion = 'entropy', max_depth = 7,max_features='log2',n_estimators= 10)\n",
    "Final_mod.fit(x_train, y_train)\n",
    "pred = Final_mod.predict(x_test)\n",
    "acc=accuracy_score(y_test,pred)\n",
    "print(acc*100)"
   ]
  },
  {
   "cell_type": "markdown",
   "metadata": {},
   "source": [
    "# AUC ROC Curve"
   ]
  },
  {
   "cell_type": "code",
   "execution_count": 96,
   "metadata": {},
   "outputs": [],
   "source": [
    "from sklearn.metrics import roc_curve\n",
    "from sklearn.metrics import roc_auc_score"
   ]
  },
  {
   "cell_type": "markdown",
   "metadata": {},
   "source": [
    "-Obs : Importing roc_curve & ruc_auc_score metrics from sklearn."
   ]
  },
  {
   "cell_type": "code",
   "execution_count": 97,
   "metadata": {},
   "outputs": [],
   "source": [
    "y_pred_prob= Final_mod.predict_proba(x_test)[:,1]\n",
    "fpr,tpr,thresholds=roc_curve(y_test,y_pred_prob,pos_label= 1)"
   ]
  },
  {
   "cell_type": "markdown",
   "metadata": {},
   "source": [
    "- Predicting the probabilty logic on x_test.\n",
    "- Applying roc curve on y_test,predicted probability."
   ]
  },
  {
   "cell_type": "code",
   "execution_count": 98,
   "metadata": {},
   "outputs": [
    {
     "data": {
      "image/png": "[encoded data removed]",
      "text/plain": [
       "<Figure size 432x288 with 1 Axes>"
      ]
     },
     "metadata": {},
     "output_type": "display_data"
    }
   ],
   "source": [
    "plt.plot([0,1],[0,1],'k--')\n",
    "plt.plot(fpr,tpr,label='RandomForestClassifier')\n",
    "plt.xlabel('False positive rate')\n",
    "plt.ylabel('True positive rate')\n",
    "plt.title('RandomForestClassifier')\n",
    "plt.show()"
   ]
  },
  {
   "cell_type": "markdown",
   "metadata": {},
   "source": [
    "ObS : ROC Curve : Classifiers that give curves closer to top left corner indicates that model will give better performance & if the\n",
    "curve comming closer to 45 degree diagonal of the ROC space the less accurate the model will be, so in above case the curve is \n",
    "closer to top left corner hence I believe the model will give better performance."
   ]
  },
  {
   "cell_type": "code",
   "execution_count": null,
   "metadata": {},
   "outputs": [],
   "source": []
  },
  {
   "cell_type": "markdown",
   "metadata": {},
   "source": [
    "# Regression Model: where the target Var is Average Price."
   ]
  },
  {
   "cell_type": "markdown",
   "metadata": {},
   "source": [
    "# Importing libraries"
   ]
  },
  {
   "cell_type": "code",
   "execution_count": 99,
   "metadata": {},
   "outputs": [],
   "source": [
    "import numpy as np\n",
    "import pandas as pd\n",
    "import matplotlib.pyplot as plt\n",
    "import seaborn as sns\n",
    "from sklearn.decomposition import PCA\n",
    "from sklearn.linear_model import LinearRegression\n",
    "from sklearn.tree import DecisionTreeRegressor\n",
    "from sklearn.ensemble import RandomForestRegressor\n",
    "from sklearn.svm import SVR\n",
    "import xgboost \n",
    "from xgboost import XGBRegressor\n",
    "from sklearn.metrics import r2_score\n",
    "from sklearn.metrics import mean_squared_error,mean_absolute_error\n",
    "from sklearn.model_selection import train_test_split\n",
    "from sklearn.preprocessing import LabelEncoder\n",
    "from sklearn.preprocessing import StandardScaler\n",
    "import warnings\n",
    "warnings.filterwarnings('ignore')"
   ]
  },
  {
   "cell_type": "markdown",
   "metadata": {},
   "source": [
    "Obs :\n",
    "\n",
    "-Imporing Necessaries libraries: Numpy, pandas, matplotlib & seaborn.\n",
    "\n",
    "-Importing 5 Machine learning Algorrithm : Linear Regression, Decision Tree Regressor,Randomforest regressor, SVM reg, XGB reg.\n",
    "\n",
    "-Importing Common Regression Metrics Mean Absolute error, Mean Squared error.\n",
    "\n",
    "-Importing r2 score.\n",
    "\n",
    "-Importing Label encoder libraries as well as standard scaler libraries."
   ]
  },
  {
   "cell_type": "code",
   "execution_count": 100,
   "metadata": {},
   "outputs": [
    {
     "data": {
      "text/html": [
       "<div>\n",
       "<style scoped>\n",
       "    .dataframe tbody tr th:only-of-type {\n",
       "        vertical-align: middle;\n",
       "    }\n",
       "\n",
       "    .dataframe tbody tr th {\n",
       "        vertical-align: top;\n",
       "    }\n",
       "\n",
       "    .dataframe thead th {\n",
       "        text-align: right;\n",
       "    }\n",
       "</style>\n",
       "<table border=\"1\" class=\"dataframe\">\n",
       "  <thead>\n",
       "    <tr style=\"text-align: right;\">\n",
       "      <th></th>\n",
       "      <th>AveragePrice</th>\n",
       "      <th>Total Volume</th>\n",
       "      <th>4046</th>\n",
       "      <th>4225</th>\n",
       "      <th>4770</th>\n",
       "      <th>type</th>\n",
       "      <th>year</th>\n",
       "      <th>region</th>\n",
       "      <th>month</th>\n",
       "      <th>day</th>\n",
       "    </tr>\n",
       "  </thead>\n",
       "  <tbody>\n",
       "    <tr>\n",
       "      <th>0</th>\n",
       "      <td>1.33</td>\n",
       "      <td>64236.62</td>\n",
       "      <td>1036.74</td>\n",
       "      <td>54454.85</td>\n",
       "      <td>48.16</td>\n",
       "      <td>0</td>\n",
       "      <td>0</td>\n",
       "      <td>0</td>\n",
       "      <td>12</td>\n",
       "      <td>27</td>\n",
       "    </tr>\n",
       "    <tr>\n",
       "      <th>1</th>\n",
       "      <td>1.35</td>\n",
       "      <td>54876.98</td>\n",
       "      <td>674.28</td>\n",
       "      <td>44638.81</td>\n",
       "      <td>58.33</td>\n",
       "      <td>0</td>\n",
       "      <td>0</td>\n",
       "      <td>0</td>\n",
       "      <td>12</td>\n",
       "      <td>20</td>\n",
       "    </tr>\n",
       "    <tr>\n",
       "      <th>2</th>\n",
       "      <td>0.93</td>\n",
       "      <td>118220.22</td>\n",
       "      <td>794.70</td>\n",
       "      <td>109149.67</td>\n",
       "      <td>130.50</td>\n",
       "      <td>0</td>\n",
       "      <td>0</td>\n",
       "      <td>0</td>\n",
       "      <td>12</td>\n",
       "      <td>13</td>\n",
       "    </tr>\n",
       "    <tr>\n",
       "      <th>3</th>\n",
       "      <td>1.08</td>\n",
       "      <td>78992.15</td>\n",
       "      <td>1132.00</td>\n",
       "      <td>71976.41</td>\n",
       "      <td>72.58</td>\n",
       "      <td>0</td>\n",
       "      <td>0</td>\n",
       "      <td>0</td>\n",
       "      <td>12</td>\n",
       "      <td>6</td>\n",
       "    </tr>\n",
       "    <tr>\n",
       "      <th>4</th>\n",
       "      <td>1.28</td>\n",
       "      <td>51039.60</td>\n",
       "      <td>941.48</td>\n",
       "      <td>43838.39</td>\n",
       "      <td>75.78</td>\n",
       "      <td>0</td>\n",
       "      <td>0</td>\n",
       "      <td>0</td>\n",
       "      <td>11</td>\n",
       "      <td>29</td>\n",
       "    </tr>\n",
       "  </tbody>\n",
       "</table>\n",
       "</div>"
      ],
      "text/plain": [
       "   AveragePrice  Total Volume     4046       4225    4770  type  year  region  \\\n",
       "0          1.33      64236.62  1036.74   54454.85   48.16     0     0       0   \n",
       "1          1.35      54876.98   674.28   44638.81   58.33     0     0       0   \n",
       "2          0.93     118220.22   794.70  109149.67  130.50     0     0       0   \n",
       "3          1.08      78992.15  1132.00   71976.41   72.58     0     0       0   \n",
       "4          1.28      51039.60   941.48   43838.39   75.78     0     0       0   \n",
       "\n",
       "   month  day  \n",
       "0     12   27  \n",
       "1     12   20  \n",
       "2     12   13  \n",
       "3     12    6  \n",
       "4     11   29  "
      ]
     },
     "execution_count": 100,
     "metadata": {},
     "output_type": "execute_result"
    }
   ],
   "source": [
    "df.head()"
   ]
  },
  {
   "cell_type": "markdown",
   "metadata": {},
   "source": [
    "- Verifying EDA Computed Dataframe."
   ]
  },
  {
   "cell_type": "markdown",
   "metadata": {},
   "source": [
    "# Dividing X indepndent Var(x) & Y target Var"
   ]
  },
  {
   "cell_type": "code",
   "execution_count": 101,
   "metadata": {},
   "outputs": [],
   "source": [
    "x=df.drop(\"AveragePrice\",axis=1)\n",
    "y=df[\"AveragePrice\"]"
   ]
  },
  {
   "cell_type": "code",
   "execution_count": 102,
   "metadata": {},
   "outputs": [
    {
     "data": {
      "text/html": [
       "<div>\n",
       "<style scoped>\n",
       "    .dataframe tbody tr th:only-of-type {\n",
       "        vertical-align: middle;\n",
       "    }\n",
       "\n",
       "    .dataframe tbody tr th {\n",
       "        vertical-align: top;\n",
       "    }\n",
       "\n",
       "    .dataframe thead th {\n",
       "        text-align: right;\n",
       "    }\n",
       "</style>\n",
       "<table border=\"1\" class=\"dataframe\">\n",
       "  <thead>\n",
       "    <tr style=\"text-align: right;\">\n",
       "      <th></th>\n",
       "      <th>Total Volume</th>\n",
       "      <th>4046</th>\n",
       "      <th>4225</th>\n",
       "      <th>4770</th>\n",
       "      <th>type</th>\n",
       "      <th>year</th>\n",
       "      <th>region</th>\n",
       "      <th>month</th>\n",
       "      <th>day</th>\n",
       "    </tr>\n",
       "  </thead>\n",
       "  <tbody>\n",
       "    <tr>\n",
       "      <th>0</th>\n",
       "      <td>64236.62</td>\n",
       "      <td>1036.74</td>\n",
       "      <td>54454.85</td>\n",
       "      <td>48.16</td>\n",
       "      <td>0</td>\n",
       "      <td>0</td>\n",
       "      <td>0</td>\n",
       "      <td>12</td>\n",
       "      <td>27</td>\n",
       "    </tr>\n",
       "    <tr>\n",
       "      <th>1</th>\n",
       "      <td>54876.98</td>\n",
       "      <td>674.28</td>\n",
       "      <td>44638.81</td>\n",
       "      <td>58.33</td>\n",
       "      <td>0</td>\n",
       "      <td>0</td>\n",
       "      <td>0</td>\n",
       "      <td>12</td>\n",
       "      <td>20</td>\n",
       "    </tr>\n",
       "    <tr>\n",
       "      <th>2</th>\n",
       "      <td>118220.22</td>\n",
       "      <td>794.70</td>\n",
       "      <td>109149.67</td>\n",
       "      <td>130.50</td>\n",
       "      <td>0</td>\n",
       "      <td>0</td>\n",
       "      <td>0</td>\n",
       "      <td>12</td>\n",
       "      <td>13</td>\n",
       "    </tr>\n",
       "    <tr>\n",
       "      <th>3</th>\n",
       "      <td>78992.15</td>\n",
       "      <td>1132.00</td>\n",
       "      <td>71976.41</td>\n",
       "      <td>72.58</td>\n",
       "      <td>0</td>\n",
       "      <td>0</td>\n",
       "      <td>0</td>\n",
       "      <td>12</td>\n",
       "      <td>6</td>\n",
       "    </tr>\n",
       "    <tr>\n",
       "      <th>4</th>\n",
       "      <td>51039.60</td>\n",
       "      <td>941.48</td>\n",
       "      <td>43838.39</td>\n",
       "      <td>75.78</td>\n",
       "      <td>0</td>\n",
       "      <td>0</td>\n",
       "      <td>0</td>\n",
       "      <td>11</td>\n",
       "      <td>29</td>\n",
       "    </tr>\n",
       "  </tbody>\n",
       "</table>\n",
       "</div>"
      ],
      "text/plain": [
       "   Total Volume     4046       4225    4770  type  year  region  month  day\n",
       "0      64236.62  1036.74   54454.85   48.16     0     0       0     12   27\n",
       "1      54876.98   674.28   44638.81   58.33     0     0       0     12   20\n",
       "2     118220.22   794.70  109149.67  130.50     0     0       0     12   13\n",
       "3      78992.15  1132.00   71976.41   72.58     0     0       0     12    6\n",
       "4      51039.60   941.48   43838.39   75.78     0     0       0     11   29"
      ]
     },
     "execution_count": 102,
     "metadata": {},
     "output_type": "execute_result"
    }
   ],
   "source": [
    "x.head()"
   ]
  },
  {
   "cell_type": "markdown",
   "metadata": {},
   "source": [
    "- x without Target Col"
   ]
  },
  {
   "cell_type": "code",
   "execution_count": 103,
   "metadata": {},
   "outputs": [
    {
     "data": {
      "text/plain": [
       "0    1.33\n",
       "1    1.35\n",
       "2    0.93\n",
       "3    1.08\n",
       "4    1.28\n",
       "Name: AveragePrice, dtype: float64"
      ]
     },
     "execution_count": 103,
     "metadata": {},
     "output_type": "execute_result"
    }
   ],
   "source": [
    "y.head()"
   ]
  },
  {
   "cell_type": "markdown",
   "metadata": {},
   "source": [
    "- y as target col"
   ]
  },
  {
   "cell_type": "markdown",
   "metadata": {},
   "source": [
    "# Treating Skewness On x variables"
   ]
  },
  {
   "cell_type": "code",
   "execution_count": 104,
   "metadata": {},
   "outputs": [
    {
     "data": {
      "text/plain": [
       "Total Volume    3.486804\n",
       "4046            3.679576\n",
       "4225            3.330606\n",
       "4770            4.509026\n",
       "type           -0.143063\n",
       "year            0.222602\n",
       "region          0.008764\n",
       "month           0.102427\n",
       "day             0.011771\n",
       "dtype: float64"
      ]
     },
     "execution_count": 104,
     "metadata": {},
     "output_type": "execute_result"
    }
   ],
   "source": [
    "x.skew()"
   ]
  },
  {
   "cell_type": "markdown",
   "metadata": {},
   "source": [
    "- Total Vol, 4046, 4225, 4770 shows highgly right skewed data."
   ]
  },
  {
   "cell_type": "markdown",
   "metadata": {},
   "source": [
    "# Sqrt Method to treat right skewed data"
   ]
  },
  {
   "cell_type": "code",
   "execution_count": 105,
   "metadata": {},
   "outputs": [
    {
     "data": {
      "text/plain": [
       "Total Volume    1.421583\n",
       "4046            3.679576\n",
       "4225            3.330606\n",
       "4770            4.509026\n",
       "type           -0.143063\n",
       "year            0.222602\n",
       "region          0.008764\n",
       "month           0.102427\n",
       "day             0.011771\n",
       "dtype: float64"
      ]
     },
     "execution_count": 105,
     "metadata": {},
     "output_type": "execute_result"
    }
   ],
   "source": [
    "import numpy as np\n",
    "x['Total Volume']=np.sqrt(x['Total Volume'])\n",
    "x.skew()"
   ]
  },
  {
   "cell_type": "code",
   "execution_count": 106,
   "metadata": {},
   "outputs": [
    {
     "data": {
      "text/plain": [
       "Total Volume    0.563248\n",
       "4046            3.679576\n",
       "4225            3.330606\n",
       "4770            4.509026\n",
       "type           -0.143063\n",
       "year            0.222602\n",
       "region          0.008764\n",
       "month           0.102427\n",
       "day             0.011771\n",
       "dtype: float64"
      ]
     },
     "execution_count": 106,
     "metadata": {},
     "output_type": "execute_result"
    }
   ],
   "source": [
    "import numpy as np\n",
    "x['Total Volume']=np.sqrt(x['Total Volume'])\n",
    "x.skew()"
   ]
  },
  {
   "cell_type": "code",
   "execution_count": 107,
   "metadata": {},
   "outputs": [
    {
     "data": {
      "text/plain": [
       "Total Volume    0.563248\n",
       "4046            1.779013\n",
       "4225            3.330606\n",
       "4770            4.509026\n",
       "type           -0.143063\n",
       "year            0.222602\n",
       "region          0.008764\n",
       "month           0.102427\n",
       "day             0.011771\n",
       "dtype: float64"
      ]
     },
     "execution_count": 107,
     "metadata": {},
     "output_type": "execute_result"
    }
   ],
   "source": [
    "import numpy as np\n",
    "x['4046']=np.sqrt(x['4046'])\n",
    "x.skew()"
   ]
  },
  {
   "cell_type": "code",
   "execution_count": 108,
   "metadata": {},
   "outputs": [
    {
     "data": {
      "text/plain": [
       "Total Volume    0.563248\n",
       "4046            0.794965\n",
       "4225            3.330606\n",
       "4770            4.509026\n",
       "type           -0.143063\n",
       "year            0.222602\n",
       "region          0.008764\n",
       "month           0.102427\n",
       "day             0.011771\n",
       "dtype: float64"
      ]
     },
     "execution_count": 108,
     "metadata": {},
     "output_type": "execute_result"
    }
   ],
   "source": [
    "import numpy as np\n",
    "x['4046']=np.sqrt(x['4046'])\n",
    "x.skew()"
   ]
  },
  {
   "cell_type": "code",
   "execution_count": 109,
   "metadata": {},
   "outputs": [
    {
     "data": {
      "text/plain": [
       "Total Volume    0.563248\n",
       "4046            0.794965\n",
       "4225            1.434689\n",
       "4770            4.509026\n",
       "type           -0.143063\n",
       "year            0.222602\n",
       "region          0.008764\n",
       "month           0.102427\n",
       "day             0.011771\n",
       "dtype: float64"
      ]
     },
     "execution_count": 109,
     "metadata": {},
     "output_type": "execute_result"
    }
   ],
   "source": [
    "import numpy as np\n",
    "x['4225']=np.sqrt(x['4225'])\n",
    "x.skew()"
   ]
  },
  {
   "cell_type": "code",
   "execution_count": 110,
   "metadata": {},
   "outputs": [
    {
     "data": {
      "text/plain": [
       "Total Volume    0.563248\n",
       "4046            0.794965\n",
       "4225            0.512519\n",
       "4770            4.509026\n",
       "type           -0.143063\n",
       "year            0.222602\n",
       "region          0.008764\n",
       "month           0.102427\n",
       "day             0.011771\n",
       "dtype: float64"
      ]
     },
     "execution_count": 110,
     "metadata": {},
     "output_type": "execute_result"
    }
   ],
   "source": [
    "import numpy as np\n",
    "x['4225']=np.sqrt(x['4225'])\n",
    "x.skew()"
   ]
  },
  {
   "cell_type": "code",
   "execution_count": 111,
   "metadata": {},
   "outputs": [
    {
     "data": {
      "text/plain": [
       "Total Volume    0.563248\n",
       "4046            0.794965\n",
       "4225            0.512519\n",
       "4770            2.379316\n",
       "type           -0.143063\n",
       "year            0.222602\n",
       "region          0.008764\n",
       "month           0.102427\n",
       "day             0.011771\n",
       "dtype: float64"
      ]
     },
     "execution_count": 111,
     "metadata": {},
     "output_type": "execute_result"
    }
   ],
   "source": [
    "import numpy as np\n",
    "x['4770']=np.sqrt(x['4770'])\n",
    "x.skew()"
   ]
  },
  {
   "cell_type": "code",
   "execution_count": 112,
   "metadata": {},
   "outputs": [
    {
     "data": {
      "text/plain": [
       "Total Volume    0.563248\n",
       "4046            0.794965\n",
       "4225            0.512519\n",
       "4770            0.990032\n",
       "type           -0.143063\n",
       "year            0.222602\n",
       "region          0.008764\n",
       "month           0.102427\n",
       "day             0.011771\n",
       "dtype: float64"
      ]
     },
     "execution_count": 112,
     "metadata": {},
     "output_type": "execute_result"
    }
   ],
   "source": [
    "import numpy as np\n",
    "x['4770']=np.sqrt(x['4770'])\n",
    "x.skew()"
   ]
  },
  {
   "cell_type": "code",
   "execution_count": 113,
   "metadata": {},
   "outputs": [
    {
     "data": {
      "text/plain": [
       "Total Volume    0.563248\n",
       "4046            0.794965\n",
       "4225            0.512519\n",
       "4770            0.194870\n",
       "type           -0.143063\n",
       "year            0.222602\n",
       "region          0.008764\n",
       "month           0.102427\n",
       "day             0.011771\n",
       "dtype: float64"
      ]
     },
     "execution_count": 113,
     "metadata": {},
     "output_type": "execute_result"
    }
   ],
   "source": [
    "import numpy as np\n",
    "x['4770']=np.sqrt(x['4770'])\n",
    "x.skew()"
   ]
  },
  {
   "cell_type": "markdown",
   "metadata": {},
   "source": [
    "- Multiple times sqrt method is applied on same skewed variables above (Total Vol, 4046, 4225, 4770) to reduce skewness.\n",
    "- After applying sqrt method on above col skewness is greatly reduced."
   ]
  },
  {
   "cell_type": "code",
   "execution_count": 114,
   "metadata": {},
   "outputs": [
    {
     "data": {
      "image/png": "[encoded data removed]",
      "text/plain": [
       "<Figure size 432x288 with 1 Axes>"
      ]
     },
     "metadata": {},
     "output_type": "display_data"
    },
    {
     "data": {
      "image/png": "[encoded data removed]",
      "text/plain": [
       "<Figure size 432x288 with 1 Axes>"
      ]
     },
     "metadata": {},
     "output_type": "display_data"
    },
    {
     "data": {
      "image/png": "[encoded data removed]",
      "text/plain": [
       "<Figure size 432x288 with 1 Axes>"
      ]
     },
     "metadata": {},
     "output_type": "display_data"
    },
    {
     "data": {
      "image/png": "[encoded data removed]",
      "text/plain": [
       "<Figure size 432x288 with 1 Axes>"
      ]
     },
     "metadata": {},
     "output_type": "display_data"
    },
    {
     "data": {
      "image/png": "[encoded data removed]",
      "text/plain": [
       "<Figure size 432x288 with 1 Axes>"
      ]
     },
     "metadata": {},
     "output_type": "display_data"
    },
    {
     "data": {
      "image/png": "[encoded data removed]",
      "text/plain": [
       "<Figure size 432x288 with 1 Axes>"
      ]
     },
     "metadata": {},
     "output_type": "display_data"
    },
    {
     "data": {
      "image/png": "[encoded data removed]",
      "text/plain": [
       "<Figure size 432x288 with 1 Axes>"
      ]
     },
     "metadata": {},
     "output_type": "display_data"
    },
    {
     "data": {
      "image/png": "[encoded data removed]",
      "text/plain": [
       "<Figure size 432x288 with 1 Axes>"
      ]
     },
     "metadata": {},
     "output_type": "display_data"
    },
    {
     "data": {
      "image/png": "[encoded data removed]",
      "text/plain": [
       "<Figure size 432x288 with 1 Axes>"
      ]
     },
     "metadata": {},
     "output_type": "display_data"
    }
   ],
   "source": [
    "for i in x:\n",
    "    plt.figure()\n",
    "    sns.distplot(x[i])"
   ]
  },
  {
   "cell_type": "markdown",
   "metadata": {},
   "source": [
    "- Multiple times sqrt method is applied on same skewed variables above (Total Vol, 4046, 4225, 4770) to reduce skewness.\n",
    "- After applying sqrt method on above col skewness is greatly reduced."
   ]
  },
  {
   "cell_type": "code",
   "execution_count": 115,
   "metadata": {},
   "outputs": [
    {
     "data": {
      "text/plain": [
       "(16708, 9)"
      ]
     },
     "execution_count": 115,
     "metadata": {},
     "output_type": "execute_result"
    }
   ],
   "source": [
    "x.shape"
   ]
  },
  {
   "cell_type": "markdown",
   "metadata": {},
   "source": [
    "- x shows 16708 obs & 9 var"
   ]
  },
  {
   "cell_type": "code",
   "execution_count": 116,
   "metadata": {},
   "outputs": [
    {
     "data": {
      "text/plain": [
       "(16708,)"
      ]
     },
     "execution_count": 116,
     "metadata": {},
     "output_type": "execute_result"
    }
   ],
   "source": [
    "y.shape"
   ]
  },
  {
   "cell_type": "markdown",
   "metadata": {},
   "source": [
    "- y as target var also has 16708 rows"
   ]
  },
  {
   "cell_type": "markdown",
   "metadata": {},
   "source": [
    "### Power transform method is applied to reduce left & right skewed data"
   ]
  },
  {
   "cell_type": "code",
   "execution_count": 117,
   "metadata": {},
   "outputs": [],
   "source": [
    "from sklearn.preprocessing import power_transform # Importing power tranform\n",
    "x=power_transform(x,method='yeo-johnson') # Applying power transform to whole dataframe"
   ]
  },
  {
   "cell_type": "markdown",
   "metadata": {},
   "source": [
    "# Standard Scaling"
   ]
  },
  {
   "cell_type": "code",
   "execution_count": 118,
   "metadata": {},
   "outputs": [
    {
     "data": {
      "text/plain": [
       "array([[-0.0143629 , -0.69028964,  0.45717769, ..., -1.99969966,\n",
       "         1.48833924,  1.22820793],\n",
       "       [-0.09231605, -0.81975201,  0.36432347, ..., -1.99969966,\n",
       "         1.48833924,  0.53840351],\n",
       "       [ 0.29296599, -0.77076934,  0.79800112, ..., -1.99969966,\n",
       "         1.48833924, -0.21919288],\n",
       "       ...,\n",
       "       [-0.75195443, -0.64746529, -0.78312467, ...,  1.58635602,\n",
       "        -1.64261394,  0.64043332],\n",
       "       [-0.67651211, -0.57025919, -0.71723242, ...,  1.58635602,\n",
       "        -1.64261394, -0.10547997],\n",
       "       [-0.64100964, -0.36544092, -0.79652181, ...,  1.58635602,\n",
       "        -1.64261394, -0.95859087]])"
      ]
     },
     "execution_count": 118,
     "metadata": {},
     "output_type": "execute_result"
    }
   ],
   "source": [
    "scale=StandardScaler() # Standard scaler instance\n",
    "x=scale.fit_transform(x) # applied to independent variables\n",
    "x"
   ]
  },
  {
   "cell_type": "markdown",
   "metadata": {},
   "source": [
    "- independent varible data is scaled to similar range."
   ]
  },
  {
   "cell_type": "code",
   "execution_count": 119,
   "metadata": {},
   "outputs": [
    {
     "name": "stdout",
     "output_type": "stream",
     "text": [
      "0.13687522669568372 at random_state 0\n",
      "0.1377076532462822 at random_state 1\n",
      "0.13928001450852376 at random_state 2\n",
      "0.1350090678273486 at random_state 3\n",
      "0.13035727239753356 at random_state 4\n",
      "0.13445593035908596 at random_state 5\n",
      "0.1328073993471164 at random_state 6\n",
      "0.13473340587595212 at random_state 7\n",
      "0.13364889372506347 at random_state 8\n",
      "0.13377040261153425 at random_state 9\n",
      "0.13691512513601742 at random_state 10\n",
      "0.13412948857453752 at random_state 11\n",
      "0.13595937613347844 at random_state 12\n",
      "0.13524845846935074 at random_state 13\n",
      "0.1335926731955024 at random_state 14\n",
      "0.13780195865070727 at random_state 15\n",
      "0.1380050779833152 at random_state 16\n",
      "0.12965723612622418 at random_state 17\n",
      "0.1311207834602829 at random_state 18\n",
      "0.1352285092491839 at random_state 19\n",
      "0.13762604280014507 at random_state 20\n",
      "0.13871780921291257 at random_state 21\n",
      "0.1392872687704026 at random_state 22\n",
      "0.13317555313746826 at random_state 23\n",
      "0.13603373231773666 at random_state 24\n",
      "0.13352013057671383 at random_state 25\n",
      "0.13298694232861805 at random_state 26\n",
      "0.13286361987667755 at random_state 27\n",
      "0.13376677548059485 at random_state 28\n",
      "0.13536815379035183 at random_state 29\n",
      "0.13554406964091403 at random_state 30\n",
      "0.13557671381936887 at random_state 31\n",
      "0.12977693144722524 at random_state 32\n",
      "0.13443054044251 at random_state 33\n",
      "0.13755350018135654 at random_state 34\n",
      "0.1342636924192963 at random_state 35\n",
      "0.13609357997823723 at random_state 36\n",
      "0.13491476242292347 at random_state 37\n",
      "0.14266231410953936 at random_state 38\n",
      "0.13771853463910044 at random_state 39\n",
      "0.13515959376133477 at random_state 40\n",
      "0.1346663039535727 at random_state 41\n",
      "0.1358197315923105 at random_state 42\n",
      "0.1354497642364889 at random_state 43\n",
      "0.13739209285455203 at random_state 44\n",
      "0.13605368153790354 at random_state 45\n",
      "0.13166666666666665 at random_state 46\n",
      "0.13545339136742834 at random_state 47\n",
      "0.13659412404787813 at random_state 48\n",
      "0.13407870874138555 at random_state 49\n",
      "0.13761516140732682 at random_state 50\n",
      "0.13334602829162132 at random_state 51\n",
      "0.14053137468262605 at random_state 52\n",
      "0.13696953210010882 at random_state 53\n",
      "0.13134203844758796 at random_state 54\n",
      "0.13792890823358722 at random_state 55\n",
      "0.1332245194051505 at random_state 56\n",
      "0.13342945230322814 at random_state 57\n",
      "0.13632571635836055 at random_state 58\n",
      "0.13691875226695685 at random_state 59\n",
      "0.13816285817918025 at random_state 60\n",
      "0.13579071454479508 at random_state 61\n",
      "0.1354007979688067 at random_state 62\n",
      "0.13584149437794704 at random_state 63\n",
      "0.13615524120420747 at random_state 64\n",
      "0.13113891911498005 at random_state 65\n",
      "0.13081610446137107 at random_state 66\n",
      "0.13529379760609359 at random_state 67\n",
      "0.1368190061661226 at random_state 68\n",
      "0.1355259339862169 at random_state 69\n",
      "0.13597569822270583 at random_state 70\n",
      "0.13528472977874503 at random_state 71\n",
      "0.13051686615886832 at random_state 72\n",
      "0.13383025027203482 at random_state 73\n",
      "0.1334203844758796 at random_state 74\n",
      "0.13332789263692418 at random_state 75\n",
      "0.139056945955749 at random_state 76\n",
      "0.13044976423648894 at random_state 77\n",
      "0.130582154515778 at random_state 78\n",
      "0.1285473340587595 at random_state 79\n",
      "0.13517591585056218 at random_state 80\n",
      "0.1352140007254262 at random_state 81\n",
      "0.14020493289807762 at random_state 82\n",
      "0.13272760246644905 at random_state 83\n",
      "0.13071817192600652 at random_state 84\n",
      "0.13556401886108088 at random_state 85\n",
      "0.1323322451940515 at random_state 86\n",
      "0.13493471164309032 at random_state 87\n",
      "0.13514145810663764 at random_state 88\n",
      "0.1293271672107363 at random_state 89\n",
      "0.1366612259702575 at random_state 90\n",
      "0.13596481682988756 at random_state 91\n",
      "0.13209466811751902 at random_state 92\n",
      "0.13580885019949218 at random_state 93\n",
      "0.13589952847297787 at random_state 94\n",
      "0.13286724700761698 at random_state 95\n",
      "0.13539717083786726 at random_state 96\n",
      "0.13581791802684073 at random_state 97\n",
      "0.1376006528835691 at random_state 98\n",
      "0.13402611534276387 at random_state 99\n",
      "0.1348367791077258 at random_state 100\n",
      "0.13435799782372143 at random_state 101\n",
      "0.1351867972433805 at random_state 102\n",
      "0.1393235400797969 at random_state 103\n",
      "0.13171019223793978 at random_state 104\n",
      "0.13774573812114616 at random_state 105\n",
      "0.13672107363075808 at random_state 106\n",
      "0.13693507435618427 at random_state 107\n",
      "0.13590496916938702 at random_state 108\n",
      "0.1338665215814291 at random_state 109\n",
      "0.1407254261878854 at random_state 110\n",
      "0.13329343489299963 at random_state 111\n",
      "0.13634022488211825 at random_state 112\n",
      "0.1350924918389554 at random_state 113\n",
      "0.13180449764236488 at random_state 114\n",
      "0.13385019949220167 at random_state 115\n",
      "0.1352448313384113 at random_state 116\n",
      "0.1349891186071817 at random_state 117\n",
      "0.13634566557852737 at random_state 118\n",
      "0.1369967355821545 at random_state 119\n",
      "0.13750090678273486 at random_state 120\n",
      "0.13617881755531375 at random_state 121\n",
      "0.13115161407326806 at random_state 122\n",
      "0.13344396082698584 at random_state 123\n",
      "0.13477511788175553 at random_state 124\n",
      "0.1364435981138919 at random_state 125\n",
      "0.13455567645992023 at random_state 126\n",
      "0.13649800507798332 at random_state 127\n",
      "0.13315923104824084 at random_state 128\n",
      "0.13241929633659774 at random_state 129\n",
      "0.13513420384475877 at random_state 130\n",
      "0.13605549510337323 at random_state 131\n",
      "0.13523757707653247 at random_state 132\n",
      "0.13716902430177727 at random_state 133\n",
      "0.13653790351831704 at random_state 134\n",
      "0.13504533913674283 at random_state 135\n",
      "0.13796517954298151 at random_state 136\n",
      "0.13425462459194776 at random_state 137\n",
      "0.1336815379035183 at random_state 138\n",
      "0.13320638375045338 at random_state 139\n",
      "0.13596481682988756 at random_state 140\n",
      "0.1313601741022851 at random_state 141\n",
      "0.1359992745738121 at random_state 142\n",
      "0.13714000725426187 at random_state 143\n",
      "0.13670837867247007 at random_state 144\n",
      "0.13811570547696772 at random_state 145\n",
      "0.13611171563293434 at random_state 146\n",
      "0.13913130214000727 at random_state 147\n",
      "0.13083786724700763 at random_state 148\n",
      "0.1342854552049329 at random_state 149\n",
      "0.13674283641639462 at random_state 150\n",
      "0.13293072179905696 at random_state 151\n",
      "0.13589771490750815 at random_state 152\n",
      "0.13477693144722525 at random_state 153\n",
      "0.13275843307943416 at random_state 154\n",
      "0.1354860355458832 at random_state 155\n",
      "0.13723068552774756 at random_state 156\n",
      "0.13671744649981862 at random_state 157\n",
      "0.13356002901704753 at random_state 158\n",
      "0.13330975698222705 at random_state 159\n",
      "0.13677185346391002 at random_state 160\n",
      "0.13439970982952484 at random_state 161\n",
      "0.13494196590496915 at random_state 162\n",
      "0.13518861080885022 at random_state 163\n",
      "0.13740297424737033 at random_state 164\n",
      "0.13331157054769677 at random_state 165\n",
      "0.13587957925281102 at random_state 166\n",
      "0.13433442147261518 at random_state 167\n",
      "0.13207109176641277 at random_state 168\n",
      "0.13432172651432717 at random_state 169\n",
      "0.1318625317373957 at random_state 170\n",
      "0.13750272034820457 at random_state 171\n",
      "0.13476242292346752 at random_state 172\n",
      "0.1336942328618063 at random_state 173\n",
      "0.13077439245556763 at random_state 174\n",
      "0.13387014871236852 at random_state 175\n",
      "0.13903518317011243 at random_state 176\n",
      "0.13852919840406236 at random_state 177\n",
      "0.13490025389916577 at random_state 178\n",
      "0.1296064562930722 at random_state 179\n",
      "0.13879941965904968 at random_state 180\n",
      "0.13194414218353284 at random_state 181\n",
      "0.1337069278200943 at random_state 182\n",
      "0.1369550235763511 at random_state 183\n",
      "0.1348095756256801 at random_state 184\n",
      "0.1336924192963366 at random_state 185\n",
      "0.13521218715995648 at random_state 186\n",
      "0.14235038084874865 at random_state 187\n",
      "0.13088501994922017 at random_state 188\n",
      "0.13277112803772215 at random_state 189\n",
      "0.13743199129488573 at random_state 190\n",
      "0.14098839318099385 at random_state 191\n",
      "0.13755531374682625 at random_state 192\n",
      "0.13841313021400073 at random_state 193\n",
      "0.13399528472977873 at random_state 194\n",
      "0.13601741022850924 at random_state 195\n",
      "0.13394994559303589 at random_state 196\n",
      "0.13108451215088865 at random_state 197\n",
      "0.13152883569096843 at random_state 198\n",
      "0.12986216902430175 at random_state 199\n"
     ]
    }
   ],
   "source": [
    "for i in range(200):\n",
    "    x_train, x_test, y_train, y_test = train_test_split(x,y, test_size=0.33, random_state=i)\n",
    "    \n",
    "    DTR = DecisionTreeRegressor()\n",
    "    DTR.fit(x_train, y_train)\n",
    "    pred=DTR.predict(x_test)\n",
    "    MAE= mean_absolute_error(y_test,pred)\n",
    "    print(MAE, \"at random_state\", i)"
   ]
  },
  {
   "cell_type": "markdown",
   "metadata": {},
   "source": [
    "- Decisiontree regressor is configured for 200 random state which shows acc for each state."
   ]
  },
  {
   "cell_type": "code",
   "execution_count": 120,
   "metadata": {},
   "outputs": [
    {
     "name": "stdout",
     "output_type": "stream",
     "text": [
      "Least MAE  0.14031717534410532  on Random_state  191\n"
     ]
    }
   ],
   "source": [
    "leastMAE=0\n",
    "maxRS=0\n",
    "for i in range(1,200):\n",
    "    x_train, x_test, y_train, y_test = train_test_split(x,y,test_size=0.30, random_state = i)\n",
    "    DTR = DecisionTreeRegressor()\n",
    "    DTR.fit(x_train, y_train)\n",
    "    pred = DTR.predict(x_test)\n",
    "    MAE= mean_absolute_error(y_test,pred)\n",
    "    if MAE>leastMAE:\n",
    "        leastMAE=MAE\n",
    "        maxRS=i\n",
    "print(\"Least MAE \", leastMAE,\" on Random_state \",maxRS)"
   ]
  },
  {
   "cell_type": "markdown",
   "metadata": {},
   "source": [
    "- Best Random state selected is 191 with MAE = 0.14"
   ]
  },
  {
   "cell_type": "code",
   "execution_count": 121,
   "metadata": {},
   "outputs": [],
   "source": [
    "x_train, x_test, y_train, y_test = train_test_split(x,y,test_size=0.30, random_state = 191)"
   ]
  },
  {
   "cell_type": "markdown",
   "metadata": {},
   "source": [
    "- independent(x) & Target Variable(y) is divided into Train & Test Set.\n",
    "- 70% data is set for training & 30% data is reserved for testing.\n",
    "- best Random state is applied which is 191 computed above."
   ]
  },
  {
   "cell_type": "markdown",
   "metadata": {},
   "source": [
    "# Linear Regression"
   ]
  },
  {
   "cell_type": "code",
   "execution_count": 122,
   "metadata": {},
   "outputs": [
    {
     "name": "stdout",
     "output_type": "stream",
     "text": [
      "Mean Absolute error:  0.21110763339993527\n",
      "Mean Squared error:  0.07337581372899987\n",
      "Root Mean Squared Error: 0.27087970342755446\n",
      "0.49001568745883006\n"
     ]
    },
    {
     "data": {
      "text/plain": [
       "0.4919385717811361"
      ]
     },
     "execution_count": 122,
     "metadata": {},
     "output_type": "execute_result"
    }
   ],
   "source": [
    "lm = LinearRegression() # linear regression instance\n",
    "lm.fit(x_train,y_train) # applying linear regression on training set to learn the linear relationship.\n",
    "pred=lm.predict(x_test) # Applying linear Reg on test data\n",
    "print('Mean Absolute error: ',mean_absolute_error(y_test,pred)) # Calculating MAE error between actual actual y value & prdicted y value\n",
    "print('Mean Squared error: ',mean_squared_error(y_test,pred))\n",
    "print('Root Mean Squared Error:',np.sqrt(mean_squared_error(y_test,pred)))\n",
    "print(r2_score(y_test,pred))\n",
    "lm.score(x_train,y_train) # how well the model learned"
   ]
  },
  {
   "cell_type": "markdown",
   "metadata": {},
   "source": [
    "- LR not learned the model well with only 49% score.\n",
    "- MAE is 2.1 quite high compared to others.\n",
    "- r2 score is also less compared to others."
   ]
  },
  {
   "cell_type": "markdown",
   "metadata": {},
   "source": [
    "# Decision Tree Regression"
   ]
  },
  {
   "cell_type": "code",
   "execution_count": 123,
   "metadata": {},
   "outputs": [
    {
     "name": "stdout",
     "output_type": "stream",
     "text": [
      "Mean Absolute error:  0.1399800518651506\n",
      "Mean Squared error:  0.044304209056453214\n",
      "Root Mean Squared Error: 0.21048565047635245\n",
      "0.6920722176685625\n"
     ]
    },
    {
     "data": {
      "text/plain": [
       "1.0"
      ]
     },
     "execution_count": 123,
     "metadata": {},
     "output_type": "execute_result"
    }
   ],
   "source": [
    "DTR = DecisionTreeRegressor()\n",
    "DTR.fit(x_train, y_train)\n",
    "pred = DTR.predict(x_test)\n",
    "print('Mean Absolute error: ',mean_absolute_error(y_test,pred)) # Calculating MAE error between actual actual y value & prdicted y value\n",
    "print('Mean Squared error: ',mean_squared_error(y_test,pred))\n",
    "print('Root Mean Squared Error:',np.sqrt(mean_squared_error(y_test,pred)))\n",
    "print(r2_score(y_test,pred))\n",
    "DTR.score(x_train,y_train) # how well the model learned"
   ]
  },
  {
   "cell_type": "markdown",
   "metadata": {},
   "source": [
    "- DTR r2 score is less = 69%\n",
    "- DTR MAE  = 0.13 higher then RFR.\n",
    "- Though Model learned with 100% score."
   ]
  },
  {
   "cell_type": "markdown",
   "metadata": {},
   "source": [
    "# Random Forest Regression"
   ]
  },
  {
   "cell_type": "code",
   "execution_count": 124,
   "metadata": {},
   "outputs": [
    {
     "name": "stdout",
     "output_type": "stream",
     "text": [
      "Mean Absolute error:  0.10023700379014562\n",
      "Mean Squared error:  0.02040251129662876\n",
      "Root Mean Squared Error: 0.14283735959695126\n",
      "0.8581963160755738\n"
     ]
    },
    {
     "data": {
      "text/plain": [
       "0.9815366231112985"
      ]
     },
     "execution_count": 124,
     "metadata": {},
     "output_type": "execute_result"
    }
   ],
   "source": [
    "RFR = RandomForestRegressor()  # Random Forest regressor instance\n",
    "RFR.fit(x_train, y_train) # applying Random Forest regressor on training set to learn relationship.\n",
    "pred = RFR.predict(x_test) # Applying linear Reg on test data\n",
    "print('Mean Absolute error: ',mean_absolute_error(y_test,pred)) # Calculating MAE error between actual actual y value & prdicted y value\n",
    "print('Mean Squared error: ',mean_squared_error(y_test,pred))\n",
    "print('Root Mean Squared Error:',np.sqrt(mean_squared_error(y_test,pred)))\n",
    "print(r2_score(y_test,pred))\n",
    "RFR.score(x_train,y_train) # how well the model learned"
   ]
  },
  {
   "cell_type": "markdown",
   "metadata": {},
   "source": [
    "- RFR learned the model with 98% Score.\n",
    "- MAE is very less from rest others = 0.1\n",
    "- r2 score is also high at 85% which fits the best line well over the data."
   ]
  },
  {
   "cell_type": "markdown",
   "metadata": {},
   "source": [
    "# Support Vector Regression"
   ]
  },
  {
   "cell_type": "code",
   "execution_count": 125,
   "metadata": {},
   "outputs": [
    {
     "name": "stdout",
     "output_type": "stream",
     "text": [
      "Mean Absolute error:  0.1538814006878007\n",
      "Mean Squared error:  0.043779371697536304\n",
      "Root Mean Squared Error: 0.20923520663964826\n",
      "0.6957199975851399\n"
     ]
    },
    {
     "data": {
      "text/plain": [
       "0.7314595246622604"
      ]
     },
     "execution_count": 125,
     "metadata": {},
     "output_type": "execute_result"
    }
   ],
   "source": [
    "SV = SVR() # Support Vector Reg Instance\n",
    "SV.fit(x_train, y_train) # applying Support Vector Reg on training set to learn  relationship.\n",
    "pred = SV.predict(x_test) # Applying Support Vector Reg on test data\n",
    "print('Mean Absolute error: ',mean_absolute_error(y_test,pred)) # Calculating MAE error between actual actual y value & prdicted y value\n",
    "print('Mean Squared error: ',mean_squared_error(y_test,pred))\n",
    "print('Root Mean Squared Error:',np.sqrt(mean_squared_error(y_test,pred)))\n",
    "print(r2_score(y_test,pred))\n",
    "SV.score(x_train,y_train)# how well the model learned"
   ]
  },
  {
   "cell_type": "markdown",
   "metadata": {},
   "source": [
    "- SVC learned the model with 73% score.\n",
    "- MAE = 0.15 & r2 score is less"
   ]
  },
  {
   "cell_type": "markdown",
   "metadata": {},
   "source": [
    "# XGBoost Regression"
   ]
  },
  {
   "cell_type": "code",
   "execution_count": 126,
   "metadata": {},
   "outputs": [
    {
     "name": "stdout",
     "output_type": "stream",
     "text": [
      "Mean Absolute error:  0.0981354130363122\n",
      "Mean Squared error:  0.01786588500270788\n",
      "Root Mean Squared Error: 0.13366332706732942\n",
      "0.8758266434400772\n"
     ]
    },
    {
     "data": {
      "text/plain": [
       "0.9554250974870377"
      ]
     },
     "execution_count": 126,
     "metadata": {},
     "output_type": "execute_result"
    }
   ],
   "source": [
    "XGBR = XGBRegressor() # XGBR Instance\n",
    "XGBR.fit(x_train,y_train) # applying XGBR on training set to learn  relationship.\n",
    "pred = XGBR.predict(x_test) # Applying XGBR on test data\n",
    "print('Mean Absolute error: ', mean_absolute_error(y_test,pred))# Calculating MAE error between actual actual y value & prdicted y value\n",
    "print('Mean Squared error: ',mean_squared_error(y_test,pred))\n",
    "print('Root Mean Squared Error:',np.sqrt(mean_squared_error(y_test,pred)))\n",
    "print(r2_score(y_test,pred))\n",
    "XGBR.score(x_train,y_train) # how well the model learned     "
   ]
  },
  {
   "cell_type": "markdown",
   "metadata": {},
   "source": [
    " - XGBR Learned the model with 95% Score which is less then RFR.\n",
    " - MAE is less then RFC.\n",
    " - Diff of XGBR Score is Higher then RFC."
   ]
  },
  {
   "cell_type": "markdown",
   "metadata": {},
   "source": [
    "# K-Fold Cross Validation"
   ]
  },
  {
   "cell_type": "code",
   "execution_count": 127,
   "metadata": {},
   "outputs": [],
   "source": [
    "from sklearn.model_selection import cross_val_score  # Obs : Importing cross val score\n",
    "from sklearn.model_selection import KFold  # Obs : Imporing Kfold CV"
   ]
  },
  {
   "cell_type": "code",
   "execution_count": 128,
   "metadata": {},
   "outputs": [],
   "source": [
    "cross_validation=KFold(5, shuffle =True)\n",
    "# Obs : Creating CV Object with shuffle = true to avoid -ve CV Values as o/p"
   ]
  },
  {
   "cell_type": "code",
   "execution_count": 129,
   "metadata": {},
   "outputs": [
    {
     "name": "stdout",
     "output_type": "stream",
     "text": [
      "0.49099097173179035\n"
     ]
    }
   ],
   "source": [
    "print(cross_val_score(lm,x,y,cv=cross_validation).mean()) # Obs : Linear Regression CV o/p"
   ]
  },
  {
   "cell_type": "code",
   "execution_count": 130,
   "metadata": {},
   "outputs": [
    {
     "name": "stdout",
     "output_type": "stream",
     "text": [
      "0.7310618167090153\n"
     ]
    }
   ],
   "source": [
    "print(cross_val_score(DTR,x,y,cv=cross_validation).mean()) # Obs :  DTR Regression CV o/p"
   ]
  },
  {
   "cell_type": "code",
   "execution_count": 131,
   "metadata": {},
   "outputs": [
    {
     "name": "stdout",
     "output_type": "stream",
     "text": [
      "0.8721147230874455\n"
     ]
    }
   ],
   "source": [
    "print(cross_val_score(RFR,x,y,cv=cross_validation).mean()) # Obs : Random Forest Regressor CV o/p"
   ]
  },
  {
   "cell_type": "code",
   "execution_count": 132,
   "metadata": {},
   "outputs": [
    {
     "name": "stdout",
     "output_type": "stream",
     "text": [
      "0.7057915573586866\n"
     ]
    }
   ],
   "source": [
    "print(cross_val_score(SV,x,y,cv=cross_validation).mean()) # Obs : Support Vector CV o/p"
   ]
  },
  {
   "cell_type": "code",
   "execution_count": 133,
   "metadata": {},
   "outputs": [
    {
     "name": "stdout",
     "output_type": "stream",
     "text": [
      "0.8813065257011811\n"
     ]
    }
   ],
   "source": [
    "print(cross_val_score(XGBR,x,y,cv=cross_validation).mean()) # Obs :  XGBoost Regressor CV o/p"
   ]
  },
  {
   "cell_type": "markdown",
   "metadata": {},
   "source": [
    "# Best Model Selection"
   ]
  },
  {
   "cell_type": "markdown",
   "metadata": {},
   "source": [
    "- I have selected RFR as the best model because RFR model learned well with 98% score.\n",
    "- Diff of RFR Score & CV is very less as compared with rest others which is = 98% - 87% = 11\n",
    "- MAE of RFR is less among others except with XGBR.\n",
    "- RFR shows high r2 score which shows model fits the best line on data."
   ]
  },
  {
   "cell_type": "markdown",
   "metadata": {},
   "source": [
    "## Hyperparameter & GridsearchCV"
   ]
  },
  {
   "cell_type": "code",
   "execution_count": 134,
   "metadata": {},
   "outputs": [],
   "source": [
    "from sklearn.model_selection import GridSearchCV # Obs : importing GridSearchCV"
   ]
  },
  {
   "cell_type": "markdown",
   "metadata": {},
   "source": [
    "# Setting Random Forest Hyperparameter"
   ]
  },
  {
   "cell_type": "code",
   "execution_count": 135,
   "metadata": {},
   "outputs": [],
   "source": [
    "import numpy as np\n",
    "parameter = {'max_depth': np.arange(2,8),\n",
    "             'max_features': ['log2','sqrt','auto'],\n",
    "             'min_samples_leaf': [1,2],\n",
    "             'n_estimators': [10]}"
   ]
  },
  {
   "cell_type": "markdown",
   "metadata": {},
   "source": [
    "# Creating Gridserach CV Instance"
   ]
  },
  {
   "cell_type": "code",
   "execution_count": 136,
   "metadata": {},
   "outputs": [],
   "source": [
    "GCV=GridSearchCV(RandomForestRegressor(),parameter,cv=cross_validation)\n",
    "# Creating Grid Search CV Object and Applying GridSearch on best Model - RFR"
   ]
  },
  {
   "cell_type": "code",
   "execution_count": 137,
   "metadata": {},
   "outputs": [
    {
     "data": {
      "text/plain": [
       "GridSearchCV(cv=KFold(n_splits=5, random_state=None, shuffle=True),\n",
       "             estimator=RandomForestRegressor(),\n",
       "             param_grid={'max_depth': array([2, 3, 4, 5, 6, 7]),\n",
       "                         'max_features': ['log2', 'sqrt', 'auto'],\n",
       "                         'min_samples_leaf': [1, 2], 'n_estimators': [10]})"
      ]
     },
     "execution_count": 137,
     "metadata": {},
     "output_type": "execute_result"
    }
   ],
   "source": [
    "GCV.fit(x_train,y_train) "
   ]
  },
  {
   "cell_type": "markdown",
   "metadata": {},
   "source": [
    "- Applying Gridsearchcv to training set with RFR hyperparameters values."
   ]
  },
  {
   "cell_type": "code",
   "execution_count": 138,
   "metadata": {},
   "outputs": [
    {
     "data": {
      "text/plain": [
       "{'max_depth': 7,\n",
       " 'max_features': 'auto',\n",
       " 'min_samples_leaf': 1,\n",
       " 'n_estimators': 10}"
      ]
     },
     "execution_count": 138,
     "metadata": {},
     "output_type": "execute_result"
    }
   ],
   "source": [
    "GCV.best_params_"
   ]
  },
  {
   "cell_type": "markdown",
   "metadata": {},
   "source": [
    " - Best parameter is selected above"
   ]
  },
  {
   "cell_type": "markdown",
   "metadata": {},
   "source": [
    "# Best Param is Applied to best Model"
   ]
  },
  {
   "cell_type": "code",
   "execution_count": 139,
   "metadata": {},
   "outputs": [
    {
     "name": "stdout",
     "output_type": "stream",
     "text": [
      "Mean Absolute error:  0.16323642812305225\n",
      "Mean Squared error:  0.04734072355258745\n",
      "Root Mean Squared Error: 0.21757923511352698\n",
      "0.6709675146454153\n"
     ]
    },
    {
     "data": {
      "text/plain": [
       "0.9815366231112985"
      ]
     },
     "execution_count": 139,
     "metadata": {},
     "output_type": "execute_result"
    }
   ],
   "source": [
    "Final_mod = RandomForestRegressor(max_depth = 7, max_features = 'auto', min_samples_leaf = 1,n_estimators= 10)\n",
    "Final_mod.fit(x_train, y_train)\n",
    "pred = Final_mod.predict(x_test)\n",
    "print('Mean Absolute error: ',mean_absolute_error(y_test,pred)) # Calculating MAE error between actual actual y value & prdicted y value\n",
    "print('Mean Squared error: ',mean_squared_error(y_test,pred))\n",
    "print('Root Mean Squared Error:',np.sqrt(mean_squared_error(y_test,pred)))\n",
    "print(r2_score(y_test,pred))\n",
    "RFR.score(x_train,y_train) # how well the model learned"
   ]
  },
  {
   "cell_type": "markdown",
   "metadata": {},
   "source": [
    "- Model learned at 98% score.\n",
    "- We can get more better r2 score and MAE value by setting high value of n estimators and other value of hyperparameter.\n",
    "- My system bit slow, so i was not able to properly set the hyper param\n",
    "- However MAE is 0.16 which is less among other model."
   ]
  },
  {
   "cell_type": "markdown",
   "metadata": {},
   "source": [
    "# Exporting Model with Joblib Library"
   ]
  },
  {
   "cell_type": "code",
   "execution_count": 140,
   "metadata": {},
   "outputs": [
    {
     "data": {
      "text/plain": [
       "['FinalModel.pkl']"
      ]
     },
     "execution_count": 140,
     "metadata": {},
     "output_type": "execute_result"
    }
   ],
   "source": [
    "import joblib\n",
    "joblib.dump(Final_mod,\"FinalModel.pkl\")"
   ]
  },
  {
   "cell_type": "markdown",
   "metadata": {},
   "source": [
    "- Model is exported as .pkl file with the help of joblib library."
   ]
  },
  {
   "cell_type": "code",
   "execution_count": null,
   "metadata": {},
   "outputs": [],
   "source": []
  }
 ],
 "metadata": {
  "kernelspec": {
   "display_name": "Python 3",
   "language": "python",
   "name": "python3"
  },
  "language_info": {
   "codemirror_mode": {
    "name": "ipython",
    "version": 3
   },
   "file_extension": ".py",
   "mimetype": "text/x-python",
   "name": "python",
   "nbconvert_exporter": "python",
   "pygments_lexer": "ipython3",
   "version": "3.6.4"
  }
 },
 "nbformat": 4,
 "nbformat_minor": 2
}
